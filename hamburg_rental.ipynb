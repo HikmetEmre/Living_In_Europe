{
 "cells": [
  {
   "cell_type": "code",
   "execution_count": 1,
   "id": "b1ab2473",
   "metadata": {},
   "outputs": [],
   "source": [
    "from urllib.request import urlopen\n",
    "import requests\n",
    "from bs4 import BeautifulSoup as bts\n",
    "import pandas as pd \n",
    "import re\n",
    "import seaborn as sns\n",
    "import matplotlib.pyplot as plt\n",
    "import numpy as np\n",
    "import time"
   ]
  },
  {
   "cell_type": "code",
   "execution_count": 2,
   "id": "0497d698",
   "metadata": {},
   "outputs": [],
   "source": [
    "def getAndParseURL(url):\n",
    "    result=requests.get(url,headers={\"User-Agent\":\"Chrome/111.0.5563.65\"})\n",
    "    soup=bts(result.text,\"html.parser\")\n",
    "    return soup"
   ]
  },
  {
   "cell_type": "code",
   "execution_count": 3,
   "id": "2f8a5791",
   "metadata": {},
   "outputs": [
    {
     "data": {
      "text/plain": [
       "['https://wunderflats.com/en/furnished-apartments/hamburg',\n",
       " 'https://wunderflats.com/en/furnished-apartments/hamburg/2',\n",
       " 'https://wunderflats.com/en/furnished-apartments/hamburg/3',\n",
       " 'https://wunderflats.com/en/furnished-apartments/hamburg/4',\n",
       " 'https://wunderflats.com/en/furnished-apartments/hamburg/5',\n",
       " 'https://wunderflats.com/en/furnished-apartments/hamburg/6',\n",
       " 'https://wunderflats.com/en/furnished-apartments/hamburg/7',\n",
       " 'https://wunderflats.com/en/furnished-apartments/hamburg/8',\n",
       " 'https://wunderflats.com/en/furnished-apartments/hamburg/9',\n",
       " 'https://wunderflats.com/en/furnished-apartments/hamburg/10',\n",
       " 'https://wunderflats.com/en/furnished-apartments/hamburg/11',\n",
       " 'https://wunderflats.com/en/furnished-apartments/hamburg/12',\n",
       " 'https://wunderflats.com/en/furnished-apartments/hamburg/13',\n",
       " 'https://wunderflats.com/en/furnished-apartments/hamburg/14',\n",
       " 'https://wunderflats.com/en/furnished-apartments/hamburg/15',\n",
       " 'https://wunderflats.com/en/furnished-apartments/hamburg/16',\n",
       " 'https://wunderflats.com/en/furnished-apartments/hamburg/17']"
      ]
     },
     "execution_count": 3,
     "metadata": {},
     "output_type": "execute_result"
    }
   ],
   "source": [
    "pages=[\"https://wunderflats.com/en/furnished-apartments/hamburg\"]\n",
    "for page in range(2,18):\n",
    "    pages.append(\"https://wunderflats.com/en/furnished-apartments/hamburg/\" +str (page))\n",
    "    \n",
    "pages"
   ]
  },
  {
   "cell_type": "code",
   "execution_count": 4,
   "id": "c6fa5f71",
   "metadata": {},
   "outputs": [
    {
     "data": {
      "text/plain": [
       "['https://wunderflats.com/en/furnished-apartment/g/co-living-modern-room-in-a-prime-location-in-beautiful-winterhude-cleaning-included/yr0w2hWDePPxAiHiKOdyB?dataLayerKey=k2xveOsPeOBkVZM_-8Gfa',\n",
       " 'https://wunderflats.com/en/furnished-apartment/g/co-living-room-with-balcony-in-buzzing-hamburg-eppendorf-cleaning-included/e1d_p2K4gngJq5OiWlGcj?dataLayerKey=k2xveOsPeOBkVZM_-8Gfa',\n",
       " 'https://wunderflats.com/en/furnished-apartment/g/co-living-modern-room-with-private-bathroom-in-beautiful-winterhude-cleaning-included/4Z5Kd2u81OeRe1ekxGOEw?dataLayerKey=k2xveOsPeOBkVZM_-8Gfa',\n",
       " 'https://wunderflats.com/en/furnished-apartment/g/co-living-modern-room-in-a-prime-location-in-beautiful-winterhude-cleaning-included/PL4xp3IS1VyQFKDqz37Yo?dataLayerKey=k2xveOsPeOBkVZM_-8Gfa',\n",
       " 'https://wunderflats.com/en/furnished-apartment/g/co-living-modern-room-in-buzzing-hamburg-eppendorf-cleaning-included/oK-fir8Doxu-yDbTzjKQf?dataLayerKey=k2xveOsPeOBkVZM_-8Gfa',\n",
       " 'https://wunderflats.com/en/furnished-apartment/g/co-living-modern-room-in-buzzing-hamburg-eppendorf-cleaning-included/DD5pQ2r0CdjcVArA3umHL?dataLayerKey=k2xveOsPeOBkVZM_-8Gfa',\n",
       " 'https://wunderflats.com/en/furnished-apartment/g/co-living-modern-room-in-a-prime-location-in-beautiful-winterhude-cleaning-included/8qwUjKHLIwlFMpSexG112?dataLayerKey=k2xveOsPeOBkVZM_-8Gfa',\n",
       " 'https://wunderflats.com/en/furnished-apartment/g/co-living-room-with-balcony-in-buzzing-hamburg-eppendorf-cleaning-included/5SgXGjXOltv2I4wYpjoDB?dataLayerKey=k2xveOsPeOBkVZM_-8Gfa',\n",
       " 'https://wunderflats.com/en/furnished-apartment/spacious-cozy-loft-in-hamburg-nord/5fea2c08c13bb50006deb9f6?dataLayerKey=k2xveOsPeOBkVZM_-8Gfa',\n",
       " 'https://wunderflats.com/en/furnished-apartment/gorgeous-nice-flat-located-in-eimsbuettel/634d0fd3c8abeedd65941945?dataLayerKey=k2xveOsPeOBkVZM_-8Gfa',\n",
       " 'https://wunderflats.com/en/furnished-apartment/bright-flat-located-in-hamburg-nord-hamburg/6122886bc51b96000763860f?dataLayerKey=k2xveOsPeOBkVZM_-8Gfa',\n",
       " 'https://wunderflats.com/en/furnished-apartment/neat-and-amazing-suite-in-hamburg-nord/6397675c42a68d11fa496733?dataLayerKey=k2xveOsPeOBkVZM_-8Gfa',\n",
       " 'https://wunderflats.com/en/furnished-apartment/g/maisonette-apartment-with-balcony/6i3GA6Fe9ic-6QFo_J84J?dataLayerKey=k2xveOsPeOBkVZM_-8Gfa',\n",
       " 'https://wunderflats.com/en/furnished-apartment/perfect-and-modern-flat-in-hamburg-nord-stylish-furnished/610d4c499ed2970007242903?dataLayerKey=k2xveOsPeOBkVZM_-8Gfa',\n",
       " 'https://wunderflats.com/en/furnished-apartment/gorgeous-spacious-fully-equipped-flat-with-mini-garden-and-balcony-in-hamburg-winterhude-near-central-city-park/638331e94a2171efe9579209?dataLayerKey=k2xveOsPeOBkVZM_-8Gfa',\n",
       " 'https://wunderflats.com/en/furnished-apartment/lichtdurchflutetes-wohnung-in-der-naehe-eppendorfer-baum-uni-klinik/636a0f95ba6de2f8c3c2326a?dataLayerKey=k2xveOsPeOBkVZM_-8Gfa',\n",
       " 'https://wunderflats.com/en/furnished-apartment/cultural-epicentre-but-quite-1-minute-by-foot-to-subway/5bf861ae865d4300072cff20?dataLayerKey=k2xveOsPeOBkVZM_-8Gfa',\n",
       " 'https://wunderflats.com/en/furnished-apartment/g/nice-studio-in-hamburg-winterhude-marktplatz/CYvRYMBl6JzNPUKpJDJcF?dataLayerKey=k2xveOsPeOBkVZM_-8Gfa',\n",
       " 'https://wunderflats.com/en/furnished-apartment/gorgeous-loft-in-hamburg-nord/5f397665e5fd4f0006a2a713?dataLayerKey=k2xveOsPeOBkVZM_-8Gfa',\n",
       " 'https://wunderflats.com/en/furnished-apartment/miniloft-highlight-quiet-little-loftstudioapartment-in-the-heart-of-hamburg-eimsbuettel/5e185169c6b8b20007d0d803?dataLayerKey=k2xveOsPeOBkVZM_-8Gfa',\n",
       " 'https://wunderflats.com/en/furnished-apartment/fashionable-studio-in-eimsbuettel/60812956c926110007f82b9c?dataLayerKey=k2xveOsPeOBkVZM_-8Gfa',\n",
       " 'https://wunderflats.com/en/furnished-apartment/cozy-perfect-studio-rothenbaum/5c9245cae0f13a000883d76d?dataLayerKey=k2xveOsPeOBkVZM_-8Gfa',\n",
       " 'https://wunderflats.com/en/furnished-apartment/central-and-beautiful-fantastic-flat-in-hamburg-nord/61d80c3e9ca2580007e1e0be?dataLayerKey=k2xveOsPeOBkVZM_-8Gfa',\n",
       " 'https://wunderflats.com/en/furnished-apartment/homecoming-to-hoheluft-cosyness-comfort-and-style/6278ccdc9ff3e753a5d9ba49?dataLayerKey=k2xveOsPeOBkVZM_-8Gfa',\n",
       " 'https://wunderflats.com/en/furnished-apartment/city-apartment-with-large-balcony/5c744bd02bdcf2000b2fbfa6?dataLayerKey=k2xveOsPeOBkVZM_-8Gfa',\n",
       " 'https://wunderflats.com/en/furnished-apartment/stylish-apartment-in-hamburg-alsterdorf/63f00571324e0bc569fcddac?dataLayerKey=k2xveOsPeOBkVZM_-8Gfa',\n",
       " 'https://wunderflats.com/en/furnished-apartment/quiet-loft-conveniently-located/5ce18fb5027fa100087aa41e?dataLayerKey=k2xveOsPeOBkVZM_-8Gfa',\n",
       " 'https://wunderflats.com/en/furnished-apartment/apartment-near-congress-hall-in-eimsbuettel/5eb2b467d3c69d0006260fe8?dataLayerKey=k2xveOsPeOBkVZM_-8Gfa',\n",
       " 'https://wunderflats.com/en/furnished-apartment/modern-flat-in-hamburg-nord-hamburg/5f9efff6d7637c0006edfa21?dataLayerKey=k2xveOsPeOBkVZM_-8Gfa',\n",
       " 'https://wunderflats.com/en/furnished-apartment/furnished-renovated-3-room-apartment/60962cfc7a3e62000747911c?dataLayerKey=k2xveOsPeOBkVZM_-8Gfa',\n",
       " 'https://wunderflats.com/en/furnished-apartment/centrally-located-furnished-apartment-freshly-renovated-incl-all-utilities-gez-dsl-electricity/6094f80b3e15aa000681bca1?dataLayerKey=KY-ZeN7CTWy2HdKYRgxAM',\n",
       " 'https://wunderflats.com/en/furnished-apartment/apartment-in-city-villa-first-occupancy-terrace-opt-with-parking-space/618255399c067a0007465af6?dataLayerKey=KY-ZeN7CTWy2HdKYRgxAM',\n",
       " 'https://wunderflats.com/en/furnished-apartment/st-pauli-2br-apartment-2min-to-the-u3-metro-line/6390dbc5cacaf50b7577ea30?dataLayerKey=KY-ZeN7CTWy2HdKYRgxAM',\n",
       " 'https://wunderflats.com/en/furnished-apartment/townhouse-in-the-middle-of-hamburg/63ff4dad2da43c58dd3e556f?dataLayerKey=KY-ZeN7CTWy2HdKYRgxAM',\n",
       " 'https://wunderflats.com/en/furnished-apartment/highend-cityapartment-hamburg/594feb3192a49750c0895b82?dataLayerKey=KY-ZeN7CTWy2HdKYRgxAM',\n",
       " 'https://wunderflats.com/en/furnished-apartment/fashionable-and-wonderful-home-close-to-city-center-hamburg/5d6e222fa103020007233f81?dataLayerKey=KY-ZeN7CTWy2HdKYRgxAM',\n",
       " 'https://wunderflats.com/en/furnished-apartment/central-and-charming-apartment-in-hamburg-nord/5b6ab6a14e87e610344e578d?dataLayerKey=KY-ZeN7CTWy2HdKYRgxAM',\n",
       " 'https://wunderflats.com/en/furnished-apartment/great-and-spacious-suite-in-eimsbuettel/5a47853b5ff0244c9b8e7c25?dataLayerKey=KY-ZeN7CTWy2HdKYRgxAM',\n",
       " 'https://wunderflats.com/en/furnished-apartment/charming-modern-home-in-hamburg-mitte-next-to-subway-station-hamburg-burgstrasse/5b4633fc9fafedf67ea8ac53?dataLayerKey=KY-ZeN7CTWy2HdKYRgxAM',\n",
       " 'https://wunderflats.com/en/furnished-apartment/light-filled-and-newly-furnished-one-bedroom-apartment-directly-on-the-alster-in-the-heart-of-harvestehude-hamburg/616712de3e6d9f0007742d1a?dataLayerKey=KY-ZeN7CTWy2HdKYRgxAM',\n",
       " 'https://wunderflats.com/en/furnished-apartment/absolute-silence-lots-of-sun-and-central-renovated-25-room-apartment-in-historic-building/633af989bd46585179e482d4?dataLayerKey=KY-ZeN7CTWy2HdKYRgxAM',\n",
       " 'https://wunderflats.com/en/furnished-apartment/art-nouveau-appartement-in-hamburgs-musiciens-quarter/606c328c130805000731645c?dataLayerKey=KY-ZeN7CTWy2HdKYRgxAM',\n",
       " 'https://wunderflats.com/en/furnished-apartment/helle-wohnung-nah-der-alster/62f659342c3ee0b6773e4507?dataLayerKey=KY-ZeN7CTWy2HdKYRgxAM',\n",
       " 'https://wunderflats.com/en/furnished-apartment/cute-and-fantastic-flat-in-hamburg-mitte/5c069c8e938bbf00065ec55d?dataLayerKey=KY-ZeN7CTWy2HdKYRgxAM',\n",
       " 'https://wunderflats.com/en/furnished-apartment/perfect-and-gorgeous-suite-in-hamburg-mitte/5dc05e48b1b148000634a6fb?dataLayerKey=KY-ZeN7CTWy2HdKYRgxAM',\n",
       " 'https://wunderflats.com/en/furnished-apartment/mordern-suite-conveniently-located-in-the-inner-city/5d6188fb6832930008967f9c?dataLayerKey=KY-ZeN7CTWy2HdKYRgxAM',\n",
       " 'https://wunderflats.com/en/furnished-apartment/cozy-charming-suite-with-nice-neighbours-hamburg/5e33fa47635457000627b08c?dataLayerKey=KY-ZeN7CTWy2HdKYRgxAM',\n",
       " 'https://wunderflats.com/en/furnished-apartment/gorgeous-and-bright-apartment-with-a-view-to-a-small-canal-3-rooms/594280e731b3e919a1474702?dataLayerKey=KY-ZeN7CTWy2HdKYRgxAM',\n",
       " 'https://wunderflats.com/en/furnished-apartment/live-directly-on-the-reeperbahn/5d860a2af6383200071b7eb3?dataLayerKey=KY-ZeN7CTWy2HdKYRgxAM',\n",
       " 'https://wunderflats.com/en/furnished-apartment/newly-refurbished-2-bedroom-apartment-in-hamburg-steilshoop/63a75298e21b4da90e33e293?dataLayerKey=KY-ZeN7CTWy2HdKYRgxAM',\n",
       " 'https://wunderflats.com/en/furnished-apartment/light-flooded-modern-furnished-apartment-end-floor-7th-floor-with-elevator/63418f546646bcdd3fa9489d?dataLayerKey=KY-ZeN7CTWy2HdKYRgxAM',\n",
       " 'https://wunderflats.com/en/furnished-apartment/lovely-and-quiet-home-in-eimsbuettel/62e4d338615487e3f0099442?dataLayerKey=KY-ZeN7CTWy2HdKYRgxAM',\n",
       " 'https://wunderflats.com/en/furnished-apartment/nice-and-quiet-apartment-in-roterbaum/623bf2114f21991a5e9beeb4?dataLayerKey=KY-ZeN7CTWy2HdKYRgxAM',\n",
       " 'https://wunderflats.com/en/furnished-apartment/altbau-4-zimmer-wohnung-in-eimsbuettel-hamburg/63d05370ac2c5a877c09a927?dataLayerKey=KY-ZeN7CTWy2HdKYRgxAM',\n",
       " 'https://wunderflats.com/en/furnished-apartment/central-in-hamburg-frisch-renovated-3-room-apartment-with-large-balcony-and-bathroom-with-daylight/630a75b82166856cb100584b?dataLayerKey=KY-ZeN7CTWy2HdKYRgxAM',\n",
       " 'https://wunderflats.com/en/furnished-apartment/lovely-central-alster-city-apartment/5caa6199d1d06a0006dbbf99?dataLayerKey=KY-ZeN7CTWy2HdKYRgxAM',\n",
       " 'https://wunderflats.com/en/furnished-apartment/wonderful-and-tastefully-furnished-flat-with-two-balconies-in-eimsbuettel/5da43b0da64aef00078824b4?dataLayerKey=KY-ZeN7CTWy2HdKYRgxAM',\n",
       " 'https://wunderflats.com/en/furnished-apartment/charming-apartment-in-historic-building-near-schanze-in-eimsbuettel-hamburg/62ceded144cd1f0b305d0bb2?dataLayerKey=KY-ZeN7CTWy2HdKYRgxAM',\n",
       " 'https://wunderflats.com/en/furnished-apartment/alster-36-exclusive-city-apartment/5daecae131b61a000ae7ce35?dataLayerKey=KY-ZeN7CTWy2HdKYRgxAM',\n",
       " 'https://wunderflats.com/en/furnished-apartment/bright-*-modern-*-south-balcony/63eb5752619ad3e63ba3f09c?dataLayerKey=KY-ZeN7CTWy2HdKYRgxAM',\n",
       " 'https://wunderflats.com/en/furnished-apartment/spacious-cute-flat-close-to-city-center/5c83a7cf4e91290007590089?dataLayerKey=hNPe9kBw0rboXPSgwNG58',\n",
       " 'https://wunderflats.com/en/furnished-apartment/light-flooded-and-central-2-room-apartment-near-elbbruecken/629796ee952713b83660e5c5?dataLayerKey=hNPe9kBw0rboXPSgwNG58',\n",
       " 'https://wunderflats.com/en/furnished-apartment/amazing-loft-in-hamburg-mitte-hamburg/5d808baf9df0ee0007d5b239?dataLayerKey=hNPe9kBw0rboXPSgwNG58',\n",
       " 'https://wunderflats.com/en/furnished-apartment/get-a-feel-for-hamburg-new-york-style-nice-city-flat-in-popular-area/5c9f84c164f26700099719bc?dataLayerKey=hNPe9kBw0rboXPSgwNG58',\n",
       " 'https://wunderflats.com/en/furnished-apartment/beautiful-suite-great-view/5c50a1769c042500079bb601?dataLayerKey=hNPe9kBw0rboXPSgwNG58',\n",
       " 'https://wunderflats.com/en/furnished-apartment/fantastic-nice-suite-in-hamburg-close-to-city-center/5a58c620d79e3ad0efacba44?dataLayerKey=hNPe9kBw0rboXPSgwNG58',\n",
       " 'https://wunderflats.com/en/furnished-apartment/cozy-home-in-trendy-and-central-hamburg-winterhude/5eff11f4f196890006166f1f?dataLayerKey=hNPe9kBw0rboXPSgwNG58',\n",
       " 'https://wunderflats.com/en/furnished-apartment/small-city-apartment-in-nice-side-street-in-hamburg-hohenfelde/60af4f8405aeb30008a808b7?dataLayerKey=hNPe9kBw0rboXPSgwNG58',\n",
       " 'https://wunderflats.com/en/furnished-apartment/modern-calm-apartment-with-balcony-located-in-the-inner-city/5d01474151232200073c5824?dataLayerKey=hNPe9kBw0rboXPSgwNG58',\n",
       " 'https://wunderflats.com/en/furnished-apartment/sunny-suite-close-to-schulterblatt-st-pauli-freshly-renovated/62a6f1bd3ee1bdde2ba4b997?dataLayerKey=hNPe9kBw0rboXPSgwNG58',\n",
       " 'https://wunderflats.com/en/furnished-apartment/wonderful-home-located-in-hamburg-mitte-hamburg/5af5d411cff58d5c6350580d?dataLayerKey=hNPe9kBw0rboXPSgwNG58',\n",
       " 'https://wunderflats.com/en/furnished-apartment/pretty-apartment-in-hamburg-nord/5dc9309e1028db0007c456d2?dataLayerKey=hNPe9kBw0rboXPSgwNG58',\n",
       " 'https://wunderflats.com/en/furnished-apartment/top-flat-in-hamburg-hafencity/62c2fa69d236b88a0281ef2e?dataLayerKey=hNPe9kBw0rboXPSgwNG58',\n",
       " 'https://wunderflats.com/en/furnished-apartment/pretty-newly-furnished-studio-in-hamburg/5e453fa2c22a5f0007b46fcb?dataLayerKey=hNPe9kBw0rboXPSgwNG58',\n",
       " 'https://wunderflats.com/en/furnished-apartment/flat-in-city-center-of-hamburg/6254ad994ab5d1922f7e91db?dataLayerKey=hNPe9kBw0rboXPSgwNG58',\n",
       " 'https://wunderflats.com/en/furnished-apartment/cosy-apartment-in-barmbek/5d7be1b4d524020007b400f1?dataLayerKey=hNPe9kBw0rboXPSgwNG58',\n",
       " 'https://wunderflats.com/en/furnished-apartment/fashionable-spacious-apartment-in-hamburg-nord/62fc74a86dc057971440c56b?dataLayerKey=hNPe9kBw0rboXPSgwNG58',\n",
       " 'https://wunderflats.com/en/furnished-apartment/fashionable-home-in-popular-area-renovated-near-uke-400m/5f02f391a6ef17000678fe0c?dataLayerKey=hNPe9kBw0rboXPSgwNG58',\n",
       " 'https://wunderflats.com/en/furnished-apartment/lovely-suite-in-hamburg-nord-hamburg/5d9c5bbb0a6f2300073d84e7?dataLayerKey=hNPe9kBw0rboXPSgwNG58',\n",
       " 'https://wunderflats.com/en/furnished-apartment/bright-furnished-3-room-apartment-with-gallery-and-balcony-near-alster-in-the-triangle-hohenfelde-uhlenhorst-st-georg-hamburg/60e4e6d53e18d90007e84ab6?dataLayerKey=hNPe9kBw0rboXPSgwNG58',\n",
       " 'https://wunderflats.com/en/furnished-apartment/great-and-charming-4-rooms-with-balcony-in-hohenfelde-central-close-to-central-station/5c2ca69b777a4f00064cb3a4?dataLayerKey=hNPe9kBw0rboXPSgwNG58',\n",
       " 'https://wunderflats.com/en/furnished-apartment/wonderful-and-calm-apartment-in-an-old-typical-hamburg-house-very-near-to-the-metro-station/5ce7cf1204dc2c00081cc477?dataLayerKey=hNPe9kBw0rboXPSgwNG58',\n",
       " 'https://wunderflats.com/en/furnished-apartment/lovely-suite-in-hamburg-mitte-hamburg/63e9e2c9f8549364f0e51849?dataLayerKey=hNPe9kBw0rboXPSgwNG58',\n",
       " 'https://wunderflats.com/en/furnished-apartment/gorgeous-loft-in-hamburg-nord-hamburg/6074273f047d8a000743f5fd?dataLayerKey=hNPe9kBw0rboXPSgwNG58',\n",
       " 'https://wunderflats.com/en/furnished-apartment/cute-and-lovely-loft/57ee47dd6392b6fd8e6b639c?dataLayerKey=hNPe9kBw0rboXPSgwNG58',\n",
       " 'https://wunderflats.com/en/furnished-apartment/g/spacious-and-bright-suite-deluxe/KdfL4H4trKsrB7qEGF7Ll?dataLayerKey=hNPe9kBw0rboXPSgwNG58',\n",
       " 'https://wunderflats.com/en/furnished-apartment/nice-and-pretty-suite-located-in-hamburg-winterhude-on-the-lovely-muehlenkamp/616bfba2462bb300098a146b?dataLayerKey=hNPe9kBw0rboXPSgwNG58',\n",
       " 'https://wunderflats.com/en/furnished-apartment/spacious-fashionable-studio-with-private-terrace-in-hamburg-nord/5d0174cb6be4790006e9b48c?dataLayerKey=hNPe9kBw0rboXPSgwNG58',\n",
       " 'https://wunderflats.com/en/furnished-apartment/amazing-and-modern-apartment-located-in-hamburg-nord-hamburg/6404883aa9be1c77b96eb6c7?dataLayerKey=hNPe9kBw0rboXPSgwNG58',\n",
       " 'https://wunderflats.com/en/furnished-apartment/quiet-and-fantastic-home-close-to-city-reeperbahn-and-park/63639939c626e2b03097fa69?dataLayerKey=hNPe9kBw0rboXPSgwNG58',\n",
       " 'https://wunderflats.com/en/furnished-apartment/top-flat-in-hamburg-hafencity/62de4af7ae127ab90776f95e?dataLayerKey=elwxdDmeHCrSjSucMTso7',\n",
       " 'https://wunderflats.com/en/furnished-apartment/g/co-living-room-with-garden-in-trendy-prime-location-in-hamburg-st-pauli-cleaning-included/FyWnCxzyu558uCQo7oym2?dataLayerKey=elwxdDmeHCrSjSucMTso7',\n",
       " 'https://wunderflats.com/en/furnished-apartment/g/beautiful-loft-in-hamburg-nord/BJ0VdduRZ?dataLayerKey=elwxdDmeHCrSjSucMTso7',\n",
       " 'https://wunderflats.com/en/furnished-apartment/luxurious-design-studio-right-in-the-middle-of-lange-reihe-in-st-georg-hamburg/6325c02b3b8dd662415fb31c?dataLayerKey=elwxdDmeHCrSjSucMTso7',\n",
       " 'https://wunderflats.com/en/furnished-apartment/fashionable-and-fantastic-apartment-eimsbuettel/5f60dd8113a4e2000657f463?dataLayerKey=elwxdDmeHCrSjSucMTso7',\n",
       " 'https://wunderflats.com/en/furnished-apartment/perfect-great-suite-in-eimsbuettel/60a556aafa88050007b5ace0?dataLayerKey=elwxdDmeHCrSjSucMTso7',\n",
       " 'https://wunderflats.com/en/furnished-apartment/sunny-apartment-at-lake-alster/5c80f6a5c7143900098edb17?dataLayerKey=elwxdDmeHCrSjSucMTso7',\n",
       " 'https://wunderflats.com/en/furnished-apartment/business-apartment-with-garden-use/5d838538b584700007a51d7b?dataLayerKey=elwxdDmeHCrSjSucMTso7',\n",
       " 'https://wunderflats.com/en/furnished-apartment/modern-2-room-apartment-between-central-station-and-airport/626fc3aa5970f494a75441f5?dataLayerKey=elwxdDmeHCrSjSucMTso7',\n",
       " 'https://wunderflats.com/en/furnished-apartment/central-and-cozy-3-room-apartment/63b9c48a7dd2007cce153f27?dataLayerKey=elwxdDmeHCrSjSucMTso7',\n",
       " 'https://wunderflats.com/en/furnished-apartment/bright-quiet-and-charming-apartment-in-the-heart-of-winterhude-near-stadtpark/636d690e021ffeadfdb675f8?dataLayerKey=elwxdDmeHCrSjSucMTso7',\n",
       " 'https://wunderflats.com/en/furnished-apartment/gorgeous-and-great-apartment-in-hamburg-nord/5fea3a6e9f239900075d8980?dataLayerKey=elwxdDmeHCrSjSucMTso7',\n",
       " 'https://wunderflats.com/en/furnished-apartment/modern-studio-apartment-with-large-balcony-in-eppendorf/634550e988b9a014bb789bf9?dataLayerKey=elwxdDmeHCrSjSucMTso7',\n",
       " 'https://wunderflats.com/en/furnished-apartment/sunshiny-quiet-apartment-with-balcony-in-the-center-of-hamburg-rotherbaum/5e2029b2b884250006e52e59?dataLayerKey=elwxdDmeHCrSjSucMTso7',\n",
       " 'https://wunderflats.com/en/furnished-apartment/g/co-living-neat-room-in-hamburg-mitte/pRg87VTezOURQw9bRockN?dataLayerKey=elwxdDmeHCrSjSucMTso7',\n",
       " 'https://wunderflats.com/en/furnished-apartment/top-location-beautiful-1-room-apartment-near-the-lake-alster/5cfa49f3f8a04200066813d0?dataLayerKey=elwxdDmeHCrSjSucMTso7',\n",
       " 'https://wunderflats.com/en/furnished-apartment/quiteartistical-loft-with-little-garden-in-the-heart-of-stpauli-next-to-wohlers-parc-hamburg/6404e2e49a32cbbfbad89c71?dataLayerKey=elwxdDmeHCrSjSucMTso7',\n",
       " 'https://wunderflats.com/en/furnished-apartment/modern-home-in-hamburg-mitte/6399aad316c25af3e04c8731?dataLayerKey=elwxdDmeHCrSjSucMTso7',\n",
       " 'https://wunderflats.com/en/furnished-apartment/g/co-living-room-with-garden-in-trendy-prime-location-in-hamburg-st-pauli-cleaning-included/F_QY0hXpSrc5Fw-slbPlY?dataLayerKey=elwxdDmeHCrSjSucMTso7',\n",
       " 'https://wunderflats.com/en/furnished-apartment/nice-studio-directly-in-hamburg-mitte/5a532dd8a8417a522e691359?dataLayerKey=elwxdDmeHCrSjSucMTso7',\n",
       " 'https://wunderflats.com/en/furnished-apartment/g/great-home-in-altona/Q-POR_BBioh_Rn3V381aX?dataLayerKey=elwxdDmeHCrSjSucMTso7',\n",
       " 'https://wunderflats.com/en/furnished-apartment/great-loft-in-hamburg-nord/5ed8f5235f9bdb00068cd6fb?dataLayerKey=elwxdDmeHCrSjSucMTso7',\n",
       " 'https://wunderflats.com/en/furnished-apartment/colorful-apartment-with-designer-furniture-in-hamburg-rotherbaum/602f8801b5d09e0008a577ef?dataLayerKey=elwxdDmeHCrSjSucMTso7',\n",
       " 'https://wunderflats.com/en/furnished-apartment/cozy-flat-in-hamburg-mitte/6112227a22ba0000081a2ab8?dataLayerKey=elwxdDmeHCrSjSucMTso7',\n",
       " 'https://wunderflats.com/en/furnished-apartment/gorgeous-and-new-studio-near-school/5ebe7fe53acbe50006e58ba5?dataLayerKey=elwxdDmeHCrSjSucMTso7',\n",
       " 'https://wunderflats.com/en/furnished-apartment/g/co-living-room-with-garden-in-trendy-prime-location-in-hamburg-st-pauli-cleaning-included/Q-4TR1hmGI7jWWQGz1lwI?dataLayerKey=elwxdDmeHCrSjSucMTso7',\n",
       " 'https://wunderflats.com/en/furnished-apartment/stylish-new-apartment-in-the-best-area-of-hamburg/5f3053b4fea78d000635040f?dataLayerKey=elwxdDmeHCrSjSucMTso7',\n",
       " 'https://wunderflats.com/en/furnished-apartment/exclusive-apartment-in-harvestehudepoeseldorf-with-balcony-pool-and-sauna/5bbb13607037cbd8d2312f0c?dataLayerKey=elwxdDmeHCrSjSucMTso7',\n",
       " 'https://wunderflats.com/en/furnished-apartment/g/co-living-neat-flat-in-hamburg-mitte/yngY52E4kcocMwxp12BKS?dataLayerKey=elwxdDmeHCrSjSucMTso7',\n",
       " 'https://wunderflats.com/en/furnished-apartment/your-new-home-in-the-heart-of-hamburg/63e222e0090e346eb483aece?dataLayerKey=elwxdDmeHCrSjSucMTso7',\n",
       " 'https://wunderflats.com/en/furnished-apartment/design-art-nouveau-in-eppendorf-next-to-uke/5ee886e635e35600078e9fb8?dataLayerKey=lr6K_t0JaSUREBMXjLQep',\n",
       " 'https://wunderflats.com/en/furnished-apartment/great-apartment-located-in-hamburg-mitte/5bf303c8fb52bf000582c57c?dataLayerKey=lr6K_t0JaSUREBMXjLQep',\n",
       " 'https://wunderflats.com/en/furnished-apartment/g/lovely-studio-in-hamburg-winterhude-market/nk70DbiVpMoSyDsgHmHUY?dataLayerKey=lr6K_t0JaSUREBMXjLQep',\n",
       " 'https://wunderflats.com/en/furnished-apartment/g/co-living-modern-room-in-a-prime-location-in-beautiful-hamburg-city-cleaning-included/L1UO8NIe0Eb7RbL9Pni8Y?dataLayerKey=lr6K_t0JaSUREBMXjLQep',\n",
       " 'https://wunderflats.com/en/furnished-apartment/hygge-and-quiet-living-in-the-renovated-old-building-in-eimsbuettel/64065a397784127a4dbc3017?dataLayerKey=lr6K_t0JaSUREBMXjLQep',\n",
       " 'https://wunderflats.com/en/furnished-apartment/absolutely-central-location-in-st-georg-super-equipped-large-apartment/623a487aa41f93a7472e45e6?dataLayerKey=lr6K_t0JaSUREBMXjLQep',\n",
       " 'https://wunderflats.com/en/furnished-apartment/g/co-living-modern-room-in-a-prime-location-in-beautiful-hamburg-city-cleaning-included/D8CutKymftjFbDOzRtsJ9?dataLayerKey=lr6K_t0JaSUREBMXjLQep',\n",
       " 'https://wunderflats.com/en/furnished-apartment/g/modern-apartmet-with-two-bedroms/6X92MAl37sdYwZ5YvcduI?dataLayerKey=lr6K_t0JaSUREBMXjLQep',\n",
       " 'https://wunderflats.com/en/furnished-apartment/co-living-room-with-garden-in-trendy-prime-location-in-hamburg-st-pauli-cleaning-included/6035272f2accb300073e3a0f?dataLayerKey=lr6K_t0JaSUREBMXjLQep',\n",
       " 'https://wunderflats.com/en/furnished-apartment/modern-and-fantastic-studio-hamburg/5e0f9f9bacb1f90006b235f4?dataLayerKey=lr6K_t0JaSUREBMXjLQep',\n",
       " 'https://wunderflats.com/en/furnished-apartment/g/amazing-and-quiet-studio-in-hamburg-nord-hamburg/HJZINOdAZ?dataLayerKey=lr6K_t0JaSUREBMXjLQep',\n",
       " 'https://wunderflats.com/en/furnished-apartment/park-lane-city-apartment-1m/617ec3c2e27b6d000773656e?dataLayerKey=lr6K_t0JaSUREBMXjLQep',\n",
       " 'https://wunderflats.com/en/furnished-apartment/awesome-and-lovely-apartment-in-hamburg-mitte/626ba73f8e23fc468c6514ff?dataLayerKey=lr6K_t0JaSUREBMXjLQep',\n",
       " 'https://wunderflats.com/en/furnished-apartment/gorgeous-and-perfect-apartment-in-hamburg-mitte/5a4de83d6b30983fe07dcf62?dataLayerKey=lr6K_t0JaSUREBMXjLQep',\n",
       " 'https://wunderflats.com/en/furnished-apartment/g/awesome-and-perfect-executive-apartment/xAoaPQrfyvnbZ8wiVfaGB?dataLayerKey=lr6K_t0JaSUREBMXjLQep',\n",
       " 'https://wunderflats.com/en/furnished-apartment/brand-new-apartment-with-balcony-in-best-area-hamburg-nord/5fd14ae0c8125f0006315811?dataLayerKey=lr6K_t0JaSUREBMXjLQep',\n",
       " 'https://wunderflats.com/en/furnished-apartment/g/co-living-room-with-balcony-in-buzzing-hamburg-eppendorf-cleaning-included/vNeFe3cKNAqxQut8y09K1?dataLayerKey=lr6K_t0JaSUREBMXjLQep',\n",
       " 'https://wunderflats.com/en/furnished-apartment/amazing-spacious-apartment-hamburg-nord-with-balcony-and-roof-terrace/6183f2b3b7d3a80007d87500?dataLayerKey=lr6K_t0JaSUREBMXjLQep',\n",
       " 'https://wunderflats.com/en/furnished-apartment/g/cute-and-new-comfort-apartment/uTmOIgxiBL2YaDHroz7o8?dataLayerKey=lr6K_t0JaSUREBMXjLQep',\n",
       " 'https://wunderflats.com/en/furnished-apartment/luxury-and-cozy-flat-in-popular-area-winterhudeuhlenhorst/6136437ecc576f0007b92bb2?dataLayerKey=lr6K_t0JaSUREBMXjLQep',\n",
       " 'https://wunderflats.com/en/furnished-apartment/2-room-apartment-in-st-georg/621d3d2fb389739b618382a3?dataLayerKey=lr6K_t0JaSUREBMXjLQep',\n",
       " 'https://wunderflats.com/en/furnished-apartment/great-cozy-loft-in-rotherbaum-hamburg/6129d2b40e9b410007c96e12?dataLayerKey=lr6K_t0JaSUREBMXjLQep',\n",
       " 'https://wunderflats.com/en/furnished-apartment/bright-and-spacious-apartment-close-to-the-metro/5d38127409f579000a8b657d?dataLayerKey=lr6K_t0JaSUREBMXjLQep',\n",
       " 'https://wunderflats.com/en/furnished-apartment/park-lane-city-apartment-1r/617fae70117b8a0007f926ef?dataLayerKey=lr6K_t0JaSUREBMXjLQep',\n",
       " 'https://wunderflats.com/en/furnished-apartment/central-apartment-directly-at-the-u3-habichtstrasse/6099472d24e4d20008893aad?dataLayerKey=lr6K_t0JaSUREBMXjLQep',\n",
       " 'https://wunderflats.com/en/furnished-apartment/g/gorgeous-family-apartment-in-hamburg-nord/rJxkTu_Cb?dataLayerKey=lr6K_t0JaSUREBMXjLQep',\n",
       " 'https://wunderflats.com/en/furnished-apartment/quiet-and-cozy-studio-in-eimsbuettel/63e0dfeb0ecd7d04b3fb91f7?dataLayerKey=lr6K_t0JaSUREBMXjLQep',\n",
       " 'https://wunderflats.com/en/furnished-apartment/park-lane-city-apartment-4/619f8a25472ee0000739b7a5?dataLayerKey=lr6K_t0JaSUREBMXjLQep',\n",
       " 'https://wunderflats.com/en/furnished-apartment/hamburg-hafencity-design-serviced-apartment-with-terrace/5da04068186d890009e3b299?dataLayerKey=lr6K_t0JaSUREBMXjLQep',\n",
       " 'https://wunderflats.com/en/furnished-apartment/g/spacious-maisonette-apartment-with-terrace/ULipYN4alKV_TaUW_Daj2?dataLayerKey=lr6K_t0JaSUREBMXjLQep',\n",
       " 'https://wunderflats.com/en/furnished-apartment/hamburg-hafencity-design-serviced-apartment-smart/5da036a9186d890009e3ae67?dataLayerKey=_lO6UymnDxSS1xrI_XTdY',\n",
       " 'https://wunderflats.com/en/furnished-apartment/modern-pretty-apartment-close-to-city-center-with-marvelous-view/6083188f3ee1c00008b9f54d?dataLayerKey=_lO6UymnDxSS1xrI_XTdY',\n",
       " 'https://wunderflats.com/en/furnished-apartment/amazing-flat-with-balcony-near-stadtpark-in-hamburg/5b4323e4b6beb530ca7969a7?dataLayerKey=_lO6UymnDxSS1xrI_XTdY',\n",
       " 'https://wunderflats.com/en/furnished-apartment/g/hamburg-hafencity-design-serviced-apartment-smart-with-terrace/J5bIgHUeE?dataLayerKey=_lO6UymnDxSS1xrI_XTdY',\n",
       " 'https://wunderflats.com/en/furnished-apartment/new-loft-with-nice-city-view-hamburg/617d8cf99018b40008c45097?dataLayerKey=_lO6UymnDxSS1xrI_XTdY',\n",
       " 'https://wunderflats.com/en/furnished-apartment/new-design-apartment-in-central-location-hamburg-altona-altstadt/63e7efac68f4db5268a5be7b?dataLayerKey=_lO6UymnDxSS1xrI_XTdY',\n",
       " 'https://wunderflats.com/en/furnished-apartment/hamburg-hafencity-design-serviced-apartment-xtra-smart/5d9f25031e3ff70007e76d12?dataLayerKey=_lO6UymnDxSS1xrI_XTdY',\n",
       " 'https://wunderflats.com/en/furnished-apartment/fashionable-and-nice-studio-hamburg-nord/5a30f1720bd491d6bcb65a55?dataLayerKey=_lO6UymnDxSS1xrI_XTdY',\n",
       " 'https://wunderflats.com/en/furnished-apartment/city-apartment-in-the-center-of-winterhude/61c9f65491e64c000780feaf?dataLayerKey=_lO6UymnDxSS1xrI_XTdY',\n",
       " 'https://wunderflats.com/en/furnished-apartment/g/hamburg-hafencity-design-serviced-apartment-xtra-smart-with-terrace/mfVuBgGI8?dataLayerKey=_lO6UymnDxSS1xrI_XTdY',\n",
       " 'https://wunderflats.com/en/furnished-apartment/spacious-apartment-in-eimsbuettel-with-two-bedrooms-and-balcony/5e33f040be974100065c8316?dataLayerKey=_lO6UymnDxSS1xrI_XTdY',\n",
       " 'https://wunderflats.com/en/furnished-apartment/spacious-cute-flat-close-to-city-center/626276519858b309c91055ed?dataLayerKey=_lO6UymnDxSS1xrI_XTdY',\n",
       " 'https://wunderflats.com/en/furnished-apartment/amazing-flat-in-vibrant-neighbourhood-hamburg/6022bb668816e10007f4ff7b?dataLayerKey=_lO6UymnDxSS1xrI_XTdY',\n",
       " 'https://wunderflats.com/en/furnished-apartment/brand-new-1-room-apartment-with-loggia-in-the-middle-of-eimsbuettel/62d3296a77931e6662fa9b75?dataLayerKey=_lO6UymnDxSS1xrI_XTdY',\n",
       " 'https://wunderflats.com/en/furnished-apartment/awesome-studio-in-hamburg-nord/5b44be162c5cfed31e13f1a6?dataLayerKey=_lO6UymnDxSS1xrI_XTdY',\n",
       " 'https://wunderflats.com/en/furnished-apartment/bright-and-cozy-home-in-popular-area/5e296f572cc2100007ad9bcb?dataLayerKey=_lO6UymnDxSS1xrI_XTdY',\n",
       " 'https://wunderflats.com/en/furnished-apartment/g/co-living-neat-room-in-hamburg-mitte/jN0cNEXH0URfiw3vA6jam?dataLayerKey=_lO6UymnDxSS1xrI_XTdY',\n",
       " 'https://wunderflats.com/en/furnished-apartment/g/fantastic-and-new-loft/CosjDntxoU?dataLayerKey=_lO6UymnDxSS1xrI_XTdY',\n",
       " 'https://wunderflats.com/en/furnished-apartment/g/spacious-charming-apartment-in-hamburg-mitte-hamburg/BJcETy7Rm?dataLayerKey=_lO6UymnDxSS1xrI_XTdY',\n",
       " 'https://wunderflats.com/en/furnished-apartment/apartment-in-munsburgtower-and-pretty-studio-in-nice-area-hamburg/5c8fb6e81848ff0009f76ef4?dataLayerKey=_lO6UymnDxSS1xrI_XTdY',\n",
       " 'https://wunderflats.com/en/furnished-apartment/cozy-and-quiet-apartment-in-hamburg-mitte/5bed41b6ccac200006314b69?dataLayerKey=_lO6UymnDxSS1xrI_XTdY',\n",
       " 'https://wunderflats.com/en/furnished-apartment/g/awesome-superior-apartment-in-hamburg/o-BNFy-2lZIpgTlXL3bqc?dataLayerKey=_lO6UymnDxSS1xrI_XTdY',\n",
       " 'https://wunderflats.com/en/furnished-apartment/modern-apartment-next-to-metro-station/60252c8df8e6170006479618?dataLayerKey=_lO6UymnDxSS1xrI_XTdY',\n",
       " 'https://wunderflats.com/en/furnished-apartment/bright-and-modern-apartment-in-hamburg-lokstedteppendorf-near-uke-university-medical-center/5edfed6a3a0bd200061d81e6?dataLayerKey=_lO6UymnDxSS1xrI_XTdY',\n",
       " 'https://wunderflats.com/en/furnished-apartment/great-and-perfect-2-room-flat-with-balcony-with-the-direct-neighborhood-to-the-hafencity/60e9987e497cb00007567e26?dataLayerKey=_lO6UymnDxSS1xrI_XTdY',\n",
       " 'https://wunderflats.com/en/furnished-apartment/2-bedroom-apartment-with-balcony-in-a-friendly-neighbourhood-easy-and-fast-access-to-city-center-home-office-friendly/5f29db8f1ba7170007cf4de4?dataLayerKey=_lO6UymnDxSS1xrI_XTdY',\n",
       " 'https://wunderflats.com/en/furnished-apartment/g/stylishly-furnished-apartment-in-the-middle-of-the-trendy-district-of-st-pauli/Z7cpGu1et0?dataLayerKey=_lO6UymnDxSS1xrI_XTdY',\n",
       " 'https://wunderflats.com/en/furnished-apartment/quiet-and-modern-home-in-hamburg-mitte/5d38adcef8ca49000b711f94?dataLayerKey=_lO6UymnDxSS1xrI_XTdY',\n",
       " 'https://wunderflats.com/en/furnished-apartment/co-living-neat-room-in-hamburg-mitte/620fb09e300b5907d5e22217?dataLayerKey=_lO6UymnDxSS1xrI_XTdY',\n",
       " 'https://wunderflats.com/en/furnished-apartment/charming-fantastic-studio-hamburg-schanze-karoviertel-st-pauli/5ce7edf145ff2d00066cef14?dataLayerKey=_lO6UymnDxSS1xrI_XTdY',\n",
       " 'https://wunderflats.com/en/furnished-apartment/lovely-2-room-flat-at-the-5-th-floor-in-the-middle-of-eimsbuettel/5cb320cf320d670007ec01a2?dataLayerKey=xBH-xFYCfS1JRXSe4Skfs',\n",
       " 'https://wunderflats.com/en/furnished-apartment/charming-studio-apartment-in-hamburg-eimsbuettel/5cf829152ccaac00062b9f4e?dataLayerKey=xBH-xFYCfS1JRXSe4Skfs',\n",
       " 'https://wunderflats.com/en/furnished-apartment/bright-and-modern-boutique-apartment-in-st-pauli/5fc91d533361ab0006f47292?dataLayerKey=xBH-xFYCfS1JRXSe4Skfs',\n",
       " 'https://wunderflats.com/en/furnished-apartment/art-noveau-apartment-at-the-city-park/60814abc4829db000865bc2c?dataLayerKey=xBH-xFYCfS1JRXSe4Skfs',\n",
       " 'https://wunderflats.com/en/furnished-apartment/art-noveau-apartment-in-eppendorf/62a4922975bb4ee8d14af088?dataLayerKey=xBH-xFYCfS1JRXSe4Skfs',\n",
       " 'https://wunderflats.com/en/furnished-apartment/cozy-appartment-in-hamburg-winterhude-near-the-lake-alster/5d6e1f312ec8be00076904cf?dataLayerKey=xBH-xFYCfS1JRXSe4Skfs',\n",
       " 'https://wunderflats.com/en/furnished-apartment/wonderful-apartment-in-hamburg-nord/5cb494aaf0146000076d46e5?dataLayerKey=xBH-xFYCfS1JRXSe4Skfs',\n",
       " 'https://wunderflats.com/en/furnished-apartment/penthouse-with-rooftop-terrace-in-eppendorf/62a4c31d01862f75c1ab4d4b?dataLayerKey=xBH-xFYCfS1JRXSe4Skfs',\n",
       " 'https://wunderflats.com/en/furnished-apartment/awesome-and-new-studio-in-winterhude/591b0b9684e7e61e285c3253?dataLayerKey=xBH-xFYCfS1JRXSe4Skfs',\n",
       " 'https://wunderflats.com/en/furnished-apartment/quiet-loft-in-nice-area-with-private-rooftop-terrace/5d6183696ca3da000a74fd89?dataLayerKey=xBH-xFYCfS1JRXSe4Skfs',\n",
       " 'https://wunderflats.com/en/furnished-apartment/luxury-apartment-with-fitness-area-and-parking-space-in-trendy-neighbourhood-sankt-georg/5a218668713b206f727a2fb8?dataLayerKey=xBH-xFYCfS1JRXSe4Skfs',\n",
       " 'https://wunderflats.com/en/furnished-apartment/cute-modern-home-in-hamburg-lokstedt-near-uke/5e27048a1c04bb0006de9331?dataLayerKey=xBH-xFYCfS1JRXSe4Skfs',\n",
       " 'https://wunderflats.com/en/furnished-apartment/g/great-neat-junior-suite-in-hamburg-nord/H1gKtO_RW?dataLayerKey=xBH-xFYCfS1JRXSe4Skfs',\n",
       " 'https://wunderflats.com/en/furnished-apartment/modern-fully-furnished-2-room-apartment-in-hamburg-eimsbuettel-eppendorf/5d77daa085283c000c6f48d9?dataLayerKey=xBH-xFYCfS1JRXSe4Skfs',\n",
       " 'https://wunderflats.com/en/furnished-apartment/beautiful-and-nice-apartment-in-excellent-location-hamburg/5d6219ab843e1800079301a4?dataLayerKey=xBH-xFYCfS1JRXSe4Skfs',\n",
       " 'https://wunderflats.com/en/furnished-apartment/premium-luxury-studio-apartment-in-hamburg-eppendorf-winterhude-close-to-the-alster/5952e19f712eb2ed289e2d9b?dataLayerKey=xBH-xFYCfS1JRXSe4Skfs',\n",
       " 'https://wunderflats.com/en/furnished-apartment/furnished-flat-all-inclusive-in-eimsbuettelstellingen/60bf8615ce059b0007fa2987?dataLayerKey=xBH-xFYCfS1JRXSe4Skfs',\n",
       " 'https://wunderflats.com/en/furnished-apartment/lovely-furnished-appartment-in-prime-location-hamburg-eimsbuettel/62b3934e1200071d45c94ad8?dataLayerKey=xBH-xFYCfS1JRXSe4Skfs',\n",
       " 'https://wunderflats.com/en/furnished-apartment/fantastic-stylish-loft-central-location-between-the-city-center-and-the-airport/5d5913693a1a5b0006f7dd9d?dataLayerKey=xBH-xFYCfS1JRXSe4Skfs',\n",
       " 'https://wunderflats.com/en/furnished-apartment/g/modern-apartment-next-to-metro-station/ms0-S_XuQ?dataLayerKey=xBH-xFYCfS1JRXSe4Skfs',\n",
       " 'https://wunderflats.com/en/furnished-apartment/design-appartement-st-pauli/5a1d74eeafcc1732924556e8?dataLayerKey=xBH-xFYCfS1JRXSe4Skfs',\n",
       " 'https://wunderflats.com/en/furnished-apartment/modern-and-gorgeous-loft-in-hamburg-nord/5f3b6d8866bec20006008809?dataLayerKey=xBH-xFYCfS1JRXSe4Skfs',\n",
       " 'https://wunderflats.com/en/furnished-apartment/beautiful-apartment-in-historic-building-near-alster-river/63b03af44a1918bf7e64974c?dataLayerKey=xBH-xFYCfS1JRXSe4Skfs',\n",
       " 'https://wunderflats.com/en/furnished-apartment/amazing-beautiful-loft-in-hamburg-nord-hamburg/5b44ac79bffa5868bd367854?dataLayerKey=xBH-xFYCfS1JRXSe4Skfs',\n",
       " 'https://wunderflats.com/en/furnished-apartment/luxurious-and-bright-apartment-in-mundsburg-apartment-tower-with-view-over-hamburg/60be16e4852b4e000853baf4?dataLayerKey=xBH-xFYCfS1JRXSe4Skfs',\n",
       " 'https://wunderflats.com/en/furnished-apartment/stylish-cozy-studio-apartment-in-the-heart-of-hamburg/620572fb85b10ed748c8cbc0?dataLayerKey=xBH-xFYCfS1JRXSe4Skfs',\n",
       " 'https://wunderflats.com/en/furnished-apartment/beautiful-and-gorgeous-apartment-in-hamburg/6331d0337ad42fd51fe24914?dataLayerKey=xBH-xFYCfS1JRXSe4Skfs',\n",
       " 'https://wunderflats.com/en/furnished-apartment/cosy-2-room-apartment-in-barmbek-sued-with-balcony/5b9d125faa51ea4ad90149d7?dataLayerKey=xBH-xFYCfS1JRXSe4Skfs',\n",
       " 'https://wunderflats.com/en/furnished-apartment/wonderful-suite-in-hamburg-hoheluft/5bd17f9a8e23479fe6f21ff7?dataLayerKey=xBH-xFYCfS1JRXSe4Skfs',\n",
       " 'https://wunderflats.com/en/furnished-apartment/gorgeous-home-in-hamburg-nord/5b44ccbd5b52f0aef98aa453?dataLayerKey=xBH-xFYCfS1JRXSe4Skfs',\n",
       " 'https://wunderflats.com/en/furnished-apartment/modern-and-nice-loft-in-hamburg-nord/5d2b32d5a4f18c000865461a?dataLayerKey=JY592DFGtvvtB3BVoA-lj',\n",
       " 'https://wunderflats.com/en/furnished-apartment/wonderful-and-bright-flat-with-little-garden-located-in-hamburg-winterhude/5a81e3f713a3deee07b6bef8?dataLayerKey=JY592DFGtvvtB3BVoA-lj',\n",
       " 'https://wunderflats.com/en/furnished-apartment/bright-apartment-located-in-hamburg-mitte-hamburg/5cb5cf50cd7ef40006d7d6c7?dataLayerKey=JY592DFGtvvtB3BVoA-lj',\n",
       " 'https://wunderflats.com/en/furnished-apartment/beautiful-flat-directly-at-the-alster-hamburg-mitte/5ba0c67f0cd1251de82c7e24?dataLayerKey=JY592DFGtvvtB3BVoA-lj',\n",
       " 'https://wunderflats.com/en/furnished-apartment/25-room-apartment-with-balcony-and-ebk-in-hamburg-altona-altstadt/62c3363c5ec2f956e350a907?dataLayerKey=JY592DFGtvvtB3BVoA-lj',\n",
       " 'https://wunderflats.com/en/furnished-apartment/living-above-the-roofs-of-hamburg-eppendorf-fully-renovated-in-2022/638398d422f62b1f6889f89e?dataLayerKey=JY592DFGtvvtB3BVoA-lj',\n",
       " 'https://wunderflats.com/en/furnished-apartment/amazing-and-gorgeous-apartment-great-view/6224d38b1d05ae3ac240b372?dataLayerKey=JY592DFGtvvtB3BVoA-lj',\n",
       " 'https://wunderflats.com/en/furnished-apartment/charming-and-bright-apartment-close-to-the-center-of-hamburg/625c1d949a0835fa85ac8ea1?dataLayerKey=JY592DFGtvvtB3BVoA-lj',\n",
       " 'https://wunderflats.com/en/furnished-apartment/bright-apartment-in-perfect-location-harvestehudeisemarkt/58adb0ab700961d68bb80c42?dataLayerKey=JY592DFGtvvtB3BVoA-lj',\n",
       " 'https://wunderflats.com/en/furnished-apartment/wonderful-and-perfect-apartment-in-hamburg-north-winterhude-with-water-access/58bc0016285beb9124434773?dataLayerKey=JY592DFGtvvtB3BVoA-lj',\n",
       " 'https://wunderflats.com/en/furnished-apartment/modern-and-lovely-home-in-eimsbuettel-hamburg/58aabcf7700961d68bb80b32?dataLayerKey=JY592DFGtvvtB3BVoA-lj',\n",
       " 'https://wunderflats.com/en/furnished-apartment/art-noveau-suite-in-beautiful-hamburg-winterhude-near-alster-lake/5c9e2e44b65c550007bb7321?dataLayerKey=JY592DFGtvvtB3BVoA-lj',\n",
       " 'https://wunderflats.com/en/furnished-apartment/charming-sun-loft-with-view-in-hamburg-hoheluft/63271347104e6444e08d8164?dataLayerKey=JY592DFGtvvtB3BVoA-lj',\n",
       " 'https://wunderflats.com/en/furnished-apartment/cozy-flat-in-hamburg-hoheluft/636bc12e575face088698e98?dataLayerKey=JY592DFGtvvtB3BVoA-lj',\n",
       " 'https://wunderflats.com/en/furnished-apartment/quiet-apartment-with-a-mini-garden/5d0b4f87a3b45f00085fc807?dataLayerKey=JY592DFGtvvtB3BVoA-lj',\n",
       " 'https://wunderflats.com/en/furnished-apartment/bright-cute-loft-located-in-harvestehude/61f292340c2fe0000764b10c?dataLayerKey=JY592DFGtvvtB3BVoA-lj',\n",
       " 'https://wunderflats.com/en/furnished-apartment/neat-quiet-loft/5f29dde592a3ea000623d86c?dataLayerKey=JY592DFGtvvtB3BVoA-lj',\n",
       " 'https://wunderflats.com/en/furnished-apartment/cozy-apartment-in-popular-area-hamburg/62babbfbabc0d1803a2603fa?dataLayerKey=JY592DFGtvvtB3BVoA-lj',\n",
       " 'https://wunderflats.com/en/furnished-apartment/nice-apartment-great-view/59ccf23766f5c8455ddd4d98?dataLayerKey=JY592DFGtvvtB3BVoA-lj',\n",
       " 'https://wunderflats.com/en/furnished-apartment/2-room-apartment-in-mundsburg-with-view-of-the-city/5f58ed11f3be230006379649?dataLayerKey=JY592DFGtvvtB3BVoA-lj',\n",
       " 'https://wunderflats.com/en/furnished-apartment/fantastic-and-charming-loft-altona/609e960b26b20c00078f3f7d?dataLayerKey=JY592DFGtvvtB3BVoA-lj',\n",
       " 'https://wunderflats.com/en/furnished-apartment/lovingly-furnished-apartment-in-trendy-district/6345aac2b87bf398d1347921?dataLayerKey=JY592DFGtvvtB3BVoA-lj',\n",
       " 'https://wunderflats.com/en/furnished-apartment/g/co-living-neat-room-in-hamburg-mitte/L1xy1OBp_m3zX5Q15Fije?dataLayerKey=JY592DFGtvvtB3BVoA-lj',\n",
       " 'https://wunderflats.com/en/furnished-apartment/neat-studio-fully-equipped-eimsbuettel/595aa60e9c5f5405d3b0d59c?dataLayerKey=JY592DFGtvvtB3BVoA-lj',\n",
       " 'https://wunderflats.com/en/furnished-apartment/new-and-perfect-flat-in-wandsbek-hamburg/601951d4835cb000077ae4bc?dataLayerKey=JY592DFGtvvtB3BVoA-lj',\n",
       " 'https://wunderflats.com/en/furnished-apartment/pretty-modern-loft-in-nice-area/63efa26a527ef3a55ba5114a?dataLayerKey=JY592DFGtvvtB3BVoA-lj',\n",
       " 'https://wunderflats.com/en/furnished-apartment/perfect-and-modern-suite-in-eimsbuettel/5c34b30a1850410007fa65cc?dataLayerKey=JY592DFGtvvtB3BVoA-lj',\n",
       " 'https://wunderflats.com/en/furnished-apartment/amazing-and-neat-suite-in-quiet-street/5fd9d7497873af00089259d9?dataLayerKey=JY592DFGtvvtB3BVoA-lj',\n",
       " 'https://wunderflats.com/en/furnished-apartment/lovely-fantastic-studio-apartment-in-hamburg-mitte-alster/5bcef4fd14b8aae9a406c58e?dataLayerKey=JY592DFGtvvtB3BVoA-lj',\n",
       " 'https://wunderflats.com/en/furnished-apartment/cute-apartment-in-hamburg-hoheluft-eppendorf/5ae1cf656170e1ab4b5205af?dataLayerKey=JY592DFGtvvtB3BVoA-lj',\n",
       " 'https://wunderflats.com/en/furnished-apartment/lovely-great-loft-close-to-hamburgs-city-center/5c332afaa6b618000652d44c?dataLayerKey=etzxDMJeDogg9LGFiohgy',\n",
       " 'https://wunderflats.com/en/furnished-apartment/sunny-quiet-apartment-in-bourgeouis-hoheluft-west-hamburg/5d122f3925edc80007736281?dataLayerKey=etzxDMJeDogg9LGFiohgy',\n",
       " 'https://wunderflats.com/en/furnished-apartment/modern-2-room-apartment-in-hamburg-barmbek-sued-with-outdoor-area-and-parking-space/5cdbfc1c053eff00072b75cd?dataLayerKey=etzxDMJeDogg9LGFiohgy',\n",
       " 'https://wunderflats.com/en/furnished-apartment/cozy-apartment-in-eimsbuettel/61894e2ab4ad8700087a8fa2?dataLayerKey=etzxDMJeDogg9LGFiohgy',\n",
       " 'https://wunderflats.com/en/furnished-apartment/furnished-spacious-and-well-kept-2-room-apartment-with-balcony-in-eimsbuettel-fast-interenet/6128d1803ef4920008a094b0?dataLayerKey=etzxDMJeDogg9LGFiohgy',\n",
       " 'https://wunderflats.com/en/furnished-apartment/spacious-and-bright-suite-close-to-park/6079b1c4d50b8700074c7620?dataLayerKey=etzxDMJeDogg9LGFiohgy',\n",
       " 'https://wunderflats.com/en/furnished-apartment/exclusive-living-in-hamburg-hoheluft/63d3d7a87a7330da7d7a69cd?dataLayerKey=etzxDMJeDogg9LGFiohgy',\n",
       " 'https://wunderflats.com/en/furnished-apartment/cozy-and-luxury-apartment-conveniently-located/5952a460712eb2ed289e2d3f?dataLayerKey=etzxDMJeDogg9LGFiohgy',\n",
       " 'https://wunderflats.com/en/furnished-apartment/2-exklusive-zimmer-mit-balkon-in-einer-renovierten-schmiede-im-schanzenviertel-je-zimmer-1565/639f88d25bce5959526ea229?dataLayerKey=etzxDMJeDogg9LGFiohgy',\n",
       " 'https://wunderflats.com/en/furnished-apartment/charming-and-quiet-flat-hamburg-st-pauli/61e097642b9eab00087b1f77?dataLayerKey=etzxDMJeDogg9LGFiohgy',\n",
       " 'https://wunderflats.com/en/furnished-apartment/luxuriously-renovated-apartment-in-a-top-location-winterhude/61b765ec08cadb0007309e35?dataLayerKey=etzxDMJeDogg9LGFiohgy',\n",
       " 'https://wunderflats.com/en/furnished-apartment/wonderful-modern-and-quiet-flat-in-eimsbuettel/63ec4b001ced715f08c98eab?dataLayerKey=etzxDMJeDogg9LGFiohgy',\n",
       " 'https://wunderflats.com/en/furnished-apartment/perfect-and-wonderful-apartment-located-in-hamburg-nord/59105dbfaca41c44a6262d3b?dataLayerKey=etzxDMJeDogg9LGFiohgy',\n",
       " 'https://wunderflats.com/en/furnished-apartment/perfect-and-nice-loft-with-garden-in-great-location-of-eimsbuettel-15min-from-main-station/5c9510d1f101b700068f6506?dataLayerKey=etzxDMJeDogg9LGFiohgy',\n",
       " 'https://wunderflats.com/en/furnished-apartment/g/light-flooded-2-room-apartment-in-eilbek/opOgas4DHP7nlfDLUkHoC?dataLayerKey=etzxDMJeDogg9LGFiohgy',\n",
       " 'https://wunderflats.com/en/furnished-apartment/beautiful-suite-in-hamburg-centre/624b0097b9ce2b2a4ec27850?dataLayerKey=etzxDMJeDogg9LGFiohgy',\n",
       " 'https://wunderflats.com/en/furnished-apartment/modern-exclusive-2-bedroom-penthouse-in-a-great-location/5c5ea497cf9e29000882c8af?dataLayerKey=etzxDMJeDogg9LGFiohgy',\n",
       " 'https://wunderflats.com/en/furnished-apartment/amazing-and-cozy-loft-niendorf/5e29ada602af12000649266e?dataLayerKey=etzxDMJeDogg9LGFiohgy',\n",
       " 'https://wunderflats.com/en/furnished-apartment/furnished-living-with-sun-terrace-charming-25-room-penthouse-apartment/607fff6ea368530007e86461?dataLayerKey=etzxDMJeDogg9LGFiohgy',\n",
       " 'https://wunderflats.com/en/furnished-apartment/neat-studio-located-in-altona/609e8eb71ec94b0007e88392?dataLayerKey=etzxDMJeDogg9LGFiohgy',\n",
       " 'https://wunderflats.com/en/furnished-apartment/cozy-home-in-calm-area-vintage-style-zen-atmosphere/6399ceeb845b0295e7b1eaad?dataLayerKey=etzxDMJeDogg9LGFiohgy',\n",
       " 'https://wunderflats.com/en/furnished-apartment/top-renovated-loft-like-apartment-with-balcony-and-a-small-view-of-the-alster/5f69f8b54c19000006898e15?dataLayerKey=etzxDMJeDogg9LGFiohgy',\n",
       " 'https://wunderflats.com/en/furnished-apartment/fashionable-and-cozy-flat-in-eilbek-hamburg/63b7c25734519f5a13acbb1d?dataLayerKey=etzxDMJeDogg9LGFiohgy',\n",
       " 'https://wunderflats.com/en/furnished-apartment/awesome-and-spacious-studio-in-hamburg-nord/5eb05ae08e872800079e501b?dataLayerKey=etzxDMJeDogg9LGFiohgy',\n",
       " 'https://wunderflats.com/en/furnished-apartment/beautiful-and-quiet-apartment-im-herzen-von-hamburg-sued/5cfa0f18e7a81700068499e8?dataLayerKey=etzxDMJeDogg9LGFiohgy',\n",
       " 'https://wunderflats.com/en/furnished-apartment/quiet-home-in-excellent-location/5e16fed3f726db00062a42d2?dataLayerKey=etzxDMJeDogg9LGFiohgy',\n",
       " 'https://wunderflats.com/en/furnished-apartment/cosy-and-bright-apartment-in-the-heart-of-hamburg/625cef3de520aa6da42aa2cf?dataLayerKey=etzxDMJeDogg9LGFiohgy',\n",
       " 'https://wunderflats.com/en/furnished-apartment/light-flooded-2-room-apartment-with-roof-terrace-near-alster/6150ace56b447d00086a5df0?dataLayerKey=etzxDMJeDogg9LGFiohgy',\n",
       " 'https://wunderflats.com/en/furnished-apartment/bright-and-spacious-loft-with-nice-neighbours-in-barmbek/599d81ac8abe7c251f4ce77b?dataLayerKey=etzxDMJeDogg9LGFiohgy',\n",
       " 'https://wunderflats.com/en/furnished-apartment/modern-loft-alike-and-centrally-located-15-rooms-top-floor-flat-in-altona/599b27b4622f73fb048c41d4?dataLayerKey=etzxDMJeDogg9LGFiohgy',\n",
       " 'https://wunderflats.com/en/furnished-apartment/cosy-and-newly-furnished-apartment-in-eimsbuettel/6304d333980d62737edffed7?dataLayerKey=LzfLJLBo438C8YR7E33IN',\n",
       " 'https://wunderflats.com/en/furnished-apartment/great-suite-in-hamburg-nord/601aa60cd819590006f81508?dataLayerKey=LzfLJLBo438C8YR7E33IN',\n",
       " 'https://wunderflats.com/en/furnished-apartment/charming-central-apartment-with-cozy-balcony-in-close-alster-proximity/5eb1c507d4e8910006cea2f6?dataLayerKey=LzfLJLBo438C8YR7E33IN',\n",
       " 'https://wunderflats.com/en/furnished-apartment/2-rooms-kitchen-full-bath-balcony-in-hamburg-altona/5fe0d018e5186d0007343ab2?dataLayerKey=LzfLJLBo438C8YR7E33IN',\n",
       " 'https://wunderflats.com/en/furnished-apartment/modern-1-room-penthouse-incl-120-m-roof-terrace-with-a-beautiful-view-over-hamburg/6303c3bf20db71e3b693f4b7?dataLayerKey=LzfLJLBo438C8YR7E33IN',\n",
       " 'https://wunderflats.com/en/furnished-apartment/bright-and-cozy-flat-located-in-hamburg-mitte/5fe3483351bb0f000673a049?dataLayerKey=LzfLJLBo438C8YR7E33IN',\n",
       " 'https://wunderflats.com/en/furnished-apartment/quiet-apartment-with-terrace-in-hamburg-eppendorf-near-uke/5ecb8ff9902a7e00060833ff?dataLayerKey=LzfLJLBo438C8YR7E33IN',\n",
       " 'https://wunderflats.com/en/furnished-apartment/newly-built-flat-in-the-middle-of-the-trendy-st-pauli-schanze-district/62288cc5c33c672c23220b48?dataLayerKey=LzfLJLBo438C8YR7E33IN',\n",
       " 'https://wunderflats.com/en/furnished-apartment/comfortable-stylish-and-calm-a-dream-home-in-the-middle-of-winterhude/619a3e8aaf695e00075682e9?dataLayerKey=LzfLJLBo438C8YR7E33IN',\n",
       " 'https://wunderflats.com/en/furnished-apartment/bright-and-individual-styled-apartment-in-the-heart-of-eimsbuettel/61f813d28069970008553529?dataLayerKey=LzfLJLBo438C8YR7E33IN',\n",
       " 'https://wunderflats.com/en/furnished-apartment/amazing-cozy-and-furnished-flat-very-centrally-located-in-hoheluft-with-full-hd-tv-50-mbit-dsl/58f9cc7109d89b38af8e53d8?dataLayerKey=LzfLJLBo438C8YR7E33IN',\n",
       " 'https://wunderflats.com/en/furnished-apartment/bright-and-comfortable-top-floor-apartment-with-canalalster-access-in-popular-neighborhood/600ed605b2072600063aaa33?dataLayerKey=LzfLJLBo438C8YR7E33IN',\n",
       " 'https://wunderflats.com/en/furnished-apartment/completely-furnished-3-room-apartment-near-s-bahn-and-city-park/6054ad37910f8d000842edfd?dataLayerKey=LzfLJLBo438C8YR7E33IN',\n",
       " 'https://wunderflats.com/en/furnished-apartment/lovely-apartment-in-rotherbaum-hamburg/5cdbec7ae9188c000814c363?dataLayerKey=LzfLJLBo438C8YR7E33IN',\n",
       " 'https://wunderflats.com/en/furnished-apartment/large-bright-apartment-for-max-4-persons-in-hamburg-eimsbuettel/62333af415bdba4405f13266?dataLayerKey=LzfLJLBo438C8YR7E33IN',\n",
       " 'https://wunderflats.com/en/furnished-apartment/light-flooded-modern-and-lovely-studio-with-south-balcony/5df34086920a3f00063f08f2?dataLayerKey=LzfLJLBo438C8YR7E33IN',\n",
       " 'https://wunderflats.com/en/furnished-apartment/fully-refurbished-2-room-appartment-with-two-balconies-in-eppendorf-hamburg/5db2d4dca57f49000828e2ac?dataLayerKey=LzfLJLBo438C8YR7E33IN',\n",
       " 'https://wunderflats.com/en/furnished-apartment/fantastic-charming-studio-in-eimsbuettel/5c728909f4bd3d00064bc623?dataLayerKey=LzfLJLBo438C8YR7E33IN',\n",
       " 'https://wunderflats.com/en/furnished-apartment/charming-cozy-loft-in-hamburg-nord/5e85e1e0c757c80006da3374?dataLayerKey=LzfLJLBo438C8YR7E33IN',\n",
       " 'https://wunderflats.com/en/furnished-apartment/living-on-130sqm-in-eppendorf/601166d5dd64070006dc1096?dataLayerKey=LzfLJLBo438C8YR7E33IN',\n",
       " 'https://wunderflats.com/en/furnished-apartment/lovely-furnished-apartment-with-balcony-in-winterhude/5cee31515b3ea30006dbcb61?dataLayerKey=LzfLJLBo438C8YR7E33IN',\n",
       " 'https://wunderflats.com/en/furnished-apartment/fashionable-apartment-in-eimsbuettel/634d6a74717850b4a18bd95e?dataLayerKey=LzfLJLBo438C8YR7E33IN',\n",
       " 'https://wunderflats.com/en/furnished-apartment/bright-25-bedroom-in-the-middle-of-st-pauli-furnished/5a89d741ae702919e1821060?dataLayerKey=LzfLJLBo438C8YR7E33IN',\n",
       " 'https://wunderflats.com/en/furnished-apartment/fashionable-and-charming-apartment-in-vibrant-neighbourhood/5948334c394f64185b9e8c98?dataLayerKey=LzfLJLBo438C8YR7E33IN',\n",
       " 'https://wunderflats.com/en/furnished-apartment/fantastic-cozy-loft-in-eimsbuettel/61cac7e7b382d60007edc25f?dataLayerKey=LzfLJLBo438C8YR7E33IN',\n",
       " 'https://wunderflats.com/en/furnished-apartment/quiet-suite-with-nice-neighbours-hamburg/5dc93b7068094b0008b01914?dataLayerKey=LzfLJLBo438C8YR7E33IN',\n",
       " 'https://wunderflats.com/en/furnished-apartment/beautiful-pretty-flat-in-hamburg-nord-hamburg/5e0f66cc3f59200007096ee5?dataLayerKey=LzfLJLBo438C8YR7E33IN',\n",
       " 'https://wunderflats.com/en/furnished-apartment/lovely-and-luxurious-apartment-in-winterhude/5885d7eef9464a6a0a7d1bbb?dataLayerKey=LzfLJLBo438C8YR7E33IN',\n",
       " 'https://wunderflats.com/en/furnished-apartment/nice-flat-in-the-heart-of-town-hamburg/606c84f2d9afc10007acb5a7?dataLayerKey=LzfLJLBo438C8YR7E33IN',\n",
       " 'https://wunderflats.com/en/furnished-apartment/modern-wonderful-apartment-near-the-alster-in-harvestehude-rotherbaum-hamburg/5cb073d6c3e97a0006c5ede0?dataLayerKey=LzfLJLBo438C8YR7E33IN',\n",
       " 'https://wunderflats.com/en/furnished-apartment/bright-and-beautiful-flat-in-sternschanze/5cd057c048eb760007235ab3?dataLayerKey=YVoB02_5hGHXbaxn0IWBR',\n",
       " 'https://wunderflats.com/en/furnished-apartment/charming-bright-appartement-in-the-center-of-hamburg/60c78edbc406740008e08d95?dataLayerKey=YVoB02_5hGHXbaxn0IWBR',\n",
       " 'https://wunderflats.com/en/furnished-apartment/elegant-apartment-with-a-ship-canal-view/62c2a4a393f64ebe6822f20a?dataLayerKey=YVoB02_5hGHXbaxn0IWBR',\n",
       " 'https://wunderflats.com/en/furnished-apartment/quiet-and-pretty-apartment-located-in-hamburg-nord-hamburg/63e3fb2894f708655eec6bcc?dataLayerKey=YVoB02_5hGHXbaxn0IWBR',\n",
       " 'https://wunderflats.com/en/furnished-apartment/2-room-new-apartment-with-stylish-furnishings-in-winterhude-near-muehlenkamp-and-alster/62e66e9fb2dac66d43916a12?dataLayerKey=YVoB02_5hGHXbaxn0IWBR',\n",
       " 'https://wunderflats.com/en/furnished-apartment/fantastic-loft-in-hamburg-mitte-hamburg/624d8cec89a863f54154b995?dataLayerKey=YVoB02_5hGHXbaxn0IWBR',\n",
       " 'https://wunderflats.com/en/furnished-apartment/new-central-city-apartment-with-terrace-and-garden-winterhude-hamburg/6241ba20c11eea115f3b4177?dataLayerKey=YVoB02_5hGHXbaxn0IWBR',\n",
       " 'https://wunderflats.com/en/furnished-apartment/amazing-and-awesome-suite-with-balcony-in-eimsbuettel-hamburg/5d7fac67f40ea20006ea0c67?dataLayerKey=YVoB02_5hGHXbaxn0IWBR',\n",
       " 'https://wunderflats.com/en/furnished-apartment/business-apartment-furnished-2-room-apt-in-a-great-location/5d2e2505ce4ff80008d21616?dataLayerKey=YVoB02_5hGHXbaxn0IWBR',\n",
       " 'https://wunderflats.com/en/furnished-apartment/neat-apartment-in-hamburg-mitte-hamburg/5aeadf1efc4c05dd4ea8adb2?dataLayerKey=YVoB02_5hGHXbaxn0IWBR',\n",
       " 'https://wunderflats.com/en/furnished-apartment/exclusive-apartment-pianosuites-uhlenhorst-close-to-alster-2-balconies-parking/5f8305eb8698bd000657cc92?dataLayerKey=YVoB02_5hGHXbaxn0IWBR',\n",
       " 'https://wunderflats.com/en/furnished-apartment/cosy-and-quiet-appartement-in-hamburg-winterhude/625bb2aff33e846a4996bc1b?dataLayerKey=YVoB02_5hGHXbaxn0IWBR',\n",
       " 'https://wunderflats.com/en/furnished-apartment/lavishly-furnished-apartment-top-alster-location/5a3cc81e24ae0871eeb7dc12?dataLayerKey=YVoB02_5hGHXbaxn0IWBR',\n",
       " 'https://wunderflats.com/en/furnished-apartment/nice-apartment-with-a-teracce-and-a-parking-space-close-to-beiersdorf-ndr-and-uke/5a2ebd27ad4555365af1b350?dataLayerKey=YVoB02_5hGHXbaxn0IWBR',\n",
       " 'https://wunderflats.com/en/furnished-apartment/fantastic-loft-apartment-next-to-fischmarkt-and-elbe-with-large-balcony-and-private-underground-parking-space/63e54b5964111038687f038a?dataLayerKey=YVoB02_5hGHXbaxn0IWBR',\n",
       " 'https://wunderflats.com/en/furnished-apartment/cozy-sunny-loft-in-harvestehude-close-to-the-alster/5e18f66e64bef400062e9000?dataLayerKey=YVoB02_5hGHXbaxn0IWBR',\n",
       " 'https://wunderflats.com/en/furnished-apartment/quiet-loft-in-hamburg-nord/624c9a44e0e3f2d710653a28?dataLayerKey=YVoB02_5hGHXbaxn0IWBR',\n",
       " 'https://wunderflats.com/en/furnished-apartment/best-flat-in-hamburg-near-alster-barmbek-south/5820b827baffec71fe5253a3?dataLayerKey=YVoB02_5hGHXbaxn0IWBR',\n",
       " 'https://wunderflats.com/en/furnished-apartment/beautiful-apartment-next-to-alster/63d98885c379009d13835630?dataLayerKey=YVoB02_5hGHXbaxn0IWBR',\n",
       " 'https://wunderflats.com/en/furnished-apartment/first-occupation-spacious-apartment-in-attractive-neighbourhood/6385142bce8f0ee645b7e802?dataLayerKey=YVoB02_5hGHXbaxn0IWBR',\n",
       " 'https://wunderflats.com/en/furnished-apartment/beautiful-and-charming-flat/5e845235893075000607a3fe?dataLayerKey=YVoB02_5hGHXbaxn0IWBR',\n",
       " 'https://wunderflats.com/en/furnished-apartment/charming-and-bright-apartment-in-eimsbuettel/637cd403d204448da23bd222?dataLayerKey=YVoB02_5hGHXbaxn0IWBR',\n",
       " 'https://wunderflats.com/en/furnished-apartment/beautiful-newly-renovated-2-room-apartment-in-a-quiet-location/6012e819d4f544000762fb0e?dataLayerKey=YVoB02_5hGHXbaxn0IWBR',\n",
       " 'https://wunderflats.com/en/furnished-apartment/fresh-renovated-art-nouvean-appartment-in-hamburg-eppendorf-close-university-clinic-eppendorf/5d852d54f6383200071b5230?dataLayerKey=YVoB02_5hGHXbaxn0IWBR',\n",
       " 'https://wunderflats.com/en/furnished-apartment/furnished-2-room-apartment-for-rent-in-eimsbuettel/60804719a5289c0007660d82?dataLayerKey=YVoB02_5hGHXbaxn0IWBR',\n",
       " 'https://wunderflats.com/en/furnished-apartment/bright-and-nice-2-room-apartment-in-hamburg-barmbek-sud/62d7124381605694e10a7953?dataLayerKey=YVoB02_5hGHXbaxn0IWBR',\n",
       " 'https://wunderflats.com/en/furnished-apartment/quiet-and-cozy-apartment-in-the-heart-of-hamburg-eppendorf/6267b6675577938c0fbbefae?dataLayerKey=YVoB02_5hGHXbaxn0IWBR',\n",
       " 'https://wunderflats.com/en/furnished-apartment/charming-apartment-in-rotherbaum-close-to-the-inner-city-of-hamburg-and-the-alster-lake/624e966f46f167d714c91d67?dataLayerKey=YVoB02_5hGHXbaxn0IWBR',\n",
       " 'https://wunderflats.com/en/furnished-apartment/lovely-and-nice-home-in-hamburg-mitte/62d3f12027aab05a27b8ca52?dataLayerKey=YVoB02_5hGHXbaxn0IWBR',\n",
       " 'https://wunderflats.com/en/furnished-apartment/beautiful-and-awesome-home-in-hamburg-nord-hamburg/6094e6a73e15aa000681b8d1?dataLayerKey=YVoB02_5hGHXbaxn0IWBR',\n",
       " 'https://wunderflats.com/en/furnished-apartment/wonderful-and-gorgeous-flat-hamburg-nord/5f8f4c1e825f2700062bc84e?dataLayerKey=H2naErnDSVUWIRXUcEs-h',\n",
       " 'https://wunderflats.com/en/furnished-apartment/moeblierte-3-zi-wohnung-eg-70qm-inkl-garage-wallbox-terrasse-in-hamburg-mitte-zu-vermieten/63d57cab540e4f5b6fdf2a95?dataLayerKey=H2naErnDSVUWIRXUcEs-h',\n",
       " 'https://wunderflats.com/en/furnished-apartment/bright-suite-with-great-location-in-hamburg/5ffd7d371b73500007f35c46?dataLayerKey=H2naErnDSVUWIRXUcEs-h',\n",
       " 'https://wunderflats.com/en/furnished-apartment/perfect-great-loft-located-in-hamburg-nord/62c47eef91a37c54a91a424d?dataLayerKey=H2naErnDSVUWIRXUcEs-h',\n",
       " 'https://wunderflats.com/en/furnished-apartment/cozy-and-modern-2-room-apartment-in-hamburg-winterhude/5f9e9bdee4cf370006588f02?dataLayerKey=H2naErnDSVUWIRXUcEs-h',\n",
       " 'https://wunderflats.com/en/furnished-apartment/appartment-amidst-greenery-big-terrace-and-close-to-center/6028185e1e51140007df7977?dataLayerKey=H2naErnDSVUWIRXUcEs-h',\n",
       " 'https://wunderflats.com/en/furnished-apartment/charming-fully-furnished-apartment-in-city-center-with-elphi-view/5f58e23004d07e0006784286?dataLayerKey=H2naErnDSVUWIRXUcEs-h',\n",
       " 'https://wunderflats.com/en/furnished-apartment/g/nice-apartment-centrally-located-in-hamburg-ideal-for-families/jSB2KwZEQU?dataLayerKey=H2naErnDSVUWIRXUcEs-h',\n",
       " 'https://wunderflats.com/en/furnished-apartment/stylish-granny-flat-in-black-and-white-in-hamburg-mitte/5f9c2211ed98cf00061327a9?dataLayerKey=H2naErnDSVUWIRXUcEs-h',\n",
       " 'https://wunderflats.com/en/furnished-apartment/stylish-apartment-close-to-the-alster-with-a-view-over-the-roofs-of-hamburg-to-the-elbphilharmonie/5e58d5cd939cfd00063893d0?dataLayerKey=H2naErnDSVUWIRXUcEs-h',\n",
       " 'https://wunderflats.com/en/furnished-apartment/exclusive-penthouse-with-huge-rooftop-terrace-in-hamburg-nord/5da36fb13bcde20006fd2e30?dataLayerKey=H2naErnDSVUWIRXUcEs-h',\n",
       " 'https://wunderflats.com/en/furnished-apartment/high-quality-renovated-and-chic-furnished-apartment-in-the-popular-hamburg-eppendorf/5d5fd8ae17f48c000af8b76b?dataLayerKey=H2naErnDSVUWIRXUcEs-h',\n",
       " 'https://wunderflats.com/en/furnished-apartment/to-rent-a-quiet-high-quality-furnished-43m2-two-room-apartment-lokstedtno-internet/6132035c0a044a0007ecdc46?dataLayerKey=H2naErnDSVUWIRXUcEs-h',\n",
       " 'https://wunderflats.com/en/furnished-apartment/cute-amazing-suite-in-hamburg-mitte-hamburg/5d67850e655ce2000a6e8719?dataLayerKey=H2naErnDSVUWIRXUcEs-h',\n",
       " 'https://wunderflats.com/en/furnished-apartment/downtown-close-to-elbe-river-and-st-michel/5d8891a4fccc8f0006119848?dataLayerKey=H2naErnDSVUWIRXUcEs-h',\n",
       " 'https://wunderflats.com/en/furnished-apartment/light-flooded-perfectly-located-apartment-next-to-the-alster-lake-with-balcony/5e0148c389bbe70006399fb5?dataLayerKey=H2naErnDSVUWIRXUcEs-h',\n",
       " 'https://wunderflats.com/en/furnished-apartment/hell-ruhig-mit-sonnenbalkon-wohnen-auf-zeit-im-trendviertel/630749e57ccb5a98af56bc75?dataLayerKey=H2naErnDSVUWIRXUcEs-h',\n",
       " 'https://wunderflats.com/en/furnished-apartment/fashionable-and-fantastic-apartment-eimsbuettel/5f59d27fc9e34d0006d28ba4?dataLayerKey=H2naErnDSVUWIRXUcEs-h',\n",
       " 'https://wunderflats.com/en/furnished-apartment/furnished-living-on-the-canal-with-direct-access-in-hamburg-uhlenhorst/5d5f9b0472c1190009470930?dataLayerKey=H2naErnDSVUWIRXUcEs-h',\n",
       " 'https://wunderflats.com/en/furnished-apartment/beautiful-renovated-flat-in-hamburg-winterhude/607585ee65cc2800075de72b?dataLayerKey=H2naErnDSVUWIRXUcEs-h',\n",
       " 'https://wunderflats.com/en/furnished-apartment/awesome-and-cute-suite-in-hamburg-nord-hamburg/631da712bba9f03184e6e54c?dataLayerKey=H2naErnDSVUWIRXUcEs-h',\n",
       " 'https://wunderflats.com/en/furnished-apartment/design-apartment-directly-on-the-alster-city-center-st-georg/601add2341a76400074406f7?dataLayerKey=H2naErnDSVUWIRXUcEs-h',\n",
       " 'https://wunderflats.com/en/furnished-apartment/lovely-and-pretty-suite-in-loft-style-with-terrace-in-popular-and-vibrant-neighbourhood-of-mitte/5d088e392e916f00069226f3?dataLayerKey=H2naErnDSVUWIRXUcEs-h',\n",
       " 'https://wunderflats.com/en/furnished-apartment/g/classic-apartment-in-hamburg-nord/HkQlDdOAb?dataLayerKey=H2naErnDSVUWIRXUcEs-h',\n",
       " 'https://wunderflats.com/en/furnished-apartment/pretty-home-with-nice-city-view-hamburg/608fceccdf60b500071a6d1c?dataLayerKey=H2naErnDSVUWIRXUcEs-h',\n",
       " 'https://wunderflats.com/en/furnished-apartment/city-apartment-near-the-alster/5bc85a66d37f5b16e456aa2d?dataLayerKey=H2naErnDSVUWIRXUcEs-h',\n",
       " 'https://wunderflats.com/en/furnished-apartment/g/luxurious-and-exclusive-apartment-in-the-center-of-winterhude/VKinjKnqjnd7q0YqD50M8?dataLayerKey=H2naErnDSVUWIRXUcEs-h',\n",
       " 'https://wunderflats.com/en/furnished-apartment/great-and-charming-flat-in-hamburg-mitte/5f524bb6d2cb25000601c97b?dataLayerKey=H2naErnDSVUWIRXUcEs-h',\n",
       " 'https://wunderflats.com/en/furnished-apartment/3-room-apartment-with-a-big-private-garden-in-a-friendly-neighborhood-in-lokstedt-with-fast-access-to-city-center/5f29d88b75a4880006fd1c3c?dataLayerKey=H2naErnDSVUWIRXUcEs-h',\n",
       " 'https://wunderflats.com/en/furnished-apartment/beautiful-%22altbau%22-appartement-in-hamburg-eppendorf/63cb11211065700bea8b750a?dataLayerKey=H2naErnDSVUWIRXUcEs-h',\n",
       " 'https://wunderflats.com/en/furnished-apartment/nice-and-pretty-apartment-in-hamburg-mitte/6305f00d295cef603e0072ea?dataLayerKey=6ujLzDw9SeGY5zx9vmJsM',\n",
       " 'https://wunderflats.com/en/furnished-apartment/charming-loft-in-hamburg-north-hamburg/5fca62e6d41b0e0006c3e7ef?dataLayerKey=6ujLzDw9SeGY5zx9vmJsM',\n",
       " 'https://wunderflats.com/en/furnished-apartment/awesome-studio-in-hamburg/62d7f2e1aadd3b28eb42c417?dataLayerKey=6ujLzDw9SeGY5zx9vmJsM',\n",
       " 'https://wunderflats.com/en/furnished-apartment/awesome-and-perfect-studio-located-in-eimsbuettel/63db9727a9311534f0d6669e?dataLayerKey=6ujLzDw9SeGY5zx9vmJsM',\n",
       " 'https://wunderflats.com/en/furnished-apartment/unique-apartment-close-to-alster-city-center-and-muehlenkamp/62cd475161a1ed427de7c336?dataLayerKey=6ujLzDw9SeGY5zx9vmJsM',\n",
       " 'https://wunderflats.com/en/furnished-apartment/fantastic-and-pretty-apartment-in-trendy-area-osterstrasse-eimsbuettel/632b024e15e58de4fdcb430a?dataLayerKey=6ujLzDw9SeGY5zx9vmJsM',\n",
       " 'https://wunderflats.com/en/furnished-apartment/beautiful-2-room-apartment-in-the-heart-of-eimsbuettel/6204d943dc8acca93e78bf63?dataLayerKey=6ujLzDw9SeGY5zx9vmJsM',\n",
       " 'https://wunderflats.com/en/furnished-apartment/lovely-suite-in-hamburg-nord-hamburg/5ad35101ff56980d4959b425?dataLayerKey=6ujLzDw9SeGY5zx9vmJsM',\n",
       " 'https://wunderflats.com/en/furnished-apartment/with-alster-view-and-concierge-service-exclusively-furnished-2-room-flat-in-prime-location/628b6d01e495c1335c8f111a?dataLayerKey=6ujLzDw9SeGY5zx9vmJsM',\n",
       " 'https://wunderflats.com/en/furnished-apartment/shared-flat-suitable-nice-3-room-apartment-with-balcony-and-kitchen-winterhude/5e973e1bafbe430006646d49?dataLayerKey=6ujLzDw9SeGY5zx9vmJsM',\n",
       " 'https://wunderflats.com/en/furnished-apartment/beautiful-modern-apartment-conveniently-located-in-the-heart-of-hamburg-close-to-the-alster/593c523dfdd3022956ce405c?dataLayerKey=6ujLzDw9SeGY5zx9vmJsM',\n",
       " 'https://wunderflats.com/en/furnished-apartment/wonderful-furnished-3-room-apartment-with-fantastic-roof-terrace-in-winterhude/61e5511050eae80008abc7aa?dataLayerKey=6ujLzDw9SeGY5zx9vmJsM',\n",
       " 'https://wunderflats.com/en/furnished-apartment/pretty-and-modern-living-with-balcony-in-hamburg-mitte/5b1665ea7ba8c65a1c40430d?dataLayerKey=6ujLzDw9SeGY5zx9vmJsM',\n",
       " 'https://wunderflats.com/en/furnished-apartment/new-lovely-home-in-hamburg-nord/624ecc180b65dcba0ee6c441?dataLayerKey=6ujLzDw9SeGY5zx9vmJsM',\n",
       " 'https://wunderflats.com/en/furnished-apartment/best-location-at-lake-alster/63d7e6509aaeae86226cf29d?dataLayerKey=6ujLzDw9SeGY5zx9vmJsM',\n",
       " 'https://wunderflats.com/en/furnished-apartment/cozy-quiet-flat-located-in-hamburg-eppendorf-hoheluft-ost/5c261cc39537120005012dbd?dataLayerKey=6ujLzDw9SeGY5zx9vmJsM',\n",
       " 'https://wunderflats.com/en/furnished-apartment/central-and-sunny-duplex-apartment-in-trendy-st-pauli-and-very-close-to-the-city-center/5c5036688d6ac00008b19413?dataLayerKey=6ujLzDw9SeGY5zx9vmJsM',\n",
       " 'https://wunderflats.com/en/furnished-apartment/central-and-luxury-apartment-in-rothenbaum-with-elevator-and-balcony/58988e9d2d648fa314e36969?dataLayerKey=6ujLzDw9SeGY5zx9vmJsM',\n",
       " 'https://wunderflats.com/en/furnished-apartment/quiet-great-flat-with-garden-in-harvestehude/60f2a7633c5de00007034db3?dataLayerKey=6ujLzDw9SeGY5zx9vmJsM',\n",
       " 'https://wunderflats.com/en/furnished-apartment/amazing-and-great-apartment-in-hamburg-nord/638b11031e209ebe4916561d?dataLayerKey=6ujLzDw9SeGY5zx9vmJsM',\n",
       " 'https://wunderflats.com/en/furnished-apartment/top-floor-appartment-in-the-heart-of-hamburg-eppendorf-with-grand-piano-roof-terrace-balcony-and-elevator/5df4be63bdf4350006b90125?dataLayerKey=6ujLzDw9SeGY5zx9vmJsM',\n",
       " 'https://wunderflats.com/en/furnished-apartment/g/cozy-and-beautiful-flats-in-hamburg-winterhude/2FAacnGY30?dataLayerKey=6ujLzDw9SeGY5zx9vmJsM',\n",
       " 'https://wunderflats.com/en/furnished-apartment/top-renovated-classic-apartment-in-winterhude/5a3940def75cec7386bf2ce2?dataLayerKey=6ujLzDw9SeGY5zx9vmJsM',\n",
       " 'https://wunderflats.com/en/furnished-apartment/great-cute-studio-in-altona-hamburg/5c6d8909b526b80008bb654b?dataLayerKey=6ujLzDw9SeGY5zx9vmJsM',\n",
       " 'https://wunderflats.com/en/furnished-apartment/central-2-room-apartment-best-location/62a82b30d4ccaa1345768922?dataLayerKey=6ujLzDw9SeGY5zx9vmJsM',\n",
       " 'https://wunderflats.com/en/furnished-apartment/neat-and-cozy-suite-close-to-city-center/6127d3627b35640007855695?dataLayerKey=6ujLzDw9SeGY5zx9vmJsM',\n",
       " 'https://wunderflats.com/en/furnished-apartment/fantastic-fashionable-loft-hamburg-nord/5bce12913aa0da2d7a288856?dataLayerKey=6ujLzDw9SeGY5zx9vmJsM',\n",
       " 'https://wunderflats.com/en/furnished-apartment/100-m-apartment-with-2-balconies-in-the-heart-of-harvesterhude/60c7461c5ede2d00075f934c?dataLayerKey=6ujLzDw9SeGY5zx9vmJsM',\n",
       " 'https://wunderflats.com/en/furnished-apartment/g/modern-and-charming-flat-with-good-transport-links/rkQulBfmX?dataLayerKey=6ujLzDw9SeGY5zx9vmJsM',\n",
       " 'https://wunderflats.com/en/furnished-apartment/fantastic-loft-in-hamburg-mitte/5b8bf63e5069951feb19d2d5?dataLayerKey=6ujLzDw9SeGY5zx9vmJsM',\n",
       " 'https://wunderflats.com/en/furnished-apartment/sunny-maisonette-apartment-in-hamburg-eimsbuettel/5f195c91bf777f0007f79be2?dataLayerKey=P5UsAWGWqUeAHuuWWlu1d',\n",
       " 'https://wunderflats.com/en/furnished-apartment/cozy-beautiful-modern-suite-with-balcony-located-in-hamburg-eppendorf-close-to-uke-and-airport/5c66a4de5e7cd90008d33619?dataLayerKey=P5UsAWGWqUeAHuuWWlu1d',\n",
       " 'https://wunderflats.com/en/furnished-apartment/large-apartment-near-city-center-and-alster-lake/5974936eabaec87cfa1c75a2?dataLayerKey=P5UsAWGWqUeAHuuWWlu1d',\n",
       " 'https://wunderflats.com/en/furnished-apartment/g/refurbished-apartment-in-hamburg-centre/igGg4C4YxXJy9XwU3wRjM?dataLayerKey=P5UsAWGWqUeAHuuWWlu1d',\n",
       " 'https://wunderflats.com/en/furnished-apartment/modern-apartment-in-the-popular-hamburg-st-pauli-quarter/63371589a0c1325b4671a39a?dataLayerKey=P5UsAWGWqUeAHuuWWlu1d',\n",
       " 'https://wunderflats.com/en/furnished-apartment/highend-luxury-apartment-with-concierge-club-lounge-and-spa-close-to-the-alster/5d467dab18e5830008c80910?dataLayerKey=P5UsAWGWqUeAHuuWWlu1d',\n",
       " 'https://wunderflats.com/en/furnished-apartment/cosy-and-stylish-3-room-old-building-apartment-in-winterhude/5f80112fd148e70007730988?dataLayerKey=P5UsAWGWqUeAHuuWWlu1d',\n",
       " 'https://wunderflats.com/en/furnished-apartment/charming-bright-fully-furnished-2-room-apartment-with-sunny-balcony-in-one-of-the-most-popular-neighborhoods-of-hamburg/60ee803a9332ae00078b6a5c?dataLayerKey=P5UsAWGWqUeAHuuWWlu1d',\n",
       " 'https://wunderflats.com/en/furnished-apartment/city-apartment-super-alsterlage/623de3307a031fe7686f64b0?dataLayerKey=P5UsAWGWqUeAHuuWWlu1d',\n",
       " 'https://wunderflats.com/en/furnished-apartment/cozy-and-wonderful-flat-located-in-hamburg-nord/5d1620efff9cea0008709c72?dataLayerKey=P5UsAWGWqUeAHuuWWlu1d',\n",
       " 'https://wunderflats.com/en/furnished-apartment/hamburg-centrally-located-bright-new-designer-studio-with-excellent-transport-connections-3-minutes-to-the-aussenalster/5d9b1ee3e224260007426e43?dataLayerKey=P5UsAWGWqUeAHuuWWlu1d',\n",
       " 'https://wunderflats.com/en/furnished-apartment/fantastic-and-charming-apartment-in-hamburg-nord/5d3d6a9f5b5b4d0009461bb4?dataLayerKey=P5UsAWGWqUeAHuuWWlu1d',\n",
       " 'https://wunderflats.com/en/furnished-apartment/high-quality-45-room-apartment-at-the-alster/6320d1cf0afe137a40b5a3f3?dataLayerKey=P5UsAWGWqUeAHuuWWlu1d',\n",
       " 'https://wunderflats.com/en/furnished-apartment/wundervolle-wohnung-im-herzen-von-hamburg/5ea1752fe369ad0006d60bc3?dataLayerKey=P5UsAWGWqUeAHuuWWlu1d',\n",
       " 'https://wunderflats.com/en/furnished-apartment/g/stylish-and-comfortable-apartment-in-the-center-of-hamburg-altona/572xOVrlRX?dataLayerKey=P5UsAWGWqUeAHuuWWlu1d',\n",
       " 'https://wunderflats.com/en/furnished-apartment/cozy-flat-with-20-m-balcony-located-in-the-centre-of-hamburg-lange-reihe-near-the-alster-and-central-station/636a2aa04fee300327195e07?dataLayerKey=P5UsAWGWqUeAHuuWWlu1d',\n",
       " 'https://wunderflats.com/en/furnished-apartment/harbour-river-and-reeperbahnview-stylist-2-roomapartment-garage/5e3b3daf31bcbc0007e42203?dataLayerKey=P5UsAWGWqUeAHuuWWlu1d',\n",
       " 'https://wunderflats.com/en/furnished-apartment/10-12-months-contract-for-comfortable-furnished-apartment-in-hamburg-uhlenhorst/63669208327ab75284605ca1?dataLayerKey=P5UsAWGWqUeAHuuWWlu1d',\n",
       " 'https://wunderflats.com/en/furnished-apartment/neat-loft-in-hamburg-nord/5b44a758bffa5868bd367487?dataLayerKey=P5UsAWGWqUeAHuuWWlu1d',\n",
       " 'https://wunderflats.com/en/furnished-apartment/attractive-loft-in-hamburg-eppendorf-with-garden-and-parking/5ee205461600c6000656113b?dataLayerKey=P5UsAWGWqUeAHuuWWlu1d',\n",
       " 'https://wunderflats.com/en/furnished-apartment/hamburg-fischmarkt-new-100-sqm-flat-with-west-side-balcony/5ffb0c24c0f3ec0007299a99?dataLayerKey=P5UsAWGWqUeAHuuWWlu1d',\n",
       " 'https://wunderflats.com/en/furnished-apartment/cozy-designer-suite-in-nice-central-area/625da578639899e965d063d7?dataLayerKey=P5UsAWGWqUeAHuuWWlu1d',\n",
       " 'https://wunderflats.com/en/furnished-apartment/beautiful-studio-in-lokstedt/607d0ff6c2c5cd00078631a4?dataLayerKey=P5UsAWGWqUeAHuuWWlu1d',\n",
       " 'https://wunderflats.com/en/furnished-apartment/awesome-and-fantastic-suite-in-eimsbuettel/5f804327bdf9880007c00292?dataLayerKey=P5UsAWGWqUeAHuuWWlu1d',\n",
       " 'https://wunderflats.com/en/furnished-apartment/charming-apartment-in-the-heart-of-winterhude/5da990ffd002190006676622?dataLayerKey=P5UsAWGWqUeAHuuWWlu1d',\n",
       " 'https://wunderflats.com/en/furnished-apartment/fully-furnished-luxurious-and-elegant-penthouse-apartment-in-central-hamburg/5e38198f0be2730007c2692d?dataLayerKey=P5UsAWGWqUeAHuuWWlu1d',\n",
       " 'https://wunderflats.com/en/furnished-apartment/fashionable-neat-home-located-in-hamburg-nord/5b44bfc12c5cfed31e13f1c2?dataLayerKey=P5UsAWGWqUeAHuuWWlu1d',\n",
       " 'https://wunderflats.com/en/furnished-apartment/awesome-and-new-apartment-in-hamburg-nord/5b44c9f083e74a96039dcc70?dataLayerKey=P5UsAWGWqUeAHuuWWlu1d',\n",
       " 'https://wunderflats.com/en/furnished-apartment/bright-and-quiet-apartment-in-hamburg-mitte/63d514d310581f745f4cb8a4?dataLayerKey=P5UsAWGWqUeAHuuWWlu1d',\n",
       " 'https://wunderflats.com/en/furnished-apartment/amazing-beautiful-apartment-hamburg-nord/5f1ecc258c6fae00068ae54c?dataLayerKey=P5UsAWGWqUeAHuuWWlu1d',\n",
       " 'https://wunderflats.com/en/furnished-apartment/stylishly-renovated-and-luxuriously-furnished-designer-old-building-apartment-in-st-georg/5d49b0b6d97f230006c04174?dataLayerKey=3JPemynUFCeAHUkcGdb3t',\n",
       " 'https://wunderflats.com/en/furnished-apartment/design-flat-with-parking-space-in-eppendorf/63c554751ebbd63b5468eb64?dataLayerKey=3JPemynUFCeAHUkcGdb3t',\n",
       " 'https://wunderflats.com/en/furnished-apartment/best-location-in-the-inner-city/5d889fafc69415000742f7bf?dataLayerKey=3JPemynUFCeAHUkcGdb3t',\n",
       " 'https://wunderflats.com/en/furnished-apartment/completely-newly-furnished-and-renovated-apartment-in-hamburg-eppendorf-near-uke-including-parking-space/5fa95dc0aa15b70006c6d3d8?dataLayerKey=3JPemynUFCeAHUkcGdb3t',\n",
       " 'https://wunderflats.com/en/furnished-apartment/bright-and-wonderful-in-hamburg-uhlenhorst-350-m-to-aussenalster-90-sqm-1-or-2-bedrooms-balcony-garage/62764e3f1e53ebaa48b810ea?dataLayerKey=3JPemynUFCeAHUkcGdb3t',\n",
       " 'https://wunderflats.com/en/furnished-apartment/g/fantastic-loft-hamburg-nord/rkk0zIfQQ?dataLayerKey=3JPemynUFCeAHUkcGdb3t',\n",
       " 'https://wunderflats.com/en/furnished-apartment/fashionable-flat-in-vibrant-neighbourhood-newly-renovated-at-the-heart-of-hamburg-stgeorg/5d595cf83b003e00068e4ad9?dataLayerKey=3JPemynUFCeAHUkcGdb3t',\n",
       " 'https://wunderflats.com/en/furnished-apartment/modern-flat-in-eimsbuettel-great-location-and-connection-with-balcony/5ce3c8508e2c1b0008ae18d3?dataLayerKey=3JPemynUFCeAHUkcGdb3t',\n",
       " 'https://wunderflats.com/en/furnished-apartment/zentrales-city-apartment-super-alsterlage/602573b32a5cc3000889e8b6?dataLayerKey=3JPemynUFCeAHUkcGdb3t',\n",
       " 'https://wunderflats.com/en/furnished-apartment/g/pretty-modern-loft-conveniently-located/BJXnBQGQX?dataLayerKey=3JPemynUFCeAHUkcGdb3t',\n",
       " 'https://wunderflats.com/en/furnished-apartment/stylish-and-cozy-studio-located-in-hamburg-rotherbaum-2nd-floor/5a561c382333093687007442?dataLayerKey=3JPemynUFCeAHUkcGdb3t',\n",
       " 'https://wunderflats.com/en/furnished-apartment/co-living-modern-room-in-a-prime-location-in-beautiful-hamburg-city-cleaning-included/620baaa8c698965586df8799?dataLayerKey=3JPemynUFCeAHUkcGdb3t',\n",
       " 'https://wunderflats.com/en/furnished-apartment/fashionable-loft-in-hamburg-nord/5b44b441bffa5868bd36791f?dataLayerKey=3JPemynUFCeAHUkcGdb3t',\n",
       " 'https://wunderflats.com/en/furnished-apartment/bright-and-fashionable-studio-close-to-city-center-hamburg/5d909ef53d867100082a032f?dataLayerKey=3JPemynUFCeAHUkcGdb3t',\n",
       " 'https://wunderflats.com/en/furnished-apartment/bright-5-room-apartment-in-harvestehude/634c160c1bbe5040e920d1a2?dataLayerKey=3JPemynUFCeAHUkcGdb3t',\n",
       " 'https://wunderflats.com/en/furnished-apartment/modern-and-new-suite-hamburg-mitte/5c0f7c66b89fe20005519f7c?dataLayerKey=3JPemynUFCeAHUkcGdb3t',\n",
       " 'https://wunderflats.com/en/furnished-apartment/g/bright-fantastic-loft-in-hamburg-nord/rkKhbIGmQ?dataLayerKey=3JPemynUFCeAHUkcGdb3t',\n",
       " 'https://wunderflats.com/en/furnished-apartment/chic-and-homely-flat-in-hamburg-nord/5b44d49503b0b0d35986f266?dataLayerKey=3JPemynUFCeAHUkcGdb3t',\n",
       " 'https://wunderflats.com/en/furnished-apartment/charming-and-new-studio-hamburg/5f988ecf6e860d00069f57fb?dataLayerKey=3JPemynUFCeAHUkcGdb3t',\n",
       " 'https://wunderflats.com/en/furnished-apartment/beautiful-flat-in-hamburg-nord/5b44b7d8bffa5868bd367a12?dataLayerKey=3JPemynUFCeAHUkcGdb3t',\n",
       " 'https://wunderflats.com/en/furnished-apartment/beautiful-nice-apartment-located-in-hamburg-nord-hamburg/5b44cdbd989c914bd5f9a277?dataLayerKey=3JPemynUFCeAHUkcGdb3t',\n",
       " 'https://wunderflats.com/en/furnished-apartment/pretty-new-loft-in-hamburg-nord/63087379468be0a16f869cfb?dataLayerKey=3JPemynUFCeAHUkcGdb3t',\n",
       " 'https://wunderflats.com/en/furnished-apartment/cute-home-in-popular-area/5b44ae7dbffa5868bd367862?dataLayerKey=3JPemynUFCeAHUkcGdb3t',\n",
       " 'https://wunderflats.com/en/furnished-apartment/g/pretty-studio-in-hamburg/SyJBNQEPG?dataLayerKey=3JPemynUFCeAHUkcGdb3t',\n",
       " 'https://wunderflats.com/en/furnished-apartment/bright-two-room-apartment-in-beautiful-location-of-hohenfelde-close-to-alster/5c86512018e14a000750dd1e?dataLayerKey=3JPemynUFCeAHUkcGdb3t',\n",
       " 'https://wunderflats.com/en/furnished-apartment/fully-furnished-luxury-apartment-with-concierge-and-spa-close-to-the-alster/5f27e712dc38ec0006bfaf19?dataLayerKey=3JPemynUFCeAHUkcGdb3t',\n",
       " 'https://wunderflats.com/en/furnished-apartment/newly-renovated-flat-with-most-epic-city-and-elbe-view-hamburg/62c550aeafad33b60219fbb6?dataLayerKey=3JPemynUFCeAHUkcGdb3t',\n",
       " 'https://wunderflats.com/en/furnished-apartment/g/wonderful-and-modern-flat-in-hamburg-nord/rkC_-mfmQ?dataLayerKey=3JPemynUFCeAHUkcGdb3t',\n",
       " 'https://wunderflats.com/en/furnished-apartment/lovely-studio-in-hamburg-nord/5f030f541d2b750006bb6b00?dataLayerKey=3JPemynUFCeAHUkcGdb3t',\n",
       " 'https://wunderflats.com/en/furnished-apartment/g/urban-st-georg-hamburg-city-serviced-apartment-in-our-green-house/ecTxqmPmkG1_fisiV2mSl?dataLayerKey=3JPemynUFCeAHUkcGdb3t',\n",
       " 'https://wunderflats.com/en/furnished-apartment/lovely-studio-in-vibrant-neighbourhood/5d9e4f1b1c39f80006ea2b4c?dataLayerKey=8dxF_4fQNYLmN5GJXhc3J',\n",
       " 'https://wunderflats.com/en/furnished-apartment/amazing-apartment-located-in-hamburg-nord-hamburg/5b44ab402c5cfed31e13ef76?dataLayerKey=8dxF_4fQNYLmN5GJXhc3J',\n",
       " 'https://wunderflats.com/en/furnished-apartment/wonderful-studio-in-eimsbuettel/61e01b7e4f2cd1000871a50c?dataLayerKey=8dxF_4fQNYLmN5GJXhc3J',\n",
       " 'https://wunderflats.com/en/furnished-apartment/wonderful-studio-in-harvestehude-between-klosterstern-and-alster-lake/5c1ce9a8cffbcd000508fec8?dataLayerKey=8dxF_4fQNYLmN5GJXhc3J',\n",
       " 'https://wunderflats.com/en/furnished-apartment/great-and-quiet-apartment-in-hamburg-nord/5ffe140b155ace00067b0dbb?dataLayerKey=8dxF_4fQNYLmN5GJXhc3J',\n",
       " 'https://wunderflats.com/en/furnished-apartment/bright-wonderful-flat-eimsbuettel/5e49c596ce9d900007b93e97?dataLayerKey=8dxF_4fQNYLmN5GJXhc3J',\n",
       " 'https://wunderflats.com/en/furnished-apartment/bright-fantastic-studio-in-hamburg-mitte/5bec2bba893b2b0005d29d7c?dataLayerKey=8dxF_4fQNYLmN5GJXhc3J',\n",
       " 'https://wunderflats.com/en/furnished-apartment/pearl-of-hamburg-beautiful-and-bright-studio-conveniently-located/5d5c07d59b6b040006f8920f?dataLayerKey=8dxF_4fQNYLmN5GJXhc3J',\n",
       " 'https://wunderflats.com/en/furnished-apartment/charming-and-cozy-apartment-in-hamburg-nord/5b44bbae2c5cfed31e13f184?dataLayerKey=8dxF_4fQNYLmN5GJXhc3J',\n",
       " 'https://wunderflats.com/en/furnished-apartment/cosy-fashionable-studio-in-top-location/5b44b3742c5cfed31e13f041?dataLayerKey=8dxF_4fQNYLmN5GJXhc3J',\n",
       " 'https://wunderflats.com/en/furnished-apartment/bright-and-neat-studio-in-hamburg-nord/5b44b9552c5cfed31e13f167?dataLayerKey=8dxF_4fQNYLmN5GJXhc3J',\n",
       " 'https://wunderflats.com/en/furnished-apartment/exclusive-in-the-marco-polo-tower-with-concierge-service/5f89b135ce953700067b8e50?dataLayerKey=8dxF_4fQNYLmN5GJXhc3J',\n",
       " 'https://wunderflats.com/en/furnished-apartment/cozy-loft-in-hamburg-nord/5ef61361cd8ce100065eec0c?dataLayerKey=8dxF_4fQNYLmN5GJXhc3J',\n",
       " 'https://wunderflats.com/en/furnished-apartment/g/luxurious-and-exclusive-apartment-in-the-center-of-winterhude/haVfG4N-kzwEnXm4h8m_G?dataLayerKey=8dxF_4fQNYLmN5GJXhc3J',\n",
       " 'https://wunderflats.com/en/furnished-apartment/high-quality-equipped-apartment-with-balcony-at-winterhudes-market-place-with-wlan/5f45234776382c0006a672a7?dataLayerKey=8dxF_4fQNYLmN5GJXhc3J',\n",
       " 'https://wunderflats.com/en/furnished-apartment/wonderful-and-amazing-apartment-with-a-nice-view-and-a-balcony-completley-furnished-and-renovated/5cc71dc2c48f4a0007117fef?dataLayerKey=8dxF_4fQNYLmN5GJXhc3J',\n",
       " 'https://wunderflats.com/en/furnished-apartment/modern-and-lovingly-furnished-flat/5b44bd3c2c5cfed31e13f194?dataLayerKey=8dxF_4fQNYLmN5GJXhc3J',\n",
       " 'https://wunderflats.com/en/furnished-apartment/lovely-and-nice-home-in-hamburg-mitte/62bc70d7db2ba2f3c68266fa?dataLayerKey=8dxF_4fQNYLmN5GJXhc3J',\n",
       " 'https://wunderflats.com/en/furnished-apartment/wonderful-and-lovely-suite-located-in-hamburg-nord-hamburg/5b34fd7801638a9343cddfda?dataLayerKey=8dxF_4fQNYLmN5GJXhc3J',\n",
       " 'https://wunderflats.com/en/furnished-apartment/fantastic-studio-in-hamburg-nord/5b44c1072c5cfed31e13f1d4?dataLayerKey=8dxF_4fQNYLmN5GJXhc3J',\n",
       " 'https://wunderflats.com/en/furnished-apartment/great-2-rooms-apartment-with-garden-in-winterhude/5cf803712ccaac00062b9ea8?dataLayerKey=8dxF_4fQNYLmN5GJXhc3J',\n",
       " 'https://wunderflats.com/en/furnished-apartment/g/charming-and-bright-apartment-in-hamburg-nord/SJCcxLMmQ?dataLayerKey=8dxF_4fQNYLmN5GJXhc3J',\n",
       " 'https://wunderflats.com/en/furnished-apartment/new-and-modern-flat-on-2-levels-incl-underground-parking-space-in-the-trendy-district-schanze-st-pauli/62288d885dea40b8f896e1a8?dataLayerKey=8dxF_4fQNYLmN5GJXhc3J',\n",
       " 'https://wunderflats.com/en/furnished-apartment/beautiful-3-room-maisonette-apartment-in-the-middle-of-hamburg/5fc75b203361ab0006f42945?dataLayerKey=8dxF_4fQNYLmN5GJXhc3J',\n",
       " 'https://wunderflats.com/en/furnished-apartment/exclusive-4-room-appartment-at-leinpfadkanal-alster/5992cedf5496ba6b263757bd?dataLayerKey=8dxF_4fQNYLmN5GJXhc3J',\n",
       " 'https://wunderflats.com/en/furnished-apartment/great-and-pretty-suite-in-hamburg-nord/5b44b8962c5cfed31e13f0b6?dataLayerKey=8dxF_4fQNYLmN5GJXhc3J',\n",
       " 'https://wunderflats.com/en/furnished-apartment/lovely-and-beautiful-home-in-the-heart-of-winterhude/5c8bc0eea3f91800073c1110?dataLayerKey=8dxF_4fQNYLmN5GJXhc3J',\n",
       " 'https://wunderflats.com/en/furnished-apartment/1-room-flat-46-m-centrally-in-winterhudeuhlenhorst-balcony-quiet-bright-renovated-and-fully-furnished/58fa36bbc194ac38d8aca349?dataLayerKey=8dxF_4fQNYLmN5GJXhc3J',\n",
       " 'https://wunderflats.com/en/furnished-apartment/highest-penthouse-in-hamburg/63f223430036c7785e9cd1b5?dataLayerKey=8dxF_4fQNYLmN5GJXhc3J',\n",
       " 'https://wunderflats.com/en/furnished-apartment/pretty-gorgeous-suite-in-hamburg-nord/5b44bed0bffa5868bd367acb?dataLayerKey=8dxF_4fQNYLmN5GJXhc3J',\n",
       " 'https://wunderflats.com/en/furnished-apartment/traumhafte-wohnung-zentrale-lage-mit-weiherblick/63c5a95e2f2600895ce0fd92?dataLayerKey=ap11RxfcV_qUBFJLItZ2i',\n",
       " 'https://wunderflats.com/en/furnished-apartment/traumwohnung-in-harvestehude/62752a14c1e631acf79b135b?dataLayerKey=ap11RxfcV_qUBFJLItZ2i',\n",
       " 'https://wunderflats.com/en/furnished-apartment/luxus-wohnung-in-der-hafencity/61bb806a767e310007b85563?dataLayerKey=ap11RxfcV_qUBFJLItZ2i',\n",
       " 'https://wunderflats.com/en/furnished-apartment/dreamlike-25-room-apartment-in-hamburg-winterhude/625eac4e4b3617e609ec5812?dataLayerKey=ap11RxfcV_qUBFJLItZ2i',\n",
       " 'https://wunderflats.com/en/furnished-apartment/cute-modern-home-with-an-awesome-view-on-river-elbe-in-superb-hamburg-location/5cb43c2d320d670007ec03ea?dataLayerKey=ap11RxfcV_qUBFJLItZ2i',\n",
       " 'https://wunderflats.com/en/furnished-apartment/luxury-flatrooftop-terraceparking5-min-walk-to-main-station/5cd6b64a2797df0009a99157?dataLayerKey=ap11RxfcV_qUBFJLItZ2i',\n",
       " 'https://wunderflats.com/en/furnished-apartment/beautiful-furnished-super-chic-3-room-apartment-with-private-garden-in-hamburg-winterhude-for-rent/6332df583b7568c95660fdfe?dataLayerKey=ap11RxfcV_qUBFJLItZ2i',\n",
       " 'https://wunderflats.com/en/furnished-apartment/g/amazing-studio-apartment-in-top-location-with-ac/QeIy6TS2MGO_32GewPxlH?dataLayerKey=ap11RxfcV_qUBFJLItZ2i',\n",
       " 'https://wunderflats.com/en/furnished-apartment/quiet-and-bright-home-in-harvestehude/5c6abdb96ab6000005e3d901?dataLayerKey=ap11RxfcV_qUBFJLItZ2i',\n",
       " 'https://wunderflats.com/en/furnished-apartment/cute-beautiful-suite-in-eimsbuettel/634c3645dd8be2d556c322dc?dataLayerKey=ap11RxfcV_qUBFJLItZ2i',\n",
       " 'https://wunderflats.com/en/furnished-apartment/g/light-flooded-loft-with-courtyardbalcony-in-former-laundry/-0Hk0UnL3?dataLayerKey=ap11RxfcV_qUBFJLItZ2i',\n",
       " 'https://wunderflats.com/en/furnished-apartment/g/urban-st-georg-hamburg-city-serviced-apartment-in-our-yellow-house/L4ZKYCjVnE?dataLayerKey=ap11RxfcV_qUBFJLItZ2i',\n",
       " 'https://wunderflats.com/en/furnished-apartment/g/cute-lovely-suite-in-eimsbuettel-hamburg/Yu2ttyJjK?dataLayerKey=ap11RxfcV_qUBFJLItZ2i']"
      ]
     },
     "execution_count": 4,
     "metadata": {},
     "output_type": "execute_result"
    }
   ],
   "source": [
    "links = []\n",
    "for page in pages:\n",
    "    html = getAndParseURL(page)\n",
    "    for resulthf in html.findAll(\"a\",{\"class\":\"Listing-link\"}):\n",
    "        links.append(\"https://wunderflats.com\" + resulthf.get(\"href\"))\n",
    "\n",
    "links"
   ]
  },
  {
   "cell_type": "code",
   "execution_count": 5,
   "id": "9e461f98",
   "metadata": {},
   "outputs": [
    {
     "data": {
      "text/plain": [
       "493"
      ]
     },
     "execution_count": 5,
     "metadata": {},
     "output_type": "execute_result"
    }
   ],
   "source": [
    "len(links)"
   ]
  },
  {
   "cell_type": "code",
   "execution_count": 6,
   "id": "8bb7a100",
   "metadata": {},
   "outputs": [],
   "source": [
    "ex=getAndParseURL(\"https://wunderflats.com/en/furnished-apartment/g/maisonette-apartment-with-balcony/6i3GA6Fe9ic-6QFo_J84J?dataLayerKey=k2xveOsPeOBkVZM_-8Gfa\")"
   ]
  },
  {
   "cell_type": "code",
   "execution_count": 7,
   "id": "05f7e1a4",
   "metadata": {},
   "outputs": [
    {
     "data": {
      "text/plain": [
       "'4200'"
      ]
     },
     "execution_count": 7,
     "metadata": {},
     "output_type": "execute_result"
    }
   ],
   "source": [
    "### For Rent Price ###\n",
    "ex.find(\"strong\",{\"class\":\"ListingPriceText-value\"}).text.replace(\"€\",\"\").replace(\",\",\"\").strip()"
   ]
  },
  {
   "cell_type": "code",
   "execution_count": 8,
   "id": "311d42e8",
   "metadata": {},
   "outputs": [
    {
     "data": {
      "text/plain": [
       "'55'"
      ]
     },
     "execution_count": 8,
     "metadata": {},
     "output_type": "execute_result"
    }
   ],
   "source": [
    "### Net Area Of Flat###\n",
    "ex.find(\"span\",{\"class\":\"ListingDetails-statsElt floor\"}).text[0:3].strip()"
   ]
  },
  {
   "cell_type": "code",
   "execution_count": 9,
   "id": "ea08fdd6",
   "metadata": {},
   "outputs": [
    {
     "data": {
      "text/plain": [
       "'Ditmar-Koel-Straße, 20459, Hamburg'"
      ]
     },
     "execution_count": 9,
     "metadata": {},
     "output_type": "execute_result"
    }
   ],
   "source": [
    "### Location Info ###\n",
    "ex.find(\"span\",{\"class\":\"txt-light\"}).text.strip()"
   ]
  },
  {
   "cell_type": "code",
   "execution_count": 12,
   "id": "0bbcd484",
   "metadata": {},
   "outputs": [
    {
     "data": {
      "text/plain": [
       "'2 People'"
      ]
     },
     "execution_count": 12,
     "metadata": {},
     "output_type": "execute_result"
    }
   ],
   "source": [
    "### Capacity ###\n",
    "ex.find(\"span\",{\"class\":\"ListingDetails-statsElt guests\"}).text.strip()"
   ]
  },
  {
   "cell_type": "code",
   "execution_count": 13,
   "id": "6c3f2430",
   "metadata": {},
   "outputs": [
    {
     "data": {
      "text/plain": [
       "'2'"
      ]
     },
     "execution_count": 13,
     "metadata": {},
     "output_type": "execute_result"
    }
   ],
   "source": [
    "### Bedroom Number ###\n",
    "ex.find(\"span\",{\"class\":\"ListingDetails-statsElt rooms\"}).text.replace(\"Rooms\",\"\").strip()"
   ]
  },
  {
   "cell_type": "code",
   "execution_count": 14,
   "id": "76ae9752",
   "metadata": {},
   "outputs": [
    {
     "data": {
      "text/plain": [
       "'1789'"
      ]
     },
     "execution_count": 14,
     "metadata": {},
     "output_type": "execute_result"
    }
   ],
   "source": [
    "### Deposit ###\n",
    "ex.findAll(\"div\",{\"class\":\"CostOverview-itemRow\"})[1].text.replace(\"Security deposit€\",\"\").replace(\",\",\"\").strip()"
   ]
  },
  {
   "cell_type": "code",
   "execution_count": 10,
   "id": "8c032058",
   "metadata": {},
   "outputs": [],
   "source": [
    "result = []\n",
    "for resulthf in links:\n",
    "    html = getAndParseURL(resulthf)\n",
    "    \n",
    "    try:\n",
    "        location = html.find(\"span\",{\"class\":\"txt-light\"}).text.strip()\n",
    "    except:\n",
    "        location = np.nan\n",
    "    try:\n",
    "        rent= html.find(\"strong\",{\"class\":\"ListingPriceText-value\"}).text.replace(\"€\",\"\").replace(\",\",\"\").strip()\n",
    "    except:\n",
    "        rent = np.nan\n",
    "    try:\n",
    "        deposit = html.findAll(\"div\",{\"class\":\"CostOverview-itemRow\"})[1].text.replace(\"Security deposit€\",\"\").replace(\",\",\"\").strip()\n",
    "    except:\n",
    "        deposit = np.nan\n",
    "    try:\n",
    "        rooms = html.find(\"span\",{\"class\":\"ListingDetails-statsElt rooms\"}).text.replace(\"Rooms\",\"\").strip()\n",
    "    except:\n",
    "        rooms = np.nan\n",
    "    try:\n",
    "        capacity = html.find(\"span\",{\"class\":\"ListingDetails-statsElt guests\"}).text.strip()\n",
    "    except:\n",
    "        capacity = np.nan\n",
    "    try:\n",
    "        net_area = html.find(\"span\",{\"class\":\"ListingDetails-statsElt floor\"}).text[0:3].strip()\n",
    "    except:\n",
    "        net_area = np.nan\n",
    "    time.sleep(2)\n",
    "    \n",
    "    result.append([location,rent,deposit,rooms,capacity,net_area])\n",
    "    \n",
    "columns=[\"Location\",\"Rent\",\"Deposit\",\"Rooms\",\"Capacity\",\"Net Area\"]\n",
    "df = pd.DataFrame.from_records(result, columns=columns)"
   ]
  },
  {
   "cell_type": "code",
   "execution_count": 12,
   "id": "8d0587fd",
   "metadata": {},
   "outputs": [],
   "source": [
    "df.to_csv(\"hamburg_rental.csv\")"
   ]
  },
  {
   "cell_type": "code",
   "execution_count": 11,
   "id": "ed34eabb",
   "metadata": {},
   "outputs": [
    {
     "data": {
      "text/html": [
       "<div>\n",
       "<style scoped>\n",
       "    .dataframe tbody tr th:only-of-type {\n",
       "        vertical-align: middle;\n",
       "    }\n",
       "\n",
       "    .dataframe tbody tr th {\n",
       "        vertical-align: top;\n",
       "    }\n",
       "\n",
       "    .dataframe thead th {\n",
       "        text-align: right;\n",
       "    }\n",
       "</style>\n",
       "<table border=\"1\" class=\"dataframe\">\n",
       "  <thead>\n",
       "    <tr style=\"text-align: right;\">\n",
       "      <th></th>\n",
       "      <th>Location</th>\n",
       "      <th>Rent</th>\n",
       "      <th>Deposit</th>\n",
       "      <th>Rooms</th>\n",
       "      <th>Capacity</th>\n",
       "      <th>Net Area</th>\n",
       "    </tr>\n",
       "  </thead>\n",
       "  <tbody>\n",
       "    <tr>\n",
       "      <th>0</th>\n",
       "      <td>Dorotheenstraße, 22301, Hamburg</td>\n",
       "      <td>1135</td>\n",
       "      <td>2270</td>\n",
       "      <td>1 Room</td>\n",
       "      <td>1 Person</td>\n",
       "      <td>8 m</td>\n",
       "    </tr>\n",
       "    <tr>\n",
       "      <th>1</th>\n",
       "      <td>Eppendorfer Weg, 20251, Hamburg</td>\n",
       "      <td>1475</td>\n",
       "      <td>2950</td>\n",
       "      <td>1 Room</td>\n",
       "      <td>1 Person</td>\n",
       "      <td>12</td>\n",
       "    </tr>\n",
       "    <tr>\n",
       "      <th>2</th>\n",
       "      <td>Dorotheenstraße, 22301, Hamburg</td>\n",
       "      <td>1590</td>\n",
       "      <td>3180</td>\n",
       "      <td>1 Room</td>\n",
       "      <td>2 People</td>\n",
       "      <td>25</td>\n",
       "    </tr>\n",
       "    <tr>\n",
       "      <th>3</th>\n",
       "      <td>Dorotheenstraße, 22301, Hamburg</td>\n",
       "      <td>1250</td>\n",
       "      <td>2500</td>\n",
       "      <td>1 Room</td>\n",
       "      <td>1 Person</td>\n",
       "      <td>12</td>\n",
       "    </tr>\n",
       "    <tr>\n",
       "      <th>4</th>\n",
       "      <td>Eppendorfer Weg, 20251, Hamburg</td>\n",
       "      <td>1250</td>\n",
       "      <td>2500</td>\n",
       "      <td>1 Room</td>\n",
       "      <td>1 Person</td>\n",
       "      <td>10</td>\n",
       "    </tr>\n",
       "    <tr>\n",
       "      <th>...</th>\n",
       "      <td>...</td>\n",
       "      <td>...</td>\n",
       "      <td>...</td>\n",
       "      <td>...</td>\n",
       "      <td>...</td>\n",
       "      <td>...</td>\n",
       "    </tr>\n",
       "    <tr>\n",
       "      <th>488</th>\n",
       "      <td>Klosterallee, 20144, Hamburg</td>\n",
       "      <td>5775</td>\n",
       "      <td>0</td>\n",
       "      <td>4</td>\n",
       "      <td>6 People</td>\n",
       "      <td>80</td>\n",
       "    </tr>\n",
       "    <tr>\n",
       "      <th>489</th>\n",
       "      <td>Schanzenstraße, 20357, Hamburg</td>\n",
       "      <td>1200</td>\n",
       "      <td>1200</td>\n",
       "      <td>1 Room</td>\n",
       "      <td>2 People</td>\n",
       "      <td>16</td>\n",
       "    </tr>\n",
       "    <tr>\n",
       "      <th>490</th>\n",
       "      <td>Steilshooper Straße, 22305, Hamburg</td>\n",
       "      <td>1439</td>\n",
       "      <td>1000</td>\n",
       "      <td>1 Room</td>\n",
       "      <td>1 Person</td>\n",
       "      <td>32</td>\n",
       "    </tr>\n",
       "    <tr>\n",
       "      <th>491</th>\n",
       "      <td>Gurlittstraße, 20099, Hamburg</td>\n",
       "      <td>2940</td>\n",
       "      <td>2940</td>\n",
       "      <td>2</td>\n",
       "      <td>4 People</td>\n",
       "      <td>40</td>\n",
       "    </tr>\n",
       "    <tr>\n",
       "      <th>492</th>\n",
       "      <td>Oberstraße, 20149, Hamburg</td>\n",
       "      <td>1566</td>\n",
       "      <td>3360</td>\n",
       "      <td>1 Room</td>\n",
       "      <td>1 Person</td>\n",
       "      <td>28</td>\n",
       "    </tr>\n",
       "  </tbody>\n",
       "</table>\n",
       "<p>493 rows × 6 columns</p>\n",
       "</div>"
      ],
      "text/plain": [
       "                                Location  Rent Deposit   Rooms  Capacity  \\\n",
       "0        Dorotheenstraße, 22301, Hamburg  1135    2270  1 Room  1 Person   \n",
       "1        Eppendorfer Weg, 20251, Hamburg  1475    2950  1 Room  1 Person   \n",
       "2        Dorotheenstraße, 22301, Hamburg  1590    3180  1 Room  2 People   \n",
       "3        Dorotheenstraße, 22301, Hamburg  1250    2500  1 Room  1 Person   \n",
       "4        Eppendorfer Weg, 20251, Hamburg  1250    2500  1 Room  1 Person   \n",
       "..                                   ...   ...     ...     ...       ...   \n",
       "488         Klosterallee, 20144, Hamburg  5775       0       4  6 People   \n",
       "489       Schanzenstraße, 20357, Hamburg  1200    1200  1 Room  2 People   \n",
       "490  Steilshooper Straße, 22305, Hamburg  1439    1000  1 Room  1 Person   \n",
       "491        Gurlittstraße, 20099, Hamburg  2940    2940       2  4 People   \n",
       "492           Oberstraße, 20149, Hamburg  1566    3360  1 Room  1 Person   \n",
       "\n",
       "    Net Area  \n",
       "0        8 m  \n",
       "1         12  \n",
       "2         25  \n",
       "3         12  \n",
       "4         10  \n",
       "..       ...  \n",
       "488       80  \n",
       "489       16  \n",
       "490       32  \n",
       "491       40  \n",
       "492       28  \n",
       "\n",
       "[493 rows x 6 columns]"
      ]
     },
     "execution_count": 11,
     "metadata": {},
     "output_type": "execute_result"
    }
   ],
   "source": [
    "df"
   ]
  },
  {
   "cell_type": "code",
   "execution_count": 2,
   "id": "ff1ec13c",
   "metadata": {},
   "outputs": [],
   "source": [
    "df=pd.read_csv(\"hamburg_rental.csv\")"
   ]
  },
  {
   "cell_type": "code",
   "execution_count": 3,
   "id": "b2691ee8",
   "metadata": {},
   "outputs": [
    {
     "data": {
      "text/html": [
       "<div>\n",
       "<style scoped>\n",
       "    .dataframe tbody tr th:only-of-type {\n",
       "        vertical-align: middle;\n",
       "    }\n",
       "\n",
       "    .dataframe tbody tr th {\n",
       "        vertical-align: top;\n",
       "    }\n",
       "\n",
       "    .dataframe thead th {\n",
       "        text-align: right;\n",
       "    }\n",
       "</style>\n",
       "<table border=\"1\" class=\"dataframe\">\n",
       "  <thead>\n",
       "    <tr style=\"text-align: right;\">\n",
       "      <th></th>\n",
       "      <th>Unnamed: 0</th>\n",
       "      <th>Location</th>\n",
       "      <th>Rent</th>\n",
       "      <th>Deposit</th>\n",
       "      <th>Rooms</th>\n",
       "      <th>Capacity</th>\n",
       "      <th>Net Area</th>\n",
       "    </tr>\n",
       "  </thead>\n",
       "  <tbody>\n",
       "    <tr>\n",
       "      <th>0</th>\n",
       "      <td>0</td>\n",
       "      <td>Dorotheenstraße, 22301, Hamburg</td>\n",
       "      <td>1135</td>\n",
       "      <td>2270</td>\n",
       "      <td>1 Room</td>\n",
       "      <td>1 Person</td>\n",
       "      <td>8 m</td>\n",
       "    </tr>\n",
       "    <tr>\n",
       "      <th>1</th>\n",
       "      <td>1</td>\n",
       "      <td>Eppendorfer Weg, 20251, Hamburg</td>\n",
       "      <td>1475</td>\n",
       "      <td>2950</td>\n",
       "      <td>1 Room</td>\n",
       "      <td>1 Person</td>\n",
       "      <td>12</td>\n",
       "    </tr>\n",
       "    <tr>\n",
       "      <th>2</th>\n",
       "      <td>2</td>\n",
       "      <td>Dorotheenstraße, 22301, Hamburg</td>\n",
       "      <td>1590</td>\n",
       "      <td>3180</td>\n",
       "      <td>1 Room</td>\n",
       "      <td>2 People</td>\n",
       "      <td>25</td>\n",
       "    </tr>\n",
       "    <tr>\n",
       "      <th>3</th>\n",
       "      <td>3</td>\n",
       "      <td>Dorotheenstraße, 22301, Hamburg</td>\n",
       "      <td>1250</td>\n",
       "      <td>2500</td>\n",
       "      <td>1 Room</td>\n",
       "      <td>1 Person</td>\n",
       "      <td>12</td>\n",
       "    </tr>\n",
       "    <tr>\n",
       "      <th>4</th>\n",
       "      <td>4</td>\n",
       "      <td>Eppendorfer Weg, 20251, Hamburg</td>\n",
       "      <td>1250</td>\n",
       "      <td>2500</td>\n",
       "      <td>1 Room</td>\n",
       "      <td>1 Person</td>\n",
       "      <td>10</td>\n",
       "    </tr>\n",
       "    <tr>\n",
       "      <th>5</th>\n",
       "      <td>5</td>\n",
       "      <td>Eppendorfer Weg, 20251, Hamburg</td>\n",
       "      <td>1365</td>\n",
       "      <td>2730</td>\n",
       "      <td>1 Room</td>\n",
       "      <td>1 Person</td>\n",
       "      <td>10</td>\n",
       "    </tr>\n",
       "    <tr>\n",
       "      <th>6</th>\n",
       "      <td>6</td>\n",
       "      <td>Dorotheenstraße, 22301, Hamburg</td>\n",
       "      <td>1365</td>\n",
       "      <td>2730</td>\n",
       "      <td>1 Room</td>\n",
       "      <td>1 Person</td>\n",
       "      <td>14</td>\n",
       "    </tr>\n",
       "    <tr>\n",
       "      <th>7</th>\n",
       "      <td>7</td>\n",
       "      <td>Eppendorfer Weg, 20251, Hamburg</td>\n",
       "      <td>1475</td>\n",
       "      <td>2950</td>\n",
       "      <td>1 Room</td>\n",
       "      <td>1 Person</td>\n",
       "      <td>14</td>\n",
       "    </tr>\n",
       "  </tbody>\n",
       "</table>\n",
       "</div>"
      ],
      "text/plain": [
       "   Unnamed: 0                         Location  Rent  Deposit   Rooms  \\\n",
       "0           0  Dorotheenstraße, 22301, Hamburg  1135     2270  1 Room   \n",
       "1           1  Eppendorfer Weg, 20251, Hamburg  1475     2950  1 Room   \n",
       "2           2  Dorotheenstraße, 22301, Hamburg  1590     3180  1 Room   \n",
       "3           3  Dorotheenstraße, 22301, Hamburg  1250     2500  1 Room   \n",
       "4           4  Eppendorfer Weg, 20251, Hamburg  1250     2500  1 Room   \n",
       "5           5  Eppendorfer Weg, 20251, Hamburg  1365     2730  1 Room   \n",
       "6           6  Dorotheenstraße, 22301, Hamburg  1365     2730  1 Room   \n",
       "7           7  Eppendorfer Weg, 20251, Hamburg  1475     2950  1 Room   \n",
       "\n",
       "   Capacity Net Area  \n",
       "0  1 Person      8 m  \n",
       "1  1 Person       12  \n",
       "2  2 People       25  \n",
       "3  1 Person       12  \n",
       "4  1 Person       10  \n",
       "5  1 Person       10  \n",
       "6  1 Person       14  \n",
       "7  1 Person       14  "
      ]
     },
     "execution_count": 3,
     "metadata": {},
     "output_type": "execute_result"
    }
   ],
   "source": [
    "df.head(8)"
   ]
  },
  {
   "cell_type": "code",
   "execution_count": 4,
   "id": "c75ae3b2",
   "metadata": {},
   "outputs": [
    {
     "name": "stdout",
     "output_type": "stream",
     "text": [
      "<class 'pandas.core.frame.DataFrame'>\n",
      "RangeIndex: 493 entries, 0 to 492\n",
      "Data columns (total 7 columns):\n",
      " #   Column      Non-Null Count  Dtype \n",
      "---  ------      --------------  ----- \n",
      " 0   Unnamed: 0  493 non-null    int64 \n",
      " 1   Location    493 non-null    object\n",
      " 2   Rent        493 non-null    int64 \n",
      " 3   Deposit     493 non-null    int64 \n",
      " 4   Rooms       493 non-null    object\n",
      " 5   Capacity    493 non-null    object\n",
      " 6   Net Area    493 non-null    object\n",
      "dtypes: int64(3), object(4)\n",
      "memory usage: 27.1+ KB\n"
     ]
    }
   ],
   "source": [
    "df.info()"
   ]
  },
  {
   "cell_type": "code",
   "execution_count": 5,
   "id": "0882fa38",
   "metadata": {},
   "outputs": [
    {
     "data": {
      "text/plain": [
       "array([ 1135,  1475,  1590,  1250,  1365,  1690,  1400,  1600,  1780,\n",
       "        4200,   980,  2945,  3500,  1290,  1295,  1249,  1350,  1200,\n",
       "        2190,  2300,  1150,  1100,  1650,  1470,  1450,  1850,  3600,\n",
       "        1050,   940,  2295,  1320,  1990,  1700,  1495,  1390,  2650,\n",
       "        1399,  1580,  2950,  2020,  1490,  2660,  2100,  1790,  2050,\n",
       "        1395,  1500,  1745,   890,   820,  3750,   695,  1880,  1180,\n",
       "        2290,  1660,  2390,  2590,  2400,  1849,   995,  5850,  1299,\n",
       "        2750,  1550,  3350,  4092,  1940,  1750,  2490,  1800,  1950,\n",
       "        2900,  3900,  1020,  1420,  1595,  2800,  6500,  2442,  4650,\n",
       "        1190,  2700,  2500,  4257,  1385,  5250,  1890,  1695,  3090,\n",
       "        3630,  4090,  3102,  1370,  3000,   920,   780,  1945,  5500,\n",
       "        5900,  1240,  3432,  2990,  2000,  2200,  1430,  1820,  1360,\n",
       "        1149,  1060,  1900,  1560,   945,  2780,  1179,  1585,   990,\n",
       "        1090,  1480,  1760,   895,  1565,  1680,  2090,  1300,   825,\n",
       "        3200,  2043,  3450,   950,  3250,  1410,  1649,  2600,  1080,\n",
       "        2350,  2150,  1999,  2550,  1895,  2395,  3025,  2690,  2180,\n",
       "        2250,  1105,  3950,  4270,  2860,  3700,  1620,  1699,  2420,\n",
       "        1380,  3800,  3400,  2475,  1099,  2940,  1000,   870,  3490,\n",
       "         900,  1375,  3740,  4300,  3850,  3150,  2980, 16000,  6230,\n",
       "        6900,  1997,  5775,  1439,  1566], dtype=int64)"
      ]
     },
     "execution_count": 5,
     "metadata": {},
     "output_type": "execute_result"
    }
   ],
   "source": [
    "df[\"Rent\"].unique()"
   ]
  },
  {
   "cell_type": "code",
   "execution_count": 6,
   "id": "f5ff6dce",
   "metadata": {},
   "outputs": [
    {
     "data": {
      "text/plain": [
       "2074.1541582150103"
      ]
     },
     "execution_count": 6,
     "metadata": {},
     "output_type": "execute_result"
    }
   ],
   "source": [
    "df[\"Rent\"].mean()"
   ]
  },
  {
   "cell_type": "code",
   "execution_count": 7,
   "id": "595fdf52",
   "metadata": {},
   "outputs": [
    {
     "data": {
      "text/plain": [
       "2383.574036511156"
      ]
     },
     "execution_count": 7,
     "metadata": {},
     "output_type": "execute_result"
    }
   ],
   "source": [
    "df[\"Deposit\"].mean()"
   ]
  },
  {
   "cell_type": "code",
   "execution_count": 10,
   "id": "cbad8a94",
   "metadata": {},
   "outputs": [
    {
     "data": {
      "text/plain": [
       "array(['1', '2', '4', '3', '6', '5'], dtype=object)"
      ]
     },
     "execution_count": 10,
     "metadata": {},
     "output_type": "execute_result"
    }
   ],
   "source": [
    "df[\"Rooms\"].unique()"
   ]
  },
  {
   "cell_type": "code",
   "execution_count": 9,
   "id": "ba412f29",
   "metadata": {},
   "outputs": [],
   "source": [
    "df[\"Rooms\"]=df[\"Rooms\"].apply(lambda x : \"1\" if x ==\"1 Room\" else x)"
   ]
  },
  {
   "cell_type": "code",
   "execution_count": 11,
   "id": "b3a6d8ec",
   "metadata": {},
   "outputs": [],
   "source": [
    "df[\"Rooms\"]=df[\"Rooms\"].astype(int)"
   ]
  },
  {
   "cell_type": "code",
   "execution_count": 19,
   "id": "ee91ca90",
   "metadata": {},
   "outputs": [
    {
     "data": {
      "text/plain": [
       "array(['80', '12', '25', '10', '14', '50', '62', '63', '68', '55', '33',\n",
       "       '98', '72', '45', '24', '34', '75', '26', '69', '51', '49', '155',\n",
       "       '30', '39', '36', '64', '84', '23', '43', '38', '96', '40', '56',\n",
       "       '97', '58', '90', '60', '85', '37', '35', '32', '21', '107', '16',\n",
       "       '65', '88', '82', '47', '67', '77', '54', '71', '19', '87', '29',\n",
       "       '48', '18', '121', '17', '76', '46', '70', '86', '129', '42',\n",
       "       '128', '78', '22', '104', '15', '59', '52', '106', '150', '100',\n",
       "       '53', '61', '44', '27', '83', '31', '73', '57', '110', '130', '81',\n",
       "       '94', '28', '111', '66', '95', '89', '117', '133', '180', '102',\n",
       "       '103', '74', '105', '134', '140', '175', '41', '400', '190', '163'],\n",
       "      dtype=object)"
      ]
     },
     "execution_count": 19,
     "metadata": {},
     "output_type": "execute_result"
    }
   ],
   "source": [
    "df[\"Net Area\"].unique()"
   ]
  },
  {
   "cell_type": "code",
   "execution_count": 16,
   "id": "69be097b",
   "metadata": {},
   "outputs": [
    {
     "name": "stderr",
     "output_type": "stream",
     "text": [
      "C:\\Users\\User\\AppData\\Local\\Temp\\ipykernel_6864\\3623907264.py:4: FutureWarning: The default value of regex will change from True to False in a future version. In addition, single character regular expressions will *not* be treated as literal strings when regex=True.\n",
      "  df[\"Net Area\"]=df[\"Net Area\"].str.replace(\".\", \"\")\n"
     ]
    },
    {
     "data": {
      "text/plain": [
       "0      80\n",
       "1      12\n",
       "2      25\n",
       "3      12\n",
       "4      10\n",
       "       ..\n",
       "488    80\n",
       "489    16\n",
       "490    32\n",
       "491    40\n",
       "492    28\n",
       "Name: Net Area, Length: 493, dtype: int32"
      ]
     },
     "execution_count": 16,
     "metadata": {},
     "output_type": "execute_result"
    }
   ],
   "source": [
    "df[\"Net Area\"]=df[\"Net Area\"].apply(lambda x : \"80\" if x ==\"8 m\" else x)\n",
    "df[\"Net Area\"]=df[\"Net Area\"].apply(lambda x : \"90\" if x ==\"9 m\" else x)\n",
    "\n",
    "df[\"Net Area\"]=df[\"Net Area\"].str.replace(\".\", \"\")"
   ]
  },
  {
   "cell_type": "code",
   "execution_count": 22,
   "id": "8fd87df1",
   "metadata": {},
   "outputs": [],
   "source": [
    "df[\"Net Area\"]=df[\"Net Area\"].astype(int)"
   ]
  },
  {
   "cell_type": "code",
   "execution_count": 23,
   "id": "150c1053",
   "metadata": {},
   "outputs": [
    {
     "data": {
      "text/plain": [
       "56.71196754563895"
      ]
     },
     "execution_count": 23,
     "metadata": {},
     "output_type": "execute_result"
    }
   ],
   "source": [
    "df[\"Net Area\"].mean()"
   ]
  },
  {
   "cell_type": "code",
   "execution_count": 24,
   "id": "d3e9a51f",
   "metadata": {},
   "outputs": [
    {
     "name": "stdout",
     "output_type": "stream",
     "text": [
      "<class 'pandas.core.frame.DataFrame'>\n",
      "RangeIndex: 493 entries, 0 to 492\n",
      "Data columns (total 7 columns):\n",
      " #   Column      Non-Null Count  Dtype \n",
      "---  ------      --------------  ----- \n",
      " 0   Unnamed: 0  493 non-null    int64 \n",
      " 1   Location    493 non-null    object\n",
      " 2   Rent        493 non-null    int64 \n",
      " 3   Deposit     493 non-null    int64 \n",
      " 4   Rooms       493 non-null    int32 \n",
      " 5   Capacity    493 non-null    object\n",
      " 6   Net Area    493 non-null    int32 \n",
      "dtypes: int32(2), int64(3), object(2)\n",
      "memory usage: 23.2+ KB\n"
     ]
    }
   ],
   "source": [
    "df.info()"
   ]
  },
  {
   "cell_type": "code",
   "execution_count": 25,
   "id": "09efa254",
   "metadata": {},
   "outputs": [
    {
     "data": {
      "image/png": "[encoded data removed]",
      "text/plain": [
       "<Figure size 800x800 with 1 Axes>"
      ]
     },
     "metadata": {},
     "output_type": "display_data"
    }
   ],
   "source": [
    "# get the value counts of the 'Bedroom' column\n",
    "bed_room_counts = df['Rooms'].value_counts()\n",
    "\n",
    "# filter the value counts to include only values bigger than 1%\n",
    "filtered_bedroom_counts = bed_room_counts[bed_room_counts/len(df) > 0.01]\n",
    "\n",
    "\n",
    "# create the pie chart\n",
    "plt.figure(figsize=(8, 8))\n",
    "plt.pie(filtered_bedroom_counts, labels=filtered_bedroom_counts.index, autopct='%1.1f%%')\n",
    "\n",
    "# set the title of the chart\n",
    "plt.title('Distrubition of the Bedroom Number Flats of Hamburg',weight=\"bold\")\n",
    "\n",
    "# display the chart\n",
    "plt.show();\n"
   ]
  },
  {
   "cell_type": "code",
   "execution_count": 26,
   "id": "6605ce5c",
   "metadata": {},
   "outputs": [
    {
     "data": {
      "image/png": "[encoded data removed]",
      "text/plain": [
       "<Figure size 640x480 with 1 Axes>"
      ]
     },
     "metadata": {},
     "output_type": "display_data"
    }
   ],
   "source": [
    "# Calculate mean rent for each group \n",
    "one_bed_mean_rent = df[df['Rooms'] == 1]['Rent'].mean()\n",
    "two_bed_mean_rent = df[df['Rooms'] == 2]['Rent'].mean()\n",
    "three_bed_mean_rent = df[df['Rooms'] == 3]['Rent'].mean()\n",
    "\n",
    "# Create a bar plot\n",
    "sns.set_style(\"whitegrid\")\n",
    "ax = sns.barplot(x=['1 Bedroom', '2 Bedrooms','3 Bedrooms'], y=[one_bed_mean_rent, two_bed_mean_rent,three_bed_mean_rent], palette=\"Set1\")\n",
    "\n",
    "# Add labels to the bars\n",
    "for p in ax.patches:\n",
    "    height = p.get_height()\n",
    "    ax.text(p.get_x() + p.get_width()/2., height+50, '€{:.0f}'.format(height), ha=\"center\", weight='bold')\n",
    "\n",
    "# Format the x and y-axis tick labels\n",
    "ax.set_xticklabels(['1 Bedroom', '2 Bedrooms','3 Bedrooms'], weight='bold')\n",
    "ax.set_yticks([0, 2000, 3000])\n",
    "ax.set_yticklabels(['€0', '€2,000', '€3,000'], weight='bold')\n",
    "\n",
    "# Format the x and y-axis labels\n",
    "ax.set_xlabel('Number of Bedrooms', weight='bold')\n",
    "ax.set_ylabel('Mean Rent (€)', weight='bold')\n",
    "\n",
    "# Set the plot title\n",
    "ax.set_title('Mean Rent by Number of Bedrooms(Hamburg)', weight='bold')\n",
    "\n",
    "plt.show();"
   ]
  },
  {
   "cell_type": "code",
   "execution_count": null,
   "id": "1ff3769e",
   "metadata": {},
   "outputs": [],
   "source": []
  }
 ],
 "metadata": {
  "kernelspec": {
   "display_name": "Python 3 (ipykernel)",
   "language": "python",
   "name": "python3"
  },
  "language_info": {
   "codemirror_mode": {
    "name": "ipython",
    "version": 3
   },
   "file_extension": ".py",
   "mimetype": "text/x-python",
   "name": "python",
   "nbconvert_exporter": "python",
   "pygments_lexer": "ipython3",
   "version": "3.10.6"
  }
 },
 "nbformat": 4,
 "nbformat_minor": 5
}
