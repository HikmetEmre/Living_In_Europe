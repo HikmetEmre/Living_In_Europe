{
 "cells": [
  {
   "cell_type": "code",
   "execution_count": 16,
   "id": "b1ab2473",
   "metadata": {},
   "outputs": [],
   "source": [
    "from urllib.request import urlopen\n",
    "import requests\n",
    "from bs4 import BeautifulSoup as bts\n",
    "import pandas as pd \n",
    "import re\n",
    "import seaborn as sns\n",
    "import matplotlib.pyplot as plt\n",
    "import numpy as np\n",
    "import time"
   ]
  },
  {
   "cell_type": "code",
   "execution_count": 3,
   "id": "0497d698",
   "metadata": {},
   "outputs": [],
   "source": [
    "def getAndParseURL(url):\n",
    "    result=requests.get(url,headers={\"User-Agent\":\"Chrome/111.0.5563.65\"})\n",
    "    soup=bts(result.text,\"html.parser\")\n",
    "    return soup"
   ]
  },
  {
   "cell_type": "code",
   "execution_count": 5,
   "id": "2f8a5791",
   "metadata": {},
   "outputs": [
    {
     "data": {
      "text/plain": [
       "['https://wunderflats.com/en/furnished-apartments/paris',\n",
       " 'https://wunderflats.com/en/furnished-apartments/paris/2',\n",
       " 'https://wunderflats.com/en/furnished-apartments/paris/3',\n",
       " 'https://wunderflats.com/en/furnished-apartments/paris/4',\n",
       " 'https://wunderflats.com/en/furnished-apartments/paris/5',\n",
       " 'https://wunderflats.com/en/furnished-apartments/paris/6',\n",
       " 'https://wunderflats.com/en/furnished-apartments/paris/7',\n",
       " 'https://wunderflats.com/en/furnished-apartments/paris/8',\n",
       " 'https://wunderflats.com/en/furnished-apartments/paris/9',\n",
       " 'https://wunderflats.com/en/furnished-apartments/paris/10',\n",
       " 'https://wunderflats.com/en/furnished-apartments/paris/11',\n",
       " 'https://wunderflats.com/en/furnished-apartments/paris/12',\n",
       " 'https://wunderflats.com/en/furnished-apartments/paris/13',\n",
       " 'https://wunderflats.com/en/furnished-apartments/paris/14',\n",
       " 'https://wunderflats.com/en/furnished-apartments/paris/15',\n",
       " 'https://wunderflats.com/en/furnished-apartments/paris/16',\n",
       " 'https://wunderflats.com/en/furnished-apartments/paris/17',\n",
       " 'https://wunderflats.com/en/furnished-apartments/paris/18']"
      ]
     },
     "execution_count": 5,
     "metadata": {},
     "output_type": "execute_result"
    }
   ],
   "source": [
    "pages=[\"https://wunderflats.com/en/furnished-apartments/paris\"]\n",
    "for page in range(2,19):\n",
    "    pages.append(\"https://wunderflats.com/en/furnished-apartments/paris/\" +str (page))\n",
    "    \n",
    "pages"
   ]
  },
  {
   "cell_type": "code",
   "execution_count": 6,
   "id": "c6fa5f71",
   "metadata": {},
   "outputs": [
    {
     "data": {
      "text/plain": [
       "['https://wunderflats.com/en/furnished-apartment/exceptional-apartment-pigalle-blanche/63ce6463bd734f66d745ff0d?dataLayerKey=ZohyaJqk2BIru5AlcIpUR',\n",
       " 'https://wunderflats.com/en/furnished-apartment/pure-paris-lovely-2-bedroom-home-in-montmartre-2-bedroom-with-2-queen-beds/63c69a9826f301e9ae347944?dataLayerKey=ZohyaJqk2BIru5AlcIpUR',\n",
       " 'https://wunderflats.com/en/furnished-apartment/pretty-nice-apartment-montmartre/63d8065241bf2050dc9b0c6c?dataLayerKey=ZohyaJqk2BIru5AlcIpUR',\n",
       " 'https://wunderflats.com/en/furnished-apartment/rental-furnished-flat-with-two-bedrooms-3-rooms-92m2/63bee5a5e232cecc0d5faeb3?dataLayerKey=ZohyaJqk2BIru5AlcIpUR',\n",
       " 'https://wunderflats.com/en/furnished-apartment/g/t4-flatshare-one-bedroom-in-a-flat-with-a-total-of-3-bedrooms/_pFqvob44QZu5VR9YCRbD?dataLayerKey=ZohyaJqk2BIru5AlcIpUR',\n",
       " 'https://wunderflats.com/en/furnished-apartment/charming-studio-quartier-odeon-for-2-people/63c825bced9320d43ba786ef?dataLayerKey=ZohyaJqk2BIru5AlcIpUR',\n",
       " 'https://wunderflats.com/en/furnished-apartment/coliving-2-bedroom-apartment/63fb05e1d8a40764ef412d5e?dataLayerKey=ZohyaJqk2BIru5AlcIpUR',\n",
       " 'https://wunderflats.com/en/furnished-apartment/g/t3-flatshare-room-in-a-two-bedroom-flat/_mQ0ENDzT2g1xLU0wJEiM?dataLayerKey=ZohyaJqk2BIru5AlcIpUR',\n",
       " 'https://wunderflats.com/en/furnished-apartment/charming-apartment-renovated-with-great-care/6363a804d0fcaf29e77dec4d?dataLayerKey=ZohyaJqk2BIru5AlcIpUR',\n",
       " 'https://wunderflats.com/en/furnished-apartment/amazing-aflat-montmartresacre-coeur/63c18521495d6e92b07a8561?dataLayerKey=ZohyaJqk2BIru5AlcIpUR',\n",
       " 'https://wunderflats.com/en/furnished-apartment/gorgeous-and-pretty-flat-close-to-bastille/63f479aaf4c7d6e46a70a4ab?dataLayerKey=ZohyaJqk2BIru5AlcIpUR',\n",
       " 'https://wunderflats.com/en/furnished-apartment/charming-40m2-flat-located-in-the-6th-arrondissement-of-paris-close-to-transport/63e0b40cbe0a7de139412cb7?dataLayerKey=ZohyaJqk2BIru5AlcIpUR',\n",
       " 'https://wunderflats.com/en/furnished-apartment/furnished-apartment-rental-1-bedroom-46m-quartier-latin-pantheon-paris/63738db46cf63cac1485d9c3?dataLayerKey=ZohyaJqk2BIru5AlcIpUR',\n",
       " 'https://wunderflats.com/en/furnished-apartment/rambuteau-the-dream-street-near-the-pompidou/6336eb922a2770d3e9c9756e?dataLayerKey=ZohyaJqk2BIru5AlcIpUR',\n",
       " 'https://wunderflats.com/en/furnished-apartment/modern-apartment-4p-near-sacre-coeur/63d23137aa5b3db409e5405f?dataLayerKey=ZohyaJqk2BIru5AlcIpUR',\n",
       " 'https://wunderflats.com/en/furnished-apartment/charming-apartment-rambuteau/63d388c9ac80981d4ef598e6?dataLayerKey=ZohyaJqk2BIru5AlcIpUR',\n",
       " 'https://wunderflats.com/en/furnished-apartment/furnished-flat-for-4-people-metro-bonne-nouvelle/63c12453d1d7cbbe4f47f5e3?dataLayerKey=ZohyaJqk2BIru5AlcIpUR',\n",
       " 'https://wunderflats.com/en/furnished-apartment/bright-apartment-with-a-wonderful-terrace/6391c308eb868754b961c1bc?dataLayerKey=ZohyaJqk2BIru5AlcIpUR',\n",
       " 'https://wunderflats.com/en/furnished-apartment/neat-and-spacious-home-paris/62d5746ef5d053bc1ff6ab1f?dataLayerKey=ZohyaJqk2BIru5AlcIpUR',\n",
       " 'https://wunderflats.com/en/furnished-apartment/furnished-two-room-flat-very-bright/63bfcebe14fef279bde4137e?dataLayerKey=ZohyaJqk2BIru5AlcIpUR',\n",
       " 'https://wunderflats.com/en/furnished-apartment/rental-furnished-appartment-2-rooms-45m-ile-de-la-cite-ile-saint-louis-75004/63c17d36b2a35180da5f2cfe?dataLayerKey=ZohyaJqk2BIru5AlcIpUR',\n",
       " 'https://wunderflats.com/en/furnished-apartment/rental-furnished-apartment-2-rooms-55m-opera/63c00f1b2580326cc99bdfc4?dataLayerKey=ZohyaJqk2BIru5AlcIpUR',\n",
       " 'https://wunderflats.com/en/furnished-apartment/pretty-studio-rue-des-rosiers-marais/63caaf2a0e8b892209aec210?dataLayerKey=ZohyaJqk2BIru5AlcIpUR',\n",
       " 'https://wunderflats.com/en/furnished-apartment/apartment-with-view-vellefaux/63ce46f0687eb17604e597d2?dataLayerKey=ZohyaJqk2BIru5AlcIpUR',\n",
       " 'https://wunderflats.com/en/furnished-apartment/cosy-and-warm-flat-in-the-heart-of-paris-in-the-10th-arrondissement/63c7b964a5612ed9d82058aa?dataLayerKey=ZohyaJqk2BIru5AlcIpUR',\n",
       " 'https://wunderflats.com/en/furnished-apartment/g/studio-in-amazing-residence/l6YV1USiq7N3HbP6TYx3Z?dataLayerKey=ZohyaJqk2BIru5AlcIpUR',\n",
       " 'https://wunderflats.com/en/furnished-apartment/magnificent-flat-1bdr-rue-du-commerce/63cfb9382605349c68af645c?dataLayerKey=ZohyaJqk2BIru5AlcIpUR',\n",
       " 'https://wunderflats.com/en/furnished-apartment/quiet-and-bright-2-bedrooms-in-perfect-condition/6347ea071b4cc1cd21cc8534?dataLayerKey=ZohyaJqk2BIru5AlcIpUR',\n",
       " 'https://wunderflats.com/en/furnished-apartment/superb-two-bedroom-flat-with-sofa-bed-in-the-heart-of-paris/63bfe4573d74a2f2086f4171?dataLayerKey=ZohyaJqk2BIru5AlcIpUR',\n",
       " 'https://wunderflats.com/en/furnished-apartment/charming-2-bedroom-apartment/63c1329d9ebf4425a8b5812b?dataLayerKey=ZohyaJqk2BIru5AlcIpUR',\n",
       " 'https://wunderflats.com/en/furnished-apartment/lovely-bright-and-fully-equipped-studio-with-a-large-terrace/63c00d5140e130a9460a2efe?dataLayerKey=8OpGxmx_Scp8m8gJ4LBrE',\n",
       " 'https://wunderflats.com/en/furnished-apartment/modern-apartment-buttes-chaumont/63d23e75aa5b3db409e56857?dataLayerKey=8OpGxmx_Scp8m8gJ4LBrE',\n",
       " 'https://wunderflats.com/en/furnished-apartment/great-apartment-near-grands-boulevards/63ce5e58bd734f66d745e94c?dataLayerKey=8OpGxmx_Scp8m8gJ4LBrE',\n",
       " 'https://wunderflats.com/en/furnished-apartment/rent-furnished-apartment-denfert-rochereau-port-royal/63be93f6720c7976e27caad3?dataLayerKey=8OpGxmx_Scp8m8gJ4LBrE',\n",
       " 'https://wunderflats.com/en/furnished-apartment/furnished-flat-3-rooms-85m-st-paul/63c12e52e92f5244cd45141e?dataLayerKey=8OpGxmx_Scp8m8gJ4LBrE',\n",
       " 'https://wunderflats.com/en/furnished-apartment/gorgeous-loft-in-popular-area/63b59ec9603a0bbf59b90d98?dataLayerKey=8OpGxmx_Scp8m8gJ4LBrE',\n",
       " 'https://wunderflats.com/en/furnished-apartment/magnificent-flat-of-80m2-in-the-8th-district-ideal-location/63d7a9c9efb524b6a8a0c915?dataLayerKey=8OpGxmx_Scp8m8gJ4LBrE',\n",
       " 'https://wunderflats.com/en/furnished-apartment/rental-furnished-flat-3-rooms-95m-paris/63c136a1ac8791f4e9b25ee9?dataLayerKey=8OpGxmx_Scp8m8gJ4LBrE',\n",
       " 'https://wunderflats.com/en/furnished-apartment/rental-furnished-apartment-studio-18m-montorgueil/63be9d7d720c7976e27cd3b0?dataLayerKey=8OpGxmx_Scp8m8gJ4LBrE',\n",
       " 'https://wunderflats.com/en/furnished-apartment/rental-furnished-flat-4-rooms-90m/63c164ccac8791f4e9b3304f?dataLayerKey=8OpGxmx_Scp8m8gJ4LBrE',\n",
       " 'https://wunderflats.com/en/furnished-apartment/apartment-with-terracegare-de-lyon/63d2521a4e3ffe2acc001e10?dataLayerKey=8OpGxmx_Scp8m8gJ4LBrE',\n",
       " 'https://wunderflats.com/en/furnished-apartment/louvre-opera-1-bedroom/63935ecede3a7742c1122d4f?dataLayerKey=8OpGxmx_Scp8m8gJ4LBrE',\n",
       " 'https://wunderflats.com/en/furnished-apartment/spacious-2-bedroom-apartment-near-notre-dame/6335a7b3785912668ee4c9eb?dataLayerKey=8OpGxmx_Scp8m8gJ4LBrE',\n",
       " 'https://wunderflats.com/en/furnished-apartment/beautiful-nice-apartment/63c5383e7dd456f0d85bece7?dataLayerKey=8OpGxmx_Scp8m8gJ4LBrE',\n",
       " 'https://wunderflats.com/en/furnished-apartment/rental-furnished-flat-3-rooms-80m-paris-amazing-and-fashionable-home-paris/63bedfade232cecc0d5f93ee?dataLayerKey=8OpGxmx_Scp8m8gJ4LBrE',\n",
       " 'https://wunderflats.com/en/furnished-apartment/superb-two-bedroom-flat-in-the-heart-of-paris/63bfe7273d74a2f2086f4c12?dataLayerKey=8OpGxmx_Scp8m8gJ4LBrE',\n",
       " 'https://wunderflats.com/en/furnished-apartment/studio-37m-bourse/63c12ccc30c8054dd7c22094?dataLayerKey=8OpGxmx_Scp8m8gJ4LBrE',\n",
       " 'https://wunderflats.com/en/furnished-apartment/beautiful-and-bright-apartment/62d7a9a3e19c87e44e664156?dataLayerKey=8OpGxmx_Scp8m8gJ4LBrE',\n",
       " 'https://wunderflats.com/en/furnished-apartment/charming-apartment-in-the-heart-of-the-3rd/62fb6f1799264c53a6796084?dataLayerKey=8OpGxmx_Scp8m8gJ4LBrE',\n",
       " 'https://wunderflats.com/en/furnished-apartment/rental-furnished-appartment-studio-31m-chatelet-les-halles/63bfdf65f5f8e1fb01b859cb?dataLayerKey=8OpGxmx_Scp8m8gJ4LBrE',\n",
       " 'https://wunderflats.com/en/furnished-apartment/charming-studio-in-excellent-location/63c124ceb1d8c5099cf4ae1c?dataLayerKey=8OpGxmx_Scp8m8gJ4LBrE',\n",
       " 'https://wunderflats.com/en/furnished-apartment/charming-apartment-ideally-located/62da603a55bf40dc9c31015f?dataLayerKey=8OpGxmx_Scp8m8gJ4LBrE',\n",
       " 'https://wunderflats.com/en/furnished-apartment/magnificent-apartment-close-to-paris/62fca54c6fee73808d2263db?dataLayerKey=8OpGxmx_Scp8m8gJ4LBrE',\n",
       " 'https://wunderflats.com/en/furnished-apartment/comfortable-studio-with-balcony-for-2-people/63e66411ab6ed1135270870f?dataLayerKey=8OpGxmx_Scp8m8gJ4LBrE',\n",
       " 'https://wunderflats.com/en/furnished-apartment/a-150m2-vintage-luxury-in-st-germainluxembourg/63622a493cefb6bb708e1e11?dataLayerKey=8OpGxmx_Scp8m8gJ4LBrE',\n",
       " 'https://wunderflats.com/en/furnished-apartment/sunny-montmartre-bright-modern-1-bedroom-in-montmartre-sleeps-up-to-4-guests/63c6aeef23b38cae41ef9528?dataLayerKey=8OpGxmx_Scp8m8gJ4LBrE',\n",
       " 'https://wunderflats.com/en/furnished-apartment/apartment-31m-gare-du-nord-gare-de-lest/63c661685ead462dddf72506?dataLayerKey=8OpGxmx_Scp8m8gJ4LBrE',\n",
       " 'https://wunderflats.com/en/furnished-apartment/charming-1-bedroom-apartment-in-the-heart-of-st-germain-des-pres/6346887ac8cb98a3b0ba3dc2?dataLayerKey=8OpGxmx_Scp8m8gJ4LBrE',\n",
       " 'https://wunderflats.com/en/furnished-apartment/g/share-accommodation-in-residence-with-terrace-flat-with-2-rooms-in-total/Kw-cqW4d3xJY1Xe7r3-VB?dataLayerKey=8OpGxmx_Scp8m8gJ4LBrE',\n",
       " 'https://wunderflats.com/en/furnished-apartment/lovely-and-modern-flat-near-st-suplice/63468639f082b0ed8a75e04b?dataLayerKey=8OpGxmx_Scp8m8gJ4LBrE',\n",
       " 'https://wunderflats.com/en/furnished-apartment/apt-2-bdr-near-republic/63cea68c83c67ec7a2366f10?dataLayerKey=r39mQaSd8myPE_zO-Mv17',\n",
       " 'https://wunderflats.com/en/furnished-apartment/studio-32m-quartier-de-lhorloge/63c128b4f28f74b0049082c9?dataLayerKey=r39mQaSd8myPE_zO-Mv17',\n",
       " 'https://wunderflats.com/en/furnished-apartment/furnished-rental-with-two-bedrooms-center-of-paris/63bee2b1e232cecc0d5fa2b6?dataLayerKey=r39mQaSd8myPE_zO-Mv17',\n",
       " 'https://wunderflats.com/en/furnished-apartment/splendid-studio-17th-district/63cfd8d90ed975f39e563b31?dataLayerKey=r39mQaSd8myPE_zO-Mv17',\n",
       " 'https://wunderflats.com/en/furnished-apartment/st-germain-luxe-pont-des-arts-where-history-meets-luxury/6336f5740a401445edcabbe8?dataLayerKey=r39mQaSd8myPE_zO-Mv17',\n",
       " 'https://wunderflats.com/en/furnished-apartment/cosy-studio-sacre-coeurabesse/63d23af63f293d857e189137?dataLayerKey=r39mQaSd8myPE_zO-Mv17',\n",
       " 'https://wunderflats.com/en/furnished-apartment/cosy-and-bright-studio-lariboisiere/63d10cb7c99c2695de0ab12c?dataLayerKey=r39mQaSd8myPE_zO-Mv17',\n",
       " 'https://wunderflats.com/en/furnished-apartment/cozy-amazing-suite-paris/63c54fc352f4b185a9f268c3?dataLayerKey=r39mQaSd8myPE_zO-Mv17',\n",
       " 'https://wunderflats.com/en/furnished-apartment/rental-furnished-apartment-2-rooms-55m-chatelet-les-halles/63bfff3fdeba39664b986d54?dataLayerKey=r39mQaSd8myPE_zO-Mv17',\n",
       " 'https://wunderflats.com/en/furnished-apartment/cozy-apartment-in-popular-area-paris/63cfd0a10ed975f39e5611f1?dataLayerKey=r39mQaSd8myPE_zO-Mv17',\n",
       " 'https://wunderflats.com/en/furnished-apartment/1-bedroom-apartment-between-ternes-and-porte-maillot/63452162f9fabbf613936079?dataLayerKey=r39mQaSd8myPE_zO-Mv17',\n",
       " 'https://wunderflats.com/en/furnished-apartment/st-germain-where-history-elegance-and-mystery-of-paris-mingle/63638f4dc626e2b03097c1b5?dataLayerKey=r39mQaSd8myPE_zO-Mv17',\n",
       " 'https://wunderflats.com/en/furnished-apartment/rental-furnished-appartment-4-rooms-100m/63c53043f808cbac2d320b1e?dataLayerKey=r39mQaSd8myPE_zO-Mv17',\n",
       " 'https://wunderflats.com/en/furnished-apartment/luxurious-apartment-located-in-the-historical-center-of-paris/63638de55668675bd0cb89d0?dataLayerKey=r39mQaSd8myPE_zO-Mv17',\n",
       " 'https://wunderflats.com/en/furnished-apartment/spacious-parisian-flat-at-the-heart-of-trendy-paris/63ea3d8118a61d71f5db7587?dataLayerKey=r39mQaSd8myPE_zO-Mv17',\n",
       " 'https://wunderflats.com/en/furnished-apartment/central-flat-close-to-the-latin-quarter-rue-de-sevres-and-the-invalides-in-an-old-building-of-the-7th-century/63c583536f2b5ab055d6c348?dataLayerKey=r39mQaSd8myPE_zO-Mv17',\n",
       " 'https://wunderflats.com/en/furnished-apartment/gorgeous-studio-close-to-city-center/63bfe53a43ef4cd94d33acd0?dataLayerKey=r39mQaSd8myPE_zO-Mv17',\n",
       " 'https://wunderflats.com/en/furnished-apartment/charming-studio-near-sacre-coeur/63d10577c99c2695de0a8a4a?dataLayerKey=r39mQaSd8myPE_zO-Mv17',\n",
       " 'https://wunderflats.com/en/furnished-apartment/apartment-2-rooms-35m-raspail-sevres-babylone/63c52dca402713e79b030e70?dataLayerKey=r39mQaSd8myPE_zO-Mv17',\n",
       " 'https://wunderflats.com/en/furnished-apartment/chic-studio-with-terrace-downtown-paris/634036f88f3cb177d4e5eece?dataLayerKey=r39mQaSd8myPE_zO-Mv17',\n",
       " 'https://wunderflats.com/en/furnished-apartment/studio-renovate-and-luminous-guy-moquet-st-ouen-bichat/63c9484381e142c250e6999d?dataLayerKey=r39mQaSd8myPE_zO-Mv17',\n",
       " 'https://wunderflats.com/en/furnished-apartment/cosy-renovated-1bdr-on-rue-des-archives-marais/63ce84bceb195439b206cd61?dataLayerKey=r39mQaSd8myPE_zO-Mv17',\n",
       " 'https://wunderflats.com/en/furnished-apartment/spacious-and-gorgeous-suite-with-private-terrace/62c2f8c027f94b369b6753a3?dataLayerKey=r39mQaSd8myPE_zO-Mv17',\n",
       " 'https://wunderflats.com/en/furnished-apartment/apartment-2-rooms-32m-champ-de-mars/63c527ea402713e79b02f0a7?dataLayerKey=r39mQaSd8myPE_zO-Mv17',\n",
       " 'https://wunderflats.com/en/furnished-apartment/beautiful-studio-ecole-militaireinvalides/63ce46a41fcf7d87f7ddf1c2?dataLayerKey=r39mQaSd8myPE_zO-Mv17',\n",
       " 'https://wunderflats.com/en/furnished-apartment/cosy-apartment-in-the-heart-of-paris/63d38401ac80981d4ef58c57?dataLayerKey=r39mQaSd8myPE_zO-Mv17',\n",
       " 'https://wunderflats.com/en/furnished-apartment/cosy-studio-with-all-the-necessary-comfort/63db9dbea4328d67b7429f87?dataLayerKey=r39mQaSd8myPE_zO-Mv17',\n",
       " 'https://wunderflats.com/en/furnished-apartment/furnished-flat-3-rooms-75m-champs-elysees/63c134cdac8791f4e9b25303?dataLayerKey=r39mQaSd8myPE_zO-Mv17',\n",
       " 'https://wunderflats.com/en/furnished-apartment/perfect-studio-in-popular-area/63bfee27f5f8e1fb01b89f05?dataLayerKey=r39mQaSd8myPE_zO-Mv17',\n",
       " 'https://wunderflats.com/en/furnished-apartment/studio-in-vibrant-neighbourhood/63c12220b1d8c5099cf49f78?dataLayerKey=r39mQaSd8myPE_zO-Mv17',\n",
       " 'https://wunderflats.com/en/furnished-apartment/charming-studio-ideally-arranged-and-located-close-to-the-canal-st-martin-and-the-buttes-chaumont/63c7d8afa5612ed9d820e519?dataLayerKey=n5k5wR8KZiNh3icwuRNwK',\n",
       " 'https://wunderflats.com/en/furnished-apartment/well-equipped-and-functional-studio-apartment/63c12a5730c8054dd7c2158e?dataLayerKey=n5k5wR8KZiNh3icwuRNwK',\n",
       " 'https://wunderflats.com/en/furnished-apartment/pleasant-idyllic-studio-tolbiac-place-ditalie/63cfd77f0ed975f39e56345f?dataLayerKey=n5k5wR8KZiNh3icwuRNwK',\n",
       " 'https://wunderflats.com/en/furnished-apartment/nice-studio-2pers-quai-de-jemmapes-colonel-fabien/63d00c4498d99b42b20ed76c?dataLayerKey=n5k5wR8KZiNh3icwuRNwK',\n",
       " 'https://wunderflats.com/en/furnished-apartment/rental-furnished-flat-4-rooms-110m-louvre-palais-royal/63c52b60f808cbac2d31f2b3?dataLayerKey=n5k5wR8KZiNh3icwuRNwK',\n",
       " 'https://wunderflats.com/en/furnished-apartment/one-bedroom-apartment-close-to-the-invalides/6347fbfd3546a73bfe16af8c?dataLayerKey=n5k5wR8KZiNh3icwuRNwK',\n",
       " 'https://wunderflats.com/en/furnished-apartment/cosy-apartment-near-the-canal-st-martin/62fcb9278c7d9360cd86e2b2?dataLayerKey=n5k5wR8KZiNh3icwuRNwK',\n",
       " 'https://wunderflats.com/en/furnished-apartment/charming-studio-near-bastille/63c532db7dd456f0d85bc93b?dataLayerKey=n5k5wR8KZiNh3icwuRNwK',\n",
       " 'https://wunderflats.com/en/furnished-apartment/studio-20m-aligre/63c672b30a83251c3f1f7db9?dataLayerKey=n5k5wR8KZiNh3icwuRNwK',\n",
       " 'https://wunderflats.com/en/furnished-apartment/superb-apartment-near-sacre-coeur/63d23752aa5b3db409e5500c?dataLayerKey=n5k5wR8KZiNh3icwuRNwK',\n",
       " 'https://wunderflats.com/en/furnished-apartment/superb-flat-on-avenue-de-flandre-in-a-modern-building-perfect-for-students-or-professionals/63c9248e60913690a0ea1654?dataLayerKey=n5k5wR8KZiNh3icwuRNwK',\n",
       " 'https://wunderflats.com/en/furnished-apartment/rental-furnished-appartment-2-rooms-32m-montorgueil/63c00a272580326cc99bca0d?dataLayerKey=n5k5wR8KZiNh3icwuRNwK',\n",
       " 'https://wunderflats.com/en/furnished-apartment/rental-furnished-appartment-3-rooms-82m-paris/63c15aa9ac8791f4e9b30a51?dataLayerKey=n5k5wR8KZiNh3icwuRNwK',\n",
       " 'https://wunderflats.com/en/furnished-apartment/charming-two-bedrooms-close-to-the-pantheon/63bed0a8f465c62d045f0447?dataLayerKey=n5k5wR8KZiNh3icwuRNwK',\n",
       " 'https://wunderflats.com/en/furnished-apartment/lovely-flat-of-35sqm-with-a-high-mezzanine/63ff74435b8345e7bed6691e?dataLayerKey=n5k5wR8KZiNh3icwuRNwK',\n",
       " 'https://wunderflats.com/en/furnished-apartment/very-nice-apartment-for-families-hocheetoile/63c7c065c24d0bc1cb1889c3?dataLayerKey=n5k5wR8KZiNh3icwuRNwK',\n",
       " 'https://wunderflats.com/en/furnished-apartment/charming-studio-buttes-chaumont/63cfbdab506c831c67a34a95?dataLayerKey=n5k5wR8KZiNh3icwuRNwK',\n",
       " 'https://wunderflats.com/en/furnished-apartment/beautiful-1-bedroom-flat-ideally-located/63bfd87b14fef279bde43b90?dataLayerKey=n5k5wR8KZiNh3icwuRNwK',\n",
       " 'https://wunderflats.com/en/furnished-apartment/rental-furnished-appartment-2-rooms-50m-marais-bastille-75003/63c16860b2a35180da5ec2ef?dataLayerKey=n5k5wR8KZiNh3icwuRNwK',\n",
       " 'https://wunderflats.com/en/furnished-apartment/rental-furnished-flat-3-rooms-72m-marais-bastille/63c131dbe92f5244cd45270f?dataLayerKey=n5k5wR8KZiNh3icwuRNwK',\n",
       " 'https://wunderflats.com/en/furnished-apartment/rental-furnished-flat-3-rooms-54m-parc-montsouris/63c181ddac8791f4e9b3c988?dataLayerKey=n5k5wR8KZiNh3icwuRNwK',\n",
       " 'https://wunderflats.com/en/furnished-apartment/beautiful-typically-parisian-flat-with-a-balcony-ideally-located/63d922b4533e1948af65e5b7?dataLayerKey=n5k5wR8KZiNh3icwuRNwK',\n",
       " 'https://wunderflats.com/en/furnished-apartment/bright-and-amazing-apartment-in-the-heart-of-paris/63c925678a16df75a5b3c4c6?dataLayerKey=n5k5wR8KZiNh3icwuRNwK',\n",
       " 'https://wunderflats.com/en/furnished-apartment/ideally-located-and-fully-furnished-flat/63c6b2836b4544f3ecad51d5?dataLayerKey=n5k5wR8KZiNh3icwuRNwK',\n",
       " 'https://wunderflats.com/en/furnished-apartment/rental-furnished-flat-3-rooms-75m-paris/63c155abac8791f4e9b2f776?dataLayerKey=n5k5wR8KZiNh3icwuRNwK',\n",
       " 'https://wunderflats.com/en/furnished-apartment/superb-and-cosy-2br-apt-in-paris-best-for-families/62e027319aa72094fdd80eaf?dataLayerKey=n5k5wR8KZiNh3icwuRNwK',\n",
       " 'https://wunderflats.com/en/furnished-apartment/rental-furnished-apartment-2-rooms-34m-marais-bastille/63c02a882580326cc99c76a5?dataLayerKey=n5k5wR8KZiNh3icwuRNwK',\n",
       " 'https://wunderflats.com/en/furnished-apartment/superb-typical-parisian-flat-refurbished-in-the-center-of-paris-2p/63c80d3c894859701ae2fc35?dataLayerKey=n5k5wR8KZiNh3icwuRNwK',\n",
       " 'https://wunderflats.com/en/furnished-apartment/apartment-in-borough-sentier-bonne-nouvelle/63c1281830c8054dd7c205e9?dataLayerKey=n5k5wR8KZiNh3icwuRNwK',\n",
       " 'https://wunderflats.com/en/furnished-apartment/fully-furnished-and-ideally-located-studio/63c57c0b207454cf33f7cfe0?dataLayerKey=n5k5wR8KZiNh3icwuRNwK',\n",
       " 'https://wunderflats.com/en/furnished-apartment/perfectly-optimised-studio-in-the-heart-of-the-17th-arrondissement-of-paris/63c6ac766b4544f3ecad32cc?dataLayerKey=m8SkjApz14jT_jEWh4f3E',\n",
       " 'https://wunderflats.com/en/furnished-apartment/wonderful-and-cute-loft-with-nice-neighbours/6351101de525b36ea36d1847?dataLayerKey=m8SkjApz14jT_jEWh4f3E',\n",
       " 'https://wunderflats.com/en/furnished-apartment/nice-studio-near-sacre-coeur/63d10f33c99c2695de0acae1?dataLayerKey=m8SkjApz14jT_jEWh4f3E',\n",
       " 'https://wunderflats.com/en/furnished-apartment/studio-35m-marais-bastille/63c13a20f28f74b00490db79?dataLayerKey=m8SkjApz14jT_jEWh4f3E',\n",
       " 'https://wunderflats.com/en/furnished-apartment/nice-little-studio/63c1640c9ebf4425a8b67b6f?dataLayerKey=m8SkjApz14jT_jEWh4f3E',\n",
       " 'https://wunderflats.com/en/furnished-apartment/beautiful-studio-rivoli-notre-dame/63ce9f8e83c67ec7a2364ff1?dataLayerKey=m8SkjApz14jT_jEWh4f3E',\n",
       " 'https://wunderflats.com/en/furnished-apartment/lovely-studio-with-separate-bedroom-and-toilet-perfectly-located/63be75f4d1ddc62dc713997a?dataLayerKey=m8SkjApz14jT_jEWh4f3E',\n",
       " 'https://wunderflats.com/en/furnished-apartment/furnished-apartment-2-rooms-marais-beaubourg-hotel-de-ville-area/63dbd5c87e0fe601dc3434e5?dataLayerKey=m8SkjApz14jT_jEWh4f3E',\n",
       " 'https://wunderflats.com/en/furnished-apartment/apartment-2-rooms-55m-champs-elysees-etoile/63c5599a207454cf33f7130d?dataLayerKey=m8SkjApz14jT_jEWh4f3E',\n",
       " 'https://wunderflats.com/en/furnished-apartment/2-bedroom-2-bathroom-in-the-heart-of-the-charming-12th/6343ea4bc7e1a4653feb24dc?dataLayerKey=m8SkjApz14jT_jEWh4f3E',\n",
       " 'https://wunderflats.com/en/furnished-apartment/lovely-and-cosy-studio-in-the-heart-of-the-19th-arrondissement-of-paris-refurbished/63c560d9207454cf33f7331e?dataLayerKey=m8SkjApz14jT_jEWh4f3E',\n",
       " 'https://wunderflats.com/en/furnished-apartment/charming-apartment-in-the-18th/63d259c5ac80981d4ef31186?dataLayerKey=m8SkjApz14jT_jEWh4f3E',\n",
       " 'https://wunderflats.com/en/furnished-apartment/comfortable-1-room-apartment-with-view/63c1853b9ebf4425a8b73705?dataLayerKey=m8SkjApz14jT_jEWh4f3E',\n",
       " 'https://wunderflats.com/en/furnished-apartment/charming-studio-bastille/63cfb006506c831c67a30e1e?dataLayerKey=m8SkjApz14jT_jEWh4f3E',\n",
       " 'https://wunderflats.com/en/furnished-apartment/studio-of-16m2-near-porte-dasnieres/63cfb5e5506c831c67a326dc?dataLayerKey=m8SkjApz14jT_jEWh4f3E',\n",
       " 'https://wunderflats.com/en/furnished-apartment/studio-sentier-bonne-nouvelle/63bff037f5f8e1fb01b8a6e7?dataLayerKey=m8SkjApz14jT_jEWh4f3E',\n",
       " 'https://wunderflats.com/en/furnished-apartment/great-charming-apartment-close-to-sacre-coeur/63c54bc77dd456f0d85c6b3b?dataLayerKey=m8SkjApz14jT_jEWh4f3E',\n",
       " 'https://wunderflats.com/en/furnished-apartment/charming-studio-in-levallois-perret/63c7d446acbb564f0ddd9c59?dataLayerKey=m8SkjApz14jT_jEWh4f3E',\n",
       " 'https://wunderflats.com/en/furnished-apartment/nice-2-rooms-refurbished-moulin-rougepigale/63caad0a370f3b647639d16a?dataLayerKey=m8SkjApz14jT_jEWh4f3E',\n",
       " 'https://wunderflats.com/en/furnished-apartment/cosy-studio-in-the-heart-of-belleville/63cffde798d99b42b20e9242?dataLayerKey=m8SkjApz14jT_jEWh4f3E',\n",
       " 'https://wunderflats.com/en/furnished-apartment/charming-studio-close-to-les-halles/63c923788a16df75a5b3bb3e?dataLayerKey=m8SkjApz14jT_jEWh4f3E',\n",
       " 'https://wunderflats.com/en/furnished-apartment/cute-studio-great-view/63c182c7495d6e92b07a7b2a?dataLayerKey=m8SkjApz14jT_jEWh4f3E',\n",
       " 'https://wunderflats.com/en/furnished-apartment/studio-paris-rue-dauphine-saint-germain-pont-neuf/63dd0ebf59607e9391d6b25b?dataLayerKey=m8SkjApz14jT_jEWh4f3E',\n",
       " 'https://wunderflats.com/en/furnished-apartment/t2-quiet-and-refurbished/63c14c5f9ebf4425a8b61bd7?dataLayerKey=m8SkjApz14jT_jEWh4f3E',\n",
       " 'https://wunderflats.com/en/furnished-apartment/rental-furnished-appartment-2-rooms-40m-ile-de-la-cite-ile-saint-louis-75004/63c180aeb2a35180da5f3a68?dataLayerKey=m8SkjApz14jT_jEWh4f3E',\n",
       " 'https://wunderflats.com/en/furnished-apartment/apartment-studio-24m-sentier-bonne-nouvelle/63bfea6f43ef4cd94d33c617?dataLayerKey=m8SkjApz14jT_jEWh4f3E',\n",
       " 'https://wunderflats.com/en/furnished-apartment/modern-studio-arc-de-triomphe/63ce6a183817c8914366da02?dataLayerKey=m8SkjApz14jT_jEWh4f3E',\n",
       " 'https://wunderflats.com/en/furnished-apartment/wonderful-and-spacious-apartment-with-parking-grands-boulevard/6400917978a3dd36c552d8aa?dataLayerKey=m8SkjApz14jT_jEWh4f3E',\n",
       " 'https://wunderflats.com/en/furnished-apartment/awesome-wonderful-suite-with-nice-neighbours/634e71ccefaebd22430090ff?dataLayerKey=m8SkjApz14jT_jEWh4f3E',\n",
       " 'https://wunderflats.com/en/furnished-apartment/flat-of-45m2-located-in-the-14th-district-of-paris-close-to-transport/63e0bababe0a7de139413f45?dataLayerKey=m8SkjApz14jT_jEWh4f3E',\n",
       " 'https://wunderflats.com/en/furnished-apartment/flat-with-separate-bedroom-in-the-heart-of-paris/63bfd55714fef279bde42a1d?dataLayerKey=E05kZ9xOmlPjk7-4dJjd6',\n",
       " 'https://wunderflats.com/en/furnished-apartment/cosy-studio-in-the-heart-of-belleville-close-to-transport/63c7c3bea5612ed9d8208c53?dataLayerKey=E05kZ9xOmlPjk7-4dJjd6',\n",
       " 'https://wunderflats.com/en/furnished-apartment/charming-2-room-apartment-completely-refurbished-and-located-on-the-edge-of-the-marsh-and-bastille/63c7a3e7a5612ed9d8200429?dataLayerKey=E05kZ9xOmlPjk7-4dJjd6',\n",
       " 'https://wunderflats.com/en/furnished-apartment/lovely-studio-in-le-marais/635a4dc97db3ad0560b740c1?dataLayerKey=E05kZ9xOmlPjk7-4dJjd6',\n",
       " 'https://wunderflats.com/en/furnished-apartment/apartment-2-rooms-33m-grands-boulevards/63c5656a207454cf33f74cdd?dataLayerKey=E05kZ9xOmlPjk7-4dJjd6',\n",
       " 'https://wunderflats.com/en/furnished-apartment/studio-23m-sentier-bonne-nouvelle/63bfe1aff5f8e1fb01b8666b?dataLayerKey=E05kZ9xOmlPjk7-4dJjd6',\n",
       " 'https://wunderflats.com/en/furnished-apartment/haussmanian-two-bedroom-flat-perfect-for-a-flat-share/63beea64e232cecc0d5fc28c?dataLayerKey=E05kZ9xOmlPjk7-4dJjd6',\n",
       " 'https://wunderflats.com/en/furnished-apartment/nice-studio-villiersbatignolles/63d39040ac80981d4ef5ae54?dataLayerKey=E05kZ9xOmlPjk7-4dJjd6',\n",
       " 'https://wunderflats.com/en/furnished-apartment/superb-studio-near-the-canal-st-martin/62fb971886dc278e647b759c?dataLayerKey=E05kZ9xOmlPjk7-4dJjd6',\n",
       " 'https://wunderflats.com/en/furnished-apartment/apartment-in-a-quiet-area-near-the-place-des-abbesses/63452b1908ef9c975335e359?dataLayerKey=E05kZ9xOmlPjk7-4dJjd6',\n",
       " 'https://wunderflats.com/en/furnished-apartment/neat-studio-heart-of-11h/6315f46fa9015163ce8cd34a?dataLayerKey=E05kZ9xOmlPjk7-4dJjd6',\n",
       " 'https://wunderflats.com/en/furnished-apartment/cosy-apartment-at-the-gates-of-paris/63c7a5f6acbb564f0ddce941?dataLayerKey=E05kZ9xOmlPjk7-4dJjd6',\n",
       " 'https://wunderflats.com/en/furnished-apartment/100-sqm-jardin-du-luxembourg-paris-6-saint-placide/63610a662dece226e292e738?dataLayerKey=E05kZ9xOmlPjk7-4dJjd6',\n",
       " 'https://wunderflats.com/en/furnished-apartment/1-bedroom-flat-40m-louvre-palais-royal/63c007152580326cc99bb5ca?dataLayerKey=E05kZ9xOmlPjk7-4dJjd6',\n",
       " 'https://wunderflats.com/en/furnished-apartment/apartment-2-rooms-53m-picpus-reuilly-nation/63c67dc043ef9d9a79051ced?dataLayerKey=E05kZ9xOmlPjk7-4dJjd6',\n",
       " 'https://wunderflats.com/en/furnished-apartment/spacious-apartment-clichy/62de8d43dea33602f7f0464b?dataLayerKey=E05kZ9xOmlPjk7-4dJjd6',\n",
       " 'https://wunderflats.com/en/furnished-apartment/lovely-apartment-carefully-renovated/6363a369dcd78cb9fa5870fe?dataLayerKey=E05kZ9xOmlPjk7-4dJjd6',\n",
       " 'https://wunderflats.com/en/furnished-apartment/beautiful-and-quiet-apartment-in-the-heart-of-town-paris/63510acad2b153e05617aa69?dataLayerKey=E05kZ9xOmlPjk7-4dJjd6',\n",
       " 'https://wunderflats.com/en/furnished-apartment/rental-furnished-appartment-3-rooms-65m/63c13b64ac8791f4e9b27776?dataLayerKey=E05kZ9xOmlPjk7-4dJjd6',\n",
       " 'https://wunderflats.com/en/furnished-apartment/beautiful-flat-in-the-17th-arrondissement-of-paris-avenue-de-wagram-near-the-arc-de-triomphe/63c674fb6b4544f3ecac044f?dataLayerKey=E05kZ9xOmlPjk7-4dJjd6',\n",
       " 'https://wunderflats.com/en/furnished-apartment/rental-furnished-flat-3-rooms-80m-hotel-de-ville/63c12acae92f5244cd44f7d3?dataLayerKey=E05kZ9xOmlPjk7-4dJjd6',\n",
       " 'https://wunderflats.com/en/furnished-apartment/charming-studio-gare-du-nord/63cfbafb506c831c67a33fe8?dataLayerKey=E05kZ9xOmlPjk7-4dJjd6',\n",
       " 'https://wunderflats.com/en/furnished-apartment/2-bedrooms-apartment-in-batignolles/63efa5cf2c1ee5fa69752098?dataLayerKey=E05kZ9xOmlPjk7-4dJjd6',\n",
       " 'https://wunderflats.com/en/furnished-apartment/pretty-and-gorgeous-loft-in-the-heart-of-10th/637d0a5ef498b6dd8d79fca1?dataLayerKey=E05kZ9xOmlPjk7-4dJjd6',\n",
       " 'https://wunderflats.com/en/furnished-apartment/wonderful-2-bedroom-apartment-close-to-louvre-with-balcony-and-parking/63fdebec7e980c91a38e682b?dataLayerKey=E05kZ9xOmlPjk7-4dJjd6',\n",
       " 'https://wunderflats.com/en/furnished-apartment/rental-furnished-flat-3-rooms-quartier-latin-saint-germain-de-pres/63c15dbaac8791f4e9b31912?dataLayerKey=E05kZ9xOmlPjk7-4dJjd6',\n",
       " 'https://wunderflats.com/en/furnished-apartment/rental-furnished-flat-3-rooms-55m-champs-elysees/63c177bdac8791f4e9b39e29?dataLayerKey=E05kZ9xOmlPjk7-4dJjd6',\n",
       " 'https://wunderflats.com/en/furnished-apartment/cute-and-amazing-apartment/634ea92a3c9804f5615875b0?dataLayerKey=E05kZ9xOmlPjk7-4dJjd6',\n",
       " 'https://wunderflats.com/en/furnished-apartment/beautiful-home-with-terrace-and-parking/6318b54ff3610bc8aeb4b293?dataLayerKey=E05kZ9xOmlPjk7-4dJjd6',\n",
       " 'https://wunderflats.com/en/furnished-apartment/charming-flat-oberkampfsaintonge/63c911198a16df75a5b3618a?dataLayerKey=E05kZ9xOmlPjk7-4dJjd6',\n",
       " 'https://wunderflats.com/en/furnished-apartment/70sqm-flat-on-the-saint-louis-island/63c126bde92f5244cd44c765?dataLayerKey=oeCqRo-tpygjxcu2jKZ5N',\n",
       " 'https://wunderflats.com/en/furnished-apartment/studio-charming-2-pax-oberkampfsaintonge/63cfcdad0ed975f39e5603ec?dataLayerKey=oeCqRo-tpygjxcu2jKZ5N',\n",
       " 'https://wunderflats.com/en/furnished-apartment/beautiful-flat-located-in-the-heart-of-paris/63c7a0a5a5612ed9d81ff959?dataLayerKey=oeCqRo-tpygjxcu2jKZ5N',\n",
       " 'https://wunderflats.com/en/furnished-apartment/apartment-2-rooms-55m-martyrs-saint-georges/63c671d443ef9d9a7904ec46?dataLayerKey=oeCqRo-tpygjxcu2jKZ5N',\n",
       " 'https://wunderflats.com/en/furnished-apartment/rental-furnished-appartment-1-bedroom-37m-marais-bastille-75004/63c171dbb2a35180da5ef975?dataLayerKey=oeCqRo-tpygjxcu2jKZ5N',\n",
       " 'https://wunderflats.com/en/furnished-apartment/rental-furnished-apartment-3-rooms-60m-marais-bastille/63c11ca415a9b8cf6af654f1?dataLayerKey=oeCqRo-tpygjxcu2jKZ5N',\n",
       " 'https://wunderflats.com/en/furnished-apartment/furnished-studio-montmartresacre-coeur/63d92e78533e1948af661bdd?dataLayerKey=oeCqRo-tpygjxcu2jKZ5N',\n",
       " 'https://wunderflats.com/en/furnished-apartment/studio-24m-sentier-bonne-nouvelle/63c1238975b14f621485c506?dataLayerKey=oeCqRo-tpygjxcu2jKZ5N',\n",
       " 'https://wunderflats.com/en/furnished-apartment/charming-and-bright-two-room-apartment/633ed9368c462a65d2ee469c?dataLayerKey=oeCqRo-tpygjxcu2jKZ5N',\n",
       " 'https://wunderflats.com/en/furnished-apartment/outstanding-apartement-in-le-marais/63c160c830c8054dd7c32629?dataLayerKey=oeCqRo-tpygjxcu2jKZ5N',\n",
       " 'https://wunderflats.com/en/furnished-apartment/apartment-2-rooms-35m-invalides/63c536b4402713e79b033349?dataLayerKey=oeCqRo-tpygjxcu2jKZ5N',\n",
       " 'https://wunderflats.com/en/furnished-apartment/superb-bright-studio-clichy-montmartre/63c5779105f419baac9b08b6?dataLayerKey=oeCqRo-tpygjxcu2jKZ5N',\n",
       " 'https://wunderflats.com/en/furnished-apartment/apartment-2-rooms-56m-champs-elysees-etoile/63c55f01207454cf33f72b9c?dataLayerKey=oeCqRo-tpygjxcu2jKZ5N',\n",
       " 'https://wunderflats.com/en/furnished-apartment/furnished-apartment-2-rooms-gare-de-lyon/63c685c843ef9d9a79053b96?dataLayerKey=oeCqRo-tpygjxcu2jKZ5N',\n",
       " 'https://wunderflats.com/en/furnished-apartment/charming-studio-of-11m2-located-in-the-17th-district-of-paris-close-to-transport/63da883a2a30cfaa9f207e48?dataLayerKey=oeCqRo-tpygjxcu2jKZ5N',\n",
       " 'https://wunderflats.com/en/furnished-apartment/perfectly-optimised-flat-very-well-located-in-the-heart-of-the-17th-arrondissement-of-paris/63c7b023a5612ed9d8202fb8?dataLayerKey=oeCqRo-tpygjxcu2jKZ5N',\n",
       " 'https://wunderflats.com/en/furnished-apartment/rental-furnished-appartment-2-rooms-60m-marais-bastille-75003/63c169e1b2a35180da5ec965?dataLayerKey=oeCqRo-tpygjxcu2jKZ5N',\n",
       " 'https://wunderflats.com/en/furnished-apartment/ideal-accommodation-for-students-and-young-workers-located-in-a-very-chic-and-pleasant-area/63c7ab78a5612ed9d8201b24?dataLayerKey=oeCqRo-tpygjxcu2jKZ5N',\n",
       " 'https://wunderflats.com/en/furnished-apartment/charming-studio-20m2-buttes-chaumont/63c7b9c5acbb564f0ddd2b24?dataLayerKey=oeCqRo-tpygjxcu2jKZ5N',\n",
       " 'https://wunderflats.com/en/furnished-apartment/superb-accommodation-on-avenue-de-flandre-in-a-modern-building-perfect-for-students-or-professionals/63c67ab96b4544f3ecac1fe8?dataLayerKey=oeCqRo-tpygjxcu2jKZ5N',\n",
       " 'https://wunderflats.com/en/furnished-apartment/modern-and-beautiful-apartment-in-excellent-location/634e62a7931a4e6ad1ce8bf4?dataLayerKey=oeCqRo-tpygjxcu2jKZ5N',\n",
       " 'https://wunderflats.com/en/furnished-apartment/gorgeous-studio-close-to-montparnasse/63f3570953cd5e9bb4420771?dataLayerKey=oeCqRo-tpygjxcu2jKZ5N',\n",
       " 'https://wunderflats.com/en/furnished-apartment/studio-20m-raspail-sevres-babylone/63c52cb9bcfe4121e28c1dc7?dataLayerKey=oeCqRo-tpygjxcu2jKZ5N',\n",
       " 'https://wunderflats.com/en/furnished-apartment/charming-studio-of-11m2-located-in-the-17th-district-of-paris-close-to-transport/63dd03234ffa9abfb5af2525?dataLayerKey=oeCqRo-tpygjxcu2jKZ5N',\n",
       " 'https://wunderflats.com/en/furnished-apartment/rental-furnished-appartment-2-rooms-34m-chatelet-les-halles/63c00385deba39664b987dbc?dataLayerKey=oeCqRo-tpygjxcu2jKZ5N',\n",
       " 'https://wunderflats.com/en/furnished-apartment/charming-studio-of-11m2-located-in-the-17th-district-of-paris-close-to-transport/63dccbb363e8ec190b7fd30d?dataLayerKey=oeCqRo-tpygjxcu2jKZ5N',\n",
       " 'https://wunderflats.com/en/furnished-apartment/studio-22m-bastille-faubourg-st-antoine/63c66ef30a83251c3f1f6d40?dataLayerKey=oeCqRo-tpygjxcu2jKZ5N',\n",
       " 'https://wunderflats.com/en/furnished-apartment/pretty-and-perfect-studio-in-nice-area/63c51cb07dd456f0d85b5edc?dataLayerKey=oeCqRo-tpygjxcu2jKZ5N',\n",
       " 'https://wunderflats.com/en/furnished-apartment/large-family-apartment-tastefully-decorated/63639d7472d61943c59e2b35?dataLayerKey=oeCqRo-tpygjxcu2jKZ5N',\n",
       " 'https://wunderflats.com/en/furnished-apartment/amazing-studio-in-excellent-location/63dbd9f6096aab6162b9e48e?dataLayerKey=oeCqRo-tpygjxcu2jKZ5N',\n",
       " 'https://wunderflats.com/en/furnished-apartment/studio-16m-haussman-opera/63c65f7f5ead462dddf718de?dataLayerKey=cNfCfmItWBAEGuvNMn3LX',\n",
       " 'https://wunderflats.com/en/furnished-apartment/modern-and-original-loft-in-the-heart-of-the-marais/6390add1d2713ff232b43d8e?dataLayerKey=cNfCfmItWBAEGuvNMn3LX',\n",
       " 'https://wunderflats.com/en/furnished-apartment/apartment-1-room-40m-champ-de-mars/63c678050a83251c3f1f95ac?dataLayerKey=cNfCfmItWBAEGuvNMn3LX',\n",
       " 'https://wunderflats.com/en/furnished-apartment/2-rooms-rue-saint-honore-palais-royal/63e0e898be0a7de13941f811?dataLayerKey=cNfCfmItWBAEGuvNMn3LX',\n",
       " 'https://wunderflats.com/en/furnished-apartment/charming-studio-champs-elysees/63d396caab11169eb37d9015?dataLayerKey=cNfCfmItWBAEGuvNMn3LX',\n",
       " 'https://wunderflats.com/en/furnished-apartment/newly-renovated-studio-elysee-st-honore/63cfcbd80ed975f39e55fde4?dataLayerKey=cNfCfmItWBAEGuvNMn3LX',\n",
       " 'https://wunderflats.com/en/furnished-apartment/exclusive-apartment-between-madeleine-and-concorde/63356fb18afce97f3c28ef94?dataLayerKey=cNfCfmItWBAEGuvNMn3LX',\n",
       " 'https://wunderflats.com/en/furnished-apartment/cosy-studio-located-in-the-8th-arrondissement-of-paris-close-to-the-champs-elysees-and-the-arc-de-triomphe/63c7b32aa5612ed9d8203dbf?dataLayerKey=cNfCfmItWBAEGuvNMn3LX',\n",
       " 'https://wunderflats.com/en/furnished-apartment/studio-36m-montorgueil/63bfe40af5f8e1fb01b87940?dataLayerKey=cNfCfmItWBAEGuvNMn3LX',\n",
       " 'https://wunderflats.com/en/furnished-apartment/cosy-1br4p-republique-temple/63c54ddf52f4b185a9f25d9b?dataLayerKey=cNfCfmItWBAEGuvNMn3LX',\n",
       " 'https://wunderflats.com/en/furnished-apartment/rental-furnished-appartment-2-rooms-37m-marais-bastille-75003/63c16c43b2a35180da5ed4bb?dataLayerKey=cNfCfmItWBAEGuvNMn3LX',\n",
       " 'https://wunderflats.com/en/furnished-apartment/caulaincourt-charm/62cfc95d7aecf42799b39433?dataLayerKey=cNfCfmItWBAEGuvNMn3LX',\n",
       " 'https://wunderflats.com/en/furnished-apartment/studio-cosy-saint-augustin/63d7c7afe7ada1f9134bcce4?dataLayerKey=cNfCfmItWBAEGuvNMn3LX',\n",
       " 'https://wunderflats.com/en/furnished-apartment/studio-of-15m2-in-the-18th-district-close-to-transport/63d7c26fefb524b6a8a15d0a?dataLayerKey=cNfCfmItWBAEGuvNMn3LX',\n",
       " 'https://wunderflats.com/en/furnished-apartment/rental-furnished-appartment-2-rooms-37m-grands-boulevards-lafayette/63c011ee2580326cc99bee1f?dataLayerKey=cNfCfmItWBAEGuvNMn3LX',\n",
       " 'https://wunderflats.com/en/furnished-apartment/studio-in-the-heart-of-the-7th-district/63445bf6311ad15aa0145f50?dataLayerKey=cNfCfmItWBAEGuvNMn3LX',\n",
       " 'https://wunderflats.com/en/furnished-apartment/beautiful-and-comfy-studio/63c16e279ebf4425a8b6b926?dataLayerKey=cNfCfmItWBAEGuvNMn3LX',\n",
       " 'https://wunderflats.com/en/furnished-apartment/charming-studio-in-levallois-perret/63c7d5f5acbb564f0ddda691?dataLayerKey=cNfCfmItWBAEGuvNMn3LX',\n",
       " 'https://wunderflats.com/en/furnished-apartment/elegant-apartment-close-to-champs-elysees/63c5366f7dd456f0d85be19d?dataLayerKey=cNfCfmItWBAEGuvNMn3LX',\n",
       " 'https://wunderflats.com/en/furnished-apartment/cosy-studio-near-atelier-des-lumieres/63d1293d3c7fa41da3241e4a?dataLayerKey=cNfCfmItWBAEGuvNMn3LX',\n",
       " 'https://wunderflats.com/en/furnished-apartment/charming-studio-near-alesia/63c7d389c24d0bc1cb18e229?dataLayerKey=cNfCfmItWBAEGuvNMn3LX',\n",
       " 'https://wunderflats.com/en/furnished-apartment/gorgeous-2-bedrooms-near-champ-de-mars/638dcd08f8588a62c886a2a5?dataLayerKey=cNfCfmItWBAEGuvNMn3LX',\n",
       " 'https://wunderflats.com/en/furnished-apartment/rental-furnished-appartment-3-bedrooms-90m-raspail-sevres-babylone/63c111ee2a71a261891981b6?dataLayerKey=cNfCfmItWBAEGuvNMn3LX',\n",
       " 'https://wunderflats.com/en/furnished-apartment/apartment-2-rooms-42-sqm-montmartre-pigalle/63c6888943ef9d9a79054d5e?dataLayerKey=cNfCfmItWBAEGuvNMn3LX',\n",
       " 'https://wunderflats.com/en/furnished-apartment/lovely-flat-on-the-top-floor-with-lift/6345633523f3b87abde12b71?dataLayerKey=cNfCfmItWBAEGuvNMn3LX',\n",
       " 'https://wunderflats.com/en/furnished-apartment/superb-apartment-convention/63d3a54aab11169eb37dc063?dataLayerKey=cNfCfmItWBAEGuvNMn3LX',\n",
       " 'https://wunderflats.com/en/furnished-apartment/charming-flat-in-the-heart-of-town/63bfd6ada01d7d1a71b1459e?dataLayerKey=cNfCfmItWBAEGuvNMn3LX',\n",
       " 'https://wunderflats.com/en/furnished-apartment/beautiful-modern-two-room-flat/63c55711aec3fef66df6920b?dataLayerKey=cNfCfmItWBAEGuvNMn3LX',\n",
       " 'https://wunderflats.com/en/furnished-apartment/super-3bdr-w-terrace-pereire/63d3e2eb10581f745f4a9665?dataLayerKey=cNfCfmItWBAEGuvNMn3LX',\n",
       " 'https://wunderflats.com/en/furnished-apartment/cozy-studio-belleville-goncourt/63c15ba79ebf4425a8b6589c?dataLayerKey=cNfCfmItWBAEGuvNMn3LX',\n",
       " 'https://wunderflats.com/en/furnished-apartment/apartment-facing-the-canal-st-martin/63637a9e9f52902d24f76d7c?dataLayerKey=khxsyPP17i7TLfj4zASTB',\n",
       " 'https://wunderflats.com/en/furnished-apartment/spacious-1-bedroom-marais/6396eb23de3a7742c11749b1?dataLayerKey=khxsyPP17i7TLfj4zASTB',\n",
       " 'https://wunderflats.com/en/furnished-apartment/amazing-studio-st-germain/63c551d652f4b185a9f27679?dataLayerKey=khxsyPP17i7TLfj4zASTB',\n",
       " 'https://wunderflats.com/en/furnished-apartment/perfect-charming-apartement/63c520eb7dd456f0d85b706a?dataLayerKey=khxsyPP17i7TLfj4zASTB',\n",
       " 'https://wunderflats.com/en/furnished-apartment/rental-furnished-apartment-1-bedroom-50m-arts-et-metiers-beaubourg/63c16dc7b2a35180da5edf87?dataLayerKey=khxsyPP17i7TLfj4zASTB',\n",
       " 'https://wunderflats.com/en/furnished-apartment/apartment-2-rooms-porte-maillot-etoile/63c7d12cdd0280e18da0f273?dataLayerKey=khxsyPP17i7TLfj4zASTB',\n",
       " 'https://wunderflats.com/en/furnished-apartment/furnished-appartment-2-rooms-36m-louvre-palais-royal/63bff743a01d7d1a71b1d5c1?dataLayerKey=khxsyPP17i7TLfj4zASTB',\n",
       " 'https://wunderflats.com/en/furnished-apartment/very-nice-studio-2-pers-batignolles-nollet/63ce957583c67ec7a2361e5a?dataLayerKey=khxsyPP17i7TLfj4zASTB',\n",
       " 'https://wunderflats.com/en/furnished-apartment/charming-studio-near-republique/63d245663f293d857e18af5a?dataLayerKey=khxsyPP17i7TLfj4zASTB',\n",
       " 'https://wunderflats.com/en/furnished-apartment/furnished-apartment-in-montmartre/63be8941720c7976e27c7ebb?dataLayerKey=khxsyPP17i7TLfj4zASTB',\n",
       " 'https://wunderflats.com/en/furnished-apartment/newly-renovated-flat-on-the-10th-floor-with-a-panoramic-view-bright-equipped-and-spacious/63c55a21207454cf33f71711?dataLayerKey=khxsyPP17i7TLfj4zASTB',\n",
       " 'https://wunderflats.com/en/furnished-apartment/furnished-flat-rental-tolbiac/63be911c720c7976e27ca1e5?dataLayerKey=khxsyPP17i7TLfj4zASTB',\n",
       " 'https://wunderflats.com/en/furnished-apartment/cosy-studio-view-on-the-canal-de-lourcq/63cacec9370f3b64763a5a15?dataLayerKey=khxsyPP17i7TLfj4zASTB',\n",
       " 'https://wunderflats.com/en/furnished-apartment/2p-modern-and-functional-picpus/63cfe7e00ed975f39e567b24?dataLayerKey=khxsyPP17i7TLfj4zASTB',\n",
       " 'https://wunderflats.com/en/furnished-apartment/rental-furnished-appartment-2-rooms-37m-beaumarchais-marais-75004/63c17e3ab2a35180da5f31ce?dataLayerKey=khxsyPP17i7TLfj4zASTB',\n",
       " 'https://wunderflats.com/en/furnished-apartment/furnished-appartment-3-rooms-70m-montparnasse/63d7c0b49b72b9b66a02a584?dataLayerKey=khxsyPP17i7TLfj4zASTB',\n",
       " 'https://wunderflats.com/en/furnished-apartment/magnificent-loft-2bdr-4pax-batignolles-2/63cfdbba0ed975f39e5647a2?dataLayerKey=khxsyPP17i7TLfj4zASTB',\n",
       " 'https://wunderflats.com/en/furnished-apartment/furnished-2-room-flat-opera/63dd07cef2e368a6a9cfd908?dataLayerKey=khxsyPP17i7TLfj4zASTB',\n",
       " 'https://wunderflats.com/en/furnished-apartment/rental-furnished-appartment-2-rooms-45m-latin-quarter-saint-germain-de-pres-odeon-75005/63c182e4b2a35180da5f4657?dataLayerKey=khxsyPP17i7TLfj4zASTB',\n",
       " 'https://wunderflats.com/en/furnished-apartment/furnished-duplex-rental-2-bedrooms-75m-jardin-du-luxembourg-paris/6374a0b8322e8f7347da7c43?dataLayerKey=khxsyPP17i7TLfj4zASTB',\n",
       " 'https://wunderflats.com/en/furnished-apartment/apartment-2-rooms-45m-oberkampf-republique/63c67a8443ef9d9a7905076d?dataLayerKey=khxsyPP17i7TLfj4zASTB',\n",
       " 'https://wunderflats.com/en/furnished-apartment/rental-furnished-apartment-2-rooms-45m-arts-et-metiers/63c02d132580326cc99c81f1?dataLayerKey=khxsyPP17i7TLfj4zASTB',\n",
       " 'https://wunderflats.com/en/furnished-apartment/apartment-2-rooms-31-sqm-picpus-reuilly-nation/63c6811f43ef9d9a79052af7?dataLayerKey=khxsyPP17i7TLfj4zASTB',\n",
       " 'https://wunderflats.com/en/furnished-apartment/furnished-flat-rental-louvre/63bea10d720c7976e27cec04?dataLayerKey=khxsyPP17i7TLfj4zASTB',\n",
       " 'https://wunderflats.com/en/furnished-apartment/charming-apartment-sorbonne/63c90493213bc125d8bcaec0?dataLayerKey=khxsyPP17i7TLfj4zASTB',\n",
       " 'https://wunderflats.com/en/furnished-apartment/rental-furnished-appartment-1-bedroom-60m-ile-de-la-cite-ile-saint-louis-75004/63c1753ab2a35180da5f0900?dataLayerKey=khxsyPP17i7TLfj4zASTB',\n",
       " 'https://wunderflats.com/en/furnished-apartment/very-nice-flat-completely-refurbished-and-decorated-with-taste-located-in-the-heart-of-the-11th-district-of-paris/63c928a160913690a0ea23fa?dataLayerKey=khxsyPP17i7TLfj4zASTB',\n",
       " 'https://wunderflats.com/en/furnished-apartment/apartment-2-rooms-34m-opera-75009-paris/63c56af1207454cf33f7712d?dataLayerKey=khxsyPP17i7TLfj4zASTB',\n",
       " 'https://wunderflats.com/en/furnished-apartment/triplex-in-the-heart-of-invalides/62a337e0d42b770fca8d877e?dataLayerKey=khxsyPP17i7TLfj4zASTB',\n",
       " 'https://wunderflats.com/en/furnished-apartment/new-and-gorgeous-suite-in-champs-elysees/63c149e0795e5a496ea3f6f6?dataLayerKey=khxsyPP17i7TLfj4zASTB',\n",
       " 'https://wunderflats.com/en/furnished-apartment/spacious-and-wonderful-loft/63d12a643c7fa41da324251c?dataLayerKey=Bc1r2iFDZXeNq_yCxxVQ-',\n",
       " 'https://wunderflats.com/en/furnished-apartment/apartment-2-rooms-45m-champs-elysees-etoile/63c561db207454cf33f7373d?dataLayerKey=Bc1r2iFDZXeNq_yCxxVQ-',\n",
       " 'https://wunderflats.com/en/furnished-apartment/super-studio-bright-gambetta/63c80b17894859701ae2f0dd?dataLayerKey=Bc1r2iFDZXeNq_yCxxVQ-',\n",
       " 'https://wunderflats.com/en/furnished-apartment/st-germain-sainte-chapelle-a-timeless-experience/6363e824b90b019995b500d3?dataLayerKey=Bc1r2iFDZXeNq_yCxxVQ-',\n",
       " 'https://wunderflats.com/en/furnished-apartment/apartment-2-rooms-33m-elysees-madeleine/63c555b0402713e79b03c873?dataLayerKey=Bc1r2iFDZXeNq_yCxxVQ-',\n",
       " 'https://wunderflats.com/en/furnished-apartment/super-apartment-4person-refurnished-jaures-ourcq/63c7c815c24d0bc1cb18ad9f?dataLayerKey=Bc1r2iFDZXeNq_yCxxVQ-',\n",
       " 'https://wunderflats.com/en/furnished-apartment/cosy-studio-etoile-friedland/63c91e198a16df75a5b3a0f2?dataLayerKey=Bc1r2iFDZXeNq_yCxxVQ-',\n",
       " 'https://wunderflats.com/en/furnished-apartment/studio-26m-champs-elysees-etoile/63c65b465ead462dddf706e1?dataLayerKey=Bc1r2iFDZXeNq_yCxxVQ-',\n",
       " 'https://wunderflats.com/en/furnished-apartment/studio-26m-arts-et-metiers-beaubourg/63c136bcf28f74b00490c98d?dataLayerKey=Bc1r2iFDZXeNq_yCxxVQ-',\n",
       " 'https://wunderflats.com/en/furnished-apartment/cosy-studio-belleville-mobility-lease/63ecfe9fc476c346acb57fb3?dataLayerKey=Bc1r2iFDZXeNq_yCxxVQ-',\n",
       " 'https://wunderflats.com/en/furnished-apartment/bright-beautiful-loft-voltaire/63c54a1a7dd456f0d85c6170?dataLayerKey=Bc1r2iFDZXeNq_yCxxVQ-',\n",
       " 'https://wunderflats.com/en/furnished-apartment/rental-furnished-apartment-3-rooms-48m-montorgueil-75002-paris/63c67f3f0a83251c3f1fc0af?dataLayerKey=Bc1r2iFDZXeNq_yCxxVQ-',\n",
       " 'https://wunderflats.com/en/furnished-apartment/apartment-with-a-balcony-maur/63c90f798a16df75a5b358e6?dataLayerKey=Bc1r2iFDZXeNq_yCxxVQ-',\n",
       " 'https://wunderflats.com/en/furnished-apartment/amazing-studio-marais-hotel-de-ville/63d3813cac80981d4ef585bf?dataLayerKey=Bc1r2iFDZXeNq_yCxxVQ-',\n",
       " 'https://wunderflats.com/en/furnished-apartment/apartment-in-a-beautiful-haussmannian-building/62cfd40c816fb9cc136726a3?dataLayerKey=Bc1r2iFDZXeNq_yCxxVQ-',\n",
       " 'https://wunderflats.com/en/furnished-apartment/charming-apartment-in-the-heart-of-montmartre/63452eed5fe1fa9ac49f560f?dataLayerKey=Bc1r2iFDZXeNq_yCxxVQ-',\n",
       " 'https://wunderflats.com/en/furnished-apartment/magnificent-loft-2bdr-4pax-batignolles/63caaa9e0e8b892209aeaf14?dataLayerKey=Bc1r2iFDZXeNq_yCxxVQ-',\n",
       " 'https://wunderflats.com/en/furnished-apartment/cozy-and-spacious-loft-near-canal-saint-martin/63c534c07dd456f0d85bd69a?dataLayerKey=Bc1r2iFDZXeNq_yCxxVQ-',\n",
       " 'https://wunderflats.com/en/furnished-apartment/rental-furnished-flat-4-rooms-95m-montparnasse/63be959a5bdb51e9d1774114?dataLayerKey=Bc1r2iFDZXeNq_yCxxVQ-',\n",
       " 'https://wunderflats.com/en/furnished-apartment/studio-30m-latin-quarter-saint-germain/63c52a06bcfe4121e28c0f50?dataLayerKey=Bc1r2iFDZXeNq_yCxxVQ-',\n",
       " 'https://wunderflats.com/en/furnished-apartment/rental-furnished-apartment-2-rooms-41m-bourse/63c01a0b2580326cc99c2291?dataLayerKey=Bc1r2iFDZXeNq_yCxxVQ-',\n",
       " 'https://wunderflats.com/en/furnished-apartment/apartment-2-rooms-batignolles-fourche/63c7cf4fdd0280e18da0eb33?dataLayerKey=Bc1r2iFDZXeNq_yCxxVQ-',\n",
       " 'https://wunderflats.com/en/furnished-apartment/charming-apartment-20th-ed-mobility-lease/63ece0818acc3d7c7576f9da?dataLayerKey=Bc1r2iFDZXeNq_yCxxVQ-',\n",
       " 'https://wunderflats.com/en/furnished-apartment/studio-21m-ile-de-la-cite-ile-saint-louis/63c50fd1bcfe4121e28b8d29?dataLayerKey=Bc1r2iFDZXeNq_yCxxVQ-',\n",
       " 'https://wunderflats.com/en/furnished-apartment/super-2bdr-w-terrace-charonne-pere-lachaise/63ca97581cbd90a61c0ae412?dataLayerKey=Bc1r2iFDZXeNq_yCxxVQ-',\n",
       " 'https://wunderflats.com/en/furnished-apartment/cosy-equipped-2-room-apartment-in-the-18th-arrondissement-of-paris-close-to-the-sacre-coeur-with-real-parisian-charm/63c7d092a5612ed9d820c145?dataLayerKey=Bc1r2iFDZXeNq_yCxxVQ-',\n",
       " 'https://wunderflats.com/en/furnished-apartment/new-one-bedroom-apartment-in-a-parisian-building-in-the-heart-of-the-8th-arrondissement-of-paris/63c5639f207454cf33f7421a?dataLayerKey=Bc1r2iFDZXeNq_yCxxVQ-',\n",
       " 'https://wunderflats.com/en/furnished-apartment/rental-furnished-appartment-2-rooms-40m-marais-bastille-75004-paris/63c178f9b2a35180da5f1913?dataLayerKey=Bc1r2iFDZXeNq_yCxxVQ-',\n",
       " 'https://wunderflats.com/en/furnished-apartment/studio-confortable-saint-germain-des-pres-odeon/63d0e8d9c99c2695de0a0fda?dataLayerKey=Bc1r2iFDZXeNq_yCxxVQ-',\n",
       " 'https://wunderflats.com/en/furnished-apartment/modern-and-gorgeous-flat/637cce5f616cf64fd6afff29?dataLayerKey=Bc1r2iFDZXeNq_yCxxVQ-',\n",
       " 'https://wunderflats.com/en/furnished-apartment/rental-furnished-flat-3-rooms-55m-quartier-latin/63c16180ac8791f4e9b326ec?dataLayerKey=S5QSIrFEPvhTpVPCukDDo',\n",
       " 'https://wunderflats.com/en/furnished-apartment/bright-light-filled-corner-flat/62b059e05c4c398bd56b7088?dataLayerKey=S5QSIrFEPvhTpVPCukDDo',\n",
       " 'https://wunderflats.com/en/furnished-apartment/charming-studio-of-30m2-located-in-the-17th-district-of-paris-close-to-transport/63dcfe904ffa9abfb5af1149?dataLayerKey=S5QSIrFEPvhTpVPCukDDo',\n",
       " 'https://wunderflats.com/en/furnished-apartment/a-135m2-rare-super-luxury-gem-near-place-vendome-private-terrace-35m2/635fd80590cd86046d8661cc?dataLayerKey=S5QSIrFEPvhTpVPCukDDo',\n",
       " 'https://wunderflats.com/en/furnished-apartment/1-bedroom-apartment-close-to-the-eiffel-tower/63445f92fa9e293cfc7c8452?dataLayerKey=S5QSIrFEPvhTpVPCukDDo',\n",
       " 'https://wunderflats.com/en/furnished-apartment/rental-furnished-apartment-2-rooms-45m-montorgueil/63c00c872580326cc99bd398?dataLayerKey=S5QSIrFEPvhTpVPCukDDo',\n",
       " 'https://wunderflats.com/en/furnished-apartment/blvd-latour-maubourg-les-invalides/6374b09132d2e7c2b27a5cf1?dataLayerKey=S5QSIrFEPvhTpVPCukDDo',\n",
       " 'https://wunderflats.com/en/furnished-apartment/splendid-flat-of-30-square-meters-in-the-city-center/63c57419207454cf33f7a89f?dataLayerKey=S5QSIrFEPvhTpVPCukDDo',\n",
       " 'https://wunderflats.com/en/furnished-apartment/cozy-studio-jonquiere/63c7b0dfc24d0bc1cb18571f?dataLayerKey=S5QSIrFEPvhTpVPCukDDo',\n",
       " 'https://wunderflats.com/en/furnished-apartment/studio-30m-hotel-de-ville-beaubourg/63c13e66f28f74b00490f3b8?dataLayerKey=S5QSIrFEPvhTpVPCukDDo',\n",
       " 'https://wunderflats.com/en/furnished-apartment/rental-furnished-appartment-3-rooms-100m/63c5056c698f339f36692b55?dataLayerKey=S5QSIrFEPvhTpVPCukDDo',\n",
       " 'https://wunderflats.com/en/furnished-apartment/superb-parisian-apartment-in-the-14th/6300f77931b3459b956ac33d?dataLayerKey=S5QSIrFEPvhTpVPCukDDo',\n",
       " 'https://wunderflats.com/en/furnished-apartment/amazing-and-spacious-duplex-great-view/638a08cd0b11d1d1e01f782d?dataLayerKey=S5QSIrFEPvhTpVPCukDDo',\n",
       " 'https://wunderflats.com/en/furnished-apartment/rental-furnished-appartment-studio-12m-vendome-tuileries/63bfd778f5f8e1fb01b81804?dataLayerKey=S5QSIrFEPvhTpVPCukDDo',\n",
       " 'https://wunderflats.com/en/furnished-apartment/1-bedroom-in-the-heart-of-the-latin-quarter-and-close-to-notre-dame-de-paris/633b224b5141a6819fc0af33?dataLayerKey=S5QSIrFEPvhTpVPCukDDo',\n",
       " 'https://wunderflats.com/en/furnished-apartment/nice-quiet-apartment-in-saint-germain-des-pres/634ebdf02d1a3a21d6fc2b2e?dataLayerKey=S5QSIrFEPvhTpVPCukDDo',\n",
       " 'https://wunderflats.com/en/furnished-apartment/fully-equipped-flat-for-two-or-three-people-in-the-centre-of-paris-very-functional-accommodation/63c56cc8207454cf33f77e0c?dataLayerKey=S5QSIrFEPvhTpVPCukDDo',\n",
       " 'https://wunderflats.com/en/furnished-apartment/spacious-apartment-la-villette-mobility-lease/63f3545053cd5e9bb441f371?dataLayerKey=S5QSIrFEPvhTpVPCukDDo',\n",
       " 'https://wunderflats.com/en/furnished-apartment/luxurious-2bdr-blv-de-malesherbes-17e/63ca85e3f1d99b5b01100ff4?dataLayerKey=S5QSIrFEPvhTpVPCukDDo',\n",
       " 'https://wunderflats.com/en/furnished-apartment/apartment-2-rooms-30m-temple-republique/63c6776c43ef9d9a7904fb41?dataLayerKey=S5QSIrFEPvhTpVPCukDDo',\n",
       " 'https://wunderflats.com/en/furnished-apartment/apartment-2-rooms-32m-champ-de-mars/63c530a5402713e79b0319a9?dataLayerKey=S5QSIrFEPvhTpVPCukDDo',\n",
       " 'https://wunderflats.com/en/furnished-apartment/rental-furnished-apartment-2-rooms-35m-arts-et-metiers/63c02fe92580326cc99c9484?dataLayerKey=S5QSIrFEPvhTpVPCukDDo',\n",
       " 'https://wunderflats.com/en/furnished-apartment/close-to-jardin-des-plantes/637a8ed90716e8fc342e0240?dataLayerKey=S5QSIrFEPvhTpVPCukDDo',\n",
       " 'https://wunderflats.com/en/furnished-apartment/great-1bdr-republique-belleville/63cfe5cc0ed975f39e566d1b?dataLayerKey=S5QSIrFEPvhTpVPCukDDo',\n",
       " 'https://wunderflats.com/en/furnished-apartment/apartment-6-persons-porte-de-versailles/63d7cbf59aaeae86226c744e?dataLayerKey=S5QSIrFEPvhTpVPCukDDo',\n",
       " 'https://wunderflats.com/en/furnished-apartment/apartment-2-rooms-35-sqm-champ-de-mars/63c6aefd43ef9d9a7905f7de?dataLayerKey=S5QSIrFEPvhTpVPCukDDo',\n",
       " 'https://wunderflats.com/en/furnished-apartment/invalides-saint-dominique-2-bedrooms/63934020de3a7742c111b632?dataLayerKey=S5QSIrFEPvhTpVPCukDDo',\n",
       " 'https://wunderflats.com/en/furnished-apartment/the-best-place-to-stay-in-the-historic-maraisreplublique-pompidou-centre/6363d7215ba41d90bfa57a35?dataLayerKey=S5QSIrFEPvhTpVPCukDDo',\n",
       " 'https://wunderflats.com/en/furnished-apartment/rental-furnished-appartment-2-rooms-43m-louvre-palais-royal/63c005a92580326cc99bac79?dataLayerKey=S5QSIrFEPvhTpVPCukDDo',\n",
       " 'https://wunderflats.com/en/furnished-apartment/stunning-100m2-2-bedroom-flat-perfectly-blends-old-with-new/6391e760734df85b1620198f?dataLayerKey=S5QSIrFEPvhTpVPCukDDo',\n",
       " 'https://wunderflats.com/en/furnished-apartment/rental-furnished-flat-3-rooms-85m-paris/63c501c9698f339f36691eb0?dataLayerKey=TD1SepQ9BkIFyC2SDcWVv',\n",
       " 'https://wunderflats.com/en/furnished-apartment/the-most-beloved-neighborhood-of-parisians-canal-st-martin/636e1f305ddea4809430a4b0?dataLayerKey=TD1SepQ9BkIFyC2SDcWVv',\n",
       " 'https://wunderflats.com/en/furnished-apartment/eiffel-terrace-apt-vintage-french-decor-and-smashing-360views-rue-de-luniversite/6374bfaf2b72be96105730dc?dataLayerKey=TD1SepQ9BkIFyC2SDcWVv',\n",
       " 'https://wunderflats.com/en/furnished-apartment/place-de-la-madeleine-and-ave-des-champs-elysees-the-place-to-be/6364dab6888f830f33aae2fa?dataLayerKey=TD1SepQ9BkIFyC2SDcWVv',\n",
       " 'https://wunderflats.com/en/furnished-apartment/studio-10m-latin-quarter-saint-germain/63c5268abcfe4121e28bfc5c?dataLayerKey=TD1SepQ9BkIFyC2SDcWVv',\n",
       " 'https://wunderflats.com/en/furnished-apartment/newly-refurbished-cosy-and-atypical-flat-quiet-and-bright-with-a-beautiful-french-window-over-the-entire-height-of-the-room/63c552faf808cbac2d32a977?dataLayerKey=TD1SepQ9BkIFyC2SDcWVv',\n",
       " 'https://wunderflats.com/en/furnished-apartment/lovely-and-bright-suite-in-quiet-street-paris/63bfdc7bf5f8e1fb01b84c33?dataLayerKey=TD1SepQ9BkIFyC2SDcWVv',\n",
       " 'https://wunderflats.com/en/furnished-apartment/cosy-apartment-moulin-rouge-pigalle/63d24c4cd837b8f745893943?dataLayerKey=TD1SepQ9BkIFyC2SDcWVv',\n",
       " 'https://wunderflats.com/en/furnished-apartment/charming-apartment/63ce6c64bd734f66d7462748?dataLayerKey=TD1SepQ9BkIFyC2SDcWVv',\n",
       " 'https://wunderflats.com/en/furnished-apartment/superb-flat-in-the-heart-of-the-10th-arrondissement-of-paris-ideal-location-and-close-to-the-famous-canal-st-martin/63c901d860913690a0e98a99?dataLayerKey=TD1SepQ9BkIFyC2SDcWVv',\n",
       " 'https://wunderflats.com/en/furnished-apartment/apartment-2-rooms-48m-montmartre-pigalle/63c573e3207454cf33f7a754?dataLayerKey=TD1SepQ9BkIFyC2SDcWVv',\n",
       " 'https://wunderflats.com/en/furnished-apartment/rental-furnished-appartment-2-rooms-35m-marais-bastille-75004/63c17a9cb2a35180da5f2075?dataLayerKey=TD1SepQ9BkIFyC2SDcWVv',\n",
       " 'https://wunderflats.com/en/furnished-apartment/amazing-flat-in-paris/63c54e217dd456f0d85c7914?dataLayerKey=TD1SepQ9BkIFyC2SDcWVv',\n",
       " 'https://wunderflats.com/en/furnished-apartment/studio-30m-marais-bastille/63c1250b75b14f621485cf1c?dataLayerKey=TD1SepQ9BkIFyC2SDcWVv',\n",
       " 'https://wunderflats.com/en/furnished-apartment/fantastic-home-in-the-heart-of-montmartre/63172a63f68e9d190f101a51?dataLayerKey=TD1SepQ9BkIFyC2SDcWVv',\n",
       " 'https://wunderflats.com/en/furnished-apartment/rental-furnished-apartment-2-rooms-35m-montorgueil/63c0091b2580326cc99bc2d6?dataLayerKey=TD1SepQ9BkIFyC2SDcWVv',\n",
       " 'https://wunderflats.com/en/furnished-apartment/nice-and-lovely-studio/640087bb8202476be7657eed?dataLayerKey=TD1SepQ9BkIFyC2SDcWVv',\n",
       " 'https://wunderflats.com/en/furnished-apartment/cozy-apartment-rivolisaint-paul/63c7aee5c24d0bc1cb185064?dataLayerKey=TD1SepQ9BkIFyC2SDcWVv',\n",
       " 'https://wunderflats.com/en/furnished-apartment/coyz-apartement-in-saintonge-le-marais/63c15d7330c8054dd7c31378?dataLayerKey=TD1SepQ9BkIFyC2SDcWVv',\n",
       " 'https://wunderflats.com/en/furnished-apartment/sevres-babylone-saint-germain-des-pres-et-saint-sulpice/6360f4b73095266ff2c1f8fb?dataLayerKey=TD1SepQ9BkIFyC2SDcWVv',\n",
       " 'https://wunderflats.com/en/furnished-apartment/apartment-2-rooms-porte-maillot-etoile/63c7cc3bdd0280e18da0db19?dataLayerKey=TD1SepQ9BkIFyC2SDcWVv',\n",
       " 'https://wunderflats.com/en/furnished-apartment/charming-apartment-near-grands-boulevards/63cfa2c89d6668e108476616?dataLayerKey=TD1SepQ9BkIFyC2SDcWVv',\n",
       " 'https://wunderflats.com/en/furnished-apartment/the-dream-parisian-street-in-the-vicinity-of-the-eiffel/6374a93958753222c3c4edd7?dataLayerKey=TD1SepQ9BkIFyC2SDcWVv',\n",
       " 'https://wunderflats.com/en/furnished-apartment/very-nice-flat-located-in-the-heart-of-the-alesia-district-completely-refurbished-and-decorated-with-taste/63c91afa60913690a0e9e91d?dataLayerKey=TD1SepQ9BkIFyC2SDcWVv',\n",
       " 'https://wunderflats.com/en/furnished-apartment/ocation-furnished-appartment-2-rooms-50m-quartier-latin-saint-germain-de-pres-odeon-75005/63c181abb2a35180da5f3f15?dataLayerKey=TD1SepQ9BkIFyC2SDcWVv',\n",
       " 'https://wunderflats.com/en/furnished-apartment/beautiful-apartment-concorde-madeleine/63d3958cac80981d4ef5bee3?dataLayerKey=TD1SepQ9BkIFyC2SDcWVv',\n",
       " 'https://wunderflats.com/en/furnished-apartment/clean-crisp-formal-luxury-in-st-germain-des-pres-les-deux-magotsand-seine/6368c20efd5ca55cd2c29058?dataLayerKey=TD1SepQ9BkIFyC2SDcWVv',\n",
       " 'https://wunderflats.com/en/furnished-apartment/central-and-modern-studio-in-the-10th-arrondissement-of-paris/63d7e37741ff4fd3786441e1?dataLayerKey=TD1SepQ9BkIFyC2SDcWVv',\n",
       " 'https://wunderflats.com/en/furnished-apartment/student-flat-in-breteuilinvalidessevres-lecourbe/62c46c0044e5f0d97ccaecd0?dataLayerKey=TD1SepQ9BkIFyC2SDcWVv',\n",
       " 'https://wunderflats.com/en/furnished-apartment/rental-furnished-flat-3-rooms-74m-temple-republique/63c17b6bac8791f4e9b3ae01?dataLayerKey=TD1SepQ9BkIFyC2SDcWVv',\n",
       " 'https://wunderflats.com/en/furnished-apartment/charming-and-fully-equipped-apartment/6391e19c734df85b162004e1?dataLayerKey=zzKYTIbm4lv_9bHrY8Qtb',\n",
       " 'https://wunderflats.com/en/furnished-apartment/rental-furnished-flat-4-rooms/63c52dfef808cbac2d3200a6?dataLayerKey=zzKYTIbm4lv_9bHrY8Qtb',\n",
       " 'https://wunderflats.com/en/furnished-apartment/rental-furnished-appartment-1-bed-25m-bastille-faubourg-st-antoine-75004/63c17044b2a35180da5ef020?dataLayerKey=zzKYTIbm4lv_9bHrY8Qtb',\n",
       " 'https://wunderflats.com/en/furnished-apartment/apartment-2-rooms-25m-grands-boulevards/63c56807207454cf33f76004?dataLayerKey=zzKYTIbm4lv_9bHrY8Qtb',\n",
       " 'https://wunderflats.com/en/furnished-apartment/studio-refurnished-quartier-montorgueil/63c7ce24c24d0bc1cb18c967?dataLayerKey=zzKYTIbm4lv_9bHrY8Qtb',\n",
       " 'https://wunderflats.com/en/furnished-apartment/the-st-germain-terrace-apartment-on-rue-jacob/63613c94d817f80630e7a3b4?dataLayerKey=zzKYTIbm4lv_9bHrY8Qtb',\n",
       " 'https://wunderflats.com/en/furnished-apartment/beautiful-two-bedrooms-near-rue-des-martyrs-central-paris/635a9b44d1f1d2ccceae9c1c?dataLayerKey=zzKYTIbm4lv_9bHrY8Qtb',\n",
       " 'https://wunderflats.com/en/furnished-apartment/2-rooms-40m-jardin-des-plantes/63c0351812304eeab69d15c2?dataLayerKey=zzKYTIbm4lv_9bHrY8Qtb',\n",
       " 'https://wunderflats.com/en/furnished-apartment/large-studio-for-2-people-at-the-foot-of-the-champs-elyseeav-montaigne-fully-equipped-and-refurbished/63c7bbffa5612ed9d82064af?dataLayerKey=zzKYTIbm4lv_9bHrY8Qtb',\n",
       " 'https://wunderflats.com/en/furnished-apartment/charming-apartment-ideally-located/6391bbd6eb868754b9617c3c?dataLayerKey=zzKYTIbm4lv_9bHrY8Qtb',\n",
       " 'https://wunderflats.com/en/furnished-apartment/amazing-apartment-pigalle-blanche/63c913188a16df75a5b36c58?dataLayerKey=zzKYTIbm4lv_9bHrY8Qtb',\n",
       " 'https://wunderflats.com/en/furnished-apartment/3-rooms-jardin-des-plantes/63c51b5d402713e79b02aa14?dataLayerKey=zzKYTIbm4lv_9bHrY8Qtb',\n",
       " 'https://wunderflats.com/en/furnished-apartment/apartment-2-rooms-42m-martyrs-saint-georges/63c66caa43ef9d9a7904de76?dataLayerKey=zzKYTIbm4lv_9bHrY8Qtb',\n",
       " 'https://wunderflats.com/en/furnished-apartment/quiet-and-refurbished-rochechouart-maubeuge/63ca6ed1f1d99b5b010fb0a5?dataLayerKey=zzKYTIbm4lv_9bHrY8Qtb',\n",
       " 'https://wunderflats.com/en/furnished-apartment/beautiful-apartment-bonne-nouvelle-fbg-poissonniere/63c808648a3d9d6652bb3b4b?dataLayerKey=zzKYTIbm4lv_9bHrY8Qtb',\n",
       " 'https://wunderflats.com/en/furnished-apartment/cosy-studio-buttes-chaumont-botzaris/63bfe036a01d7d1a71b174a5?dataLayerKey=zzKYTIbm4lv_9bHrY8Qtb',\n",
       " 'https://wunderflats.com/en/furnished-apartment/superb-apartment-arc-de-triomphe/63d38d61ab11169eb37d7b6c?dataLayerKey=zzKYTIbm4lv_9bHrY8Qtb',\n",
       " 'https://wunderflats.com/en/furnished-apartment/superb-studio-rivoli-hotel-de-ville/63cab8a9370f3b64763a0364?dataLayerKey=zzKYTIbm4lv_9bHrY8Qtb',\n",
       " 'https://wunderflats.com/en/furnished-apartment/bright-fashionable-loft-with-terrace-in-montmartre/63fc94283a417cc0924f8490?dataLayerKey=zzKYTIbm4lv_9bHrY8Qtb',\n",
       " 'https://wunderflats.com/en/furnished-apartment/great-apartment-near-sacre-coeur/63d25eb7ac80981d4ef32838?dataLayerKey=zzKYTIbm4lv_9bHrY8Qtb',\n",
       " 'https://wunderflats.com/en/furnished-apartment/gorgeous-and-beautiful-apartment-conveniently-located/63c1569730c8054dd7c2f33c?dataLayerKey=zzKYTIbm4lv_9bHrY8Qtb',\n",
       " 'https://wunderflats.com/en/furnished-apartment/superb-studio-rivoli-hotel-de-ville/63cab3f0370f3b647639f216?dataLayerKey=zzKYTIbm4lv_9bHrY8Qtb',\n",
       " 'https://wunderflats.com/en/furnished-apartment/charming-flat-of-96m2-located-in-the-2nd-district-of-paris-near-the-place-de-la-bourse-and-montorgueil/63da53fe43b8fe6bafc4daf7?dataLayerKey=zzKYTIbm4lv_9bHrY8Qtb',\n",
       " 'https://wunderflats.com/en/furnished-apartment/studio-20m2-near-invalides/63d3c8a4ab11169eb37e4fc8?dataLayerKey=zzKYTIbm4lv_9bHrY8Qtb',\n",
       " 'https://wunderflats.com/en/furnished-apartment/rental-furnished-apartment-2-rooms-37m-louvre-palais-royal/63bffab3a01d7d1a71b1e8ee?dataLayerKey=zzKYTIbm4lv_9bHrY8Qtb',\n",
       " 'https://wunderflats.com/en/furnished-apartment/rareparis-4th-cite-island-notre-dame-superb-views/636e32175c4e1ef035cec389?dataLayerKey=zzKYTIbm4lv_9bHrY8Qtb',\n",
       " 'https://wunderflats.com/en/furnished-apartment/superb-flat-located-in-a-new-building-very-functional/63c92b1060913690a0ea2d64?dataLayerKey=zzKYTIbm4lv_9bHrY8Qtb',\n",
       " 'https://wunderflats.com/en/furnished-apartment/rue-malar-7eme-a-luxury-home-with-a-beautiful-french-decor-next-to-the-seine/6374b4a272addc9f43708bff?dataLayerKey=zzKYTIbm4lv_9bHrY8Qtb',\n",
       " 'https://wunderflats.com/en/furnished-apartment/amazing-and-bright-suite-in-vibrant-neighbourhood/63c5471452f4b185a9f23a63?dataLayerKey=zzKYTIbm4lv_9bHrY8Qtb',\n",
       " 'https://wunderflats.com/en/furnished-apartment/superb-apartment-near-sacre-coeur/63d23c24aa5b3db409e5616a?dataLayerKey=zzKYTIbm4lv_9bHrY8Qtb',\n",
       " 'https://wunderflats.com/en/furnished-apartment/rental-furnished-appartment-2-rooms-40m-sentier-bonne-nouvelle/63c010eb2580326cc99be8f6?dataLayerKey=0cyNBlLSvr06BtnERGhbe',\n",
       " 'https://wunderflats.com/en/furnished-apartment/cosy-studio-1pers-montmartremartyrs/63cfef1a98d99b42b20e5013?dataLayerKey=0cyNBlLSvr06BtnERGhbe',\n",
       " 'https://wunderflats.com/en/furnished-apartment/quiet-and-spacious-apartment-with-terrace-and-parking/62d5721f87aea0c784330f02?dataLayerKey=0cyNBlLSvr06BtnERGhbe',\n",
       " 'https://wunderflats.com/en/furnished-apartment/cosy-apartment-pigalle/63cfa0739d6668e108475949?dataLayerKey=0cyNBlLSvr06BtnERGhbe',\n",
       " 'https://wunderflats.com/en/furnished-apartment/studio-2p-renovated-rue-des-archives-marais/63ce83afeb195439b206c6b7?dataLayerKey=0cyNBlLSvr06BtnERGhbe',\n",
       " 'https://wunderflats.com/en/furnished-apartment/bright-and-lovely-flat-in-nice-area/63e2248777413cc42af862e1?dataLayerKey=0cyNBlLSvr06BtnERGhbe',\n",
       " 'https://wunderflats.com/en/furnished-apartment/flat-of-84m2-located-in-the-14th-district-of-paris-close-to-transport/63e0c4d5be0a7de1394166bc?dataLayerKey=0cyNBlLSvr06BtnERGhbe',\n",
       " 'https://wunderflats.com/en/furnished-apartment/nice-studio-2pers-champs-de-mars-la-motte-picquet/63ce66993817c8914366ca24?dataLayerKey=0cyNBlLSvr06BtnERGhbe',\n",
       " 'https://wunderflats.com/en/furnished-apartment/rental-furnished-apartment-1-room-40m-invalides-75007-paris/63c658655ead462dddf6fc21?dataLayerKey=0cyNBlLSvr06BtnERGhbe',\n",
       " 'https://wunderflats.com/en/furnished-apartment/5th-floorpalais-royal-musee-du-louvre-louvre-rivoli/63639eaf9f52902d24f81c1b?dataLayerKey=0cyNBlLSvr06BtnERGhbe',\n",
       " 'https://wunderflats.com/en/furnished-apartment/cosy-studio-2p-parc-georges-brassens/63cfba862605349c68af6ac2?dataLayerKey=0cyNBlLSvr06BtnERGhbe',\n",
       " 'https://wunderflats.com/en/furnished-apartment/charming-studio-jourdainbelleville/63c7d5c4c24d0bc1cb18ee0c?dataLayerKey=0cyNBlLSvr06BtnERGhbe',\n",
       " 'https://wunderflats.com/en/furnished-apartment/luminous-1ch-4p-marcadet-jules-joffrin/63cff28a98d99b42b20e5fb8?dataLayerKey=0cyNBlLSvr06BtnERGhbe',\n",
       " 'https://wunderflats.com/en/furnished-apartment/apartment-in-highly-demanded-district/63319de3402c5aa254f06a1c?dataLayerKey=0cyNBlLSvr06BtnERGhbe',\n",
       " 'https://wunderflats.com/en/furnished-apartment/rental-furnished-flat-3-rooms-85m-marais-bastille/63c17211ac8791f4e9b379c2?dataLayerKey=0cyNBlLSvr06BtnERGhbe',\n",
       " 'https://wunderflats.com/en/furnished-apartment/3-bedroom-in-the-heart-of-st-germain-des-pres/6347e4a5760c9f89298fbdfa?dataLayerKey=0cyNBlLSvr06BtnERGhbe',\n",
       " 'https://wunderflats.com/en/furnished-apartment/saint-honore-vendome-1-bedroom/63934a02de3a7742c111ef3a?dataLayerKey=0cyNBlLSvr06BtnERGhbe',\n",
       " 'https://wunderflats.com/en/furnished-apartment/apartment-2-rooms-champs-elysees-etoile/63c6cc0443ef9d9a7906633c?dataLayerKey=0cyNBlLSvr06BtnERGhbe',\n",
       " 'https://wunderflats.com/en/furnished-apartment/very-nice-3-beds-flat-near-musee-d-orsay-invalides/6368f48eda811269b2584a20?dataLayerKey=0cyNBlLSvr06BtnERGhbe',\n",
       " 'https://wunderflats.com/en/furnished-apartment/a-saint-germain-nest-near-the-banks-of-the-seine/636242ba4d7723c6bfb9e6e4?dataLayerKey=0cyNBlLSvr06BtnERGhbe',\n",
       " 'https://wunderflats.com/en/furnished-apartment/marais-rue-malher-the-most-vibrantand-storied-neighbourhood-of-paris/6336fcc64443b1a81cc4fcde?dataLayerKey=0cyNBlLSvr06BtnERGhbe',\n",
       " 'https://wunderflats.com/en/furnished-apartment/beautiful-bright-flat-for-4-people-at-the-foot-of-the-champs-elyseeav-montaigne-fully-equipped-and-refurbished/63c7c060a5612ed9d8207b64?dataLayerKey=0cyNBlLSvr06BtnERGhbe',\n",
       " 'https://wunderflats.com/en/furnished-apartment/apartment-2-rooms-40m-elysees-madeleine/63c551c3402713e79b03b762?dataLayerKey=0cyNBlLSvr06BtnERGhbe',\n",
       " 'https://wunderflats.com/en/furnished-apartment/apartment-2-rooms-30-sqm-montparnasse/63c6a8dc43ef9d9a7905e180?dataLayerKey=0cyNBlLSvr06BtnERGhbe',\n",
       " 'https://wunderflats.com/en/furnished-apartment/apartment-2-rooms-40m-raspail-sevres-babylone/63c5242f402713e79b02e040?dataLayerKey=0cyNBlLSvr06BtnERGhbe',\n",
       " 'https://wunderflats.com/en/furnished-apartment/apartment-2-rooms-40m-champ-de-mars/63c54cb9402713e79b038df8?dataLayerKey=0cyNBlLSvr06BtnERGhbe',\n",
       " 'https://wunderflats.com/en/furnished-apartment/saint-germain-des-pres-prince/63906daaebec1f03d4eea6f1?dataLayerKey=0cyNBlLSvr06BtnERGhbe',\n",
       " 'https://wunderflats.com/en/furnished-apartment/nice-two-rooms-2pers/63c12dbe9ebf4425a8b5648b?dataLayerKey=0cyNBlLSvr06BtnERGhbe',\n",
       " 'https://wunderflats.com/en/furnished-apartment/stunning-duplex-apartment-4pers-saintmichel-luxembourg/63ce6eb73817c8914366f29e?dataLayerKey=0cyNBlLSvr06BtnERGhbe',\n",
       " 'https://wunderflats.com/en/furnished-apartment/rental-furnished-appartment-2-rooms-65m/63c01ee82580326cc99c3c83?dataLayerKey=0cyNBlLSvr06BtnERGhbe',\n",
       " 'https://wunderflats.com/en/furnished-apartment/superb-accommodation-perfectly-located-in-the-centre-of-paris-rue-montmartre-a-stones-throw-from-the-jardin-palais-royal/63c57f17207454cf33f7edb7?dataLayerKey=UkQU-s5mK4kjDPFNKhGcW',\n",
       " 'https://wunderflats.com/en/furnished-apartment/apartment-of-standing-family-and-furnished-with-care/6390a8d5d2713ff232b428ce?dataLayerKey=UkQU-s5mK4kjDPFNKhGcW',\n",
       " 'https://wunderflats.com/en/furnished-apartment/tastefully-decorated-3-bedroom-paris-luxury-apartment/6391cd66734df85b161fa9a2?dataLayerKey=UkQU-s5mK4kjDPFNKhGcW',\n",
       " 'https://wunderflats.com/en/furnished-apartment/cosy-studio-2p-parc-georges-brassens/63cfbc4d2605349c68af7379?dataLayerKey=UkQU-s5mK4kjDPFNKhGcW',\n",
       " 'https://wunderflats.com/en/furnished-apartment/pretty-one-bedroom-near-champ-de-mars/638dab07f8588a62c8862941?dataLayerKey=UkQU-s5mK4kjDPFNKhGcW',\n",
       " 'https://wunderflats.com/en/furnished-apartment/studio-2p-renovated-rue-des-archives-marais/63ce823deb195439b206ba71?dataLayerKey=UkQU-s5mK4kjDPFNKhGcW',\n",
       " 'https://wunderflats.com/en/furnished-apartment/furnished-apartment-marais/63dcee35f2e368a6a9cf7dec?dataLayerKey=UkQU-s5mK4kjDPFNKhGcW',\n",
       " 'https://wunderflats.com/en/furnished-apartment/comfy-flat-in-the-6th-arrondissement/63c52101402713e79b02cb24?dataLayerKey=UkQU-s5mK4kjDPFNKhGcW',\n",
       " 'https://wunderflats.com/en/furnished-apartment/charming-and-spacious-one-bedroom-apartment-in-le-marais/6335ca83ac82800f909099f2?dataLayerKey=UkQU-s5mK4kjDPFNKhGcW',\n",
       " 'https://wunderflats.com/en/furnished-apartment/rental-furnished-apartment-3-rooms-70m-st-lazare/63c1198e15a9b8cf6af63fd7?dataLayerKey=UkQU-s5mK4kjDPFNKhGcW',\n",
       " 'https://wunderflats.com/en/furnished-apartment/amazing-and-fantastic-flat-paris/638e0fd61991b97387f5758e?dataLayerKey=UkQU-s5mK4kjDPFNKhGcW',\n",
       " 'https://wunderflats.com/en/furnished-apartment/superb-apartment-at-1-min-from-pere-lachaise/63d24f524e3ffe2acc001612?dataLayerKey=UkQU-s5mK4kjDPFNKhGcW',\n",
       " 'https://wunderflats.com/en/furnished-apartment/madeleine-greff-2-bedroom/6396e387de3a7742c1172cb7?dataLayerKey=UkQU-s5mK4kjDPFNKhGcW',\n",
       " 'https://wunderflats.com/en/furnished-apartment/spacious-apartment-in-the-heart-of-the-2nd-arrondissement/6362904314519e94ed2f4949?dataLayerKey=UkQU-s5mK4kjDPFNKhGcW',\n",
       " 'https://wunderflats.com/en/furnished-apartment/quiet-apartment-in-vibrant-neighbourhood/63c51a507dd456f0d85b496c?dataLayerKey=UkQU-s5mK4kjDPFNKhGcW',\n",
       " 'https://wunderflats.com/en/furnished-apartment/amazing-2-bedrooms-apartment-in-excellent-location/638e04311991b97387f54635?dataLayerKey=UkQU-s5mK4kjDPFNKhGcW',\n",
       " 'https://wunderflats.com/en/furnished-apartment/rental-furnished-appartment-2-rooms-26m-sentier-bonne-nouvelle/63c01c942580326cc99c2fd8?dataLayerKey=UkQU-s5mK4kjDPFNKhGcW',\n",
       " 'https://wunderflats.com/en/furnished-apartment/studio-2p-renovated-rue-des-archives-marais/63ce801ceb195439b206a887?dataLayerKey=UkQU-s5mK4kjDPFNKhGcW',\n",
       " 'https://wunderflats.com/en/furnished-apartment/very-nice-two-room-flat-close-to-transport-with-view-on-the-roofs-of-paris/63c9154460913690a0e9d4ae?dataLayerKey=UkQU-s5mK4kjDPFNKhGcW',\n",
       " 'https://wunderflats.com/en/furnished-apartment/studio-22m-arts-et-metiers-beaubourg/63c13cbef28f74b00490e95f?dataLayerKey=UkQU-s5mK4kjDPFNKhGcW',\n",
       " 'https://wunderflats.com/en/furnished-apartment/cosy-and-pleasant-apartment-ideally-located/6390bf17d03f3d362ec2864c?dataLayerKey=UkQU-s5mK4kjDPFNKhGcW',\n",
       " 'https://wunderflats.com/en/furnished-apartment/charming-studio-in-saint-germain-des-pres/63c7dc9ac24d0bc1cb191253?dataLayerKey=UkQU-s5mK4kjDPFNKhGcW',\n",
       " 'https://wunderflats.com/en/furnished-apartment/chic-apart-near-paris/633ea24c19f224dd61586cd9?dataLayerKey=UkQU-s5mK4kjDPFNKhGcW',\n",
       " 'https://wunderflats.com/en/furnished-apartment/cozy-and-calm-23-apartment-in-latin-quarter/6335b192bb5893a4390eca83?dataLayerKey=UkQU-s5mK4kjDPFNKhGcW',\n",
       " 'https://wunderflats.com/en/furnished-apartment/saint-germain-des-pres-odeon-suite/63905b074e53a7ed66fe4143?dataLayerKey=UkQU-s5mK4kjDPFNKhGcW',\n",
       " 'https://wunderflats.com/en/furnished-apartment/nice-and-pretty-home-great-view/62fb84de902171e525f871ca?dataLayerKey=UkQU-s5mK4kjDPFNKhGcW',\n",
       " 'https://wunderflats.com/en/furnished-apartment/studio-liege-place-de-clichy-11/63d24f41d837b8f745894528?dataLayerKey=UkQU-s5mK4kjDPFNKhGcW',\n",
       " 'https://wunderflats.com/en/furnished-apartment/beautiful-apartment-for-4-people-arc-de-triomphe/63c7ae24acbb564f0ddd0810?dataLayerKey=UkQU-s5mK4kjDPFNKhGcW',\n",
       " 'https://wunderflats.com/en/furnished-apartment/bright-studio-carreau-du-temple-republique/63dd06b659607e9391d68da2?dataLayerKey=UkQU-s5mK4kjDPFNKhGcW',\n",
       " 'https://wunderflats.com/en/furnished-apartment/luxembourg-assas-3-bedrooms/63936343de3a7742c112449f?dataLayerKey=UkQU-s5mK4kjDPFNKhGcW',\n",
       " 'https://wunderflats.com/en/furnished-apartment/nice-studio-ternes/63d23fce3f293d857e189dfc?dataLayerKey=847UbP0uB589nI_JFC40d',\n",
       " 'https://wunderflats.com/en/furnished-apartment/saint-germain-des-pres/638f5a8ed7d4c07559afa862?dataLayerKey=847UbP0uB589nI_JFC40d',\n",
       " 'https://wunderflats.com/en/furnished-apartment/wonderful-studio-in-the-marais/63f47becf4c7d6e46a70aebd?dataLayerKey=847UbP0uB589nI_JFC40d',\n",
       " 'https://wunderflats.com/en/furnished-apartment/studio-30m-portes-de-versailles-javel-convention/63c675200a83251c3f1f8a38?dataLayerKey=847UbP0uB589nI_JFC40d',\n",
       " 'https://wunderflats.com/en/furnished-apartment/saint-germain-des-pres-colombier-studio/638f55aad7d4c07559af9461?dataLayerKey=847UbP0uB589nI_JFC40d',\n",
       " 'https://wunderflats.com/en/furnished-apartment/madeleine-lafayette-2-bedrooms/6396e7c1de3a7742c1173c3c?dataLayerKey=847UbP0uB589nI_JFC40d',\n",
       " 'https://wunderflats.com/en/furnished-apartment/montparnasse-pasteur-1-bedroom/640385f9e829d501ebc72ceb?dataLayerKey=847UbP0uB589nI_JFC40d',\n",
       " 'https://wunderflats.com/en/furnished-apartment/gorgeous-2-bedrooms-conveniently-located/638e08da1991b97387f556b5?dataLayerKey=847UbP0uB589nI_JFC40d',\n",
       " 'https://wunderflats.com/en/furnished-apartment/lovely-and-amazing-loft-with-nice-city-view-montmartre/64065812c7c81bae2a66a2c2?dataLayerKey=847UbP0uB589nI_JFC40d',\n",
       " 'https://wunderflats.com/en/furnished-apartment/magnificent-2-beds-apartment-bastillest-antoine/63ca9b6d1cbd90a61c0af2bf?dataLayerKey=847UbP0uB589nI_JFC40d',\n",
       " 'https://wunderflats.com/en/furnished-apartment/saint-germain-des-pres-luxembourg-suite/638f5f40c4c6294482465c49?dataLayerKey=847UbP0uB589nI_JFC40d',\n",
       " 'https://wunderflats.com/en/furnished-apartment/lovely-home-in-excellent-location-le-marais/6390b965d2713ff232b47286?dataLayerKey=847UbP0uB589nI_JFC40d',\n",
       " 'https://wunderflats.com/en/furnished-apartment/madeleine-2-bedroom/63936714de3a7742c112538e?dataLayerKey=847UbP0uB589nI_JFC40d',\n",
       " 'https://wunderflats.com/en/furnished-apartment/rental-furnished-flat-3-rooms-65m-marais-bastille/63c17f03ac8791f4e9b3bb17?dataLayerKey=847UbP0uB589nI_JFC40d',\n",
       " 'https://wunderflats.com/en/furnished-apartment/luxurious-2-bedroom-2-bathroom-apartment/638f0ec41991b97387f7450e?dataLayerKey=847UbP0uB589nI_JFC40d',\n",
       " 'https://wunderflats.com/en/furnished-apartment/cosy-duplex-4p-buttes-chaumont/63d3df37f29d7ded902a9e6c?dataLayerKey=847UbP0uB589nI_JFC40d',\n",
       " 'https://wunderflats.com/en/furnished-apartment/saint-germain-des-pres-rennes-ii/6391dd6c838ae4ff43717942?dataLayerKey=847UbP0uB589nI_JFC40d',\n",
       " 'https://wunderflats.com/en/furnished-apartment/magnificent-flat-located-in-the-10th-district-of-paris-surrounded-by-numerous-shops-and-means-of-transport/63c8fe7a60913690a0e97e33?dataLayerKey=847UbP0uB589nI_JFC40d',\n",
       " 'https://wunderflats.com/en/furnished-apartment/studio-maraisbeaubourg/63e0c8a3be0a7de139417a60?dataLayerKey=847UbP0uB589nI_JFC40d',\n",
       " 'https://wunderflats.com/en/furnished-apartment/charming-2-bedrooms-in-the-hearth-of-st-germain-des-pres/6346a9d6790e749aa8793ddd?dataLayerKey=847UbP0uB589nI_JFC40d',\n",
       " 'https://wunderflats.com/en/furnished-apartment/rental-furnished-flat-3-rooms-63m-champ-de-mars/63c174a4ac8791f4e9b38f85?dataLayerKey=847UbP0uB589nI_JFC40d',\n",
       " 'https://wunderflats.com/en/furnished-apartment/charming-apartment-in-the-heart-of-the-marais/6390b4ded2713ff232b45be8?dataLayerKey=847UbP0uB589nI_JFC40d',\n",
       " 'https://wunderflats.com/en/furnished-apartment/great-view-on-this-2-bedroom-at-a-few-steps-of-la-tour-eiffel/6335c411a943666272cfc305?dataLayerKey=847UbP0uB589nI_JFC40d',\n",
       " 'https://wunderflats.com/en/furnished-apartment/louvre-grand-opera-2-bedroom/63935a4cde3a7742c1121969?dataLayerKey=847UbP0uB589nI_JFC40d',\n",
       " 'https://wunderflats.com/en/furnished-apartment/luxury-apartment-near-champs-elysees/63c90b098a16df75a5b34095?dataLayerKey=847UbP0uB589nI_JFC40d',\n",
       " 'https://wunderflats.com/en/furnished-apartment/studio-with-all-comfort/63e0bc64be0a7de139414474?dataLayerKey=847UbP0uB589nI_JFC40d',\n",
       " 'https://wunderflats.com/en/furnished-apartment/studio-place-des-vosges-saint-paul/63dce119eef83462a266d99c?dataLayerKey=847UbP0uB589nI_JFC40d',\n",
       " 'https://wunderflats.com/en/furnished-apartment/beautiful-studio-bijou-closed-to-musee/635aa64d02e258d3f935068f?dataLayerKey=847UbP0uB589nI_JFC40d',\n",
       " 'https://wunderflats.com/en/furnished-apartment/furnished-apartment-2-rooms-rue-de-malte-paris-11e/63dd101759607e9391d6b890?dataLayerKey=847UbP0uB589nI_JFC40d',\n",
       " 'https://wunderflats.com/en/furnished-apartment/charming-and-awesome-studio/63e0e195be0a7de13941ddbb?dataLayerKey=847UbP0uB589nI_JFC40d',\n",
       " 'https://wunderflats.com/en/furnished-apartment/furnished-apartment-paris-studio-saint-michel/63dd1a8059607e9391d6d594?dataLayerKey=oz3nV-2R4lcj4_gmnYaj6',\n",
       " 'https://wunderflats.com/en/furnished-apartment/2-rooms-apartment-very-comfortable-paris-15e/63dd0a03f2e368a6a9cfe2cb?dataLayerKey=oz3nV-2R4lcj4_gmnYaj6',\n",
       " 'https://wunderflats.com/en/furnished-apartment/charming-studio-in-the-latin-quarter/63e0d6c8be0a7de13941b47b?dataLayerKey=oz3nV-2R4lcj4_gmnYaj6',\n",
       " 'https://wunderflats.com/en/furnished-apartment/3-room-flat-montmartre/63dd0bfbf2e368a6a9cfeb86?dataLayerKey=oz3nV-2R4lcj4_gmnYaj6',\n",
       " 'https://wunderflats.com/en/furnished-apartment/furnished-house-for-rent/632c11c2e216cf3650664624?dataLayerKey=oz3nV-2R4lcj4_gmnYaj6',\n",
       " 'https://wunderflats.com/en/furnished-apartment/two-rooms-in-montorgueil/63e1143ebe0a7de13942a45b?dataLayerKey=oz3nV-2R4lcj4_gmnYaj6',\n",
       " 'https://wunderflats.com/en/furnished-apartment/fully-refurbished-flat-2-bedrooms-in-haussemann-house-in-montmartre-area-in-quiet-street/62d66f67efdc206cf4f1fd03?dataLayerKey=oz3nV-2R4lcj4_gmnYaj6',\n",
       " 'https://wunderflats.com/en/furnished-apartment/2-rooms-saint-germain-des-pres/63e1019dbe0a7de139425896?dataLayerKey=oz3nV-2R4lcj4_gmnYaj6',\n",
       " 'https://wunderflats.com/en/furnished-apartment/large-studio-on-commercial-street/63e0e49bbe0a7de13941e8a2?dataLayerKey=oz3nV-2R4lcj4_gmnYaj6',\n",
       " 'https://wunderflats.com/en/furnished-apartment/budget-apart-near-paris/63404594e8d7b7ccaf5a90b4?dataLayerKey=oz3nV-2R4lcj4_gmnYaj6',\n",
       " 'https://wunderflats.com/en/furnished-apartment/27m2-flat-close-to-nation-paris-11/62d023f1d752caabb1b46173?dataLayerKey=oz3nV-2R4lcj4_gmnYaj6',\n",
       " 'https://wunderflats.com/en/furnished-apartment/furnished-apartment-paris-2-rooms-saint-paul-le-maraisfurnished-apartment-paris-2-rooms-saint-paul-le-marais/63e0c345be0a7de139415e99?dataLayerKey=oz3nV-2R4lcj4_gmnYaj6',\n",
       " 'https://wunderflats.com/en/furnished-apartment/2-rooms-saint-germain-des-pres/63e105bcbe0a7de139426982?dataLayerKey=oz3nV-2R4lcj4_gmnYaj6',\n",
       " 'https://wunderflats.com/en/furnished-apartment/wonderful-studio-in-le-marais/630e1b57a75de8a3f22db101?dataLayerKey=oz3nV-2R4lcj4_gmnYaj6',\n",
       " 'https://wunderflats.com/en/furnished-apartment/23-m-apartment-with-terrace-for-2-persons-sacre-coeur/63e0eea0be0a7de139420d65?dataLayerKey=oz3nV-2R4lcj4_gmnYaj6',\n",
       " 'https://wunderflats.com/en/furnished-apartment/rental-furnished-appartment-2-rooms-30m-sentier-bonne-nouvelle/63c0187b2580326cc99c1b10?dataLayerKey=oz3nV-2R4lcj4_gmnYaj6',\n",
       " 'https://wunderflats.com/en/furnished-apartment/new-and-carefully-furnished-three-room-apartment-with-a-wonderful-view-of-paris/63819af450f8aa424ec2b805?dataLayerKey=oz3nV-2R4lcj4_gmnYaj6',\n",
       " 'https://wunderflats.com/en/furnished-apartment/beautiful-studio-with-balcony/62f3e0444d8af2e3e153ed4f?dataLayerKey=oz3nV-2R4lcj4_gmnYaj6',\n",
       " 'https://wunderflats.com/en/furnished-apartment/furnished-apartment-paris-3-bedrooms-saint-paul-marais/63dce45ceef83462a266e942?dataLayerKey=oz3nV-2R4lcj4_gmnYaj6',\n",
       " 'https://wunderflats.com/en/furnished-apartment/newly-renovated-studio-in-paris-xviii/633af3aa3d6a33bc26147956?dataLayerKey=oz3nV-2R4lcj4_gmnYaj6',\n",
       " 'https://wunderflats.com/en/furnished-apartment/furnished-apartment-paris-studio-convention/63e2218bd54cba28616e5fbf?dataLayerKey=oz3nV-2R4lcj4_gmnYaj6',\n",
       " 'https://wunderflats.com/en/furnished-apartment/nice-3-rooms-very-close-to-canal-saint-martin/63e10d6dbe0a7de139428594?dataLayerKey=oz3nV-2R4lcj4_gmnYaj6',\n",
       " 'https://wunderflats.com/en/furnished-apartment/spacious-apartment-one-bedroom-marais-rambuteau/63dd054a59607e9391d68788?dataLayerKey=oz3nV-2R4lcj4_gmnYaj6',\n",
       " 'https://wunderflats.com/en/furnished-apartment/beautiful-flat-in-popular-area-clichy/633d60454dd523ed0e37cffb?dataLayerKey=oz3nV-2R4lcj4_gmnYaj6',\n",
       " 'https://wunderflats.com/en/furnished-apartment/g/lovely-studio-in-hotel-residence/Fgn56aE6Qq1Oh4zeswOCK?dataLayerKey=oz3nV-2R4lcj4_gmnYaj6',\n",
       " 'https://wunderflats.com/en/furnished-apartment/cosy-little-flat-in-vaugirard/62f520268902bfd4240cb274?dataLayerKey=oz3nV-2R4lcj4_gmnYaj6',\n",
       " 'https://wunderflats.com/en/furnished-apartment/bright-and-functional-apartment/635501262d93d72efa2db41f?dataLayerKey=oz3nV-2R4lcj4_gmnYaj6',\n",
       " 'https://wunderflats.com/en/furnished-apartment/fashionable-and-cute-apartment-great-view/6315da23f66206005f2c3997?dataLayerKey=oz3nV-2R4lcj4_gmnYaj6',\n",
       " 'https://wunderflats.com/en/furnished-apartment/bright-3-room-apartment/6329cf452bd8c9213d82cb1c?dataLayerKey=oz3nV-2R4lcj4_gmnYaj6',\n",
       " 'https://wunderflats.com/en/furnished-apartment/new-and-carefully-furnished-two-room-apartment/638489b6858cc507378796b2?dataLayerKey=oz3nV-2R4lcj4_gmnYaj6',\n",
       " 'https://wunderflats.com/en/furnished-apartment/new-furnished-studio-paris-12eme/632df08e01bc5699756c1d1d?dataLayerKey=X-qkpIX2mdyVU3i0ppmHH',\n",
       " 'https://wunderflats.com/en/furnished-apartment/new-and-carefully-furnished-two-room-apartment-with-a-wonderful-view-of-paris/63849070858cc5073787b97b?dataLayerKey=X-qkpIX2mdyVU3i0ppmHH',\n",
       " 'https://wunderflats.com/en/furnished-apartment/charming-apartment-in-the-center-of-paris/631fa016f611cc61531950cf?dataLayerKey=X-qkpIX2mdyVU3i0ppmHH',\n",
       " 'https://wunderflats.com/en/furnished-apartment/bright-apartment-with-all-comfort/631f2825b9c62e46cb793a52?dataLayerKey=X-qkpIX2mdyVU3i0ppmHH',\n",
       " 'https://wunderflats.com/en/furnished-apartment/spacious-amazing-flat-close-to-park-bagneux/633aa5430411f0c2f3a0d43c?dataLayerKey=X-qkpIX2mdyVU3i0ppmHH',\n",
       " 'https://wunderflats.com/en/furnished-apartment/g/modern-apartment-near-the-eiffel-tower/1uFluZ9B4jPhaoVe7ISSK?dataLayerKey=X-qkpIX2mdyVU3i0ppmHH',\n",
       " 'https://wunderflats.com/en/furnished-apartment/g/t2-great-one-bedroom-flat-in-residence-in-villejuif/cI63JHoEQm8z1-nge3tXv?dataLayerKey=X-qkpIX2mdyVU3i0ppmHH',\n",
       " 'https://wunderflats.com/en/furnished-apartment/g/lovely-studio-in-residence-near-the-eiffel-tower/ixEsm00AdQI08h9Xwtcxp?dataLayerKey=X-qkpIX2mdyVU3i0ppmHH',\n",
       " 'https://wunderflats.com/en/furnished-apartment/g/t1-great-studio-in-residence-in-villejuif/zpAOu7c6B6cAxOf8S7BkP?dataLayerKey=X-qkpIX2mdyVU3i0ppmHH',\n",
       " 'https://wunderflats.com/en/furnished-apartment/wonderful-and-lovely-3-bedroom-appartement/6319c28d9e872217d5ddc321?dataLayerKey=X-qkpIX2mdyVU3i0ppmHH']"
      ]
     },
     "execution_count": 6,
     "metadata": {},
     "output_type": "execute_result"
    }
   ],
   "source": [
    "links = []\n",
    "for page in pages:\n",
    "    html = getAndParseURL(page)\n",
    "    for resulthf in html.findAll(\"a\",{\"class\":\"Listing-link\"}):\n",
    "        links.append(\"https://wunderflats.com\" + resulthf.get(\"href\"))\n",
    "\n",
    "links"
   ]
  },
  {
   "cell_type": "code",
   "execution_count": 7,
   "id": "9e461f98",
   "metadata": {},
   "outputs": [
    {
     "data": {
      "text/plain": [
       "520"
      ]
     },
     "execution_count": 7,
     "metadata": {},
     "output_type": "execute_result"
    }
   ],
   "source": [
    "len(links)"
   ]
  },
  {
   "cell_type": "code",
   "execution_count": 8,
   "id": "8bb7a100",
   "metadata": {},
   "outputs": [],
   "source": [
    "ex=getAndParseURL(\"https://wunderflats.com/en/furnished-apartment/furnished-two-room-flat-very-bright/63bfcebe14fef279bde4137e?dataLayerKey=ZohyaJqk2BIru5AlcIpUR\")"
   ]
  },
  {
   "cell_type": "code",
   "execution_count": 9,
   "id": "05f7e1a4",
   "metadata": {},
   "outputs": [
    {
     "data": {
      "text/plain": [
       "'1789'"
      ]
     },
     "execution_count": 9,
     "metadata": {},
     "output_type": "execute_result"
    }
   ],
   "source": [
    "### For Rent Price ###\n",
    "ex.find(\"strong\",{\"class\":\"ListingPriceText-value\"}).text.replace(\"€\",\"\").replace(\",\",\"\").strip()"
   ]
  },
  {
   "cell_type": "code",
   "execution_count": 10,
   "id": "311d42e8",
   "metadata": {},
   "outputs": [
    {
     "data": {
      "text/plain": [
       "'45'"
      ]
     },
     "execution_count": 10,
     "metadata": {},
     "output_type": "execute_result"
    }
   ],
   "source": [
    "### Net Area Of Flat###\n",
    "ex.find(\"span\",{\"class\":\"ListingDetails-statsElt floor\"}).text[0:3].strip()"
   ]
  },
  {
   "cell_type": "code",
   "execution_count": 11,
   "id": "ea08fdd6",
   "metadata": {},
   "outputs": [
    {
     "data": {
      "text/plain": [
       "'Rue la Condamine, 75017, Paris'"
      ]
     },
     "execution_count": 11,
     "metadata": {},
     "output_type": "execute_result"
    }
   ],
   "source": [
    "### Location Info ###\n",
    "ex.find(\"span\",{\"class\":\"txt-light\"}).text.strip()"
   ]
  },
  {
   "cell_type": "code",
   "execution_count": 12,
   "id": "0bbcd484",
   "metadata": {},
   "outputs": [
    {
     "data": {
      "text/plain": [
       "'2 People'"
      ]
     },
     "execution_count": 12,
     "metadata": {},
     "output_type": "execute_result"
    }
   ],
   "source": [
    "### Capacity ###\n",
    "ex.find(\"span\",{\"class\":\"ListingDetails-statsElt guests\"}).text.strip()"
   ]
  },
  {
   "cell_type": "code",
   "execution_count": 13,
   "id": "6c3f2430",
   "metadata": {},
   "outputs": [
    {
     "data": {
      "text/plain": [
       "'2'"
      ]
     },
     "execution_count": 13,
     "metadata": {},
     "output_type": "execute_result"
    }
   ],
   "source": [
    "### Bedroom Number ###\n",
    "ex.find(\"span\",{\"class\":\"ListingDetails-statsElt rooms\"}).text.replace(\"Rooms\",\"\").strip()"
   ]
  },
  {
   "cell_type": "code",
   "execution_count": 14,
   "id": "76ae9752",
   "metadata": {},
   "outputs": [
    {
     "data": {
      "text/plain": [
       "'1789'"
      ]
     },
     "execution_count": 14,
     "metadata": {},
     "output_type": "execute_result"
    }
   ],
   "source": [
    "### Deposit ###\n",
    "ex.findAll(\"div\",{\"class\":\"CostOverview-itemRow\"})[1].text.replace(\"Security deposit€\",\"\").replace(\",\",\"\").strip()"
   ]
  },
  {
   "cell_type": "code",
   "execution_count": 15,
   "id": "8c032058",
   "metadata": {},
   "outputs": [],
   "source": [
    "result = []\n",
    "for resulthf in links:\n",
    "    html = getAndParseURL(resulthf)\n",
    "    \n",
    "    try:\n",
    "        location = html.find(\"span\",{\"class\":\"txt-light\"}).text.strip()\n",
    "    except:\n",
    "        location = np.nan\n",
    "    try:\n",
    "        rent= html.find(\"strong\",{\"class\":\"ListingPriceText-value\"}).text.replace(\"€\",\"\").replace(\",\",\"\").strip()\n",
    "    except:\n",
    "        rent = np.nan\n",
    "    try:\n",
    "        deposit = html.findAll(\"div\",{\"class\":\"CostOverview-itemRow\"})[1].text.replace(\"Security deposit€\",\"\").replace(\",\",\"\").strip()\n",
    "    except:\n",
    "        deposit = np.nan\n",
    "    try:\n",
    "        rooms = html.find(\"span\",{\"class\":\"ListingDetails-statsElt rooms\"}).text.replace(\"Rooms\",\"\").strip()\n",
    "    except:\n",
    "        rooms = np.nan\n",
    "    try:\n",
    "        capacity = html.find(\"span\",{\"class\":\"ListingDetails-statsElt guests\"}).text.strip()\n",
    "    except:\n",
    "        capacity = np.nan\n",
    "    try:\n",
    "        net_area = html.find(\"span\",{\"class\":\"ListingDetails-statsElt floor\"}).text[0:3].strip()\n",
    "    except:\n",
    "        net_area = np.nan\n",
    "    time.sleep(2)\n",
    "    \n",
    "    result.append([location,rent,deposit,rooms,capacity,net_area])\n",
    "    \n",
    "columns=[\"Location\",\"Rent\",\"Deposit\",\"Rooms\",\"Capacity\",\"Net Area\"]\n",
    "df = pd.DataFrame.from_records(result, columns=columns)"
   ]
  },
  {
   "cell_type": "code",
   "execution_count": 16,
   "id": "36567788",
   "metadata": {},
   "outputs": [
    {
     "data": {
      "text/html": [
       "<div>\n",
       "<style scoped>\n",
       "    .dataframe tbody tr th:only-of-type {\n",
       "        vertical-align: middle;\n",
       "    }\n",
       "\n",
       "    .dataframe tbody tr th {\n",
       "        vertical-align: top;\n",
       "    }\n",
       "\n",
       "    .dataframe thead th {\n",
       "        text-align: right;\n",
       "    }\n",
       "</style>\n",
       "<table border=\"1\" class=\"dataframe\">\n",
       "  <thead>\n",
       "    <tr style=\"text-align: right;\">\n",
       "      <th></th>\n",
       "      <th>Location</th>\n",
       "      <th>Rent</th>\n",
       "      <th>Deposit</th>\n",
       "      <th>Rooms</th>\n",
       "      <th>Capacity</th>\n",
       "      <th>Net Area</th>\n",
       "    </tr>\n",
       "  </thead>\n",
       "  <tbody>\n",
       "    <tr>\n",
       "      <th>0</th>\n",
       "      <td>Rue Chaptal, 75009, Paris</td>\n",
       "      <td>14368</td>\n",
       "      <td>20000</td>\n",
       "      <td>5</td>\n",
       "      <td>10 People</td>\n",
       "      <td>180</td>\n",
       "    </tr>\n",
       "    <tr>\n",
       "      <th>1</th>\n",
       "      <td>Rue Damrémont, 75018, Paris</td>\n",
       "      <td>3723</td>\n",
       "      <td>500</td>\n",
       "      <td>3</td>\n",
       "      <td>4 People</td>\n",
       "      <td>55</td>\n",
       "    </tr>\n",
       "    <tr>\n",
       "      <th>2</th>\n",
       "      <td>Square de Clignancourt, 75018, Paris</td>\n",
       "      <td>1000</td>\n",
       "      <td>1000</td>\n",
       "      <td>1 Room</td>\n",
       "      <td>2 People</td>\n",
       "      <td>10</td>\n",
       "    </tr>\n",
       "    <tr>\n",
       "      <th>3</th>\n",
       "      <td>Boulevard Poissonnière, 75009, Paris</td>\n",
       "      <td>4316</td>\n",
       "      <td>4316</td>\n",
       "      <td>3</td>\n",
       "      <td>4 People</td>\n",
       "      <td>92</td>\n",
       "    </tr>\n",
       "    <tr>\n",
       "      <th>4</th>\n",
       "      <td>Rue Marcel Paul, 94800, Villejuif</td>\n",
       "      <td>805</td>\n",
       "      <td>805</td>\n",
       "      <td>2</td>\n",
       "      <td>1 Person</td>\n",
       "      <td>57</td>\n",
       "    </tr>\n",
       "    <tr>\n",
       "      <th>...</th>\n",
       "      <td>...</td>\n",
       "      <td>...</td>\n",
       "      <td>...</td>\n",
       "      <td>...</td>\n",
       "      <td>...</td>\n",
       "      <td>...</td>\n",
       "    </tr>\n",
       "    <tr>\n",
       "      <th>515</th>\n",
       "      <td>Rue Fondary, 75015, Paris</td>\n",
       "      <td>4650</td>\n",
       "      <td>0</td>\n",
       "      <td>2</td>\n",
       "      <td>2 People</td>\n",
       "      <td>25</td>\n",
       "    </tr>\n",
       "    <tr>\n",
       "      <th>516</th>\n",
       "      <td>Avenue de Paris, 94800, Villejuif</td>\n",
       "      <td>3131</td>\n",
       "      <td>700</td>\n",
       "      <td>2</td>\n",
       "      <td>4 People</td>\n",
       "      <td>40</td>\n",
       "    </tr>\n",
       "    <tr>\n",
       "      <th>517</th>\n",
       "      <td>Rue Fondary, 75015, Paris</td>\n",
       "      <td>4375</td>\n",
       "      <td>0</td>\n",
       "      <td>1 Room</td>\n",
       "      <td>2 People</td>\n",
       "      <td>18</td>\n",
       "    </tr>\n",
       "    <tr>\n",
       "      <th>518</th>\n",
       "      <td>Avenue de Paris, 94800, Villejuif</td>\n",
       "      <td>2449</td>\n",
       "      <td>500</td>\n",
       "      <td>1 Room</td>\n",
       "      <td>2 People</td>\n",
       "      <td>23</td>\n",
       "    </tr>\n",
       "    <tr>\n",
       "      <th>519</th>\n",
       "      <td>Rue Marie-Davy, 75014, Paris</td>\n",
       "      <td>3150</td>\n",
       "      <td>6000</td>\n",
       "      <td>4</td>\n",
       "      <td>3 People</td>\n",
       "      <td>102</td>\n",
       "    </tr>\n",
       "  </tbody>\n",
       "</table>\n",
       "<p>520 rows × 6 columns</p>\n",
       "</div>"
      ],
      "text/plain": [
       "                                 Location   Rent Deposit   Rooms   Capacity  \\\n",
       "0               Rue Chaptal, 75009, Paris  14368   20000       5  10 People   \n",
       "1             Rue Damrémont, 75018, Paris   3723     500       3   4 People   \n",
       "2    Square de Clignancourt, 75018, Paris   1000    1000  1 Room   2 People   \n",
       "3    Boulevard Poissonnière, 75009, Paris   4316    4316       3   4 People   \n",
       "4       Rue Marcel Paul, 94800, Villejuif    805     805       2   1 Person   \n",
       "..                                    ...    ...     ...     ...        ...   \n",
       "515             Rue Fondary, 75015, Paris   4650       0       2   2 People   \n",
       "516     Avenue de Paris, 94800, Villejuif   3131     700       2   4 People   \n",
       "517             Rue Fondary, 75015, Paris   4375       0  1 Room   2 People   \n",
       "518     Avenue de Paris, 94800, Villejuif   2449     500  1 Room   2 People   \n",
       "519          Rue Marie-Davy, 75014, Paris   3150    6000       4   3 People   \n",
       "\n",
       "    Net Area  \n",
       "0        180  \n",
       "1         55  \n",
       "2         10  \n",
       "3         92  \n",
       "4         57  \n",
       "..       ...  \n",
       "515       25  \n",
       "516       40  \n",
       "517       18  \n",
       "518       23  \n",
       "519      102  \n",
       "\n",
       "[520 rows x 6 columns]"
      ]
     },
     "execution_count": 16,
     "metadata": {},
     "output_type": "execute_result"
    }
   ],
   "source": [
    "df"
   ]
  },
  {
   "cell_type": "code",
   "execution_count": 17,
   "id": "4d8e6f1d",
   "metadata": {},
   "outputs": [],
   "source": [
    "df.to_csv(\"paris_rent.csv\")"
   ]
  },
  {
   "cell_type": "code",
   "execution_count": 2,
   "id": "8f8578ac",
   "metadata": {},
   "outputs": [],
   "source": [
    "df=pd.read_csv(\"paris_rent.csv\")"
   ]
  },
  {
   "cell_type": "code",
   "execution_count": 3,
   "id": "d1619129",
   "metadata": {},
   "outputs": [
    {
     "name": "stdout",
     "output_type": "stream",
     "text": [
      "<class 'pandas.core.frame.DataFrame'>\n",
      "RangeIndex: 520 entries, 0 to 519\n",
      "Data columns (total 7 columns):\n",
      " #   Column      Non-Null Count  Dtype \n",
      "---  ------      --------------  ----- \n",
      " 0   Unnamed: 0  520 non-null    int64 \n",
      " 1   Location    520 non-null    object\n",
      " 2   Rent        520 non-null    int64 \n",
      " 3   Deposit     520 non-null    int64 \n",
      " 4   Rooms       520 non-null    object\n",
      " 5   Capacity    520 non-null    object\n",
      " 6   Net Area    520 non-null    object\n",
      "dtypes: int64(3), object(4)\n",
      "memory usage: 28.6+ KB\n"
     ]
    }
   ],
   "source": [
    "df.info()"
   ]
  },
  {
   "cell_type": "code",
   "execution_count": 4,
   "id": "330e6d3d",
   "metadata": {},
   "outputs": [
    {
     "data": {
      "text/plain": [
       "3294.3076923076924"
      ]
     },
     "execution_count": 4,
     "metadata": {},
     "output_type": "execute_result"
    }
   ],
   "source": [
    "df[\"Rent\"].mean()"
   ]
  },
  {
   "cell_type": "code",
   "execution_count": 5,
   "id": "97cf7b1c",
   "metadata": {},
   "outputs": [
    {
     "data": {
      "text/plain": [
       "25263"
      ]
     },
     "execution_count": 5,
     "metadata": {},
     "output_type": "execute_result"
    }
   ],
   "source": [
    "df[\"Rent\"].max()"
   ]
  },
  {
   "cell_type": "code",
   "execution_count": 6,
   "id": "d570c126",
   "metadata": {},
   "outputs": [
    {
     "data": {
      "text/plain": [
       "805"
      ]
     },
     "execution_count": 6,
     "metadata": {},
     "output_type": "execute_result"
    }
   ],
   "source": [
    "df[\"Rent\"].min()"
   ]
  },
  {
   "cell_type": "code",
   "execution_count": 11,
   "id": "302bc576",
   "metadata": {},
   "outputs": [
    {
     "data": {
      "text/plain": [
       "4291.0526315789475"
      ]
     },
     "execution_count": 11,
     "metadata": {},
     "output_type": "execute_result"
    }
   ],
   "source": [
    "df[\"Deposit\"].mean()"
   ]
  },
  {
   "cell_type": "code",
   "execution_count": 8,
   "id": "6df1b915",
   "metadata": {},
   "outputs": [
    {
     "data": {
      "text/plain": [
       "0"
      ]
     },
     "execution_count": 8,
     "metadata": {},
     "output_type": "execute_result"
    }
   ],
   "source": [
    "df[\"Deposit\"].min()"
   ]
  },
  {
   "cell_type": "code",
   "execution_count": 9,
   "id": "952adc5f",
   "metadata": {},
   "outputs": [
    {
     "data": {
      "text/plain": [
       "45800"
      ]
     },
     "execution_count": 9,
     "metadata": {},
     "output_type": "execute_result"
    }
   ],
   "source": [
    "df[\"Deposit\"].max()"
   ]
  },
  {
   "cell_type": "code",
   "execution_count": 10,
   "id": "313fd176",
   "metadata": {},
   "outputs": [],
   "source": [
    "df= df.loc[(df[\"Deposit\"] >= 2620) & (df[\"Rent\"] <= 46000),:]"
   ]
  },
  {
   "cell_type": "code",
   "execution_count": 17,
   "id": "ab6f15c1",
   "metadata": {},
   "outputs": [
    {
     "data": {
      "text/plain": [
       "array(['5', '3', '2', '4', 1, '7'], dtype=object)"
      ]
     },
     "execution_count": 17,
     "metadata": {},
     "output_type": "execute_result"
    }
   ],
   "source": [
    "df[\"Rooms\"].unique()"
   ]
  },
  {
   "cell_type": "code",
   "execution_count": 21,
   "id": "e3302a46",
   "metadata": {},
   "outputs": [],
   "source": [
    "df[\"Rooms\"]=df[\"Rooms\"].astype(int)"
   ]
  },
  {
   "cell_type": "code",
   "execution_count": 14,
   "id": "c8acff71",
   "metadata": {},
   "outputs": [],
   "source": [
    "df[\"Rooms\"]=df[\"Rooms\"].apply(lambda x : 1 if x ==\"1 Room\" else x)"
   ]
  },
  {
   "cell_type": "code",
   "execution_count": 18,
   "id": "1a0ee6cd",
   "metadata": {},
   "outputs": [
    {
     "data": {
      "image/png": "[encoded data removed]",
      "text/plain": [
       "<Figure size 800x800 with 1 Axes>"
      ]
     },
     "metadata": {},
     "output_type": "display_data"
    }
   ],
   "source": [
    "# get the value counts of the 'Bedroom' column\n",
    "bed_room_counts = df['Rooms'].value_counts()\n",
    "\n",
    "# filter the value counts to include only values bigger than 1%\n",
    "filtered_bedroom_counts = bed_room_counts[bed_room_counts/len(df) > 0.01]\n",
    "\n",
    "\n",
    "# create the pie chart\n",
    "plt.figure(figsize=(8, 8))\n",
    "plt.pie(filtered_bedroom_counts, labels=filtered_bedroom_counts.index, autopct='%1.1f%%')\n",
    "\n",
    "# set the title of the chart\n",
    "plt.title('Distrubition of the Bedroom Number Flats of Paris',weight=\"bold\")\n",
    "\n",
    "# display the chart\n",
    "plt.show();\n"
   ]
  },
  {
   "cell_type": "code",
   "execution_count": 24,
   "id": "7e6da30c",
   "metadata": {},
   "outputs": [
    {
     "data": {
      "image/png": "[encoded data removed]",
      "text/plain": [
       "<Figure size 640x480 with 1 Axes>"
      ]
     },
     "metadata": {},
     "output_type": "display_data"
    }
   ],
   "source": [
    "### Calculate mean rent for each group + add expenses ###\n",
    "one_bed_mean_rent = df[df['Rooms'] == 1]['Rent'].mean()\n",
    "two_bed_mean_rent = df[df['Rooms'] == 2]['Rent'].mean()\n",
    "three_bed_mean_rent = df[df['Rooms'] == 3]['Rent'].mean()\n",
    "\n",
    "### Create a bar plot ###\n",
    "sns.set_style(\"whitegrid\")\n",
    "ax = sns.barplot(x=['1 Bedroom', '2 Bedrooms','3 Bedrooms'], y=[one_bed_mean_rent, two_bed_mean_rent,three_bed_mean_rent], palette=\"Set1\")\n",
    "\n",
    "# Add labels to the bars\n",
    "for p in ax.patches:\n",
    "    height = p.get_height()\n",
    "    ax.text(p.get_x() + p.get_width()/2., height+50, '€{:.0f}'.format(height), ha=\"center\", weight='bold')\n",
    "\n",
    "# Format the x and y-axis tick labels\n",
    "ax.set_xticklabels(['1 Bedroom', '2 Bedrooms','3 Bedrooms'], weight='bold')\n",
    "ax.set_yticks([0, 2000, 4000,6000])\n",
    "ax.set_yticklabels(['€0', '€2,000', '€3,000','€6,000'], weight='bold')\n",
    "\n",
    "# Format the x and y-axis labels\n",
    "ax.set_xlabel('Number of Bedrooms', weight='bold')\n",
    "ax.set_ylabel('Mean Rent (€)', weight='bold')\n",
    "\n",
    "# Set the plot title\n",
    "ax.set_title('Mean Rent by Number of Bedrooms(Paris)', weight='bold')\n",
    "\n",
    "plt.show();"
   ]
  },
  {
   "cell_type": "code",
   "execution_count": null,
   "id": "649677df",
   "metadata": {},
   "outputs": [],
   "source": []
  }
 ],
 "metadata": {
  "kernelspec": {
   "display_name": "Python 3 (ipykernel)",
   "language": "python",
   "name": "python3"
  },
  "language_info": {
   "codemirror_mode": {
    "name": "ipython",
    "version": 3
   },
   "file_extension": ".py",
   "mimetype": "text/x-python",
   "name": "python",
   "nbconvert_exporter": "python",
   "pygments_lexer": "ipython3",
   "version": "3.10.6"
  }
 },
 "nbformat": 4,
 "nbformat_minor": 5
}
