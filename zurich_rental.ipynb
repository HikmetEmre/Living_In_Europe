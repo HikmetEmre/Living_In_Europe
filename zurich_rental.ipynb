{
 "cells": [
  {
   "cell_type": "code",
   "execution_count": 2,
   "id": "7d6d6d7a",
   "metadata": {},
   "outputs": [],
   "source": [
    "from urllib.request import urlopen\n",
    "import requests\n",
    "from bs4 import BeautifulSoup as bts\n",
    "import pandas as pd \n",
    "import re\n",
    "import seaborn as sns\n",
    "import matplotlib.pyplot as plt\n",
    "import numpy as np\n",
    "import time"
   ]
  },
  {
   "cell_type": "code",
   "execution_count": 3,
   "id": "a8cd9e77",
   "metadata": {},
   "outputs": [],
   "source": [
    "def getAndParseURL(url):\n",
    "    result=requests.get(url,headers={\"User-Agent\":\"Chrome/111.0.5563.65\"})\n",
    "    soup=bts(result.text,\"html.parser\")\n",
    "    return soup"
   ]
  },
  {
   "cell_type": "code",
   "execution_count": 4,
   "id": "71443466",
   "metadata": {},
   "outputs": [
    {
     "data": {
      "text/plain": [
       "['https://www.homegate.ch/rent/apartment/city-zurich/matching-list',\n",
       " 'https://www.homegate.ch/rent/apartment/city-zurich/matching-list?ep=2',\n",
       " 'https://www.homegate.ch/rent/apartment/city-zurich/matching-list?ep=3',\n",
       " 'https://www.homegate.ch/rent/apartment/city-zurich/matching-list?ep=4',\n",
       " 'https://www.homegate.ch/rent/apartment/city-zurich/matching-list?ep=5',\n",
       " 'https://www.homegate.ch/rent/apartment/city-zurich/matching-list?ep=6',\n",
       " 'https://www.homegate.ch/rent/apartment/city-zurich/matching-list?ep=7',\n",
       " 'https://www.homegate.ch/rent/apartment/city-zurich/matching-list?ep=8',\n",
       " 'https://www.homegate.ch/rent/apartment/city-zurich/matching-list?ep=9',\n",
       " 'https://www.homegate.ch/rent/apartment/city-zurich/matching-list?ep=10',\n",
       " 'https://www.homegate.ch/rent/apartment/city-zurich/matching-list?ep=11',\n",
       " 'https://www.homegate.ch/rent/apartment/city-zurich/matching-list?ep=12',\n",
       " 'https://www.homegate.ch/rent/apartment/city-zurich/matching-list?ep=13',\n",
       " 'https://www.homegate.ch/rent/apartment/city-zurich/matching-list?ep=14',\n",
       " 'https://www.homegate.ch/rent/apartment/city-zurich/matching-list?ep=15',\n",
       " 'https://www.homegate.ch/rent/apartment/city-zurich/matching-list?ep=16',\n",
       " 'https://www.homegate.ch/rent/apartment/city-zurich/matching-list?ep=17',\n",
       " 'https://www.homegate.ch/rent/apartment/city-zurich/matching-list?ep=18',\n",
       " 'https://www.homegate.ch/rent/apartment/city-zurich/matching-list?ep=19',\n",
       " 'https://www.homegate.ch/rent/apartment/city-zurich/matching-list?ep=20',\n",
       " 'https://www.homegate.ch/rent/apartment/city-zurich/matching-list?ep=21',\n",
       " 'https://www.homegate.ch/rent/apartment/city-zurich/matching-list?ep=22',\n",
       " 'https://www.homegate.ch/rent/apartment/city-zurich/matching-list?ep=23',\n",
       " 'https://www.homegate.ch/rent/apartment/city-zurich/matching-list?ep=24']"
      ]
     },
     "execution_count": 4,
     "metadata": {},
     "output_type": "execute_result"
    }
   ],
   "source": [
    "pages=[\"https://www.homegate.ch/rent/apartment/city-zurich/matching-list\"]\n",
    "for page in range(2,25):\n",
    "    pages.append(\"https://www.homegate.ch/rent/apartment/city-zurich/matching-list?ep=\" +str (page))\n",
    "    \n",
    "pages"
   ]
  },
  {
   "cell_type": "code",
   "execution_count": 5,
   "id": "e0128452",
   "metadata": {},
   "outputs": [
    {
     "data": {
      "text/plain": [
       "['https://www.homegate.ch/rent/3002579447',\n",
       " 'https://www.homegate.ch/rent/3002627862',\n",
       " 'https://www.homegate.ch/rent/3002621121',\n",
       " 'https://www.homegate.ch/rent/3002538579',\n",
       " 'https://www.homegate.ch/rent/3002651586',\n",
       " 'https://www.homegate.ch/rent/3002649462',\n",
       " 'https://www.homegate.ch/rent/3002626815',\n",
       " 'https://www.homegate.ch/rent/3002576286',\n",
       " 'https://www.homegate.ch/rent/3002478233',\n",
       " 'https://www.homegate.ch/rent/3002584237',\n",
       " 'https://www.homegate.ch/rent/3002616431',\n",
       " 'https://www.homegate.ch/rent/3002555028',\n",
       " 'https://www.homegate.ch/rent/3002647733',\n",
       " 'https://www.homegate.ch/rent/3002197688',\n",
       " 'https://www.homegate.ch/rent/3002023120',\n",
       " 'https://www.homegate.ch/rent/3002563698',\n",
       " 'https://www.homegate.ch/rent/3002571659',\n",
       " 'https://www.homegate.ch/rent/3002598423',\n",
       " 'https://www.homegate.ch/rent/3000298918',\n",
       " 'https://www.homegate.ch/rent/3002289931',\n",
       " 'https://www.homegate.ch/rent/3002623140',\n",
       " 'https://www.homegate.ch/rent/3002457300',\n",
       " 'https://www.homegate.ch/rent/3002615751',\n",
       " 'https://www.homegate.ch/rent/3002191031',\n",
       " 'https://www.homegate.ch/rent/3002395147',\n",
       " 'https://www.homegate.ch/rent/3001641976',\n",
       " 'https://www.homegate.ch/rent/3002653931',\n",
       " 'https://www.homegate.ch/rent/3002498657',\n",
       " 'https://www.homegate.ch/rent/3002340314',\n",
       " 'https://www.homegate.ch/rent/3002659891',\n",
       " 'https://www.homegate.ch/rent/3002571694',\n",
       " 'https://www.homegate.ch/rent/3002584376',\n",
       " 'https://www.homegate.ch/rent/3002571686',\n",
       " 'https://www.homegate.ch/rent/3002617962',\n",
       " 'https://www.homegate.ch/rent/3002638854',\n",
       " 'https://www.homegate.ch/rent/3002197456',\n",
       " 'https://www.homegate.ch/rent/3002541606',\n",
       " 'https://www.homegate.ch/rent/3002506957',\n",
       " 'https://www.homegate.ch/rent/3002422655',\n",
       " 'https://www.homegate.ch/rent/3002642990',\n",
       " 'https://www.homegate.ch/rent/3002219447',\n",
       " 'https://www.homegate.ch/rent/3002601942',\n",
       " 'https://www.homegate.ch/rent/3002568326',\n",
       " 'https://www.homegate.ch/rent/3002579088',\n",
       " 'https://www.homegate.ch/rent/3002416609',\n",
       " 'https://www.homegate.ch/rent/3001453529',\n",
       " 'https://www.homegate.ch/rent/3002579093',\n",
       " 'https://www.homegate.ch/rent/3002625420',\n",
       " 'https://www.homegate.ch/rent/3002628681',\n",
       " 'https://www.homegate.ch/rent/3002291977',\n",
       " 'https://www.homegate.ch/rent/3002638941',\n",
       " 'https://www.homegate.ch/rent/3002592327',\n",
       " 'https://www.homegate.ch/rent/3002171307',\n",
       " 'https://www.homegate.ch/rent/3002292011',\n",
       " 'https://www.homegate.ch/rent/3001382720',\n",
       " 'https://www.homegate.ch/rent/3000615304',\n",
       " 'https://www.homegate.ch/rent/3000902014',\n",
       " 'https://www.homegate.ch/rent/3002171312',\n",
       " 'https://www.homegate.ch/rent/3002334796',\n",
       " 'https://www.homegate.ch/rent/3000900797',\n",
       " 'https://www.homegate.ch/rent/3000901626',\n",
       " 'https://www.homegate.ch/rent/3001525478',\n",
       " 'https://www.homegate.ch/rent/3002082348',\n",
       " 'https://www.homegate.ch/rent/3000901704',\n",
       " 'https://www.homegate.ch/rent/3000902003',\n",
       " 'https://www.homegate.ch/rent/3000901540',\n",
       " 'https://www.homegate.ch/rent/3000902710',\n",
       " 'https://www.homegate.ch/rent/3000942407',\n",
       " 'https://www.homegate.ch/rent/3002304941',\n",
       " 'https://www.homegate.ch/rent/3000902771',\n",
       " 'https://www.homegate.ch/rent/3002053657',\n",
       " 'https://www.homegate.ch/rent/3002292042',\n",
       " 'https://www.homegate.ch/rent/3002623270',\n",
       " 'https://www.homegate.ch/rent/3002627337',\n",
       " 'https://www.homegate.ch/rent/3001034646',\n",
       " 'https://www.homegate.ch/rent/3002623932',\n",
       " 'https://www.homegate.ch/rent/3001200913',\n",
       " 'https://www.homegate.ch/rent/3002540033',\n",
       " 'https://www.homegate.ch/rent/3002602272',\n",
       " 'https://www.homegate.ch/rent/3002579076',\n",
       " 'https://www.homegate.ch/rent/3002625334',\n",
       " 'https://www.homegate.ch/rent/3001108792',\n",
       " 'https://www.homegate.ch/rent/3002566726',\n",
       " 'https://www.homegate.ch/rent/3001034695',\n",
       " 'https://www.homegate.ch/rent/3002643721',\n",
       " 'https://www.homegate.ch/rent/3002330139',\n",
       " 'https://www.homegate.ch/rent/3002656865',\n",
       " 'https://www.homegate.ch/rent/3002576208',\n",
       " 'https://www.homegate.ch/rent/3002624472',\n",
       " 'https://www.homegate.ch/rent/3002101128',\n",
       " 'https://www.homegate.ch/rent/3002576256',\n",
       " 'https://www.homegate.ch/rent/3001476845',\n",
       " 'https://www.homegate.ch/rent/3002506893',\n",
       " 'https://www.homegate.ch/rent/3002233505',\n",
       " 'https://www.homegate.ch/rent/3002308353',\n",
       " 'https://www.homegate.ch/rent/3002325515',\n",
       " 'https://www.homegate.ch/rent/3002564763',\n",
       " 'https://www.homegate.ch/rent/3002625158',\n",
       " 'https://www.homegate.ch/rent/3002639994',\n",
       " 'https://www.homegate.ch/rent/3002171294',\n",
       " 'https://www.homegate.ch/rent/3002096344',\n",
       " 'https://www.homegate.ch/rent/3001627087',\n",
       " 'https://www.homegate.ch/rent/3002654453',\n",
       " 'https://www.homegate.ch/rent/3002618445',\n",
       " 'https://www.homegate.ch/rent/3001670626',\n",
       " 'https://www.homegate.ch/rent/3002615185',\n",
       " 'https://www.homegate.ch/rent/3002583123',\n",
       " 'https://www.homegate.ch/rent/3002404864',\n",
       " 'https://www.homegate.ch/rent/3002419177',\n",
       " 'https://www.homegate.ch/rent/3002422797',\n",
       " 'https://www.homegate.ch/rent/3002599895',\n",
       " 'https://www.homegate.ch/rent/3002541867',\n",
       " 'https://www.homegate.ch/rent/3002640687',\n",
       " 'https://www.homegate.ch/rent/3002626895',\n",
       " 'https://www.homegate.ch/rent/3002629387',\n",
       " 'https://www.homegate.ch/rent/3002558221',\n",
       " 'https://www.homegate.ch/rent/3002604374',\n",
       " 'https://www.homegate.ch/rent/3002344304',\n",
       " 'https://www.homegate.ch/rent/3002344301',\n",
       " 'https://www.homegate.ch/rent/3002344299',\n",
       " 'https://www.homegate.ch/rent/3001673134',\n",
       " 'https://www.homegate.ch/rent/3001056383',\n",
       " 'https://www.homegate.ch/rent/3002613406',\n",
       " 'https://www.homegate.ch/rent/3002594791',\n",
       " 'https://www.homegate.ch/rent/3001683589',\n",
       " 'https://www.homegate.ch/rent/3001034709',\n",
       " 'https://www.homegate.ch/rent/3002579113',\n",
       " 'https://www.homegate.ch/rent/3002641166',\n",
       " 'https://www.homegate.ch/rent/3002565461',\n",
       " 'https://www.homegate.ch/rent/3002654035',\n",
       " 'https://www.homegate.ch/rent/3002624168',\n",
       " 'https://www.homegate.ch/rent/3002639620',\n",
       " 'https://www.homegate.ch/rent/3001673132',\n",
       " 'https://www.homegate.ch/rent/3002629392',\n",
       " 'https://www.homegate.ch/rent/3002639907',\n",
       " 'https://www.homegate.ch/rent/3002661436',\n",
       " 'https://www.homegate.ch/rent/3002645235',\n",
       " 'https://www.homegate.ch/rent/3002628135',\n",
       " 'https://www.homegate.ch/rent/3002602273',\n",
       " 'https://www.homegate.ch/rent/3002659490',\n",
       " 'https://www.homegate.ch/rent/3002659491',\n",
       " 'https://www.homegate.ch/rent/3002659492',\n",
       " 'https://www.homegate.ch/rent/3002535834',\n",
       " 'https://www.homegate.ch/rent/3002657819',\n",
       " 'https://www.homegate.ch/rent/3002657918',\n",
       " 'https://www.homegate.ch/rent/3002350126',\n",
       " 'https://www.homegate.ch/rent/3002627528',\n",
       " 'https://www.homegate.ch/rent/3002602586',\n",
       " 'https://www.homegate.ch/rent/3000295311',\n",
       " 'https://www.homegate.ch/rent/3002641851',\n",
       " 'https://www.homegate.ch/rent/3002535615',\n",
       " 'https://www.homegate.ch/rent/3002535654',\n",
       " 'https://www.homegate.ch/rent/109992819',\n",
       " 'https://www.homegate.ch/rent/3002526196',\n",
       " 'https://www.homegate.ch/rent/3002316120',\n",
       " 'https://www.homegate.ch/rent/3002645827',\n",
       " 'https://www.homegate.ch/rent/3002597216',\n",
       " 'https://www.homegate.ch/rent/3002340083',\n",
       " 'https://www.homegate.ch/rent/3002233917',\n",
       " 'https://www.homegate.ch/rent/3002528376',\n",
       " 'https://www.homegate.ch/rent/3002623372',\n",
       " 'https://www.homegate.ch/rent/3002550499',\n",
       " 'https://www.homegate.ch/rent/3002530061',\n",
       " 'https://www.homegate.ch/rent/3001683220',\n",
       " 'https://www.homegate.ch/rent/3001034637',\n",
       " 'https://www.homegate.ch/rent/3001034639',\n",
       " 'https://www.homegate.ch/rent/3002564074',\n",
       " 'https://www.homegate.ch/rent/3002638781',\n",
       " 'https://www.homegate.ch/rent/3002641846',\n",
       " 'https://www.homegate.ch/rent/3002647873',\n",
       " 'https://www.homegate.ch/rent/3002464728',\n",
       " 'https://www.homegate.ch/rent/3002589979',\n",
       " 'https://www.homegate.ch/rent/3002392334',\n",
       " 'https://www.homegate.ch/rent/3001683216',\n",
       " 'https://www.homegate.ch/rent/3002626767',\n",
       " 'https://www.homegate.ch/rent/3002071572',\n",
       " 'https://www.homegate.ch/rent/3002652318',\n",
       " 'https://www.homegate.ch/rent/3002247374',\n",
       " 'https://www.homegate.ch/rent/3002626522',\n",
       " 'https://www.homegate.ch/rent/3002659493',\n",
       " 'https://www.homegate.ch/rent/3002615891',\n",
       " 'https://www.homegate.ch/rent/3002356467',\n",
       " 'https://www.homegate.ch/rent/3002294818',\n",
       " 'https://www.homegate.ch/rent/3002424955',\n",
       " 'https://www.homegate.ch/rent/3002377705',\n",
       " 'https://www.homegate.ch/rent/3002657457',\n",
       " 'https://www.homegate.ch/rent/3002607439',\n",
       " 'https://www.homegate.ch/rent/3002624305',\n",
       " 'https://www.homegate.ch/rent/3002661028',\n",
       " 'https://www.homegate.ch/rent/3002661029',\n",
       " 'https://www.homegate.ch/rent/3002608247',\n",
       " 'https://www.homegate.ch/rent/3002598381',\n",
       " 'https://www.homegate.ch/rent/3002661030',\n",
       " 'https://www.homegate.ch/rent/3002656193',\n",
       " 'https://www.homegate.ch/rent/3002596597',\n",
       " 'https://www.homegate.ch/rent/3002596621',\n",
       " 'https://www.homegate.ch/rent/3002629347',\n",
       " 'https://www.homegate.ch/rent/3002604638',\n",
       " 'https://www.homegate.ch/rent/3002596687',\n",
       " 'https://www.homegate.ch/rent/3002544061',\n",
       " 'https://www.homegate.ch/rent/3002597217',\n",
       " 'https://www.homegate.ch/rent/3002604495',\n",
       " 'https://www.homegate.ch/rent/3002627259',\n",
       " 'https://www.homegate.ch/rent/3002597218',\n",
       " 'https://www.homegate.ch/rent/3002646506',\n",
       " 'https://www.homegate.ch/rent/3002597220',\n",
       " 'https://www.homegate.ch/rent/3002472998',\n",
       " 'https://www.homegate.ch/rent/3002597219',\n",
       " 'https://www.homegate.ch/rent/3002473786',\n",
       " 'https://www.homegate.ch/rent/3002577246',\n",
       " 'https://www.homegate.ch/rent/3002629109',\n",
       " 'https://www.homegate.ch/rent/3002627206',\n",
       " 'https://www.homegate.ch/rent/3002628011',\n",
       " 'https://www.homegate.ch/rent/3002627208',\n",
       " 'https://www.homegate.ch/rent/3002628010',\n",
       " 'https://www.homegate.ch/rent/3002623357',\n",
       " 'https://www.homegate.ch/rent/3002606759',\n",
       " 'https://www.homegate.ch/rent/3002606739',\n",
       " 'https://www.homegate.ch/rent/3002639710',\n",
       " 'https://www.homegate.ch/rent/3002622843',\n",
       " 'https://www.homegate.ch/rent/3002465027',\n",
       " 'https://www.homegate.ch/rent/3002567624',\n",
       " 'https://www.homegate.ch/rent/3002041333',\n",
       " 'https://www.homegate.ch/rent/3002658366',\n",
       " 'https://www.homegate.ch/rent/3002590861',\n",
       " 'https://www.homegate.ch/rent/3002623881',\n",
       " 'https://www.homegate.ch/rent/3002239544',\n",
       " 'https://www.homegate.ch/rent/3002657769',\n",
       " 'https://www.homegate.ch/rent/3002623924',\n",
       " 'https://www.homegate.ch/rent/3002626746',\n",
       " 'https://www.homegate.ch/rent/3002593667',\n",
       " 'https://www.homegate.ch/rent/3002624671',\n",
       " 'https://www.homegate.ch/rent/3002655983',\n",
       " 'https://www.homegate.ch/rent/3002651661',\n",
       " 'https://www.homegate.ch/rent/3002504132',\n",
       " 'https://www.homegate.ch/rent/3002504022',\n",
       " 'https://www.homegate.ch/rent/3002661453',\n",
       " 'https://www.homegate.ch/rent/3002652907',\n",
       " 'https://www.homegate.ch/rent/3002260541',\n",
       " 'https://www.homegate.ch/rent/3002260539',\n",
       " 'https://www.homegate.ch/rent/3002625090',\n",
       " 'https://www.homegate.ch/rent/3002260538',\n",
       " 'https://www.homegate.ch/rent/3002642868',\n",
       " 'https://www.homegate.ch/rent/3002260540',\n",
       " 'https://www.homegate.ch/rent/3002627999',\n",
       " 'https://www.homegate.ch/rent/3002626784',\n",
       " 'https://www.homegate.ch/rent/3001912432',\n",
       " 'https://www.homegate.ch/rent/3002596724',\n",
       " 'https://www.homegate.ch/rent/3002263912',\n",
       " 'https://www.homegate.ch/rent/3002500530',\n",
       " 'https://www.homegate.ch/rent/3002591379',\n",
       " 'https://www.homegate.ch/rent/3002661110',\n",
       " 'https://www.homegate.ch/rent/3002606077',\n",
       " 'https://www.homegate.ch/rent/3002437256',\n",
       " 'https://www.homegate.ch/rent/3002623371',\n",
       " 'https://www.homegate.ch/rent/3002654785',\n",
       " 'https://www.homegate.ch/rent/3002595639',\n",
       " 'https://www.homegate.ch/rent/3002595640',\n",
       " 'https://www.homegate.ch/rent/3002595638',\n",
       " 'https://www.homegate.ch/rent/3002595641',\n",
       " 'https://www.homegate.ch/rent/3002059430',\n",
       " 'https://www.homegate.ch/rent/3002626559',\n",
       " 'https://www.homegate.ch/rent/3002336828',\n",
       " 'https://www.homegate.ch/rent/3002625828',\n",
       " 'https://www.homegate.ch/rent/3002601629',\n",
       " 'https://www.homegate.ch/rent/3002642000',\n",
       " 'https://www.homegate.ch/rent/3002264823',\n",
       " 'https://www.homegate.ch/rent/3002503804',\n",
       " 'https://www.homegate.ch/rent/3002595679',\n",
       " 'https://www.homegate.ch/rent/3002599836',\n",
       " 'https://www.homegate.ch/rent/3002333605',\n",
       " 'https://www.homegate.ch/rent/3002642978',\n",
       " 'https://www.homegate.ch/rent/3002649359',\n",
       " 'https://www.homegate.ch/rent/3002417892',\n",
       " 'https://www.homegate.ch/rent/3002658620',\n",
       " 'https://www.homegate.ch/rent/3002540816',\n",
       " 'https://www.homegate.ch/rent/3001034677',\n",
       " 'https://www.homegate.ch/rent/3001034675',\n",
       " 'https://www.homegate.ch/rent/3002622298',\n",
       " 'https://www.homegate.ch/rent/3002638801',\n",
       " 'https://www.homegate.ch/rent/3001525264',\n",
       " 'https://www.homegate.ch/rent/3001217518',\n",
       " 'https://www.homegate.ch/rent/3001034692',\n",
       " 'https://www.homegate.ch/rent/3001034688',\n",
       " 'https://www.homegate.ch/rent/3001034689',\n",
       " 'https://www.homegate.ch/rent/3001034683',\n",
       " 'https://www.homegate.ch/rent/3001525273',\n",
       " 'https://www.homegate.ch/rent/3001034653',\n",
       " 'https://www.homegate.ch/rent/3002635585',\n",
       " 'https://www.homegate.ch/rent/3001034655',\n",
       " 'https://www.homegate.ch/rent/3002344295',\n",
       " 'https://www.homegate.ch/rent/3001034658',\n",
       " 'https://www.homegate.ch/rent/3002569751',\n",
       " 'https://www.homegate.ch/rent/3002552658',\n",
       " 'https://www.homegate.ch/rent/3001034679',\n",
       " 'https://www.homegate.ch/rent/3002654456',\n",
       " 'https://www.homegate.ch/rent/3001683358',\n",
       " 'https://www.homegate.ch/rent/3001121327',\n",
       " 'https://www.homegate.ch/rent/3001453502',\n",
       " 'https://www.homegate.ch/rent/3001880517',\n",
       " 'https://www.homegate.ch/rent/3000553647',\n",
       " 'https://www.homegate.ch/rent/3000553645',\n",
       " 'https://www.homegate.ch/rent/3000553639',\n",
       " 'https://www.homegate.ch/rent/3000794856',\n",
       " 'https://www.homegate.ch/rent/3002602450',\n",
       " 'https://www.homegate.ch/rent/3000645939',\n",
       " 'https://www.homegate.ch/rent/3000553600',\n",
       " 'https://www.homegate.ch/rent/3000645921',\n",
       " 'https://www.homegate.ch/rent/3002648036',\n",
       " 'https://www.homegate.ch/rent/3002651897',\n",
       " 'https://www.homegate.ch/rent/3002622062',\n",
       " 'https://www.homegate.ch/rent/3002417886',\n",
       " 'https://www.homegate.ch/rent/3001683346',\n",
       " 'https://www.homegate.ch/rent/3002604851',\n",
       " 'https://www.homegate.ch/rent/3001683389',\n",
       " 'https://www.homegate.ch/rent/3002433345',\n",
       " 'https://www.homegate.ch/rent/3000645996',\n",
       " 'https://www.homegate.ch/rent/3002417883',\n",
       " 'https://www.homegate.ch/rent/3002583703',\n",
       " 'https://www.homegate.ch/rent/3002344269',\n",
       " 'https://www.homegate.ch/rent/3002564459',\n",
       " 'https://www.homegate.ch/rent/3002560806',\n",
       " 'https://www.homegate.ch/rent/3002606019',\n",
       " 'https://www.homegate.ch/rent/3002643739',\n",
       " 'https://www.homegate.ch/rent/3002643220',\n",
       " 'https://www.homegate.ch/rent/3002643216',\n",
       " 'https://www.homegate.ch/rent/3002623365',\n",
       " 'https://www.homegate.ch/rent/3002590883',\n",
       " 'https://www.homegate.ch/rent/3002629116',\n",
       " 'https://www.homegate.ch/rent/3002623364',\n",
       " 'https://www.homegate.ch/rent/3002655935',\n",
       " 'https://www.homegate.ch/rent/3002528835',\n",
       " 'https://www.homegate.ch/rent/3002653856',\n",
       " 'https://www.homegate.ch/rent/3002622704',\n",
       " 'https://www.homegate.ch/rent/3002493958',\n",
       " 'https://www.homegate.ch/rent/3002597540',\n",
       " 'https://www.homegate.ch/rent/3002626710',\n",
       " 'https://www.homegate.ch/rent/3002627177',\n",
       " 'https://www.homegate.ch/rent/3002658408',\n",
       " 'https://www.homegate.ch/rent/3002658409',\n",
       " 'https://www.homegate.ch/rent/3002649356',\n",
       " 'https://www.homegate.ch/rent/3002461718',\n",
       " 'https://www.homegate.ch/rent/3002652885',\n",
       " 'https://www.homegate.ch/rent/3002642979',\n",
       " 'https://www.homegate.ch/rent/3002657913',\n",
       " 'https://www.homegate.ch/rent/3002625743',\n",
       " 'https://www.homegate.ch/rent/3002511105',\n",
       " 'https://www.homegate.ch/rent/3002628473',\n",
       " 'https://www.homegate.ch/rent/3002591344',\n",
       " 'https://www.homegate.ch/rent/3002253233',\n",
       " 'https://www.homegate.ch/rent/3002591343',\n",
       " 'https://www.homegate.ch/rent/3002600097',\n",
       " 'https://www.homegate.ch/rent/3002601716',\n",
       " 'https://www.homegate.ch/rent/3002647707',\n",
       " 'https://www.homegate.ch/rent/3002287076',\n",
       " 'https://www.homegate.ch/rent/3002545308',\n",
       " 'https://www.homegate.ch/rent/3002657895',\n",
       " 'https://www.homegate.ch/rent/3002570808',\n",
       " 'https://www.homegate.ch/rent/104854547',\n",
       " 'https://www.homegate.ch/rent/3002623368',\n",
       " 'https://www.homegate.ch/rent/3002628536',\n",
       " 'https://www.homegate.ch/rent/3002641167',\n",
       " 'https://www.homegate.ch/rent/3000485870',\n",
       " 'https://www.homegate.ch/rent/3002627253',\n",
       " 'https://www.homegate.ch/rent/3002607141',\n",
       " 'https://www.homegate.ch/rent/3002450107',\n",
       " 'https://www.homegate.ch/rent/3002334163',\n",
       " 'https://www.homegate.ch/rent/3002629627',\n",
       " 'https://www.homegate.ch/rent/3002657945',\n",
       " 'https://www.homegate.ch/rent/3002654823',\n",
       " 'https://www.homegate.ch/rent/3002645998',\n",
       " 'https://www.homegate.ch/rent/3002645999',\n",
       " 'https://www.homegate.ch/rent/3001912350',\n",
       " 'https://www.homegate.ch/rent/3002336398',\n",
       " 'https://www.homegate.ch/rent/3002627952',\n",
       " 'https://www.homegate.ch/rent/3002336397',\n",
       " 'https://www.homegate.ch/rent/3002418389',\n",
       " 'https://www.homegate.ch/rent/3002626984',\n",
       " 'https://www.homegate.ch/rent/3002500912',\n",
       " 'https://www.homegate.ch/rent/3002628669',\n",
       " 'https://www.homegate.ch/rent/3002623317',\n",
       " 'https://www.homegate.ch/rent/3002627204',\n",
       " 'https://www.homegate.ch/rent/3002627205',\n",
       " 'https://www.homegate.ch/rent/3002620375',\n",
       " 'https://www.homegate.ch/rent/3002327424',\n",
       " 'https://www.homegate.ch/rent/3002331538',\n",
       " 'https://www.homegate.ch/rent/3002612487',\n",
       " 'https://www.homegate.ch/rent/3002476756',\n",
       " 'https://www.homegate.ch/rent/3002612523',\n",
       " 'https://www.homegate.ch/rent/3002489450',\n",
       " 'https://www.homegate.ch/rent/3002116193',\n",
       " 'https://www.homegate.ch/rent/3002612515',\n",
       " 'https://www.homegate.ch/rent/3002640804',\n",
       " 'https://www.homegate.ch/rent/3002604295',\n",
       " 'https://www.homegate.ch/rent/3002660573',\n",
       " 'https://www.homegate.ch/rent/3002561642',\n",
       " 'https://www.homegate.ch/rent/3002640780',\n",
       " 'https://www.homegate.ch/rent/3002660549',\n",
       " 'https://www.homegate.ch/rent/3002560052',\n",
       " 'https://www.homegate.ch/rent/3002510481',\n",
       " 'https://www.homegate.ch/rent/3002626634',\n",
       " 'https://www.homegate.ch/rent/3002576343',\n",
       " 'https://www.homegate.ch/rent/3002391913',\n",
       " 'https://www.homegate.ch/rent/3002604300',\n",
       " 'https://www.homegate.ch/rent/3002622132',\n",
       " 'https://www.homegate.ch/rent/3002469749',\n",
       " 'https://www.homegate.ch/rent/3002089923',\n",
       " 'https://www.homegate.ch/rent/3002560059',\n",
       " 'https://www.homegate.ch/rent/3002571434',\n",
       " 'https://www.homegate.ch/rent/3002588037',\n",
       " 'https://www.homegate.ch/rent/3002449893',\n",
       " 'https://www.homegate.ch/rent/3002660569',\n",
       " 'https://www.homegate.ch/rent/3002457239',\n",
       " 'https://www.homegate.ch/rent/3002594237',\n",
       " 'https://www.homegate.ch/rent/3002647584',\n",
       " 'https://www.homegate.ch/rent/3002346431',\n",
       " 'https://www.homegate.ch/rent/3002347730',\n",
       " 'https://www.homegate.ch/rent/3002533029',\n",
       " 'https://www.homegate.ch/rent/3002262922',\n",
       " 'https://www.homegate.ch/rent/3002653732']"
      ]
     },
     "execution_count": 5,
     "metadata": {},
     "output_type": "execute_result"
    }
   ],
   "source": [
    "links = []\n",
    "for page in pages:\n",
    "    html = getAndParseURL(page)\n",
    "    for resulthf in html.findAll(\"a\",{\"class\":\"ListItem_itemLink_30Did\"}):\n",
    "        links.append(\"https://www.homegate.ch\" + resulthf.get(\"href\"))\n",
    "\n",
    "links\n"
   ]
  },
  {
   "cell_type": "code",
   "execution_count": 9,
   "id": "dd98353f",
   "metadata": {},
   "outputs": [
    {
     "data": {
      "text/plain": [
       "420"
      ]
     },
     "execution_count": 9,
     "metadata": {},
     "output_type": "execute_result"
    }
   ],
   "source": [
    "len(links)"
   ]
  },
  {
   "cell_type": "code",
   "execution_count": 8,
   "id": "0bc26d94",
   "metadata": {},
   "outputs": [],
   "source": [
    "ex=getAndParseURL(\"https://www.homegate.ch/rent/3000900797\")"
   ]
  },
  {
   "cell_type": "code",
   "execution_count": 18,
   "id": "d2623f90",
   "metadata": {},
   "outputs": [
    {
     "data": {
      "text/plain": [
       "'3310'"
      ]
     },
     "execution_count": 18,
     "metadata": {},
     "output_type": "execute_result"
    }
   ],
   "source": [
    "### rent price###\n",
    "ex.find(\"ul\",{\"class\":\"SpotlightAttributes_spotlight_37lw3\"}).find(text=re.compile(\"CHF\")).findNext().text.replace(\",\",\"\").replace(\".\",\"\").replace(\"–\",\"\").strip()"
   ]
  },
  {
   "cell_type": "code",
   "execution_count": 24,
   "id": "bb5228f8",
   "metadata": {},
   "outputs": [
    {
     "data": {
      "text/plain": [
       "'40'"
      ]
     },
     "execution_count": 24,
     "metadata": {},
     "output_type": "execute_result"
    }
   ],
   "source": [
    "### Net area ###\n",
    "ex.find(\"ul\",{\"class\":\"SpotlightAttributes_spotlight_37lw3\"}).find(text=re.compile(\"Living\")).findNext().text.replace(\"m2\",\"\").strip()"
   ]
  },
  {
   "cell_type": "code",
   "execution_count": 36,
   "id": "e1e0daae",
   "metadata": {},
   "outputs": [
    {
     "data": {
      "text/plain": [
       "'2.5'"
      ]
     },
     "execution_count": 36,
     "metadata": {},
     "output_type": "execute_result"
    }
   ],
   "source": [
    "### Room Num ###\n",
    "ex.find(\"ul\",{\"class\":\"SpotlightAttributes_spotlight_37lw3\"}).find(text=re.compile(\"Room\")).findNext().text.strip()"
   ]
  },
  {
   "cell_type": "code",
   "execution_count": 34,
   "id": "630855b8",
   "metadata": {},
   "outputs": [
    {
     "data": {
      "text/plain": [
       "'230'"
      ]
     },
     "execution_count": 34,
     "metadata": {},
     "output_type": "execute_result"
    }
   ],
   "source": [
    "### add expenses###\n",
    "ex.find(\"div\",{\"data-test\":\"costs\"}).find(text=re.compile(\"expenses\")).findNext().text.replace(\"CHF\",\"\").replace(\".\",\"\").replace(\"–\",\"\").strip()"
   ]
  },
  {
   "cell_type": "code",
   "execution_count": 26,
   "id": "1cc3949b",
   "metadata": {},
   "outputs": [
    {
     "data": {
      "text/plain": [
       "'Kalkbreitestrasse 41,'"
      ]
     },
     "execution_count": 26,
     "metadata": {},
     "output_type": "execute_result"
    }
   ],
   "source": [
    "### Location Info ###\n",
    "ex.find(\"span\",{\"class\":\"AddressDetails_street_22a5p\"}).text.strip()"
   ]
  },
  {
   "cell_type": "code",
   "execution_count": 29,
   "id": "7cb99039",
   "metadata": {},
   "outputs": [
    {
     "data": {
      "text/plain": [
       "'Apartment'"
      ]
     },
     "execution_count": 29,
     "metadata": {},
     "output_type": "execute_result"
    }
   ],
   "source": [
    "### Flat type###\n",
    "ex.find(\"div\",{\"class\":\"CoreAttributes_coreAttributes_2UrTf\"}).find(text=re.compile(\"Type\")).findNext().text.strip()"
   ]
  },
  {
   "cell_type": "code",
   "execution_count": 37,
   "id": "9820f540",
   "metadata": {},
   "outputs": [],
   "source": [
    "result = []\n",
    "for resulthf in links:\n",
    "    html = getAndParseURL(resulthf)\n",
    "    \n",
    "    try:\n",
    "        location = html.find(\"span\",{\"class\":\"AddressDetails_street_22a5p\"}).text.strip()\n",
    "    except:\n",
    "        location = np.nan\n",
    "    try:\n",
    "        rent = html.find(\"ul\",{\"class\":\"SpotlightAttributes_spotlight_37lw3\"}).find(text=re.compile(\"CHF\")).findNext().text.replace(\",\",\"\").replace(\".\",\"\").replace(\"–\",\"\").strip()\n",
    "    except:\n",
    "        rent = np.nan\n",
    "    try:\n",
    "        add_expenses = html.find(\"div\",{\"data-test\":\"costs\"}).find(text=re.compile(\"expenses\")).findNext().text.replace(\"CHF\",\"\").replace(\".\",\"\").replace(\"–\",\"\").strip()\n",
    "    except:\n",
    "        add_expenses = np.nan\n",
    "    try:\n",
    "        bedroom = html.find(\"ul\",{\"class\":\"SpotlightAttributes_spotlight_37lw3\"}).find(text=re.compile(\"Room\")).findNext().text.strip()\n",
    "    except:\n",
    "        bedroom = np.nan\n",
    "    try:\n",
    "        net_area = html.find(\"ul\",{\"class\":\"SpotlightAttributes_spotlight_37lw3\"}).find(text=re.compile(\"Living\")).findNext().text.replace(\"m2\",\"\").strip()\n",
    "    except:\n",
    "        net_area = np.nan\n",
    "    try:\n",
    "        flat_type = html.find(\"div\",{\"class\":\"CoreAttributes_coreAttributes_2UrTf\"}).find(text=re.compile(\"Type\")).findNext().text.strip()\n",
    "    except:\n",
    "        flat_type = np.nan\n",
    "    time.sleep(2)\n",
    "    \n",
    "    result.append([location,rent,add_expenses,bedroom,net_area,flat_type])\n",
    "    \n",
    "columns=[\"Location\",\"Rent\",\"Additional Expenses\",\"Bedroom\",\"Net Area\",\"Type\"]\n",
    "df = pd.DataFrame.from_records(result, columns=columns)"
   ]
  },
  {
   "cell_type": "code",
   "execution_count": 38,
   "id": "93a24589",
   "metadata": {},
   "outputs": [
    {
     "data": {
      "text/html": [
       "<div>\n",
       "<style scoped>\n",
       "    .dataframe tbody tr th:only-of-type {\n",
       "        vertical-align: middle;\n",
       "    }\n",
       "\n",
       "    .dataframe tbody tr th {\n",
       "        vertical-align: top;\n",
       "    }\n",
       "\n",
       "    .dataframe thead th {\n",
       "        text-align: right;\n",
       "    }\n",
       "</style>\n",
       "<table border=\"1\" class=\"dataframe\">\n",
       "  <thead>\n",
       "    <tr style=\"text-align: right;\">\n",
       "      <th></th>\n",
       "      <th>Location</th>\n",
       "      <th>Rent</th>\n",
       "      <th>Additional Expenses</th>\n",
       "      <th>Bedroom</th>\n",
       "      <th>Net Area</th>\n",
       "      <th>Type</th>\n",
       "    </tr>\n",
       "  </thead>\n",
       "  <tbody>\n",
       "    <tr>\n",
       "      <th>0</th>\n",
       "      <td>Badenerstr. 157,</td>\n",
       "      <td>4475</td>\n",
       "      <td>250</td>\n",
       "      <td>3.5</td>\n",
       "      <td>102</td>\n",
       "      <td>Apartment</td>\n",
       "    </tr>\n",
       "    <tr>\n",
       "      <th>1</th>\n",
       "      <td>Germaniastr. 64,</td>\n",
       "      <td>5850</td>\n",
       "      <td>420</td>\n",
       "      <td>5.5</td>\n",
       "      <td>143</td>\n",
       "      <td>Apartment</td>\n",
       "    </tr>\n",
       "    <tr>\n",
       "      <th>2</th>\n",
       "      <td>Rotbuchstrasse,</td>\n",
       "      <td>1100</td>\n",
       "      <td>NaN</td>\n",
       "      <td>1</td>\n",
       "      <td>22</td>\n",
       "      <td>Studio</td>\n",
       "    </tr>\n",
       "    <tr>\n",
       "      <th>3</th>\n",
       "      <td>Rainstr. 26,</td>\n",
       "      <td>NaN</td>\n",
       "      <td>NaN</td>\n",
       "      <td>5.5</td>\n",
       "      <td>209</td>\n",
       "      <td>Duplex</td>\n",
       "    </tr>\n",
       "    <tr>\n",
       "      <th>4</th>\n",
       "      <td>Kraftstrasse 37,</td>\n",
       "      <td>7150</td>\n",
       "      <td>400</td>\n",
       "      <td>3.5</td>\n",
       "      <td>135</td>\n",
       "      <td>Apartment</td>\n",
       "    </tr>\n",
       "    <tr>\n",
       "      <th>...</th>\n",
       "      <td>...</td>\n",
       "      <td>...</td>\n",
       "      <td>...</td>\n",
       "      <td>...</td>\n",
       "      <td>...</td>\n",
       "      <td>...</td>\n",
       "    </tr>\n",
       "    <tr>\n",
       "      <th>415</th>\n",
       "      <td>NaN</td>\n",
       "      <td>NaN</td>\n",
       "      <td>NaN</td>\n",
       "      <td>NaN</td>\n",
       "      <td>NaN</td>\n",
       "      <td>NaN</td>\n",
       "    </tr>\n",
       "    <tr>\n",
       "      <th>416</th>\n",
       "      <td>NaN</td>\n",
       "      <td>NaN</td>\n",
       "      <td>NaN</td>\n",
       "      <td>NaN</td>\n",
       "      <td>NaN</td>\n",
       "      <td>NaN</td>\n",
       "    </tr>\n",
       "    <tr>\n",
       "      <th>417</th>\n",
       "      <td>Birmensdorferstrasse 593,</td>\n",
       "      <td>995</td>\n",
       "      <td>NaN</td>\n",
       "      <td>1</td>\n",
       "      <td>13</td>\n",
       "      <td>Apartment</td>\n",
       "    </tr>\n",
       "    <tr>\n",
       "      <th>418</th>\n",
       "      <td>Wiedingstrasse 30,</td>\n",
       "      <td>5304</td>\n",
       "      <td>NaN</td>\n",
       "      <td>5.5</td>\n",
       "      <td>160</td>\n",
       "      <td>Apartment</td>\n",
       "    </tr>\n",
       "    <tr>\n",
       "      <th>419</th>\n",
       "      <td>NaN</td>\n",
       "      <td>NaN</td>\n",
       "      <td>NaN</td>\n",
       "      <td>NaN</td>\n",
       "      <td>NaN</td>\n",
       "      <td>NaN</td>\n",
       "    </tr>\n",
       "  </tbody>\n",
       "</table>\n",
       "<p>420 rows × 6 columns</p>\n",
       "</div>"
      ],
      "text/plain": [
       "                      Location  Rent Additional Expenses Bedroom Net Area  \\\n",
       "0             Badenerstr. 157,  4475                 250     3.5      102   \n",
       "1             Germaniastr. 64,  5850                 420     5.5      143   \n",
       "2              Rotbuchstrasse,  1100                 NaN       1       22   \n",
       "3                 Rainstr. 26,   NaN                 NaN     5.5      209   \n",
       "4             Kraftstrasse 37,  7150                 400     3.5      135   \n",
       "..                         ...   ...                 ...     ...      ...   \n",
       "415                        NaN   NaN                 NaN     NaN      NaN   \n",
       "416                        NaN   NaN                 NaN     NaN      NaN   \n",
       "417  Birmensdorferstrasse 593,   995                 NaN       1       13   \n",
       "418         Wiedingstrasse 30,  5304                 NaN     5.5      160   \n",
       "419                        NaN   NaN                 NaN     NaN      NaN   \n",
       "\n",
       "          Type  \n",
       "0    Apartment  \n",
       "1    Apartment  \n",
       "2       Studio  \n",
       "3       Duplex  \n",
       "4    Apartment  \n",
       "..         ...  \n",
       "415        NaN  \n",
       "416        NaN  \n",
       "417  Apartment  \n",
       "418  Apartment  \n",
       "419        NaN  \n",
       "\n",
       "[420 rows x 6 columns]"
      ]
     },
     "execution_count": 38,
     "metadata": {},
     "output_type": "execute_result"
    }
   ],
   "source": [
    "df"
   ]
  },
  {
   "cell_type": "code",
   "execution_count": 39,
   "id": "1062d7b8",
   "metadata": {},
   "outputs": [
    {
     "name": "stdout",
     "output_type": "stream",
     "text": [
      "<class 'pandas.core.frame.DataFrame'>\n",
      "RangeIndex: 420 entries, 0 to 419\n",
      "Data columns (total 6 columns):\n",
      " #   Column               Non-Null Count  Dtype \n",
      "---  ------               --------------  ----- \n",
      " 0   Location             258 non-null    object\n",
      " 1   Rent                 269 non-null    object\n",
      " 2   Additional Expenses  170 non-null    object\n",
      " 3   Bedroom              265 non-null    object\n",
      " 4   Net Area             241 non-null    object\n",
      " 5   Type                 273 non-null    object\n",
      "dtypes: object(6)\n",
      "memory usage: 19.8+ KB\n"
     ]
    }
   ],
   "source": [
    "df.info()"
   ]
  },
  {
   "cell_type": "code",
   "execution_count": 40,
   "id": "69776616",
   "metadata": {},
   "outputs": [],
   "source": [
    "df.to_csv(\"zrch_first.csv\")"
   ]
  },
  {
   "cell_type": "code",
   "execution_count": 105,
   "id": "ad8064f2",
   "metadata": {},
   "outputs": [],
   "source": [
    "df=pd.read_csv(\"zrch_first.csv\")"
   ]
  },
  {
   "cell_type": "code",
   "execution_count": 73,
   "id": "c3448a3b",
   "metadata": {},
   "outputs": [
    {
     "data": {
      "text/html": [
       "<div>\n",
       "<style scoped>\n",
       "    .dataframe tbody tr th:only-of-type {\n",
       "        vertical-align: middle;\n",
       "    }\n",
       "\n",
       "    .dataframe tbody tr th {\n",
       "        vertical-align: top;\n",
       "    }\n",
       "\n",
       "    .dataframe thead th {\n",
       "        text-align: right;\n",
       "    }\n",
       "</style>\n",
       "<table border=\"1\" class=\"dataframe\">\n",
       "  <thead>\n",
       "    <tr style=\"text-align: right;\">\n",
       "      <th></th>\n",
       "      <th>Unnamed: 0</th>\n",
       "      <th>Location</th>\n",
       "      <th>Rent</th>\n",
       "      <th>Additional Expenses</th>\n",
       "      <th>Bedroom</th>\n",
       "      <th>Net Area</th>\n",
       "      <th>Type</th>\n",
       "    </tr>\n",
       "  </thead>\n",
       "  <tbody>\n",
       "    <tr>\n",
       "      <th>0</th>\n",
       "      <td>0</td>\n",
       "      <td>Badenerstr. 157,</td>\n",
       "      <td>4475.0</td>\n",
       "      <td>250.0</td>\n",
       "      <td>3.5</td>\n",
       "      <td>102.0</td>\n",
       "      <td>Apartment</td>\n",
       "    </tr>\n",
       "    <tr>\n",
       "      <th>1</th>\n",
       "      <td>1</td>\n",
       "      <td>Germaniastr. 64,</td>\n",
       "      <td>5850.0</td>\n",
       "      <td>420.0</td>\n",
       "      <td>5.5</td>\n",
       "      <td>143.0</td>\n",
       "      <td>Apartment</td>\n",
       "    </tr>\n",
       "    <tr>\n",
       "      <th>2</th>\n",
       "      <td>2</td>\n",
       "      <td>Rotbuchstrasse,</td>\n",
       "      <td>1100.0</td>\n",
       "      <td>NaN</td>\n",
       "      <td>1.0</td>\n",
       "      <td>22.0</td>\n",
       "      <td>Studio</td>\n",
       "    </tr>\n",
       "    <tr>\n",
       "      <th>3</th>\n",
       "      <td>3</td>\n",
       "      <td>Rainstr. 26,</td>\n",
       "      <td>NaN</td>\n",
       "      <td>NaN</td>\n",
       "      <td>5.5</td>\n",
       "      <td>209.0</td>\n",
       "      <td>Duplex</td>\n",
       "    </tr>\n",
       "    <tr>\n",
       "      <th>4</th>\n",
       "      <td>4</td>\n",
       "      <td>Kraftstrasse 37,</td>\n",
       "      <td>7150.0</td>\n",
       "      <td>400.0</td>\n",
       "      <td>3.5</td>\n",
       "      <td>135.0</td>\n",
       "      <td>Apartment</td>\n",
       "    </tr>\n",
       "    <tr>\n",
       "      <th>...</th>\n",
       "      <td>...</td>\n",
       "      <td>...</td>\n",
       "      <td>...</td>\n",
       "      <td>...</td>\n",
       "      <td>...</td>\n",
       "      <td>...</td>\n",
       "      <td>...</td>\n",
       "    </tr>\n",
       "    <tr>\n",
       "      <th>415</th>\n",
       "      <td>415</td>\n",
       "      <td>NaN</td>\n",
       "      <td>NaN</td>\n",
       "      <td>NaN</td>\n",
       "      <td>NaN</td>\n",
       "      <td>NaN</td>\n",
       "      <td>NaN</td>\n",
       "    </tr>\n",
       "    <tr>\n",
       "      <th>416</th>\n",
       "      <td>416</td>\n",
       "      <td>NaN</td>\n",
       "      <td>NaN</td>\n",
       "      <td>NaN</td>\n",
       "      <td>NaN</td>\n",
       "      <td>NaN</td>\n",
       "      <td>NaN</td>\n",
       "    </tr>\n",
       "    <tr>\n",
       "      <th>417</th>\n",
       "      <td>417</td>\n",
       "      <td>Birmensdorferstrasse 593,</td>\n",
       "      <td>995.0</td>\n",
       "      <td>NaN</td>\n",
       "      <td>1.0</td>\n",
       "      <td>13.0</td>\n",
       "      <td>Apartment</td>\n",
       "    </tr>\n",
       "    <tr>\n",
       "      <th>418</th>\n",
       "      <td>418</td>\n",
       "      <td>Wiedingstrasse 30,</td>\n",
       "      <td>5304.0</td>\n",
       "      <td>NaN</td>\n",
       "      <td>5.5</td>\n",
       "      <td>160.0</td>\n",
       "      <td>Apartment</td>\n",
       "    </tr>\n",
       "    <tr>\n",
       "      <th>419</th>\n",
       "      <td>419</td>\n",
       "      <td>NaN</td>\n",
       "      <td>NaN</td>\n",
       "      <td>NaN</td>\n",
       "      <td>NaN</td>\n",
       "      <td>NaN</td>\n",
       "      <td>NaN</td>\n",
       "    </tr>\n",
       "  </tbody>\n",
       "</table>\n",
       "<p>420 rows × 7 columns</p>\n",
       "</div>"
      ],
      "text/plain": [
       "     Unnamed: 0                   Location    Rent  Additional Expenses  \\\n",
       "0             0           Badenerstr. 157,  4475.0                250.0   \n",
       "1             1           Germaniastr. 64,  5850.0                420.0   \n",
       "2             2            Rotbuchstrasse,  1100.0                  NaN   \n",
       "3             3               Rainstr. 26,     NaN                  NaN   \n",
       "4             4           Kraftstrasse 37,  7150.0                400.0   \n",
       "..          ...                        ...     ...                  ...   \n",
       "415         415                        NaN     NaN                  NaN   \n",
       "416         416                        NaN     NaN                  NaN   \n",
       "417         417  Birmensdorferstrasse 593,   995.0                  NaN   \n",
       "418         418         Wiedingstrasse 30,  5304.0                  NaN   \n",
       "419         419                        NaN     NaN                  NaN   \n",
       "\n",
       "     Bedroom  Net Area       Type  \n",
       "0        3.5     102.0  Apartment  \n",
       "1        5.5     143.0  Apartment  \n",
       "2        1.0      22.0     Studio  \n",
       "3        5.5     209.0     Duplex  \n",
       "4        3.5     135.0  Apartment  \n",
       "..       ...       ...        ...  \n",
       "415      NaN       NaN        NaN  \n",
       "416      NaN       NaN        NaN  \n",
       "417      1.0      13.0  Apartment  \n",
       "418      5.5     160.0  Apartment  \n",
       "419      NaN       NaN        NaN  \n",
       "\n",
       "[420 rows x 7 columns]"
      ]
     },
     "execution_count": 73,
     "metadata": {},
     "output_type": "execute_result"
    }
   ],
   "source": [
    "df"
   ]
  },
  {
   "cell_type": "code",
   "execution_count": 7,
   "id": "22773c68",
   "metadata": {},
   "outputs": [
    {
     "data": {
      "text/plain": [
       "array(['44750', '58500', '11000', 'nan', '71500', '23300', '29000',\n",
       "       '35000', '56600', '19000', '22280', '24200', '150000', '29800',\n",
       "       '31000', '34850', '34900', '35500', '39500', '45000', '51800',\n",
       "       '53000', '98000', '21000', '21500', '24830', '26800', '28500',\n",
       "       '29500', '33500', '34300', '38500', '49550', '49750', '51000',\n",
       "       '64500', '10600', '15000', '16900', '18800', '20500', '22000',\n",
       "       '25800', '25900', '27300', '29600', '29900', '30300', '31850',\n",
       "       '33100', '34100', '34500', '36100', '37100', '38100', '40000',\n",
       "       '40800', '50800', '58100', '4800', '12000', '12900', '13000',\n",
       "       '15190', '15900', '19500', '23900', '26600', '27000', '28000',\n",
       "       '31400', '37830', '38600', '46500', '53500', '19360', '24500',\n",
       "       '27400', '27500', '28800', '32900', '33000', '34800', '75200',\n",
       "       '24950', '48920', '17900', '18200', '23500', '52900', '90000',\n",
       "       '24800', '26900', '32500', '34950', '40300', '42500', '62000',\n",
       "       '99000', '16450', '23000', '24980', '30000', '30950', '36450',\n",
       "       '41650', '24300', '26300', '31750', '43000', '44550', '48000',\n",
       "       '52600', '52800', '87900', '16500', '19950', '23200', '24000',\n",
       "       '28570', '14820', '15110', '18400', '39900', '46000', '49700',\n",
       "       '21510', '22700', '27450', '34000', '14800', '15740', '17350',\n",
       "       '19800', '24250', '27900', '33900', '39000', '41100', '13500',\n",
       "       '16200', '17000', '18300', '21730', '22500', '29100', '47000',\n",
       "       '54900', '15950', '23950', '26700', '32000', '30700', '30800',\n",
       "       '37500', '40600', '14400', '18910', '20930', '21900', '19300',\n",
       "       '23100', '27800', '11600', '16950', '17500', '18780', '19550',\n",
       "       '21800', '22800', '26500', '35800', '13450', '13600', '14200',\n",
       "       '14600', '19150', '20900', '25000', '32850', '14500', '29150',\n",
       "       '18500', '13160', '15500', '8000', '17300', '12250', '6500',\n",
       "       '10000', '9300', '12650', '9000', '9950', '53040'], dtype=object)"
      ]
     },
     "execution_count": 7,
     "metadata": {},
     "output_type": "execute_result"
    }
   ],
   "source": [
    "df[\"Rent\"].unique()"
   ]
  },
  {
   "cell_type": "code",
   "execution_count": 106,
   "id": "455ac141",
   "metadata": {},
   "outputs": [
    {
     "name": "stderr",
     "output_type": "stream",
     "text": [
      "C:\\Users\\User\\AppData\\Local\\Temp\\ipykernel_17384\\758222523.py:3: FutureWarning: The default value of regex will change from True to False in a future version. In addition, single character regular expressions will *not* be treated as literal strings when regex=True.\n",
      "  df[\"Rent\"] = df[\"Rent\"].str.replace(\".\", \"\")\n"
     ]
    }
   ],
   "source": [
    "df[\"Rent\"]=df[\"Rent\"].apply(lambda x : 2625 if x ==\"nan\" else x )\n",
    "df[\"Rent\"]=df[\"Rent\"].astype(str)\n",
    "df[\"Rent\"] = df[\"Rent\"].str.replace(\".\", \"\")"
   ]
  },
  {
   "cell_type": "code",
   "execution_count": 108,
   "id": "3b95e100",
   "metadata": {},
   "outputs": [],
   "source": [
    "df[\"Rent\"]=df[\"Rent\"].astype(str)\n",
    "df[\"Rent\"]=df[\"Rent\"].str[:4]"
   ]
  },
  {
   "cell_type": "code",
   "execution_count": 107,
   "id": "02d8fa6d",
   "metadata": {},
   "outputs": [],
   "source": [
    "df[\"Rent\"]=df[\"Rent\"].apply(lambda x : 2625 if x =='nan' else x )"
   ]
  },
  {
   "cell_type": "code",
   "execution_count": 109,
   "id": "346868ca",
   "metadata": {},
   "outputs": [],
   "source": [
    "df[\"Rent\"]=df[\"Rent\"].astype(int)"
   ]
  },
  {
   "cell_type": "code",
   "execution_count": 110,
   "id": "9dbb8ed2",
   "metadata": {},
   "outputs": [
    {
     "data": {
      "text/plain": [
       "2938.9261904761906"
      ]
     },
     "execution_count": 110,
     "metadata": {},
     "output_type": "execute_result"
    }
   ],
   "source": [
    "df[\"Rent\"].mean()"
   ]
  },
  {
   "cell_type": "code",
   "execution_count": 16,
   "id": "d8c84c1b",
   "metadata": {},
   "outputs": [
    {
     "data": {
      "text/plain": [
       "array([250., 420.,  nan, 400., 230., 190., 500., 270., 260., 180., 200.,\n",
       "       150., 290., 300., 380., 240., 317., 160., 440., 345., 140.,  70.,\n",
       "       120., 220., 280.,  30., 110.,  90., 210., 145., 570., 360., 350.,\n",
       "       155., 195., 215., 170., 225., 100., 187., 325., 310., 390., 430.,\n",
       "       340., 130., 285., 600., 370., 235., 205., 320., 115.])"
      ]
     },
     "execution_count": 16,
     "metadata": {},
     "output_type": "execute_result"
    }
   ],
   "source": [
    "df[\"Additional Expenses\"].unique()"
   ]
  },
  {
   "cell_type": "code",
   "execution_count": 79,
   "id": "98c8f7e4",
   "metadata": {},
   "outputs": [
    {
     "data": {
      "text/plain": [
       "248.5690476190476"
      ]
     },
     "execution_count": 79,
     "metadata": {},
     "output_type": "execute_result"
    }
   ],
   "source": [
    "df[\"Additional Expenses\"]=df[\"Additional Expenses\"].fillna(250)\n",
    "df[\"Additional Expenses\"]=df[\"Additional Expenses\"].astype(int)\n",
    "df[\"Additional Expenses\"].mean()"
   ]
  },
  {
   "cell_type": "code",
   "execution_count": 117,
   "id": "d1c89170",
   "metadata": {},
   "outputs": [
    {
     "data": {
      "text/plain": [
       "array(['3', '5', '1', '4', '2', nan, '6'], dtype=object)"
      ]
     },
     "execution_count": 117,
     "metadata": {},
     "output_type": "execute_result"
    }
   ],
   "source": [
    "df[\"Bedroom\"].unique()"
   ]
  },
  {
   "cell_type": "code",
   "execution_count": 112,
   "id": "ccc0bcb8",
   "metadata": {},
   "outputs": [],
   "source": [
    "df[\"Bedroom\"]=df[\"Bedroom\"].astype(str)"
   ]
  },
  {
   "cell_type": "code",
   "execution_count": 113,
   "id": "67958771",
   "metadata": {},
   "outputs": [],
   "source": [
    "df[\"Bedroom\"]=df[\"Bedroom\"].str[:1]"
   ]
  },
  {
   "cell_type": "code",
   "execution_count": 96,
   "id": "ba89d76e",
   "metadata": {},
   "outputs": [
    {
     "name": "stdout",
     "output_type": "stream",
     "text": [
      "<class 'pandas.core.frame.DataFrame'>\n",
      "RangeIndex: 420 entries, 0 to 419\n",
      "Data columns (total 7 columns):\n",
      " #   Column               Non-Null Count  Dtype  \n",
      "---  ------               --------------  -----  \n",
      " 0   Unnamed: 0           420 non-null    int64  \n",
      " 1   Location             258 non-null    object \n",
      " 2   Rent                 420 non-null    int32  \n",
      " 3   Additional Expenses  420 non-null    int32  \n",
      " 4   Bedroom              265 non-null    object \n",
      " 5   Net Area             241 non-null    float64\n",
      " 6   Type                 273 non-null    object \n",
      "dtypes: float64(1), int32(2), int64(1), object(3)\n",
      "memory usage: 19.8+ KB\n"
     ]
    }
   ],
   "source": [
    "df.info()"
   ]
  },
  {
   "cell_type": "code",
   "execution_count": 119,
   "id": "df3d6bc0",
   "metadata": {},
   "outputs": [
    {
     "data": {
      "text/plain": [
       "2    87\n",
       "3    73\n",
       "1    61\n",
       "4    34\n",
       "5     9\n",
       "6     1\n",
       "Name: Bedroom, dtype: int64"
      ]
     },
     "execution_count": 119,
     "metadata": {},
     "output_type": "execute_result"
    }
   ],
   "source": [
    "df[\"Bedroom\"].value_counts()"
   ]
  },
  {
   "cell_type": "code",
   "execution_count": 121,
   "id": "21785084",
   "metadata": {},
   "outputs": [
    {
     "data": {
      "image/png": "[encoded data removed]",
      "text/plain": [
       "<Figure size 800x800 with 1 Axes>"
      ]
     },
     "metadata": {},
     "output_type": "display_data"
    }
   ],
   "source": [
    "# get the value counts of the 'Bedroom' column\n",
    "bed_room_counts = df['Bedroom'].value_counts()\n",
    "\n",
    "# filter the value counts to include only values bigger than 1%\n",
    "filtered_bedroom_counts = bed_room_counts[bed_room_counts/len(df) > 0.01]\n",
    "\n",
    "\n",
    "# create the pie chart\n",
    "plt.figure(figsize=(8, 8))\n",
    "plt.pie(filtered_bedroom_counts, labels=filtered_bedroom_counts.index, autopct='%1.1f%%')\n",
    "\n",
    "# set the title of the chart\n",
    "plt.title('Distrubition of the Bedroom Number Flats of Zurich ',weight=\"bold\")\n",
    "\n",
    "# display the chart\n",
    "plt.show();\n"
   ]
  },
  {
   "cell_type": "code",
   "execution_count": 103,
   "id": "3509638b",
   "metadata": {},
   "outputs": [
    {
     "data": {
      "text/plain": [
       "array([None], dtype=object)"
      ]
     },
     "execution_count": 103,
     "metadata": {},
     "output_type": "execute_result"
    }
   ],
   "source": [
    "df[\"Bedroom\"].unique()"
   ]
  },
  {
   "cell_type": "code",
   "execution_count": 115,
   "id": "6dae15a0",
   "metadata": {},
   "outputs": [],
   "source": [
    "df[\"Bedroom\"]=df[\"Bedroom\"].apply(lambda x : 0 if x ==\"n\" else x)"
   ]
  },
  {
   "cell_type": "code",
   "execution_count": 116,
   "id": "5eb528e2",
   "metadata": {},
   "outputs": [],
   "source": [
    "df[\"Bedroom\"] = df[\"Bedroom\"].loc[df[\"Bedroom\"] != 0]"
   ]
  },
  {
   "cell_type": "code",
   "execution_count": 122,
   "id": "a32748e0",
   "metadata": {},
   "outputs": [],
   "source": [
    "df[\"Bedroom\"]=df[\"Bedroom\"].fillna(0)\n",
    "df[\"Bedroom\"]=df[\"Bedroom\"].astype(int)"
   ]
  },
  {
   "cell_type": "code",
   "execution_count": 123,
   "id": "5b0f4ca8",
   "metadata": {},
   "outputs": [
    {
     "data": {
      "image/png": "[encoded data removed]",
      "text/plain": [
       "<Figure size 640x480 with 1 Axes>"
      ]
     },
     "metadata": {},
     "output_type": "display_data"
    }
   ],
   "source": [
    "### Calculate mean rent for each group + add expenses ###\n",
    "one_bed_mean_rent = df[df['Bedroom'] == 1]['Rent'].mean()+248\n",
    "two_bed_mean_rent = df[df['Bedroom'] == 2]['Rent'].mean()+248\n",
    "three_bed_mean_rent = df[df['Bedroom'] == 3]['Rent'].mean()+248\n",
    "\n",
    "### Create a bar plot ###\n",
    "sns.set_style(\"whitegrid\")\n",
    "ax = sns.barplot(x=['1 Bedroom', '2 Bedrooms','3 Bedrooms'], y=[one_bed_mean_rent, two_bed_mean_rent,three_bed_mean_rent], palette=\"Set1\")\n",
    "\n",
    "# Add labels to the bars\n",
    "for p in ax.patches:\n",
    "    height = p.get_height()\n",
    "    ax.text(p.get_x() + p.get_width()/2., height+50, '€{:.0f}'.format(height), ha=\"center\", weight='bold')\n",
    "\n",
    "# Format the x and y-axis tick labels\n",
    "ax.set_xticklabels(['1 Bedroom', '2 Bedrooms','3 Bedrooms'], weight='bold')\n",
    "ax.set_yticks([0, 2000, 3000,4000])\n",
    "ax.set_yticklabels(['€0', '€2,000', '€3,000','€4,000'], weight='bold')\n",
    "\n",
    "# Format the x and y-axis labels\n",
    "ax.set_xlabel('Number of Bedrooms', weight='bold')\n",
    "ax.set_ylabel('Mean Rent (€)', weight='bold')\n",
    "\n",
    "# Set the plot title\n",
    "ax.set_title('Mean Rent by Number of Bedrooms(Zurich)', weight='bold')\n",
    "\n",
    "plt.show();"
   ]
  },
  {
   "cell_type": "code",
   "execution_count": null,
   "id": "d8ff64b3",
   "metadata": {},
   "outputs": [],
   "source": []
  }
 ],
 "metadata": {
  "kernelspec": {
   "display_name": "Python 3 (ipykernel)",
   "language": "python",
   "name": "python3"
  },
  "language_info": {
   "codemirror_mode": {
    "name": "ipython",
    "version": 3
   },
   "file_extension": ".py",
   "mimetype": "text/x-python",
   "name": "python",
   "nbconvert_exporter": "python",
   "pygments_lexer": "ipython3",
   "version": "3.10.6"
  }
 },
 "nbformat": 4,
 "nbformat_minor": 5
}
