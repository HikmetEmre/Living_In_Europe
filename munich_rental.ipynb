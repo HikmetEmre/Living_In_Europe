{
 "cells": [
  {
   "cell_type": "code",
   "execution_count": 1,
   "id": "b1ab2473",
   "metadata": {},
   "outputs": [],
   "source": [
    "from urllib.request import urlopen\n",
    "import requests\n",
    "from bs4 import BeautifulSoup as bts\n",
    "import pandas as pd \n",
    "import re\n",
    "import seaborn as sns\n",
    "import matplotlib.pyplot as plt\n",
    "import numpy as np\n",
    "import time"
   ]
  },
  {
   "cell_type": "code",
   "execution_count": 4,
   "id": "0497d698",
   "metadata": {},
   "outputs": [],
   "source": [
    "def getAndParseURL(url):\n",
    "    result=requests.get(url,headers={\"User-Agent\":\"Chrome/111.0.5563.65\"})\n",
    "    soup=bts(result.text,\"html.parser\")\n",
    "    return soup"
   ]
  },
  {
   "cell_type": "code",
   "execution_count": 2,
   "id": "2f8a5791",
   "metadata": {},
   "outputs": [
    {
     "data": {
      "text/plain": [
       "['https://wunderflats.com/en/furnished-apartments/munich',\n",
       " 'https://wunderflats.com/en/furnished-apartments/munich/2',\n",
       " 'https://wunderflats.com/en/furnished-apartments/munich/3',\n",
       " 'https://wunderflats.com/en/furnished-apartments/munich/4',\n",
       " 'https://wunderflats.com/en/furnished-apartments/munich/5',\n",
       " 'https://wunderflats.com/en/furnished-apartments/munich/6',\n",
       " 'https://wunderflats.com/en/furnished-apartments/munich/7',\n",
       " 'https://wunderflats.com/en/furnished-apartments/munich/8',\n",
       " 'https://wunderflats.com/en/furnished-apartments/munich/9',\n",
       " 'https://wunderflats.com/en/furnished-apartments/munich/10',\n",
       " 'https://wunderflats.com/en/furnished-apartments/munich/11',\n",
       " 'https://wunderflats.com/en/furnished-apartments/munich/12',\n",
       " 'https://wunderflats.com/en/furnished-apartments/munich/13']"
      ]
     },
     "execution_count": 2,
     "metadata": {},
     "output_type": "execute_result"
    }
   ],
   "source": [
    "pages=[\"https://wunderflats.com/en/furnished-apartments/munich\"]\n",
    "for page in range(2,14):\n",
    "    pages.append(\"https://wunderflats.com/en/furnished-apartments/munich/\" +str (page))\n",
    "    \n",
    "pages"
   ]
  },
  {
   "cell_type": "code",
   "execution_count": 5,
   "id": "c6fa5f71",
   "metadata": {},
   "outputs": [
    {
     "data": {
      "text/plain": [
       "['https://wunderflats.com/en/furnished-apartment/co-living-amazing-and-new-shared-apartment-in-munich-with-terrace/6400f5722174fc1f31987393?dataLayerKey=hkFFJLwE3z05lxMuhZAnZ',\n",
       " 'https://wunderflats.com/en/furnished-apartment/centrally-located-modern-apartment-with-brilliant-view/63bb01bff8c30565d81b797d?dataLayerKey=hkFFJLwE3z05lxMuhZAnZ',\n",
       " 'https://wunderflats.com/en/furnished-apartment/fashionable-studio-in-popular-area/5cc49aa401f1ad0007193fae?dataLayerKey=hkFFJLwE3z05lxMuhZAnZ',\n",
       " 'https://wunderflats.com/en/furnished-apartment/fantastic-and-perfect-studio-in-muenchen/5ea977abad01720007c40c51?dataLayerKey=hkFFJLwE3z05lxMuhZAnZ',\n",
       " 'https://wunderflats.com/en/furnished-apartment/1-room-appartement/632577b3104e6444e0899e83?dataLayerKey=hkFFJLwE3z05lxMuhZAnZ',\n",
       " 'https://wunderflats.com/en/furnished-apartment/gorgeous-awesome-studio-in-muenchen/63ad91d7bb61a45697e6fc3c?dataLayerKey=hkFFJLwE3z05lxMuhZAnZ',\n",
       " 'https://wunderflats.com/en/furnished-apartment/new-builded-apartment-with-nice-terace/5c719230f4bd3d00064bc2f9?dataLayerKey=hkFFJLwE3z05lxMuhZAnZ',\n",
       " 'https://wunderflats.com/en/furnished-apartment/g/quiet-1-room-apartment-in-munich-unterfoehring/ry9C4ZnkE?dataLayerKey=hkFFJLwE3z05lxMuhZAnZ',\n",
       " 'https://wunderflats.com/en/furnished-apartment/loft-like-maisonette-with-wide-south-terrace-glockenbachviertel/60225025f8077a00066fb79e?dataLayerKey=hkFFJLwE3z05lxMuhZAnZ',\n",
       " 'https://wunderflats.com/en/furnished-apartment/central-penthouse-with-270*-view-birdsound-includet/63b3313a27dcf754ef14417b?dataLayerKey=hkFFJLwE3z05lxMuhZAnZ',\n",
       " 'https://wunderflats.com/en/furnished-apartment/quiet-pretty-home-in-excellent-location/60fd5cb3fd9bbc0008dc2380?dataLayerKey=hkFFJLwE3z05lxMuhZAnZ',\n",
       " 'https://wunderflats.com/en/furnished-apartment/fashionable-and-cute-studio-in-muenchen/5fc8f86aec89010006be5077?dataLayerKey=hkFFJLwE3z05lxMuhZAnZ',\n",
       " 'https://wunderflats.com/en/furnished-apartment/single-studio-in-good-location-in-munich/6037675e430b480008135b0b?dataLayerKey=hkFFJLwE3z05lxMuhZAnZ',\n",
       " 'https://wunderflats.com/en/furnished-apartment/cozy-awesome-flat/5fc8f87f3194a80007cf599e?dataLayerKey=hkFFJLwE3z05lxMuhZAnZ',\n",
       " 'https://wunderflats.com/en/furnished-apartment/great-and-fashionable-studio-in-muenchen/5fc8f83e48d0e000060c3d6d?dataLayerKey=hkFFJLwE3z05lxMuhZAnZ',\n",
       " 'https://wunderflats.com/en/furnished-apartment/bright-and-quiet-flat-in-muenchen/5fc8f8b23361ab0006f46b07?dataLayerKey=hkFFJLwE3z05lxMuhZAnZ',\n",
       " 'https://wunderflats.com/en/furnished-apartment/fully-furnished-and-comfortable-studio-in-unter-giesing/5f9287d288c8d900060e840b?dataLayerKey=hkFFJLwE3z05lxMuhZAnZ',\n",
       " 'https://wunderflats.com/en/furnished-apartment/cosy-single-flat-in-super-munich-location/5f91998093d9340007689e1c?dataLayerKey=hkFFJLwE3z05lxMuhZAnZ',\n",
       " 'https://wunderflats.com/en/furnished-apartment/bright-and-neat-studio-in-muenchen/5fd1e0fd480b5d00060b1b9d?dataLayerKey=hkFFJLwE3z05lxMuhZAnZ',\n",
       " 'https://wunderflats.com/en/furnished-apartment/shared-flat-nice-and-charming-loft-in-muenchen/631608406c76a0a4c384e00f?dataLayerKey=hkFFJLwE3z05lxMuhZAnZ',\n",
       " 'https://wunderflats.com/en/furnished-apartment/amazing-and-neat-home-in-muenchen-newly-renovated/58c286ec11f36ade186e475a?dataLayerKey=hkFFJLwE3z05lxMuhZAnZ',\n",
       " 'https://wunderflats.com/en/furnished-apartment/pretty-studio-in-muenchen/5fc8f895f07804000673490a?dataLayerKey=hkFFJLwE3z05lxMuhZAnZ',\n",
       " 'https://wunderflats.com/en/furnished-apartment/furnished-apartment-ideal-for-long-term-living-in-the-middle-of-munich/638c9a82e209cc3b25412c3d?dataLayerKey=hkFFJLwE3z05lxMuhZAnZ',\n",
       " 'https://wunderflats.com/en/furnished-apartment/cute-spacious-studio-in-excellent-location-muenchen/5f92cbdea12d6f000a515a16?dataLayerKey=hkFFJLwE3z05lxMuhZAnZ',\n",
       " 'https://wunderflats.com/en/furnished-apartment/charming-and-bright-studio-in-muenchen-close-to-marienplatz/5f92803588c8d900060e82fc?dataLayerKey=hkFFJLwE3z05lxMuhZAnZ',\n",
       " 'https://wunderflats.com/en/furnished-apartment/charming-and-cozy-apartment-in-muenchen/5faa9f7dade4eb0006056f18?dataLayerKey=hkFFJLwE3z05lxMuhZAnZ',\n",
       " 'https://wunderflats.com/en/furnished-apartment/awesome-loft-in-muenchen/628bfb9617b608e985485927?dataLayerKey=hkFFJLwE3z05lxMuhZAnZ',\n",
       " 'https://wunderflats.com/en/furnished-apartment/comfortable-small-2-room-apartment-with-terrace-in-schwabing-freimann/60ca4b3f0496d3000879b78b?dataLayerKey=hkFFJLwE3z05lxMuhZAnZ',\n",
       " 'https://wunderflats.com/en/furnished-apartment/maisonette-apartment-in-popular-maxvorstadt/5eff685beb1fb00006ca35a9?dataLayerKey=hkFFJLwE3z05lxMuhZAnZ',\n",
       " 'https://wunderflats.com/en/furnished-apartment/beautiful-home-in-muenchen-close-to-marienplatz/630e03789e6539e7dec5d2a9?dataLayerKey=hkFFJLwE3z05lxMuhZAnZ',\n",
       " 'https://wunderflats.com/en/furnished-apartment/cosy-studio-in-munich-with-excellent-transport-connections-and-walking-distance-to-the-shops/5f92c8d9a12d6f000a515963?dataLayerKey=BmbvDYvKBFD2EHogKPisf',\n",
       " 'https://wunderflats.com/en/furnished-apartment/calm-apartment-in-central-location/5f649c1892b26500066b787e?dataLayerKey=BmbvDYvKBFD2EHogKPisf',\n",
       " 'https://wunderflats.com/en/furnished-apartment/luxurious-roof-top-flat-with-big-terrace/620e4d66324f0f675b69d173?dataLayerKey=BmbvDYvKBFD2EHogKPisf',\n",
       " 'https://wunderflats.com/en/furnished-apartment/first-occupancy-after-renovation-attractive-1-room-apartment-with-kitchen-in-schwabing-munich/5f070954e828ea000615a3dd?dataLayerKey=BmbvDYvKBFD2EHogKPisf',\n",
       " 'https://wunderflats.com/en/furnished-apartment/nice-newly-renovated-fully-furnished-1-room-apartment/5e1d7b59a286e60006020f4d?dataLayerKey=BmbvDYvKBFD2EHogKPisf',\n",
       " 'https://wunderflats.com/en/furnished-apartment/gallery-apartment-with-mountain-affinity/63d9138df295b7055e6d30c8?dataLayerKey=BmbvDYvKBFD2EHogKPisf',\n",
       " 'https://wunderflats.com/en/furnished-apartment/fashionable-and-fantastic-home-with-nice-neighbours/61475377a52ca500066fa728?dataLayerKey=BmbvDYvKBFD2EHogKPisf',\n",
       " 'https://wunderflats.com/en/furnished-apartment/well-cut-bright-2-room-apartment-with-balcony-in-the-middle-of-munich/608d7e3f310fa2000820a9b9?dataLayerKey=BmbvDYvKBFD2EHogKPisf',\n",
       " 'https://wunderflats.com/en/furnished-apartment/fantastic-attic-apartment-with-balcony-in-schwabing/5ea6b05ffc0b8a00065a9642?dataLayerKey=BmbvDYvKBFD2EHogKPisf',\n",
       " 'https://wunderflats.com/en/furnished-apartment/bright-wonderful-apartment-muenchen/639b2b80a41283bd9c93986f?dataLayerKey=BmbvDYvKBFD2EHogKPisf',\n",
       " 'https://wunderflats.com/en/furnished-apartment/nice-and-gorgeous-two-rooms-apartment-located-in-muenchen/6024eced3c89d60006bed3fc?dataLayerKey=BmbvDYvKBFD2EHogKPisf',\n",
       " 'https://wunderflats.com/en/furnished-apartment/awesome-home-in-muenchen/5f58f8275e8cb200060a11e8?dataLayerKey=BmbvDYvKBFD2EHogKPisf',\n",
       " 'https://wunderflats.com/en/furnished-apartment/beautiful-and-awesome-home-in-muenchen/6353cfc4e29813c57cb070f6?dataLayerKey=BmbvDYvKBFD2EHogKPisf',\n",
       " 'https://wunderflats.com/en/furnished-apartment/modern-and-bright-apartment-located-in-munich/63297b83e1df5ce1470a7c1d?dataLayerKey=BmbvDYvKBFD2EHogKPisf',\n",
       " 'https://wunderflats.com/en/furnished-apartment/neat-fashionable-apartment-muenchen/6398acc14f8f7b673c252df1?dataLayerKey=BmbvDYvKBFD2EHogKPisf',\n",
       " 'https://wunderflats.com/en/furnished-apartment/cozy-studio-in-central-munich-newly-renovated/58c2831011f36ade186e4756?dataLayerKey=BmbvDYvKBFD2EHogKPisf',\n",
       " 'https://wunderflats.com/en/furnished-apartment/furnished-single-studio-in-munich-with-good-transport-connections/604216eecebe050007ecc6b8?dataLayerKey=BmbvDYvKBFD2EHogKPisf',\n",
       " 'https://wunderflats.com/en/furnished-apartment/pretty-amazing-loft-in-excellent-location/5bce19ad3aa0da2d7a288879?dataLayerKey=BmbvDYvKBFD2EHogKPisf',\n",
       " 'https://wunderflats.com/en/furnished-apartment/one-room-apartment-balkony-district-university/619133d3d497270008be683d?dataLayerKey=BmbvDYvKBFD2EHogKPisf',\n",
       " 'https://wunderflats.com/en/furnished-apartment/2-room-apartments-two-mins-walk-to-university-centre-city-munich-schwabing-university/6304cd5f27ed2180f6fdc226?dataLayerKey=BmbvDYvKBFD2EHogKPisf',\n",
       " 'https://wunderflats.com/en/furnished-apartment/sunny-quiet-studio-in-central-location-neuhausenrotkreuzplatz/6363aa081ffde60db095b844?dataLayerKey=BmbvDYvKBFD2EHogKPisf',\n",
       " 'https://wunderflats.com/en/furnished-apartment/bright-living-in-bogenhausendenning/640454c6bba44cdf02250969?dataLayerKey=BmbvDYvKBFD2EHogKPisf',\n",
       " 'https://wunderflats.com/en/furnished-apartment/design-garden-flat-in-the-city-center-of-munich/5e8858f785c25f00077e9dbe?dataLayerKey=BmbvDYvKBFD2EHogKPisf',\n",
       " 'https://wunderflats.com/en/furnished-apartment/fashionable-apartment-muenchen/607d49680a64fe00070071af?dataLayerKey=BmbvDYvKBFD2EHogKPisf',\n",
       " 'https://wunderflats.com/en/furnished-apartment/cozy-and-lovely-loft/60251a2500b44f000774a039?dataLayerKey=BmbvDYvKBFD2EHogKPisf',\n",
       " 'https://wunderflats.com/en/furnished-apartment/lovely-suite-in-muenchen/610147468573d4000843c8e8?dataLayerKey=BmbvDYvKBFD2EHogKPisf',\n",
       " 'https://wunderflats.com/en/furnished-apartment/most-beautiful-munich-all-inclusive-schwabing-silent/612731bda25ee900075df386?dataLayerKey=BmbvDYvKBFD2EHogKPisf',\n",
       " 'https://wunderflats.com/en/furnished-apartment/style-home-in-munich/60899ebf106c93000891a96f?dataLayerKey=BmbvDYvKBFD2EHogKPisf',\n",
       " 'https://wunderflats.com/en/furnished-apartment/feel-at-home-perfekt-ausgestattete-2-zimmer-wohnung-muenchen-sendling/620416b880c96701e5a40f2b?dataLayerKey=BmbvDYvKBFD2EHogKPisf',\n",
       " 'https://wunderflats.com/en/furnished-apartment/great-and-lovely-flat-muenchen/5c8690b98f69fd000637d66a?dataLayerKey=BmbvDYvKBFD2EHogKPisf',\n",
       " 'https://wunderflats.com/en/furnished-apartment/wonderfull-design-apartment-in-historic-building/626e916766980af53f14fe63?dataLayerKey=1EZWRAkgEWZud6UNRtDwj',\n",
       " 'https://wunderflats.com/en/furnished-apartment/great-and-charming-apartment-in-muenchen/5a54ef66d367320a1c0ac6ed?dataLayerKey=1EZWRAkgEWZud6UNRtDwj',\n",
       " 'https://wunderflats.com/en/furnished-apartment/cosy-trendy-and-spaceouse-apartment-in-central-munich-near-universitiesmuseums/581909d2f79e4b164fc06605?dataLayerKey=1EZWRAkgEWZud6UNRtDwj',\n",
       " 'https://wunderflats.com/en/furnished-apartment/lovely-apartment-in-muenchen-schwabing/6372bd3fef4e08535b4fe332?dataLayerKey=1EZWRAkgEWZud6UNRtDwj',\n",
       " 'https://wunderflats.com/en/furnished-apartment/wiener-platz-haidhausen-bestlage-1zi-apt/631237b6bdbad8738540cf8d?dataLayerKey=1EZWRAkgEWZud6UNRtDwj',\n",
       " 'https://wunderflats.com/en/furnished-apartment/beautiful-2-room-flat-all-inclusive-with-perfect-transport-connections/5f9285486ee69d00063a8e87?dataLayerKey=1EZWRAkgEWZud6UNRtDwj',\n",
       " 'https://wunderflats.com/en/furnished-apartment/one-bedroom-apartment-garage-district-university/61912bbed6a18400075f60e2?dataLayerKey=1EZWRAkgEWZud6UNRtDwj',\n",
       " 'https://wunderflats.com/en/furnished-apartment/modern-design-apartment-in-munichs-trendy-district-centrally-located-but-very-quiet/625d65a7bb9b2c68b3265ba4?dataLayerKey=1EZWRAkgEWZud6UNRtDwj',\n",
       " 'https://wunderflats.com/en/furnished-apartment/great-lovely-home-in-muenchen/63dd5b14a90aec46d35a6938?dataLayerKey=1EZWRAkgEWZud6UNRtDwj',\n",
       " 'https://wunderflats.com/en/furnished-apartment/fashionable-and-quiet-studio-near-luitpold-park-and-underground-station/6385d54b762dc44d3e8d619e?dataLayerKey=1EZWRAkgEWZud6UNRtDwj',\n",
       " 'https://wunderflats.com/en/furnished-apartment/modern-apartment-with-balcony-centrally-located-in-milbertshofen-schwabing-nord/5edf2683e7fdc40006312733?dataLayerKey=1EZWRAkgEWZud6UNRtDwj',\n",
       " 'https://wunderflats.com/en/furnished-apartment/furnished-design-apartment-munich-schwabing/63f72a8411c529362d00e9ba?dataLayerKey=1EZWRAkgEWZud6UNRtDwj',\n",
       " 'https://wunderflats.com/en/furnished-apartment/top-location-bright-3-room-flat-with-roof-top-terrace/62e53c38615487e3f00aadf1?dataLayerKey=1EZWRAkgEWZud6UNRtDwj',\n",
       " 'https://wunderflats.com/en/furnished-apartment/exclusive-stylish-apartment-in-a-typical-munich-town-house/60842a1a1b0b0f0007c14204?dataLayerKey=1EZWRAkgEWZud6UNRtDwj',\n",
       " 'https://wunderflats.com/en/furnished-apartment/stylish-and-lovingly-fully-furnished-souterrain-apartment-in-centre-munich/622f94cd366574c14c316e96?dataLayerKey=1EZWRAkgEWZud6UNRtDwj',\n",
       " 'https://wunderflats.com/en/furnished-apartment/new-and-wonderful-apartment-in-muenchen/5b65bee4a6795553b3193701?dataLayerKey=1EZWRAkgEWZud6UNRtDwj',\n",
       " 'https://wunderflats.com/en/furnished-apartment/luxurious-furnished-2-room-apartment-with-garden-and-terrace-in-munich-schwabing-north-milbertshofen/5eba85b533bcb70006bacf69?dataLayerKey=1EZWRAkgEWZud6UNRtDwj',\n",
       " 'https://wunderflats.com/en/furnished-apartment/fully-furnished-and-well-equipped-fresh-studio-with-large-roof-terrace-on-the-top-floor/63455ad78b62585755d21bea?dataLayerKey=1EZWRAkgEWZud6UNRtDwj',\n",
       " 'https://wunderflats.com/en/furnished-apartment/cute-charming-flat-in-muenchen/6101431ba3c3ba00079a9884?dataLayerKey=1EZWRAkgEWZud6UNRtDwj',\n",
       " 'https://wunderflats.com/en/furnished-apartment/2-room-luxury-fully-furnished-apartments-in-the-centre-city-munich/623323ea25cc052fb6f7eb25?dataLayerKey=1EZWRAkgEWZud6UNRtDwj',\n",
       " 'https://wunderflats.com/en/furnished-apartment/light-flooded-top-furnished-2-room-balcony-apartment-with-exclusive-equipment/5ef337781412f1000762eae7?dataLayerKey=1EZWRAkgEWZud6UNRtDwj',\n",
       " 'https://wunderflats.com/en/furnished-apartment/spacious-sunny-2-room-apartment-at-luitpoldpark-in-schwabing/5f8717437c2ea00006230702?dataLayerKey=1EZWRAkgEWZud6UNRtDwj',\n",
       " 'https://wunderflats.com/en/furnished-apartment/high-quality-apartment-with-fantastic-south-facing-balcony-and-top-location/6108a9436640f6000756f52a?dataLayerKey=1EZWRAkgEWZud6UNRtDwj',\n",
       " 'https://wunderflats.com/en/furnished-apartment/beautiful-furnished-spacious-two-room-apartment-in-munich-schwanthalerhoehe/612736f269b57000080f3550?dataLayerKey=1EZWRAkgEWZud6UNRtDwj',\n",
       " 'https://wunderflats.com/en/furnished-apartment/g/new-and-charming-home-in-muenchen/4JP9oe6PTUEciNPPulsFX?dataLayerKey=1EZWRAkgEWZud6UNRtDwj',\n",
       " 'https://wunderflats.com/en/furnished-apartment/1-room-apartment-in-the-heart-of-munichs-old-town-close-to-the-english-garden/604f95da6921880007ab5f0b?dataLayerKey=1EZWRAkgEWZud6UNRtDwj',\n",
       " 'https://wunderflats.com/en/furnished-apartment/modern-and-quiet-home-in-muenchen/609d0756adee7f0008749cb7?dataLayerKey=1EZWRAkgEWZud6UNRtDwj',\n",
       " 'https://wunderflats.com/en/furnished-apartment/extremely-bright-attractive-2-room-apartment-on-the-10th-floor-south-side-with-view-over-munich-into-the-alps/5f4e68a6c491850006980d0a?dataLayerKey=1EZWRAkgEWZud6UNRtDwj',\n",
       " 'https://wunderflats.com/en/furnished-apartment/shared-flat-great-beautiful-home/63160efab65e67fd65e9d8c5?dataLayerKey=1EZWRAkgEWZud6UNRtDwj',\n",
       " 'https://wunderflats.com/en/furnished-apartment/3-zimmer-balkonwohnung-in-sendling/638512cd4072f7798fd02146?dataLayerKey=1EZWRAkgEWZud6UNRtDwj',\n",
       " 'https://wunderflats.com/en/furnished-apartment/beautiful-3-room-105m2-apartment-in-the-heart-of-munich/62eb9f0196630a9ce2c1d6b4?dataLayerKey=e722d4wBQrJDYwxt7JdRa',\n",
       " 'https://wunderflats.com/en/furnished-apartment/2-12-rooms-top-renovation-centrally-located-in-munichs-famous-glockenbach-neighborhood/5ede1a9b60e7620006531402?dataLayerKey=e722d4wBQrJDYwxt7JdRa',\n",
       " 'https://wunderflats.com/en/furnished-apartment/modern-furnished-apartment-new-renovated-fast-internet/5f6f08c7d796db00060303bc?dataLayerKey=e722d4wBQrJDYwxt7JdRa',\n",
       " 'https://wunderflats.com/en/furnished-apartment/fantastic-and-new-flat-in-muenchen/5bfeafc9e847bb000585a831?dataLayerKey=e722d4wBQrJDYwxt7JdRa',\n",
       " 'https://wunderflats.com/en/furnished-apartment/helle-und-ruhige-3-zimmer-wohnung-zu-vermieten/63d0277d98d99b42b20f2864?dataLayerKey=e722d4wBQrJDYwxt7JdRa',\n",
       " 'https://wunderflats.com/en/furnished-apartment/quiet-wonderful-home-in-muenchen/5bebde539a4ee600063003c4?dataLayerKey=e722d4wBQrJDYwxt7JdRa',\n",
       " 'https://wunderflats.com/en/furnished-apartment/new-and-fashionable-home-in-muenchen/5c1bb33722fe600006b9daf4?dataLayerKey=e722d4wBQrJDYwxt7JdRa',\n",
       " 'https://wunderflats.com/en/furnished-apartment/elegant-apartment-in-central-munich/5a5372c58dbcd669fc0e5b6e?dataLayerKey=e722d4wBQrJDYwxt7JdRa',\n",
       " 'https://wunderflats.com/en/furnished-apartment/modern-and-central-apartment-between-google-and-pwc/6342812e4a0da28049c0b9b1?dataLayerKey=e722d4wBQrJDYwxt7JdRa',\n",
       " 'https://wunderflats.com/en/furnished-apartment/apartment-am-herzogpark-in-munichs-most-sought-after-location/5f61d0ed4afc0b0007f25780?dataLayerKey=e722d4wBQrJDYwxt7JdRa',\n",
       " 'https://wunderflats.com/en/furnished-apartment/nice-suite-near-school-muenchen/609beae4adee7f0008746c9a?dataLayerKey=e722d4wBQrJDYwxt7JdRa',\n",
       " 'https://wunderflats.com/en/furnished-apartment/modern-clean-and-central-fast-internet-nice-balcony/5f7dcdf1b266e5000653c93e?dataLayerKey=e722d4wBQrJDYwxt7JdRa',\n",
       " 'https://wunderflats.com/en/furnished-apartment/1-room-apartment-with-balcony-and-view-into-the-green/5f33a030cd2153000694a95a?dataLayerKey=e722d4wBQrJDYwxt7JdRa',\n",
       " 'https://wunderflats.com/en/furnished-apartment/quiet-central-sunny-3-room-flat-in-the-heart-of-munich-schwabing/5b1935587ba8c65a1c408155?dataLayerKey=e722d4wBQrJDYwxt7JdRa',\n",
       " 'https://wunderflats.com/en/furnished-apartment/g/nice-apartment-in-munich-only-available-for-students-interns-or-trainees/bQOo6ZAcHJUeNZzSZJi9A?dataLayerKey=e722d4wBQrJDYwxt7JdRa',\n",
       " 'https://wunderflats.com/en/furnished-apartment/great-and-gorgeous-studio-located-in-muenchen/633553eb689c30fdce21072b?dataLayerKey=e722d4wBQrJDYwxt7JdRa',\n",
       " 'https://wunderflats.com/en/furnished-apartment/g/studio-apartment-with-balcony-and-kitchenette-at-the-olympic-park/4JczZwdymopIBndhu0RMl?dataLayerKey=e722d4wBQrJDYwxt7JdRa',\n",
       " 'https://wunderflats.com/en/furnished-apartment/modern-suite-in-muenchen/60a2029d9d4b650007c57c8b?dataLayerKey=e722d4wBQrJDYwxt7JdRa',\n",
       " 'https://wunderflats.com/en/furnished-apartment/fancy-studio-in-munich-schwabing/6400b668788c8dc94b8fc996?dataLayerKey=e722d4wBQrJDYwxt7JdRa',\n",
       " 'https://wunderflats.com/en/furnished-apartment/stylish-apartment-in-historical-landmark-building/63fc8706be5de1965c4ebd84?dataLayerKey=e722d4wBQrJDYwxt7JdRa',\n",
       " 'https://wunderflats.com/en/furnished-apartment/g/practically-designed-and-modern-studio-in-munich/SywqfwZH7?dataLayerKey=e722d4wBQrJDYwxt7JdRa',\n",
       " 'https://wunderflats.com/en/furnished-apartment/beautiful-bright-luxury-maisonette-apartment-in-munich/63eb6a5fe584b3e585ba0852?dataLayerKey=e722d4wBQrJDYwxt7JdRa',\n",
       " 'https://wunderflats.com/en/furnished-apartment/luxury-3-rooms-in-best-location-university-opera-marienplatz-5min/5d9906fa60a3990007c2abb3?dataLayerKey=e722d4wBQrJDYwxt7JdRa',\n",
       " 'https://wunderflats.com/en/furnished-apartment/beautiful-1-room-apartment-in-a-central-location-in-munich-renovated-old-building/605dfd43455c5800087b51a9?dataLayerKey=e722d4wBQrJDYwxt7JdRa',\n",
       " 'https://wunderflats.com/en/furnished-apartment/spacious-modern-3-room-suite-in-munich-schwabing/5cf7e550d7f54c00081fb9d4?dataLayerKey=e722d4wBQrJDYwxt7JdRa',\n",
       " 'https://wunderflats.com/en/furnished-apartment/beautifully-designed-and-modern-penthouse-with-beautiful-roof-terrace/5ebe8037097ea30006806017?dataLayerKey=e722d4wBQrJDYwxt7JdRa',\n",
       " 'https://wunderflats.com/en/furnished-apartment/spacious-corner-house-in-the-centre-of-munich-with-private-garden/5db05b677c11e00007ab4fd1?dataLayerKey=e722d4wBQrJDYwxt7JdRa',\n",
       " 'https://wunderflats.com/en/furnished-apartment/g/apartment-house-in-central-munich/S1FzbP3s7?dataLayerKey=e722d4wBQrJDYwxt7JdRa',\n",
       " 'https://wunderflats.com/en/furnished-apartment/charming-flat-in-muenchen-haidhausen/63774e3fd7dc1ed22f99cf99?dataLayerKey=e722d4wBQrJDYwxt7JdRa',\n",
       " 'https://wunderflats.com/en/furnished-apartment/lovely-apartment-with-3-bedrooms/6362dea9dcd78cb9fa55fc9a?dataLayerKey=e722d4wBQrJDYwxt7JdRa',\n",
       " 'https://wunderflats.com/en/furnished-apartment/g/cosy-and-fully-equipped-studio-in-munich-with-good-transport-connections/rJaTa8cZE?dataLayerKey=mhINH6M7JcuvI1aJmdV99',\n",
       " 'https://wunderflats.com/en/furnished-apartment/g/charming-and-quiet-two-room-flat-in-a-newly-built-property/rkeRcLq-E?dataLayerKey=mhINH6M7JcuvI1aJmdV99',\n",
       " 'https://wunderflats.com/en/furnished-apartment/nice-apartment-in-muenchen/5c8ab0c487e1510007afc4eb?dataLayerKey=mhINH6M7JcuvI1aJmdV99',\n",
       " 'https://wunderflats.com/en/furnished-apartment/g/fantastic-apartment-bright-stylish-and-centrally-located-munich/_-1ejM6kLrhkUtz6lhVaq?dataLayerKey=mhINH6M7JcuvI1aJmdV99',\n",
       " 'https://wunderflats.com/en/furnished-apartment/lovingly-furnished-garden-apartment-in-green-residential-complex-near-olympiapark-on-time/6124b490fa6a3b0007451a2a?dataLayerKey=mhINH6M7JcuvI1aJmdV99',\n",
       " 'https://wunderflats.com/en/furnished-apartment/g/bright-and-modern-apartment-with-large-windows/K-hLljPPoZ?dataLayerKey=mhINH6M7JcuvI1aJmdV99',\n",
       " 'https://wunderflats.com/en/furnished-apartment/g/comfy-apartment-bright-stylish-and-centrally-located-munich/kFZl8-qytUhrcNrv88kKE?dataLayerKey=mhINH6M7JcuvI1aJmdV99',\n",
       " 'https://wunderflats.com/en/furnished-apartment/first-occupancy-after-restoration-35-room-apartment-with-four-poster-bed-and-large-terrace-on-the-raised-first-floor/5fb2565494509600062d22db?dataLayerKey=mhINH6M7JcuvI1aJmdV99',\n",
       " 'https://wunderflats.com/en/furnished-apartment/g/longstay-studios-with-sweeping-views-spa-fitness-housekeeping-included/XZPUFr4tiN?dataLayerKey=mhINH6M7JcuvI1aJmdV99',\n",
       " 'https://wunderflats.com/en/furnished-apartment/g/furnished-flat-with-modern-interior-in-munich-perfect-for-every-business-stay/TWJIJH__5G?dataLayerKey=mhINH6M7JcuvI1aJmdV99',\n",
       " 'https://wunderflats.com/en/furnished-apartment/fantastic-roof-terrace-flat-for-large-groups/6048e03b60bfc90007113758?dataLayerKey=mhINH6M7JcuvI1aJmdV99',\n",
       " 'https://wunderflats.com/en/furnished-apartment/top-location-cozy-flat-with-roof-top-terrace/60606a55b454f000084b7b00?dataLayerKey=mhINH6M7JcuvI1aJmdV99',\n",
       " 'https://wunderflats.com/en/furnished-apartment/beautiful-and-charming-flat-in-green-haidhausen-center-munich/6396f94d7c2bfdcb99171ab2?dataLayerKey=mhINH6M7JcuvI1aJmdV99',\n",
       " 'https://wunderflats.com/en/furnished-apartment/cute-and-gorgeous-home-muenchen/61acf267be19cf0008ccd27d?dataLayerKey=mhINH6M7JcuvI1aJmdV99',\n",
       " 'https://wunderflats.com/en/furnished-apartment/g/amazing-apartment-with-kitchenette-and-balcony/EtbZnRk9Db0Y275Zc_Aqz?dataLayerKey=mhINH6M7JcuvI1aJmdV99',\n",
       " 'https://wunderflats.com/en/furnished-apartment/g/chic-apartment-with-balcony-and-kitchenette-near-the-isar/eP8gVlRw7_0S7FISnYzQP?dataLayerKey=mhINH6M7JcuvI1aJmdV99',\n",
       " 'https://wunderflats.com/en/furnished-apartment/g/cosy-apartment-bright-stylish-and-centrally-located-munich/fzjA2CXN_-7WykDaW54I8?dataLayerKey=mhINH6M7JcuvI1aJmdV99',\n",
       " 'https://wunderflats.com/en/furnished-apartment/bright-and-modern-flat-located-in-muenchen/620a3bc85ba0ccd814f22509?dataLayerKey=mhINH6M7JcuvI1aJmdV99',\n",
       " 'https://wunderflats.com/en/furnished-apartment/gorgeous-apartment-in-muenchen/601cf678baeccb00079cd35e?dataLayerKey=mhINH6M7JcuvI1aJmdV99',\n",
       " 'https://wunderflats.com/en/furnished-apartment/bright-2-room-apartment-in-munich/5db80d37c87fb600078bf906?dataLayerKey=mhINH6M7JcuvI1aJmdV99',\n",
       " 'https://wunderflats.com/en/furnished-apartment/furnished-dream-apartment-with-distant-viewbogenhausen/61249316db252d0007807d6b?dataLayerKey=mhINH6M7JcuvI1aJmdV99',\n",
       " 'https://wunderflats.com/en/furnished-apartment/fashionable-suite-in-muenchen/63e3ab89c8f7f57b12c67ad0?dataLayerKey=mhINH6M7JcuvI1aJmdV99',\n",
       " 'https://wunderflats.com/en/furnished-apartment/great-and-beautiful-home-in-muenchen/5f71f6df5524690007ed043d?dataLayerKey=mhINH6M7JcuvI1aJmdV99',\n",
       " 'https://wunderflats.com/en/furnished-apartment/perfect-awesome-apartment-in-muenchen/5c4592cc97f8a4000580b606?dataLayerKey=mhINH6M7JcuvI1aJmdV99',\n",
       " 'https://wunderflats.com/en/furnished-apartment/neat-loft-in-muenchen/6032abe9c5de6f000a34c76f?dataLayerKey=mhINH6M7JcuvI1aJmdV99',\n",
       " 'https://wunderflats.com/en/furnished-apartment/urban-duplex-located-in-perfect-location-muenchen-maxvorstadt-with-balcony/63b4746de526d0e194ecb3b0?dataLayerKey=mhINH6M7JcuvI1aJmdV99',\n",
       " 'https://wunderflats.com/en/furnished-apartment/fully-furnished-top-location-in-lehel-sunny-2-room-apartment/5fa95a1574e398000651c533?dataLayerKey=mhINH6M7JcuvI1aJmdV99',\n",
       " 'https://wunderflats.com/en/furnished-apartment/newly-renovated-penthouse-top-located-at-the-english-garden/5b4bb5921fde1754bd52fa04?dataLayerKey=mhINH6M7JcuvI1aJmdV99',\n",
       " 'https://wunderflats.com/en/furnished-apartment/g/pretty-apartment-in-munich-east-only-available-for-students-interns-or-trainees/wtwNCWj1TOTT3KwdbYlwO?dataLayerKey=mhINH6M7JcuvI1aJmdV99',\n",
       " 'https://wunderflats.com/en/furnished-apartment/1-room-in-a-3-bedroom-share-gieising-bahnhof-flat/63afdf9c4a1918bf7e6411c7?dataLayerKey=mhINH6M7JcuvI1aJmdV99',\n",
       " 'https://wunderflats.com/en/furnished-apartment/bright-apartment-40sqm-in-central-location-of-munich/5f8da3a4e3341500077d3602?dataLayerKey=N5inpsLTmqvbD17SJ49NK',\n",
       " 'https://wunderflats.com/en/furnished-apartment/new-suite-located-in-muenchen/5c72a82ee5110e0006b05603?dataLayerKey=N5inpsLTmqvbD17SJ49NK',\n",
       " 'https://wunderflats.com/en/furnished-apartment/comfortable-place-to-stay-only-6-km-from-the-centre-of-munich/5f3e1e5362732a0006f91d2a?dataLayerKey=N5inpsLTmqvbD17SJ49NK',\n",
       " 'https://wunderflats.com/en/furnished-apartment/quiet-modern-furnished-flat-with-eat-in-kitchen-in-schwabing/63da4dee43b8fe6bafc4bf1e?dataLayerKey=N5inpsLTmqvbD17SJ49NK',\n",
       " 'https://wunderflats.com/en/furnished-apartment/luxury-best-location-in-munich-maxvorstadt-5-min-from-main-station-stylish-modern-quiet-sunny-terrace-and-garden/62e7e2c2a9e495082324754e?dataLayerKey=N5inpsLTmqvbD17SJ49NK',\n",
       " 'https://wunderflats.com/en/furnished-apartment/beautiful-loft-in-muenchen/5f9a9b017811a50007e2076b?dataLayerKey=N5inpsLTmqvbD17SJ49NK',\n",
       " 'https://wunderflats.com/en/furnished-apartment/cute-and-lovely-flat-in-excellent-location-flexibel-in-time/60bcb7976778cd000763e1b5?dataLayerKey=N5inpsLTmqvbD17SJ49NK',\n",
       " 'https://wunderflats.com/en/furnished-apartment/panoramic-view-in-prinzregentenstrasse-munich/6113a26f87251f0007d75b17?dataLayerKey=N5inpsLTmqvbD17SJ49NK',\n",
       " 'https://wunderflats.com/en/furnished-apartment/moeblierte-zwei-zimmer-wohnung-in-muenchens-top-lage-mit-grossem-balkon-und-blick-ins-gruene/62139a13c217be28d0e9279c?dataLayerKey=N5inpsLTmqvbD17SJ49NK',\n",
       " 'https://wunderflats.com/en/furnished-apartment/wonderful-and-neat-apartment-in-excellent-location-muenchen/635b8ea091a4e771961c5e68?dataLayerKey=N5inpsLTmqvbD17SJ49NK',\n",
       " 'https://wunderflats.com/en/furnished-apartment/furnished-apartment-in-neuhausen-schwabing-with-view-to-olympiaturm/635e6466070c80c6ee2178b3?dataLayerKey=N5inpsLTmqvbD17SJ49NK',\n",
       " 'https://wunderflats.com/en/furnished-apartment/spacious-apartment-with-bright-open-kitchen-and-sunny-balcony/5f2d44d3084bf70006c6c62f?dataLayerKey=N5inpsLTmqvbD17SJ49NK',\n",
       " 'https://wunderflats.com/en/furnished-apartment/cozy-fully-furnished-apartment-2-bedrooms-in-munich-schwabing/5fce3455a7d54d0006294277?dataLayerKey=N5inpsLTmqvbD17SJ49NK',\n",
       " 'https://wunderflats.com/en/furnished-apartment/charming-cozy-home-great-view/5c8674a118e14a000750e2e6?dataLayerKey=N5inpsLTmqvbD17SJ49NK',\n",
       " 'https://wunderflats.com/en/furnished-apartment/between-isar-and-auer-muehlbach-beautiful-2-room-apartment-with-balcony/632eab3c5da96380bb5924ec?dataLayerKey=N5inpsLTmqvbD17SJ49NK',\n",
       " 'https://wunderflats.com/en/furnished-apartment/fashionable-flat-in-muenchen/63aaafad716b3ae440b7f08f?dataLayerKey=N5inpsLTmqvbD17SJ49NK',\n",
       " 'https://wunderflats.com/en/furnished-apartment/beautiful-bright-3-room-flat-in-bogenhausen-completely-renovated/5c580bbc0a72fd00055bfe3c?dataLayerKey=N5inpsLTmqvbD17SJ49NK',\n",
       " 'https://wunderflats.com/en/furnished-apartment/cosy-homeoffice-and-living-place-with-garden-and-fast-internet-in-munich/59918b2590579651ede48493?dataLayerKey=N5inpsLTmqvbD17SJ49NK',\n",
       " 'https://wunderflats.com/en/furnished-apartment/amazing-and-perfect-suite-in-muenchen/5e791bdad5f5b600061d346d?dataLayerKey=N5inpsLTmqvbD17SJ49NK',\n",
       " 'https://wunderflats.com/en/furnished-apartment/charming-flat-in-the-heart-of-munich/5f8875cef20bba0006826697?dataLayerKey=N5inpsLTmqvbD17SJ49NK',\n",
       " 'https://wunderflats.com/en/furnished-apartment/chic-apartment-fully-furnished-in-milbertshofenschwabing/6022542416650700067d57d1?dataLayerKey=N5inpsLTmqvbD17SJ49NK',\n",
       " 'https://wunderflats.com/en/furnished-apartment/munich-harlaching-2-room-75-sqm-apartment-bright-sunny-furnished/637bcd88291bcb53d5820aa3?dataLayerKey=N5inpsLTmqvbD17SJ49NK',\n",
       " 'https://wunderflats.com/en/furnished-apartment/beautiful-quiet-fully-furnished-and-fully-equipped-2-room-apartment-in-popular-westend/61a4f364e9f18500077d62f5?dataLayerKey=N5inpsLTmqvbD17SJ49NK',\n",
       " 'https://wunderflats.com/en/furnished-apartment/charming-quiet-apartment-in-muenchen/615af5afa8e9ba000a530e55?dataLayerKey=N5inpsLTmqvbD17SJ49NK',\n",
       " 'https://wunderflats.com/en/furnished-apartment/g/spacious-and-new-suite-in-muenchen-with-daily-breakfast/6ajijQ9h3gkTqYpj94ILc?dataLayerKey=N5inpsLTmqvbD17SJ49NK',\n",
       " 'https://wunderflats.com/en/furnished-apartment/gorgeous-and-new-studio-in-muenchen/5eb994273d242f00086a35ae?dataLayerKey=N5inpsLTmqvbD17SJ49NK',\n",
       " 'https://wunderflats.com/en/furnished-apartment/fashionable-flat-in-muenchen/607dc2ab7341560007146590?dataLayerKey=N5inpsLTmqvbD17SJ49NK',\n",
       " 'https://wunderflats.com/en/furnished-apartment/g/gorgeous-cute-loft-in-muenchen/euc68N5MFynlXwQRaXuT9?dataLayerKey=N5inpsLTmqvbD17SJ49NK',\n",
       " 'https://wunderflats.com/en/furnished-apartment/wonderful-and-charming-studio-muenchen/5fe36f208426de000637442b?dataLayerKey=N5inpsLTmqvbD17SJ49NK',\n",
       " 'https://wunderflats.com/en/furnished-apartment/quiet-awesome-flat-located-in-muenchen/6040d9c6d639ef000696c519?dataLayerKey=N5inpsLTmqvbD17SJ49NK',\n",
       " 'https://wunderflats.com/en/furnished-apartment/great-loft-located-in-muenchen/62790418cf06c7c6957b2852?dataLayerKey=ir6npOPgC6zt1_7il1ekq',\n",
       " 'https://wunderflats.com/en/furnished-apartment/freshly-core-renovated-best-location-in-munich-with-park-location/622ab5e0d97dc87a7dc5a3b0?dataLayerKey=ir6npOPgC6zt1_7il1ekq',\n",
       " 'https://wunderflats.com/en/furnished-apartment/modern-fully-equipped-apartment-in-maxvorstadt-with-balcony-very-bright/5b718f439c192a26b3b01f81?dataLayerKey=ir6npOPgC6zt1_7il1ekq',\n",
       " 'https://wunderflats.com/en/furnished-apartment/cute-and-amazing-home-in-muenchen/5ce29ca40ddd0000065c6731?dataLayerKey=ir6npOPgC6zt1_7il1ekq',\n",
       " 'https://wunderflats.com/en/furnished-apartment/g/lovely-1-room-apartment-7-og-with-balcony-at-munich-petuelpark/S1jHH894b?dataLayerKey=ir6npOPgC6zt1_7il1ekq',\n",
       " 'https://wunderflats.com/en/furnished-apartment/loveley-decorated-appartment-for-couples-two-big-roof-terraces/63d8f601bd48f67f17a458f8?dataLayerKey=ir6npOPgC6zt1_7il1ekq',\n",
       " 'https://wunderflats.com/en/furnished-apartment/luxury-suite-with-full-equipment-in-the-hippest-untergiesing/5e9756904fb4db0006abca52?dataLayerKey=ir6npOPgC6zt1_7il1ekq',\n",
       " 'https://wunderflats.com/en/furnished-apartment/amazing-and-perfect-home-muenchen/5fb2cf104a6ea600063605ac?dataLayerKey=ir6npOPgC6zt1_7il1ekq',\n",
       " 'https://wunderflats.com/en/furnished-apartment/g/modern-serviced-flat-with-fitness-and-weekly-cleaning-included/7BDVYZxwUwvWcFYtRdK9y?dataLayerKey=ir6npOPgC6zt1_7il1ekq',\n",
       " 'https://wunderflats.com/en/furnished-apartment/cozy-fantastic-suite-muenchen/5ccc5cb8d4bbc50006b89d92?dataLayerKey=ir6npOPgC6zt1_7il1ekq',\n",
       " 'https://wunderflats.com/en/furnished-apartment/duplex-attic-appartment-with-balcony-close-to-isarmunich/63eff0ad602debbe4017d089?dataLayerKey=ir6npOPgC6zt1_7il1ekq',\n",
       " 'https://wunderflats.com/en/furnished-apartment/very-nice-furnished-2-room-apartment-in-munich-giesing-conveniently-located/5c17bb4ad504090005acf5a6?dataLayerKey=ir6npOPgC6zt1_7il1ekq',\n",
       " 'https://wunderflats.com/en/furnished-apartment/cute-gorgeous-apartment-muenchen/5afc20babc645e7ed789d213?dataLayerKey=ir6npOPgC6zt1_7il1ekq',\n",
       " 'https://wunderflats.com/en/furnished-apartment/charming-apartment-in-munich-south/5f703bc1d796db00060329ab?dataLayerKey=ir6npOPgC6zt1_7il1ekq',\n",
       " 'https://wunderflats.com/en/furnished-apartment/first-floor-garden-apartment-with-own-entrance-in-ideal-location-at-the-english-garden/5f5b737ff1710400063e3783?dataLayerKey=ir6npOPgC6zt1_7il1ekq',\n",
       " 'https://wunderflats.com/en/furnished-apartment/beautiful-and-nice-loft-in-muenchen/608d708fb720a10009fbb7c9?dataLayerKey=ir6npOPgC6zt1_7il1ekq',\n",
       " 'https://wunderflats.com/en/furnished-apartment/lovely-amazing-apartment-muenchen/5f85e0c1ad026b00087e2992?dataLayerKey=ir6npOPgC6zt1_7il1ekq',\n",
       " 'https://wunderflats.com/en/furnished-apartment/gorgeous-and-nice-apartment-in-muenchen/633bb325311fd5ed1f6f7a3d?dataLayerKey=ir6npOPgC6zt1_7il1ekq',\n",
       " 'https://wunderflats.com/en/furnished-apartment/neat-apartment-in-muenchen/6097a2d81c687300072d5741?dataLayerKey=ir6npOPgC6zt1_7il1ekq',\n",
       " 'https://wunderflats.com/en/furnished-apartment/2-room-apartment-with-balcony-in-great-location-*limited*-only-from-september-23-october-24/63f8e94947ab0a6771b0cc9c?dataLayerKey=ir6npOPgC6zt1_7il1ekq',\n",
       " 'https://wunderflats.com/en/furnished-apartment/beautiful-2-room-flat-in-muenchen-very-central/5e2d8d99bb2bbf000721c0f2?dataLayerKey=ir6npOPgC6zt1_7il1ekq',\n",
       " 'https://wunderflats.com/en/furnished-apartment/modern-apartment-in-schwabing-with-south-facing-balcony-and-view-of-the-alps/5f6cbf60f3a03200078d8131?dataLayerKey=ir6npOPgC6zt1_7il1ekq',\n",
       " 'https://wunderflats.com/en/furnished-apartment/bright-and-homely-studio-directly-at-the-english-garden/60420663b928b7000801e4e8?dataLayerKey=ir6npOPgC6zt1_7il1ekq',\n",
       " 'https://wunderflats.com/en/furnished-apartment/fantastic-lovely-1-room-apartment/5c61905fb69fd2000523e3de?dataLayerKey=ir6npOPgC6zt1_7il1ekq',\n",
       " 'https://wunderflats.com/en/furnished-apartment/charming-1-room-apartment-with-balcony-in-obergiesing/60a632576b1b67000643e00f?dataLayerKey=ir6npOPgC6zt1_7il1ekq',\n",
       " 'https://wunderflats.com/en/furnished-apartment/dream-apartment-at-the-english-garden-with-indoor-pool-bright-modern-all-inclusive/6183bad9d3935700070aacdb?dataLayerKey=ir6npOPgC6zt1_7il1ekq',\n",
       " 'https://wunderflats.com/en/furnished-apartment/spacious-comfortable-2-room-apartment-near-metro-station-kolumbusplatz/5ac4a1a75ac4d4baca8f133f?dataLayerKey=ir6npOPgC6zt1_7il1ekq',\n",
       " 'https://wunderflats.com/en/furnished-apartment/cute-fantastic-suite-in-muenchen/5f9a994f6d7b900006538d46?dataLayerKey=ir6npOPgC6zt1_7il1ekq',\n",
       " 'https://wunderflats.com/en/furnished-apartment/luxury-apartment-in-the-center-of-munich-maxvorstadt-with-separate-homeoffice-smart-home-and-luxury-hotel-bed-freshly-renovated/60858a271b2f750007c46e04?dataLayerKey=ir6npOPgC6zt1_7il1ekq',\n",
       " 'https://wunderflats.com/en/furnished-apartment/nice-quiet-apartment-with-loggia-in-central-location-in-schwabing/5ece58af4aed720006c878d4?dataLayerKey=ir6npOPgC6zt1_7il1ekq',\n",
       " 'https://wunderflats.com/en/furnished-apartment/the-all-round-package-cozy-apartment-centrally-located-full-furnished-all-included/599d08d53c6b17aec92ebe55?dataLayerKey=Q9h7BjzseshX4kN-kRHY1',\n",
       " 'https://wunderflats.com/en/furnished-apartment/spacious-generous-138m2-apartment-in-the-heart-of-schwabing-munich/5ad0c8b2ab2c15572b43226a?dataLayerKey=Q9h7BjzseshX4kN-kRHY1',\n",
       " 'https://wunderflats.com/en/furnished-apartment/very-nice-2-room-apartment-fully-furnished-and-equipped/63a44c45fcd338f7171bcc07?dataLayerKey=Q9h7BjzseshX4kN-kRHY1',\n",
       " 'https://wunderflats.com/en/furnished-apartment/dreamlike-central-2-room-old-building-apartment-in-munichs-historic-dreimuehlenviertel/595f568f4c105a645e0aa9da?dataLayerKey=Q9h7BjzseshX4kN-kRHY1',\n",
       " 'https://wunderflats.com/en/furnished-apartment/cute-and-charming-suite-between-english-garden-and-muenchener-freiheit/5f47c4f62ba5c40008621efb?dataLayerKey=Q9h7BjzseshX4kN-kRHY1',\n",
       " 'https://wunderflats.com/en/furnished-apartment/modern-stylish-and-furnished-ground-floor-apartment-with-south-west-balcony-and-small-garden/5bcec6b114b8aae9a406c264?dataLayerKey=Q9h7BjzseshX4kN-kRHY1',\n",
       " 'https://wunderflats.com/en/furnished-apartment/2-room-biedermeier-apartment-in-neuhausen-nymphenburg-with-modern-equipment/5c1f951e7e9ca4000a7e9c22?dataLayerKey=Q9h7BjzseshX4kN-kRHY1',\n",
       " 'https://wunderflats.com/en/furnished-apartment/beautiful-and-bright-apartment-with-optionally-with-underground-parking-in-herzogpark/5e738509ec39b0000796635c?dataLayerKey=Q9h7BjzseshX4kN-kRHY1',\n",
       " 'https://wunderflats.com/en/furnished-apartment/furnished-studio-apartment-in-munich-close-to-bmw/5c531546f0c7fd0005349e98?dataLayerKey=Q9h7BjzseshX4kN-kRHY1',\n",
       " 'https://wunderflats.com/en/furnished-apartment/beautiful-newly-renovated-4-room-apartment-with-sunshine-all-year-round-in-the-heart-of-schwabing/5f2c172af35874000600336c?dataLayerKey=Q9h7BjzseshX4kN-kRHY1',\n",
       " 'https://wunderflats.com/en/furnished-apartment/g/modern-serviced-flat-with-fitness-and-weekly-cleaning-included/3AJ7CJgjYLSHLGSaFJ-dd?dataLayerKey=Q9h7BjzseshX4kN-kRHY1',\n",
       " 'https://wunderflats.com/en/furnished-apartment/3-5-zimmerwhg-im-schoenen-glockenbachviertel-naehe-gaertnerplatztheater/61d42eb093621300079285b9?dataLayerKey=Q9h7BjzseshX4kN-kRHY1',\n",
       " 'https://wunderflats.com/en/furnished-apartment/beautiful-spacious-terrace-apartment-in-munich-sendling-central-and-quiet/5d49a764d97f230006c0413e?dataLayerKey=Q9h7BjzseshX4kN-kRHY1',\n",
       " 'https://wunderflats.com/en/furnished-apartment/modern-and-fashionable-studio-muenchen-close-to-oktoberfest/5c0e7a9b55b97c0007226a82?dataLayerKey=Q9h7BjzseshX4kN-kRHY1',\n",
       " 'https://wunderflats.com/en/furnished-apartment/g/modern-serviced-flat-with-fitness-and-weekly-cleaning-included/Scv7IGiTVzcqZSGtmupLD?dataLayerKey=Q9h7BjzseshX4kN-kRHY1',\n",
       " 'https://wunderflats.com/en/furnished-apartment/apartment-in-prime-munich-location-near-english-garden-all-inclusive-rent/633c2954e00dbffd9f2de200?dataLayerKey=Q9h7BjzseshX4kN-kRHY1',\n",
       " 'https://wunderflats.com/en/furnished-apartment/gorgeous-studio-close-to-center/61489f0fcf5ae100075d1e33?dataLayerKey=Q9h7BjzseshX4kN-kRHY1',\n",
       " 'https://wunderflats.com/en/furnished-apartment/beautiful-apartment-in-great-loaction/5ed7d2d3e2d1a50006ce69ad?dataLayerKey=Q9h7BjzseshX4kN-kRHY1',\n",
       " 'https://wunderflats.com/en/furnished-apartment/g/perfect-charming-studio-in-muenchen-with-daily-breakfast/Yc2XdsEx81kfM8wniotSC?dataLayerKey=Q9h7BjzseshX4kN-kRHY1',\n",
       " 'https://wunderflats.com/en/furnished-apartment/all-inclusive-in-the-centre-15-rooms-with-complete-equipment-between-karlsplatz-and-sendinger-tor/5e68bc1b9a8ad700060f51b2?dataLayerKey=Q9h7BjzseshX4kN-kRHY1',\n",
       " 'https://wunderflats.com/en/furnished-apartment/charming-apartment-after-complete-renovation-in-the-heart-of-maxvorstadt/6151705b6ee0a5000761ad33?dataLayerKey=Q9h7BjzseshX4kN-kRHY1',\n",
       " 'https://wunderflats.com/en/furnished-apartment/lovely-modernised-studio-at-prime-location/614c9b654b9d8d000825a5f2?dataLayerKey=Q9h7BjzseshX4kN-kRHY1',\n",
       " 'https://wunderflats.com/en/furnished-apartment/very-sunny-and-quiet-apartment-in-a-centrally-located-listed-building/61368a3a4388f700081195d2?dataLayerKey=Q9h7BjzseshX4kN-kRHY1',\n",
       " 'https://wunderflats.com/en/furnished-apartment/quiet-1-room-apartment-in-alt-schwabing/6094051826ece30007f36ba4?dataLayerKey=Q9h7BjzseshX4kN-kRHY1',\n",
       " 'https://wunderflats.com/en/furnished-apartment/awesome-home-in-muenchen/5f58b8f2054b680006785650?dataLayerKey=Q9h7BjzseshX4kN-kRHY1',\n",
       " 'https://wunderflats.com/en/furnished-apartment/perfect-cozy-suite-in-muenchen/61ab8442fe606c0007b8489f?dataLayerKey=Q9h7BjzseshX4kN-kRHY1',\n",
       " 'https://wunderflats.com/en/furnished-apartment/g/wonderful-apartment-in-muenchen-with-daily-breakfast/mhC3h3uMxvlNNNjrtEWS7?dataLayerKey=Q9h7BjzseshX4kN-kRHY1',\n",
       " 'https://wunderflats.com/en/furnished-apartment/comfortable-and-modern-studio-apartment-in-munich/5a255d9712834148f2ee4707?dataLayerKey=Q9h7BjzseshX4kN-kRHY1',\n",
       " 'https://wunderflats.com/en/furnished-apartment/spacious-loft-in-muenchen/5ddee5c042d54b00084c4731?dataLayerKey=Q9h7BjzseshX4kN-kRHY1',\n",
       " 'https://wunderflats.com/en/furnished-apartment/spacious-studio-in-muenchen/61d44737aff7790007a06263?dataLayerKey=Q9h7BjzseshX4kN-kRHY1',\n",
       " 'https://wunderflats.com/en/furnished-apartment/charming-and-modern-flat-in-munich/5d1361e8bd93060006ad5e9c?dataLayerKey=Nar9BuWEM7kJxB_NRTkou',\n",
       " 'https://wunderflats.com/en/furnished-apartment/big-bright-fully-furnished-flat-near-bmw-and-the-olympic-park/626cde370c65b9403d63796d?dataLayerKey=Nar9BuWEM7kJxB_NRTkou',\n",
       " 'https://wunderflats.com/en/furnished-apartment/cute-bright-apartment-in-muenchen/5d0e68b824de43000bc31b1a?dataLayerKey=Nar9BuWEM7kJxB_NRTkou',\n",
       " 'https://wunderflats.com/en/furnished-apartment/g/wonderful-and-bright-home-in-muenchen-with-daily-breakfast/vRsJLJwa4RBsdAyLkF26M?dataLayerKey=Nar9BuWEM7kJxB_NRTkou',\n",
       " 'https://wunderflats.com/en/furnished-apartment/scenic-and-quiet-3-room-apartment-with-balcony-in-munich-schwabing/5b45f85fd10cd480ec70a1c9?dataLayerKey=Nar9BuWEM7kJxB_NRTkou',\n",
       " 'https://wunderflats.com/en/furnished-apartment/beautiful-and-spacious-2-room-apartment/6267e87ae3a263276fe53265?dataLayerKey=Nar9BuWEM7kJxB_NRTkou',\n",
       " 'https://wunderflats.com/en/furnished-apartment/premium-3-room-apartment-with-balcony-in-munich-haidhausen/60799022cec1b800071fb584?dataLayerKey=Nar9BuWEM7kJxB_NRTkou',\n",
       " 'https://wunderflats.com/en/furnished-apartment/in-the-heart-of-munich-central-located-awesome-gorgeous-apartment-with-balcony-and-view-to-the-university-by-the-english-garden/5ec556dbc493510006982a57?dataLayerKey=Nar9BuWEM7kJxB_NRTkou',\n",
       " 'https://wunderflats.com/en/furnished-apartment/wonderful-and-bright-loft-close-to-park/5e20c0ad9dc5fc0008faf438?dataLayerKey=Nar9BuWEM7kJxB_NRTkou',\n",
       " 'https://wunderflats.com/en/furnished-apartment/exclusive-studio-apartment-centrally-located-in-munich-bogenhausen/5b165bc87ba8c65a1c4040bf?dataLayerKey=Nar9BuWEM7kJxB_NRTkou',\n",
       " 'https://wunderflats.com/en/furnished-apartment/elegant-apartment-in-quiet-area-with-fireplace-and-free-parking-muenchen/620284dc57c7ca66b225072f?dataLayerKey=Nar9BuWEM7kJxB_NRTkou',\n",
       " 'https://wunderflats.com/en/furnished-apartment/exclusive-studio-directly-at-the-english-garden-beautifully-furnished-fully-equipped/5f76e76cc5e427000769a9af?dataLayerKey=Nar9BuWEM7kJxB_NRTkou',\n",
       " 'https://wunderflats.com/en/furnished-apartment/g/pretty-apartment-in-muenchen-with-daily-breakfast/JahXUpOuZyHO4RiwRr9XT?dataLayerKey=Nar9BuWEM7kJxB_NRTkou',\n",
       " 'https://wunderflats.com/en/furnished-apartment/newly-renovated-1-room-apartment-in-neuschwabing/60224a16b7b89d00066b0a02?dataLayerKey=Nar9BuWEM7kJxB_NRTkou',\n",
       " 'https://wunderflats.com/en/furnished-apartment/fantastic-fashionable-suite-in-luxury-loft-perfectly-located-at-theresienwiese/5bbb0acfffdc656f1c9b09e1?dataLayerKey=Nar9BuWEM7kJxB_NRTkou',\n",
       " 'https://wunderflats.com/en/furnished-apartment/modern-neat-flat-muenchen/60c659a956ef56000b1bbd60?dataLayerKey=Nar9BuWEM7kJxB_NRTkou',\n",
       " 'https://wunderflats.com/en/furnished-apartment/1-room-apartment-with-balcony-and-good-transport-connections/5f2ba7f91ba7170007cf937d?dataLayerKey=Nar9BuWEM7kJxB_NRTkou',\n",
       " 'https://wunderflats.com/en/furnished-apartment/spacious-and-gorgeous-apartment-muenchen/5b90e3067b50a76dfd3a7644?dataLayerKey=Nar9BuWEM7kJxB_NRTkou',\n",
       " 'https://wunderflats.com/en/furnished-apartment/exclusively-furnished-1-room-apartment-with-balconysubway-nearbyunderground-garage/5e63b3e78f19180006f6a5b4?dataLayerKey=Nar9BuWEM7kJxB_NRTkou',\n",
       " 'https://wunderflats.com/en/furnished-apartment/neues-inserat-fuer-das-3og/61aa05d45ee4f500081ac6ed?dataLayerKey=Nar9BuWEM7kJxB_NRTkou',\n",
       " 'https://wunderflats.com/en/furnished-apartment/light-filled-designer-penthouse-2-home-offices-wraparound-terrace/6019359639de640006707f63?dataLayerKey=Nar9BuWEM7kJxB_NRTkou',\n",
       " 'https://wunderflats.com/en/furnished-apartment/g/quiet-and-pretty-city-apartment-in-munich/JTzsvL6UuYuRforsKEvaq?dataLayerKey=Nar9BuWEM7kJxB_NRTkou',\n",
       " 'https://wunderflats.com/en/furnished-apartment/3-room-comfort-business-apartment-in-the-center-of-munich/626c23822cf6c682ec67076c?dataLayerKey=Nar9BuWEM7kJxB_NRTkou',\n",
       " 'https://wunderflats.com/en/furnished-apartment/urban-oasis-in-prime-location-with-lovely-garden/5cdec231cb93090007914bc1?dataLayerKey=Nar9BuWEM7kJxB_NRTkou',\n",
       " 'https://wunderflats.com/en/furnished-apartment/central-munichmaxvorstadt-very-nice-and-bright-1-room-apartment-with-balcony/626e5adbd8d0eb5b3d1b3cfc?dataLayerKey=Nar9BuWEM7kJxB_NRTkou',\n",
       " 'https://wunderflats.com/en/furnished-apartment/modern-and-wonderful-home-in-top-location/5c2e8a912284040005fef063?dataLayerKey=Nar9BuWEM7kJxB_NRTkou',\n",
       " 'https://wunderflats.com/en/furnished-apartment/1-person-apartment-with-balkony-in-sendling/630d1e1d0e07055d2758a097?dataLayerKey=Nar9BuWEM7kJxB_NRTkou',\n",
       " 'https://wunderflats.com/en/furnished-apartment/neat-quiet-flat-in-muenchen/62c983b94ee153c5f72f6c35?dataLayerKey=Nar9BuWEM7kJxB_NRTkou',\n",
       " 'https://wunderflats.com/en/furnished-apartment/luxury-refurbishment-december-22-rainforest-shower-box-spring-bed-ect/6372101e54542e4d7cfbb9f7?dataLayerKey=Nar9BuWEM7kJxB_NRTkou',\n",
       " 'https://wunderflats.com/en/furnished-apartment/fully-furnished-2-room-apartment-transformed-into-a-loft-with-2-large-roof-terraces/616edee069d5e20007a86a6e?dataLayerKey=Nar9BuWEM7kJxB_NRTkou',\n",
       " 'https://wunderflats.com/en/furnished-apartment/comfortable-business-apartment-70sqm-prinzregentenstrasse-munich/62c18d66a22b2d82ae223566?dataLayerKey=EolcHBA_9BCJXnEpCHsQU',\n",
       " 'https://wunderflats.com/en/furnished-apartment/gorgeous-suite-located-in-muenchen/604b67e4aa3dde00071821de?dataLayerKey=EolcHBA_9BCJXnEpCHsQU',\n",
       " 'https://wunderflats.com/en/furnished-apartment/beautiful-and-light-flooded-3-room-apartment-5-min-from-arabellapark-munich/5a5da9b20feb618d09bf4fad?dataLayerKey=EolcHBA_9BCJXnEpCHsQU',\n",
       " 'https://wunderflats.com/en/furnished-apartment/nice-awesome-flat-in-muenchen/62f6762e74c46a1484af542e?dataLayerKey=EolcHBA_9BCJXnEpCHsQU',\n",
       " 'https://wunderflats.com/en/furnished-apartment/awesome-and-bright-2-room-apartment-in-munich-nearby-isar-beach-und-marienplatz/5ce67950148af60006d6544d?dataLayerKey=EolcHBA_9BCJXnEpCHsQU',\n",
       " 'https://wunderflats.com/en/furnished-apartment/zentral-cosy-and-quiet-flat/6337d6acbbbab0b7b80689b3?dataLayerKey=EolcHBA_9BCJXnEpCHsQU',\n",
       " 'https://wunderflats.com/en/furnished-apartment/fashionable-beautiful-suite-in-muenchen/6372918118d99310a0d195c0?dataLayerKey=EolcHBA_9BCJXnEpCHsQU',\n",
       " 'https://wunderflats.com/en/furnished-apartment/cosy-apartment-in-a-fantastic-central-yet-quiet-location/63774d5f8f6a68c8b6983659?dataLayerKey=EolcHBA_9BCJXnEpCHsQU',\n",
       " 'https://wunderflats.com/en/furnished-apartment/g/modern-and-bright-serviced-apartment-near-theresienwiese-incl-cleaning-and-change-of-linen/8viAETW_T?dataLayerKey=EolcHBA_9BCJXnEpCHsQU',\n",
       " 'https://wunderflats.com/en/furnished-apartment/g/exclusive-serviced-apartment-for-two-at-the-olympiapark-with-fitness-studio-9-min-to-the-main-train-station/Q6pQmKuaBtjCA-CL7YorQ?dataLayerKey=EolcHBA_9BCJXnEpCHsQU',\n",
       " 'https://wunderflats.com/en/furnished-apartment/green-living-in-the-center/618847295068270008404cee?dataLayerKey=EolcHBA_9BCJXnEpCHsQU',\n",
       " 'https://wunderflats.com/en/furnished-apartment/charming-cute-an-fully-furnished-apartment-located-in-central-munich/62c6e02e73d694e5eebd838c?dataLayerKey=EolcHBA_9BCJXnEpCHsQU',\n",
       " 'https://wunderflats.com/en/furnished-apartment/modern-and-attractive-fully-furnished-apartment-in-the-heart-of-munich/61aa5cad0556420007a6da3e?dataLayerKey=EolcHBA_9BCJXnEpCHsQU',\n",
       " 'https://wunderflats.com/en/furnished-apartment/exclusive-2-room-apartment-with-balcony-in-maxvorstadt-munich-near-google/60094b5501e37a0007483c11?dataLayerKey=EolcHBA_9BCJXnEpCHsQU',\n",
       " 'https://wunderflats.com/en/furnished-apartment/modern-and-sunny-apartment/6050af6e5d64d70008e29fed?dataLayerKey=EolcHBA_9BCJXnEpCHsQU',\n",
       " 'https://wunderflats.com/en/furnished-apartment/lovingly-furnished-1-room-apartment-with-balcony/5d8cb81447e63c00073b772d?dataLayerKey=EolcHBA_9BCJXnEpCHsQU',\n",
       " 'https://wunderflats.com/en/furnished-apartment/bright-modern-like-new-apartment-in-maxvorstadt/6255deb856b97c219eb93d69?dataLayerKey=EolcHBA_9BCJXnEpCHsQU',\n",
       " 'https://wunderflats.com/en/furnished-apartment/great-little-flat-in-the-middle-of-schwabing-with-2-balconies/5e3000fcb5b5c9000711a3ab?dataLayerKey=EolcHBA_9BCJXnEpCHsQU',\n",
       " 'https://wunderflats.com/en/furnished-apartment/top-refurbished-fully-equipped-bright-and-beautiful-flat-in-a-top-location-in-central-munich/5969c969bf5870c41eeb357d?dataLayerKey=EolcHBA_9BCJXnEpCHsQU',\n",
       " 'https://wunderflats.com/en/furnished-apartment/neat-apartment-and-cute-garden-in-munich-east/5ad34689ff56980d4959b3e4?dataLayerKey=EolcHBA_9BCJXnEpCHsQU',\n",
       " 'https://wunderflats.com/en/furnished-apartment/wonderful-quiet-2-room-apartment-in-the-heart-of-munich-westend/60ff0165bf4d1400089d87c4?dataLayerKey=EolcHBA_9BCJXnEpCHsQU',\n",
       " 'https://wunderflats.com/en/furnished-apartment/lovely-apartment-in-muenchen/627ebbe37032a25dd162476c?dataLayerKey=EolcHBA_9BCJXnEpCHsQU',\n",
       " 'https://wunderflats.com/en/furnished-apartment/renovated-studio-in-altperlach/615d640c8281c8000784477d?dataLayerKey=EolcHBA_9BCJXnEpCHsQU',\n",
       " 'https://wunderflats.com/en/furnished-apartment/newly-renovated-stylish-apartment-in-muenchen-altperlach/6140a5d288d8af0007658663?dataLayerKey=EolcHBA_9BCJXnEpCHsQU',\n",
       " 'https://wunderflats.com/en/furnished-apartment/modern-apartment-in-the-maxvorstadt-with-underground-parking/5f281a1b99bc01000719b310?dataLayerKey=EolcHBA_9BCJXnEpCHsQU',\n",
       " 'https://wunderflats.com/en/furnished-apartment/**-bright-fully-equipped-apartment-in-best-location-**/5fb5c813b604c80006df7626?dataLayerKey=EolcHBA_9BCJXnEpCHsQU',\n",
       " 'https://wunderflats.com/en/furnished-apartment/charming-studio-in-schwabing-nord-with-balcony-floor-to-ceiling-windows-and-floor-heating/5b1587097ba8c65a1c403c21?dataLayerKey=EolcHBA_9BCJXnEpCHsQU',\n",
       " 'https://wunderflats.com/en/furnished-apartment/well-cut-2-room-apartment-with-garden-in-milbertshofen/60b802a3e829bc0007082ead?dataLayerKey=EolcHBA_9BCJXnEpCHsQU',\n",
       " 'https://wunderflats.com/en/furnished-apartment/best-city-center-location-munich-lehel-2-rooms-with-balcony/6311ede13bd97adaed3f4200?dataLayerKey=EolcHBA_9BCJXnEpCHsQU',\n",
       " 'https://wunderflats.com/en/furnished-apartment/new-furnished-2-room-apartment-in-munich/5ed66a802ed398000614619f?dataLayerKey=EolcHBA_9BCJXnEpCHsQU',\n",
       " 'https://wunderflats.com/en/furnished-apartment/fashionable-home-in-muenchen/605522cec23f32000790192b?dataLayerKey=8GnKoBHFewYe_X0bfv1Qn',\n",
       " 'https://wunderflats.com/en/furnished-apartment/g/high-quaility-furnished-apartment-in-the-middle-of-munich/TeErQCUlS?dataLayerKey=8GnKoBHFewYe_X0bfv1Qn',\n",
       " 'https://wunderflats.com/en/furnished-apartment/awesome-loft-in-munich/5c06a45358a30f0005c7c47b?dataLayerKey=8GnKoBHFewYe_X0bfv1Qn',\n",
       " 'https://wunderflats.com/en/furnished-apartment/15-room-apartment-furnished-west-end-large-southeast-balcony-very-quiet/604b8ddc3f0a490006e1ca1d?dataLayerKey=8GnKoBHFewYe_X0bfv1Qn',\n",
       " 'https://wunderflats.com/en/furnished-apartment/beautiful-city-apartment-in-munich/5ea4700c63c83500070b9a0c?dataLayerKey=8GnKoBHFewYe_X0bfv1Qn',\n",
       " 'https://wunderflats.com/en/furnished-apartment/exklusiv-moebliertes-1-zimmer-apartment-mit-tiefgaragenstellplatz-muenchen/61af7046f22b050008e8bf88?dataLayerKey=8GnKoBHFewYe_X0bfv1Qn',\n",
       " 'https://wunderflats.com/en/furnished-apartment/lovely-suite-located-in-muenchen/5fb39b7d6595fe0006923499?dataLayerKey=8GnKoBHFewYe_X0bfv1Qn',\n",
       " 'https://wunderflats.com/en/furnished-apartment/g/modern-and-bright-serviced-apartment-near-theresienwiese-incl-cleaning-and-change-of-linen/wUSzBvICm?dataLayerKey=8GnKoBHFewYe_X0bfv1Qn',\n",
       " 'https://wunderflats.com/en/furnished-apartment/quiet-and-modern-flat-centrally-located/5ced378a2d46f00006125ab1?dataLayerKey=8GnKoBHFewYe_X0bfv1Qn',\n",
       " 'https://wunderflats.com/en/furnished-apartment/bright-french-style-4-room-apartment-with-balcony-in-haidhausen/63f5cca0d7b98d36dd64aa39?dataLayerKey=8GnKoBHFewYe_X0bfv1Qn',\n",
       " 'https://wunderflats.com/en/furnished-apartment/g/spacious-fully-equipped-superior-apartment-in-munich-moosach/HyOe_HdPf?dataLayerKey=8GnKoBHFewYe_X0bfv1Qn',\n",
       " 'https://wunderflats.com/en/furnished-apartment/g/great-studio-in-muenchen-with-daily-breakfast/8gV7zkil-KjGsr6fG4kQi?dataLayerKey=8GnKoBHFewYe_X0bfv1Qn',\n",
       " 'https://wunderflats.com/en/furnished-apartment/spacious-loft-with-nice-city-view/5f69b56dd80b7a0007b4448b?dataLayerKey=8GnKoBHFewYe_X0bfv1Qn',\n",
       " 'https://wunderflats.com/en/furnished-apartment/new-apartment-for-students-singles-or-couples-close-to-the-olympiapark/5f48a589a57adc0006aa0830?dataLayerKey=8GnKoBHFewYe_X0bfv1Qn',\n",
       " 'https://wunderflats.com/en/furnished-apartment/lovely-home-close-to-city-center-muenchen/5bf3d2144d3801000514f953?dataLayerKey=8GnKoBHFewYe_X0bfv1Qn',\n",
       " 'https://wunderflats.com/en/furnished-apartment/studio-apartment-with-swimming-pool-sauna-and-parking-space-in-munich/5c594690931616000730c09c?dataLayerKey=8GnKoBHFewYe_X0bfv1Qn',\n",
       " 'https://wunderflats.com/en/furnished-apartment/beautifully-renovated-studio-in-muenchen-altperlach/6140a683126a2a0007ac5e15?dataLayerKey=8GnKoBHFewYe_X0bfv1Qn',\n",
       " 'https://wunderflats.com/en/furnished-apartment/quiet-studio-apartment-centrally-located/5fcca77a6f700500060e3270?dataLayerKey=8GnKoBHFewYe_X0bfv1Qn',\n",
       " 'https://wunderflats.com/en/furnished-apartment/g/charming-fashionable-studio-xl-conveniently-located/Byu4rqiTaUmx?dataLayerKey=8GnKoBHFewYe_X0bfv1Qn',\n",
       " 'https://wunderflats.com/en/furnished-apartment/new-and-perfect-apartment-in-best-location-in-munich/5ed8d71ec6bde800060a8ea0?dataLayerKey=8GnKoBHFewYe_X0bfv1Qn',\n",
       " 'https://wunderflats.com/en/furnished-apartment/g/perfect-and-gorgeous-apartment-muenchen/kEL_tw_h7vYFesGdkGf3Z?dataLayerKey=8GnKoBHFewYe_X0bfv1Qn',\n",
       " 'https://wunderflats.com/en/furnished-apartment/modern-awesome-loft-at-pariser-platz/5ac72c37122dc8a61a732f6b?dataLayerKey=8GnKoBHFewYe_X0bfv1Qn',\n",
       " 'https://wunderflats.com/en/furnished-apartment/maisonette-penthouse-in-the-middle-of-schwabing-munich/5efb41f13cff3b0006b66515?dataLayerKey=8GnKoBHFewYe_X0bfv1Qn',\n",
       " 'https://wunderflats.com/en/furnished-apartment/spacious-1-room-apartment-in-obersendling/5f63217b3be1be0006ab4e35?dataLayerKey=8GnKoBHFewYe_X0bfv1Qn',\n",
       " 'https://wunderflats.com/en/furnished-apartment/neat-loft-located-in-muenchen/5c0fd92e4418e100083dd6a7?dataLayerKey=8GnKoBHFewYe_X0bfv1Qn',\n",
       " 'https://wunderflats.com/en/furnished-apartment/g/spacious-apartment-directly-on-the-isar-glockenbach-district/PMQfUoWABE?dataLayerKey=8GnKoBHFewYe_X0bfv1Qn',\n",
       " 'https://wunderflats.com/en/furnished-apartment/g/stylish-city-apartment-directly-at-the-theresienwiese/Rr_pMk2I0WqTeONSKGaOc?dataLayerKey=8GnKoBHFewYe_X0bfv1Qn',\n",
       " 'https://wunderflats.com/en/furnished-apartment/new-refurbished-design-studio-central-located/5c67e2df48442d0006a01aab?dataLayerKey=8GnKoBHFewYe_X0bfv1Qn',\n",
       " 'https://wunderflats.com/en/furnished-apartment/quiet-loft-like-apartment-with-two-terrace-80m-from-the-isar-river/5c338e220fceac00083ac3f5?dataLayerKey=8GnKoBHFewYe_X0bfv1Qn',\n",
       " 'https://wunderflats.com/en/furnished-apartment/centrally-located-25-room-old-building-apartment-with-charm-in-schwabing/5f743ca015e47b00082e7243?dataLayerKey=8GnKoBHFewYe_X0bfv1Qn',\n",
       " 'https://wunderflats.com/en/furnished-apartment/g/beautiful-and-wonderful-apartment/Em7Sn-6sFe?dataLayerKey=KWXk-6r8NC-Y3pPJgP_Rx',\n",
       " 'https://wunderflats.com/en/furnished-apartment/amazing-quiet-flat-great-view/5c64a57979c8af0005551c6d?dataLayerKey=KWXk-6r8NC-Y3pPJgP_Rx',\n",
       " 'https://wunderflats.com/en/furnished-apartment/awesome-suite-in-central-muenchen-with-a-big-balcony/5e344536aada31000638e518?dataLayerKey=KWXk-6r8NC-Y3pPJgP_Rx',\n",
       " 'https://wunderflats.com/en/furnished-apartment/awesome-and-new-apartment-in-munich-city-center/5cc2c8916151520007e847d6?dataLayerKey=KWXk-6r8NC-Y3pPJgP_Rx',\n",
       " 'https://wunderflats.com/en/furnished-apartment/cozy-beautiful-flat-in-muenchen/5bffe4a8cc3e010005b2f465?dataLayerKey=KWXk-6r8NC-Y3pPJgP_Rx',\n",
       " 'https://wunderflats.com/en/furnished-apartment/beautiful-flat-with-great-location/63d8cfb9ce63908e64a1c47d?dataLayerKey=KWXk-6r8NC-Y3pPJgP_Rx',\n",
       " 'https://wunderflats.com/en/furnished-apartment/g/single-apartment-directly-on-the-isar-in-glockenbach-district/FfGyolR8Zy?dataLayerKey=KWXk-6r8NC-Y3pPJgP_Rx',\n",
       " 'https://wunderflats.com/en/furnished-apartment/g/new-modern-serviced-flat-with-exclusive-furnishings-by-architect-matteo-thun-in-popular-neighbourhood/WQXGMbyuOIaJoIJdcYOKc?dataLayerKey=KWXk-6r8NC-Y3pPJgP_Rx',\n",
       " 'https://wunderflats.com/en/furnished-apartment/g/fully-equipped-comfort-apartment-in-munich-moosach/Bkwm9d_DM?dataLayerKey=KWXk-6r8NC-Y3pPJgP_Rx',\n",
       " 'https://wunderflats.com/en/furnished-apartment/geraeumige-altbauwohnung-in-muenchen/6202b65e86910318c317e496?dataLayerKey=KWXk-6r8NC-Y3pPJgP_Rx',\n",
       " 'https://wunderflats.com/en/furnished-apartment/g/brazilian-flair-in-the-heart-of-munich/csuTT30t-i_wEsEEIdbvs?dataLayerKey=KWXk-6r8NC-Y3pPJgP_Rx',\n",
       " 'https://wunderflats.com/en/furnished-apartment/perfect-flat-conveniently-located/630387947495083a76edfaf1?dataLayerKey=KWXk-6r8NC-Y3pPJgP_Rx',\n",
       " 'https://wunderflats.com/en/furnished-apartment/g/pretty-and-great-flat-close-to-city-center/By8NBqip68Xg?dataLayerKey=KWXk-6r8NC-Y3pPJgP_Rx',\n",
       " 'https://wunderflats.com/en/furnished-apartment/nice-neat-home-in-muenchen/5b72e9644a13e0c1e7d6cd67?dataLayerKey=KWXk-6r8NC-Y3pPJgP_Rx',\n",
       " 'https://wunderflats.com/en/furnished-apartment/beautiful-apartment-in-munich-bogenhausen/626bc2f2f16116aa144d0a66?dataLayerKey=KWXk-6r8NC-Y3pPJgP_Rx',\n",
       " 'https://wunderflats.com/en/furnished-apartment/cozy-and-lovely-home-in-muenchen-close-to-the-river/63a19910368a7324274e7466?dataLayerKey=KWXk-6r8NC-Y3pPJgP_Rx',\n",
       " 'https://wunderflats.com/en/furnished-apartment/fashionable-new-spacious-apartment-located-in-muenchen-obergiesing-fasangarten/638f2e0b063e7e2ebfe5429f?dataLayerKey=KWXk-6r8NC-Y3pPJgP_Rx',\n",
       " 'https://wunderflats.com/en/furnished-apartment/g/high-quaility-furnished-apartment-in-the-middle-of-munich/0Rpzd8Iz0?dataLayerKey=KWXk-6r8NC-Y3pPJgP_Rx',\n",
       " 'https://wunderflats.com/en/furnished-apartment/**-premium-apartment-balcony-in-best-location-in-munich-**/605b67b904bc0100079b4627?dataLayerKey=KWXk-6r8NC-Y3pPJgP_Rx',\n",
       " 'https://wunderflats.com/en/furnished-apartment/g/exclusive-serviced-apartment-at-the-olympiapark-with-fitness-studio-9-min-to-the-main-train-station/S1SCEb4yX?dataLayerKey=KWXk-6r8NC-Y3pPJgP_Rx',\n",
       " 'https://wunderflats.com/en/furnished-apartment/wonderful-3-room-apartment-in-munich-city/6320d2a80afe137a40b5a782?dataLayerKey=KWXk-6r8NC-Y3pPJgP_Rx',\n",
       " 'https://wunderflats.com/en/furnished-apartment/g/high-quaility-furnished-apartment-in-the-middle-of-munich/h0aI0qFJwE?dataLayerKey=KWXk-6r8NC-Y3pPJgP_Rx',\n",
       " 'https://wunderflats.com/en/furnished-apartment/lovely-home-in-muenchen-neuhausen-nymphenburg/5c472bb99e34b1000896d40d?dataLayerKey=KWXk-6r8NC-Y3pPJgP_Rx',\n",
       " 'https://wunderflats.com/en/furnished-apartment/g/city-apartment-with-kitchenette-in-munich-haidhausen/TWrx4VsG8f?dataLayerKey=KWXk-6r8NC-Y3pPJgP_Rx',\n",
       " 'https://wunderflats.com/en/furnished-apartment/private-site-of-a-loft/63dfb363894620c1aabaed86?dataLayerKey=KWXk-6r8NC-Y3pPJgP_Rx',\n",
       " 'https://wunderflats.com/en/furnished-apartment/rooftop-apartment-near-bmw/5b55f3c434822e487fa4da85?dataLayerKey=KWXk-6r8NC-Y3pPJgP_Rx',\n",
       " 'https://wunderflats.com/en/furnished-apartment/fantastic-and-cozy-loft-muenchen/6313adb7766a284ea92332d0?dataLayerKey=KWXk-6r8NC-Y3pPJgP_Rx',\n",
       " 'https://wunderflats.com/en/furnished-apartment/penthouse-in-prime-location-near-english-garden/63bd6f03b559f27c560af720?dataLayerKey=KWXk-6r8NC-Y3pPJgP_Rx',\n",
       " 'https://wunderflats.com/en/furnished-apartment/nice-gorgeous-apartment/5ffcb4e959f3f100064d51c7?dataLayerKey=KWXk-6r8NC-Y3pPJgP_Rx',\n",
       " 'https://wunderflats.com/en/furnished-apartment/fully-equipped-apartment-in-the-city-centre-of-munich-with-perfect-tram-connection/5b44aa152c5cfed31e13ed54?dataLayerKey=KWXk-6r8NC-Y3pPJgP_Rx',\n",
       " 'https://wunderflats.com/en/furnished-apartment/charming-and-perfect-home-in-muenchen/5acb7d6e8c6492a55dd1d106?dataLayerKey=UOhDQP0teoNwLxi02TjI_',\n",
       " 'https://wunderflats.com/en/furnished-apartment/g/bright-studio-amazing-apartment-with-service-near-central-station/HJgAScj6TL7g?dataLayerKey=UOhDQP0teoNwLxi02TjI_',\n",
       " 'https://wunderflats.com/en/furnished-apartment/exclusive-flat-in-centrally-located-altsendling-munich-2-sep-entrances-fully-equipped/61fa41c99e7674c7dc8d4aef?dataLayerKey=UOhDQP0teoNwLxi02TjI_',\n",
       " 'https://wunderflats.com/en/furnished-apartment/lovely-bright-home-in-muenchen/637c97721884c7e2d897c058?dataLayerKey=UOhDQP0teoNwLxi02TjI_',\n",
       " 'https://wunderflats.com/en/furnished-apartment/ludwig-suite-with-large-roof-terrace-and-panoramic-view-over-munich/62122c1a8d71d6821e886acc?dataLayerKey=UOhDQP0teoNwLxi02TjI_',\n",
       " 'https://wunderflats.com/en/furnished-apartment/modern-studio-in-muenchen/5f69dde93cf32b0006377c8a?dataLayerKey=UOhDQP0teoNwLxi02TjI_',\n",
       " 'https://wunderflats.com/en/furnished-apartment/fantastic-and-charming-loft-located-in-muenchen/5fc522f4d500de0008f9b63b?dataLayerKey=UOhDQP0teoNwLxi02TjI_',\n",
       " 'https://wunderflats.com/en/furnished-apartment/g/terrace-suite-with-panoramic-view-over-munich-directly-at-theresienwiese/QUgblYN7_xv_CEDcKwhHh?dataLayerKey=UOhDQP0teoNwLxi02TjI_',\n",
       " 'https://wunderflats.com/en/furnished-apartment/g/quiet-and-bright-comfy-apartment-in-quiet-surroundings-near-central-station/Sk0THqi6pUme?dataLayerKey=UOhDQP0teoNwLxi02TjI_',\n",
       " 'https://wunderflats.com/en/furnished-apartment/g/open-suite-with-one-bedroom-and-balcony-directly-at-theresienwiese/rJatOB-XuX4SGcxUEfWEm?dataLayerKey=UOhDQP0teoNwLxi02TjI_',\n",
       " 'https://wunderflats.com/en/furnished-apartment/amazing-and-bright-loft-located-in-muenchen/63559b38b87bece46402c657?dataLayerKey=UOhDQP0teoNwLxi02TjI_',\n",
       " 'https://wunderflats.com/en/furnished-apartment/awesome-pretty-suite-middle-of-munich-great-view-to-frauen-kirche/5bcb37d4d88eb8cea2968c43?dataLayerKey=UOhDQP0teoNwLxi02TjI_',\n",
       " 'https://wunderflats.com/en/furnished-apartment/lovely-suite-in-muenchen/5bd0fc8db2f9e246a9ec86f1?dataLayerKey=UOhDQP0teoNwLxi02TjI_',\n",
       " 'https://wunderflats.com/en/furnished-apartment/g/awesome-and-cute-apartment-muenchen/yjFanCikH9?dataLayerKey=UOhDQP0teoNwLxi02TjI_',\n",
       " 'https://wunderflats.com/en/furnished-apartment/g/quiet-and-perfect-studio-muenchen/D0z4ZrBI3d?dataLayerKey=UOhDQP0teoNwLxi02TjI_',\n",
       " 'https://wunderflats.com/en/furnished-apartment/amazing-villa-at-the-english-garden/5fcf67f5d6e5cf0007767d80?dataLayerKey=UOhDQP0teoNwLxi02TjI_',\n",
       " 'https://wunderflats.com/en/furnished-apartment/apartment-in-new-boardinghouse-sendling/5a7c337fe37b2570273c8f90?dataLayerKey=UOhDQP0teoNwLxi02TjI_',\n",
       " 'https://wunderflats.com/en/furnished-apartment/barrier-free-two-bed-room-directly-at-theresienwiese/62121ca695ec6a71ce2ca237?dataLayerKey=UOhDQP0teoNwLxi02TjI_',\n",
       " 'https://wunderflats.com/en/furnished-apartment/g/studio-apartment-directly-at-the-theresienwiese/GgpaFBemRqq96L1lKeUlP?dataLayerKey=UOhDQP0teoNwLxi02TjI_',\n",
       " 'https://wunderflats.com/en/furnished-apartment/g/the-cosy-apartment-is-a-snug-and-stylish-studio-space-with-an-en-suite-bathroom/BkZ0B9spTIml?dataLayerKey=UOhDQP0teoNwLxi02TjI_',\n",
       " 'https://wunderflats.com/en/furnished-apartment/g/modern-longstay-hotel-room-in-schwabing-your-second-home-in-munich/l5J82V5R68dUXo4hQ9cJR?dataLayerKey=UOhDQP0teoNwLxi02TjI_',\n",
       " 'https://wunderflats.com/en/furnished-apartment/g/city-apartment-with-kitchenette-at-the-olympic-park/bVpi-CAIHH?dataLayerKey=UOhDQP0teoNwLxi02TjI_']"
      ]
     },
     "execution_count": 5,
     "metadata": {},
     "output_type": "execute_result"
    }
   ],
   "source": [
    "links = []\n",
    "for page in pages:\n",
    "    html = getAndParseURL(page)\n",
    "    for resulthf in html.findAll(\"a\",{\"class\":\"Listing-link\"}):\n",
    "        links.append(\"https://wunderflats.com\" + resulthf.get(\"href\"))\n",
    "\n",
    "links"
   ]
  },
  {
   "cell_type": "code",
   "execution_count": 7,
   "id": "9e461f98",
   "metadata": {},
   "outputs": [
    {
     "data": {
      "text/plain": [
       "520"
      ]
     },
     "execution_count": 7,
     "metadata": {},
     "output_type": "execute_result"
    }
   ],
   "source": [
    "len(links)"
   ]
  },
  {
   "cell_type": "code",
   "execution_count": 6,
   "id": "8bb7a100",
   "metadata": {},
   "outputs": [],
   "source": [
    "ex=getAndParseURL(\"https://wunderflats.com/en/furnished-apartment/gorgeous-awesome-studio-in-muenchen/63ad91d7bb61a45697e6fc3c?dataLayerKey=hkFFJLwE3z05lxMuhZAnZ\")"
   ]
  },
  {
   "cell_type": "code",
   "execution_count": 7,
   "id": "05f7e1a4",
   "metadata": {},
   "outputs": [
    {
     "data": {
      "text/plain": [
       "'2790'"
      ]
     },
     "execution_count": 7,
     "metadata": {},
     "output_type": "execute_result"
    }
   ],
   "source": [
    "### For Rent Price ###\n",
    "ex.find(\"strong\",{\"class\":\"ListingPriceText-value\"}).text.replace(\"€\",\"\").replace(\",\",\"\").strip()"
   ]
  },
  {
   "cell_type": "code",
   "execution_count": 8,
   "id": "311d42e8",
   "metadata": {},
   "outputs": [
    {
     "data": {
      "text/plain": [
       "'55'"
      ]
     },
     "execution_count": 8,
     "metadata": {},
     "output_type": "execute_result"
    }
   ],
   "source": [
    "### Net Area Of Flat###\n",
    "ex.find(\"span\",{\"class\":\"ListingDetails-statsElt floor\"}).text[0:3].strip()"
   ]
  },
  {
   "cell_type": "code",
   "execution_count": 11,
   "id": "ea08fdd6",
   "metadata": {},
   "outputs": [
    {
     "data": {
      "text/plain": [
       "'Rue la Condamine, 75017, Paris'"
      ]
     },
     "execution_count": 11,
     "metadata": {},
     "output_type": "execute_result"
    }
   ],
   "source": [
    "### Location Info ###\n",
    "ex.find(\"span\",{\"class\":\"txt-light\"}).text.strip()"
   ]
  },
  {
   "cell_type": "code",
   "execution_count": 12,
   "id": "0bbcd484",
   "metadata": {},
   "outputs": [
    {
     "data": {
      "text/plain": [
       "'2 People'"
      ]
     },
     "execution_count": 12,
     "metadata": {},
     "output_type": "execute_result"
    }
   ],
   "source": [
    "### Capacity ###\n",
    "ex.find(\"span\",{\"class\":\"ListingDetails-statsElt guests\"}).text.strip()"
   ]
  },
  {
   "cell_type": "code",
   "execution_count": 13,
   "id": "6c3f2430",
   "metadata": {},
   "outputs": [
    {
     "data": {
      "text/plain": [
       "'2'"
      ]
     },
     "execution_count": 13,
     "metadata": {},
     "output_type": "execute_result"
    }
   ],
   "source": [
    "### Bedroom Number ###\n",
    "ex.find(\"span\",{\"class\":\"ListingDetails-statsElt rooms\"}).text.replace(\"Rooms\",\"\").strip()"
   ]
  },
  {
   "cell_type": "code",
   "execution_count": 14,
   "id": "76ae9752",
   "metadata": {},
   "outputs": [
    {
     "data": {
      "text/plain": [
       "'1789'"
      ]
     },
     "execution_count": 14,
     "metadata": {},
     "output_type": "execute_result"
    }
   ],
   "source": [
    "### Deposit ###\n",
    "ex.findAll(\"div\",{\"class\":\"CostOverview-itemRow\"})[1].text.replace(\"Security deposit€\",\"\").replace(\",\",\"\").strip()"
   ]
  },
  {
   "cell_type": "code",
   "execution_count": 9,
   "id": "8c032058",
   "metadata": {},
   "outputs": [],
   "source": [
    "result = []\n",
    "for resulthf in links:\n",
    "    html = getAndParseURL(resulthf)\n",
    "    \n",
    "    try:\n",
    "        location = html.find(\"span\",{\"class\":\"txt-light\"}).text.strip()\n",
    "    except:\n",
    "        location = np.nan\n",
    "    try:\n",
    "        rent= html.find(\"strong\",{\"class\":\"ListingPriceText-value\"}).text.replace(\"€\",\"\").replace(\",\",\"\").strip()\n",
    "    except:\n",
    "        rent = np.nan\n",
    "    try:\n",
    "        deposit = html.findAll(\"div\",{\"class\":\"CostOverview-itemRow\"})[1].text.replace(\"Security deposit€\",\"\").replace(\",\",\"\").strip()\n",
    "    except:\n",
    "        deposit = np.nan\n",
    "    try:\n",
    "        rooms = html.find(\"span\",{\"class\":\"ListingDetails-statsElt rooms\"}).text.replace(\"Rooms\",\"\").strip()\n",
    "    except:\n",
    "        rooms = np.nan\n",
    "    try:\n",
    "        capacity = html.find(\"span\",{\"class\":\"ListingDetails-statsElt guests\"}).text.strip()\n",
    "    except:\n",
    "        capacity = np.nan\n",
    "    try:\n",
    "        net_area = html.find(\"span\",{\"class\":\"ListingDetails-statsElt floor\"}).text[0:3].strip()\n",
    "    except:\n",
    "        net_area = np.nan\n",
    "    time.sleep(2)\n",
    "    \n",
    "    result.append([location,rent,deposit,rooms,capacity,net_area])\n",
    "    \n",
    "columns=[\"Location\",\"Rent\",\"Deposit\",\"Rooms\",\"Capacity\",\"Net Area\"]\n",
    "df = pd.DataFrame.from_records(result, columns=columns)"
   ]
  },
  {
   "cell_type": "code",
   "execution_count": 10,
   "id": "8f8578ac",
   "metadata": {},
   "outputs": [
    {
     "data": {
      "text/html": [
       "<div>\n",
       "<style scoped>\n",
       "    .dataframe tbody tr th:only-of-type {\n",
       "        vertical-align: middle;\n",
       "    }\n",
       "\n",
       "    .dataframe tbody tr th {\n",
       "        vertical-align: top;\n",
       "    }\n",
       "\n",
       "    .dataframe thead th {\n",
       "        text-align: right;\n",
       "    }\n",
       "</style>\n",
       "<table border=\"1\" class=\"dataframe\">\n",
       "  <thead>\n",
       "    <tr style=\"text-align: right;\">\n",
       "      <th></th>\n",
       "      <th>Location</th>\n",
       "      <th>Rent</th>\n",
       "      <th>Deposit</th>\n",
       "      <th>Rooms</th>\n",
       "      <th>Capacity</th>\n",
       "      <th>Net Area</th>\n",
       "    </tr>\n",
       "  </thead>\n",
       "  <tbody>\n",
       "    <tr>\n",
       "      <th>0</th>\n",
       "      <td>Anneliese-Fleyenschmidt-Straße, 81737, München</td>\n",
       "      <td>950</td>\n",
       "      <td>2850</td>\n",
       "      <td>2</td>\n",
       "      <td>1 Person</td>\n",
       "      <td>18</td>\n",
       "    </tr>\n",
       "    <tr>\n",
       "      <th>1</th>\n",
       "      <td>Leopoldstraße, 80804, München</td>\n",
       "      <td>1800</td>\n",
       "      <td>3600</td>\n",
       "      <td>1 Room</td>\n",
       "      <td>2 People</td>\n",
       "      <td>32</td>\n",
       "    </tr>\n",
       "    <tr>\n",
       "      <th>2</th>\n",
       "      <td>Alte Münchner Straße, 85774, Unterföhring</td>\n",
       "      <td>1185</td>\n",
       "      <td>750</td>\n",
       "      <td>2</td>\n",
       "      <td>1 Person</td>\n",
       "      <td>43</td>\n",
       "    </tr>\n",
       "    <tr>\n",
       "      <th>3</th>\n",
       "      <td>Schleißheimer Straße, 80797, München</td>\n",
       "      <td>1290</td>\n",
       "      <td>1290</td>\n",
       "      <td>1 Room</td>\n",
       "      <td>3 People</td>\n",
       "      <td>37</td>\n",
       "    </tr>\n",
       "    <tr>\n",
       "      <th>4</th>\n",
       "      <td>Germersheimer Straße, 81541, München</td>\n",
       "      <td>1200</td>\n",
       "      <td>2400</td>\n",
       "      <td>1 Room</td>\n",
       "      <td>1 Person</td>\n",
       "      <td>34</td>\n",
       "    </tr>\n",
       "    <tr>\n",
       "      <th>...</th>\n",
       "      <td>...</td>\n",
       "      <td>...</td>\n",
       "      <td>...</td>\n",
       "      <td>...</td>\n",
       "      <td>...</td>\n",
       "      <td>...</td>\n",
       "    </tr>\n",
       "    <tr>\n",
       "      <th>377</th>\n",
       "      <td>Landwehrstraße, 80336, München</td>\n",
       "      <td>2851</td>\n",
       "      <td>0</td>\n",
       "      <td>1 Room</td>\n",
       "      <td>2 People</td>\n",
       "      <td>32</td>\n",
       "    </tr>\n",
       "    <tr>\n",
       "      <th>378</th>\n",
       "      <td>Landwehrstraße, 80336, München</td>\n",
       "      <td>2851</td>\n",
       "      <td>0</td>\n",
       "      <td>2</td>\n",
       "      <td>2 People</td>\n",
       "      <td>26</td>\n",
       "    </tr>\n",
       "    <tr>\n",
       "      <th>379</th>\n",
       "      <td>Westendstraße, 80339, München</td>\n",
       "      <td>4620</td>\n",
       "      <td>0</td>\n",
       "      <td>1 Room</td>\n",
       "      <td>2 People</td>\n",
       "      <td>20</td>\n",
       "    </tr>\n",
       "    <tr>\n",
       "      <th>380</th>\n",
       "      <td>Leopoldstraße, 80804, München</td>\n",
       "      <td>3329</td>\n",
       "      <td>0</td>\n",
       "      <td>1 Room</td>\n",
       "      <td>1 Person</td>\n",
       "      <td>32</td>\n",
       "    </tr>\n",
       "    <tr>\n",
       "      <th>381</th>\n",
       "      <td>Paschstraße, 80637, München</td>\n",
       "      <td>2040</td>\n",
       "      <td>0</td>\n",
       "      <td>1 Room</td>\n",
       "      <td>2 People</td>\n",
       "      <td>22</td>\n",
       "    </tr>\n",
       "  </tbody>\n",
       "</table>\n",
       "<p>382 rows × 6 columns</p>\n",
       "</div>"
      ],
      "text/plain": [
       "                                           Location  Rent Deposit   Rooms  \\\n",
       "0    Anneliese-Fleyenschmidt-Straße, 81737, München   950    2850       2   \n",
       "1                     Leopoldstraße, 80804, München  1800    3600  1 Room   \n",
       "2         Alte Münchner Straße, 85774, Unterföhring  1185     750       2   \n",
       "3              Schleißheimer Straße, 80797, München  1290    1290  1 Room   \n",
       "4              Germersheimer Straße, 81541, München  1200    2400  1 Room   \n",
       "..                                              ...   ...     ...     ...   \n",
       "377                  Landwehrstraße, 80336, München  2851       0  1 Room   \n",
       "378                  Landwehrstraße, 80336, München  2851       0       2   \n",
       "379                   Westendstraße, 80339, München  4620       0  1 Room   \n",
       "380                   Leopoldstraße, 80804, München  3329       0  1 Room   \n",
       "381                     Paschstraße, 80637, München  2040       0  1 Room   \n",
       "\n",
       "     Capacity Net Area  \n",
       "0    1 Person       18  \n",
       "1    2 People       32  \n",
       "2    1 Person       43  \n",
       "3    3 People       37  \n",
       "4    1 Person       34  \n",
       "..        ...      ...  \n",
       "377  2 People       32  \n",
       "378  2 People       26  \n",
       "379  2 People       20  \n",
       "380  1 Person       32  \n",
       "381  2 People       22  \n",
       "\n",
       "[382 rows x 6 columns]"
      ]
     },
     "execution_count": 10,
     "metadata": {},
     "output_type": "execute_result"
    }
   ],
   "source": [
    "df"
   ]
  },
  {
   "cell_type": "code",
   "execution_count": 11,
   "id": "8d0587fd",
   "metadata": {},
   "outputs": [],
   "source": [
    "df.to_csv(\"münchen_rental.csv\")"
   ]
  },
  {
   "cell_type": "code",
   "execution_count": 2,
   "id": "ed34eabb",
   "metadata": {},
   "outputs": [],
   "source": [
    "df=pd.read_csv(\"münchen_rental.csv\")"
   ]
  },
  {
   "cell_type": "code",
   "execution_count": 3,
   "id": "41400521",
   "metadata": {},
   "outputs": [
    {
     "data": {
      "text/html": [
       "<div>\n",
       "<style scoped>\n",
       "    .dataframe tbody tr th:only-of-type {\n",
       "        vertical-align: middle;\n",
       "    }\n",
       "\n",
       "    .dataframe tbody tr th {\n",
       "        vertical-align: top;\n",
       "    }\n",
       "\n",
       "    .dataframe thead th {\n",
       "        text-align: right;\n",
       "    }\n",
       "</style>\n",
       "<table border=\"1\" class=\"dataframe\">\n",
       "  <thead>\n",
       "    <tr style=\"text-align: right;\">\n",
       "      <th></th>\n",
       "      <th>Unnamed: 0</th>\n",
       "      <th>Location</th>\n",
       "      <th>Rent</th>\n",
       "      <th>Deposit</th>\n",
       "      <th>Rooms</th>\n",
       "      <th>Capacity</th>\n",
       "      <th>Net Area</th>\n",
       "    </tr>\n",
       "  </thead>\n",
       "  <tbody>\n",
       "    <tr>\n",
       "      <th>0</th>\n",
       "      <td>0</td>\n",
       "      <td>Anneliese-Fleyenschmidt-Straße, 81737, München</td>\n",
       "      <td>950</td>\n",
       "      <td>2850</td>\n",
       "      <td>2</td>\n",
       "      <td>1 Person</td>\n",
       "      <td>18.0</td>\n",
       "    </tr>\n",
       "    <tr>\n",
       "      <th>1</th>\n",
       "      <td>1</td>\n",
       "      <td>Leopoldstraße, 80804, München</td>\n",
       "      <td>1800</td>\n",
       "      <td>3600</td>\n",
       "      <td>1 Room</td>\n",
       "      <td>2 People</td>\n",
       "      <td>32.0</td>\n",
       "    </tr>\n",
       "    <tr>\n",
       "      <th>2</th>\n",
       "      <td>2</td>\n",
       "      <td>Alte Münchner Straße, 85774, Unterföhring</td>\n",
       "      <td>1185</td>\n",
       "      <td>750</td>\n",
       "      <td>2</td>\n",
       "      <td>1 Person</td>\n",
       "      <td>43.0</td>\n",
       "    </tr>\n",
       "    <tr>\n",
       "      <th>3</th>\n",
       "      <td>3</td>\n",
       "      <td>Schleißheimer Straße, 80797, München</td>\n",
       "      <td>1290</td>\n",
       "      <td>1290</td>\n",
       "      <td>1 Room</td>\n",
       "      <td>3 People</td>\n",
       "      <td>37.0</td>\n",
       "    </tr>\n",
       "    <tr>\n",
       "      <th>4</th>\n",
       "      <td>4</td>\n",
       "      <td>Germersheimer Straße, 81541, München</td>\n",
       "      <td>1200</td>\n",
       "      <td>2400</td>\n",
       "      <td>1 Room</td>\n",
       "      <td>1 Person</td>\n",
       "      <td>34.0</td>\n",
       "    </tr>\n",
       "    <tr>\n",
       "      <th>...</th>\n",
       "      <td>...</td>\n",
       "      <td>...</td>\n",
       "      <td>...</td>\n",
       "      <td>...</td>\n",
       "      <td>...</td>\n",
       "      <td>...</td>\n",
       "      <td>...</td>\n",
       "    </tr>\n",
       "    <tr>\n",
       "      <th>377</th>\n",
       "      <td>377</td>\n",
       "      <td>Landwehrstraße, 80336, München</td>\n",
       "      <td>2851</td>\n",
       "      <td>0</td>\n",
       "      <td>1 Room</td>\n",
       "      <td>2 People</td>\n",
       "      <td>32.0</td>\n",
       "    </tr>\n",
       "    <tr>\n",
       "      <th>378</th>\n",
       "      <td>378</td>\n",
       "      <td>Landwehrstraße, 80336, München</td>\n",
       "      <td>2851</td>\n",
       "      <td>0</td>\n",
       "      <td>2</td>\n",
       "      <td>2 People</td>\n",
       "      <td>26.0</td>\n",
       "    </tr>\n",
       "    <tr>\n",
       "      <th>379</th>\n",
       "      <td>379</td>\n",
       "      <td>Westendstraße, 80339, München</td>\n",
       "      <td>4620</td>\n",
       "      <td>0</td>\n",
       "      <td>1 Room</td>\n",
       "      <td>2 People</td>\n",
       "      <td>20.0</td>\n",
       "    </tr>\n",
       "    <tr>\n",
       "      <th>380</th>\n",
       "      <td>380</td>\n",
       "      <td>Leopoldstraße, 80804, München</td>\n",
       "      <td>3329</td>\n",
       "      <td>0</td>\n",
       "      <td>1 Room</td>\n",
       "      <td>1 Person</td>\n",
       "      <td>32.0</td>\n",
       "    </tr>\n",
       "    <tr>\n",
       "      <th>381</th>\n",
       "      <td>381</td>\n",
       "      <td>Paschstraße, 80637, München</td>\n",
       "      <td>2040</td>\n",
       "      <td>0</td>\n",
       "      <td>1 Room</td>\n",
       "      <td>2 People</td>\n",
       "      <td>22.0</td>\n",
       "    </tr>\n",
       "  </tbody>\n",
       "</table>\n",
       "<p>382 rows × 7 columns</p>\n",
       "</div>"
      ],
      "text/plain": [
       "     Unnamed: 0                                        Location  Rent  \\\n",
       "0             0  Anneliese-Fleyenschmidt-Straße, 81737, München   950   \n",
       "1             1                   Leopoldstraße, 80804, München  1800   \n",
       "2             2       Alte Münchner Straße, 85774, Unterföhring  1185   \n",
       "3             3            Schleißheimer Straße, 80797, München  1290   \n",
       "4             4            Germersheimer Straße, 81541, München  1200   \n",
       "..          ...                                             ...   ...   \n",
       "377         377                  Landwehrstraße, 80336, München  2851   \n",
       "378         378                  Landwehrstraße, 80336, München  2851   \n",
       "379         379                   Westendstraße, 80339, München  4620   \n",
       "380         380                   Leopoldstraße, 80804, München  3329   \n",
       "381         381                     Paschstraße, 80637, München  2040   \n",
       "\n",
       "     Deposit   Rooms  Capacity  Net Area  \n",
       "0       2850       2  1 Person      18.0  \n",
       "1       3600  1 Room  2 People      32.0  \n",
       "2        750       2  1 Person      43.0  \n",
       "3       1290  1 Room  3 People      37.0  \n",
       "4       2400  1 Room  1 Person      34.0  \n",
       "..       ...     ...       ...       ...  \n",
       "377        0  1 Room  2 People      32.0  \n",
       "378        0       2  2 People      26.0  \n",
       "379        0  1 Room  2 People      20.0  \n",
       "380        0  1 Room  1 Person      32.0  \n",
       "381        0  1 Room  2 People      22.0  \n",
       "\n",
       "[382 rows x 7 columns]"
      ]
     },
     "execution_count": 3,
     "metadata": {},
     "output_type": "execute_result"
    }
   ],
   "source": [
    "df"
   ]
  },
  {
   "cell_type": "code",
   "execution_count": 9,
   "id": "1dceec87",
   "metadata": {},
   "outputs": [
    {
     "name": "stdout",
     "output_type": "stream",
     "text": [
      "<class 'pandas.core.frame.DataFrame'>\n",
      "RangeIndex: 382 entries, 0 to 381\n",
      "Data columns (total 7 columns):\n",
      " #   Column      Non-Null Count  Dtype  \n",
      "---  ------      --------------  -----  \n",
      " 0   Unnamed: 0  382 non-null    int64  \n",
      " 1   Location    382 non-null    object \n",
      " 2   Rent        382 non-null    int64  \n",
      " 3   Deposit     382 non-null    int64  \n",
      " 4   Rooms       382 non-null    int32  \n",
      " 5   Capacity    382 non-null    object \n",
      " 6   Net Area    382 non-null    float64\n",
      "dtypes: float64(1), int32(1), int64(3), object(2)\n",
      "memory usage: 19.5+ KB\n"
     ]
    }
   ],
   "source": [
    "df.info()"
   ]
  },
  {
   "cell_type": "code",
   "execution_count": 7,
   "id": "03561f86",
   "metadata": {},
   "outputs": [
    {
     "data": {
      "text/plain": [
       "array(['2', 1, '5', '4', '3', '6'], dtype=object)"
      ]
     },
     "execution_count": 7,
     "metadata": {},
     "output_type": "execute_result"
    }
   ],
   "source": [
    "df[\"Rooms\"].unique()"
   ]
  },
  {
   "cell_type": "code",
   "execution_count": 6,
   "id": "49270e8a",
   "metadata": {},
   "outputs": [],
   "source": [
    "df[\"Rooms\"]=df[\"Rooms\"].apply(lambda x : 1 if x=='1 Room' else x )"
   ]
  },
  {
   "cell_type": "code",
   "execution_count": 8,
   "id": "fea3402e",
   "metadata": {},
   "outputs": [],
   "source": [
    "df[\"Rooms\"]=df[\"Rooms\"].astype(int)"
   ]
  },
  {
   "cell_type": "code",
   "execution_count": 10,
   "id": "0f2aea18",
   "metadata": {},
   "outputs": [
    {
     "data": {
      "text/plain": [
       "2288.9319371727747"
      ]
     },
     "execution_count": 10,
     "metadata": {},
     "output_type": "execute_result"
    }
   ],
   "source": [
    "df[\"Rent\"].mean()"
   ]
  },
  {
   "cell_type": "code",
   "execution_count": 11,
   "id": "44f6c89d",
   "metadata": {},
   "outputs": [
    {
     "data": {
      "text/plain": [
       "2570.17277486911"
      ]
     },
     "execution_count": 11,
     "metadata": {},
     "output_type": "execute_result"
    }
   ],
   "source": [
    "df[\"Deposit\"].mean()"
   ]
  },
  {
   "cell_type": "code",
   "execution_count": 12,
   "id": "ad8f7725",
   "metadata": {},
   "outputs": [
    {
     "data": {
      "text/plain": [
       "53.60471204188482"
      ]
     },
     "execution_count": 12,
     "metadata": {},
     "output_type": "execute_result"
    }
   ],
   "source": [
    "df[\"Net Area\"].mean()"
   ]
  },
  {
   "cell_type": "code",
   "execution_count": 13,
   "id": "9c781e0f",
   "metadata": {},
   "outputs": [
    {
     "data": {
      "image/png": "[encoded data removed]",
      "text/plain": [
       "<Figure size 800x800 with 1 Axes>"
      ]
     },
     "metadata": {},
     "output_type": "display_data"
    }
   ],
   "source": [
    "# get the value counts of the 'Bedroom' column\n",
    "bed_room_counts = df['Rooms'].value_counts()\n",
    "\n",
    "# filter the value counts to include only values bigger than 1%\n",
    "filtered_bedroom_counts = bed_room_counts[bed_room_counts/len(df) > 0.01]\n",
    "\n",
    "\n",
    "# create the pie chart\n",
    "plt.figure(figsize=(8, 8))\n",
    "plt.pie(filtered_bedroom_counts, labels=filtered_bedroom_counts.index, autopct='%1.1f%%')\n",
    "\n",
    "# set the title of the chart\n",
    "plt.title('Distrubition of the Bedroom Number Flats of Munich ',weight=\"bold\")\n",
    "\n",
    "# display the chart\n",
    "plt.show();\n"
   ]
  },
  {
   "cell_type": "code",
   "execution_count": 18,
   "id": "222a3522",
   "metadata": {},
   "outputs": [
    {
     "data": {
      "image/png": "[encoded data removed]",
      "text/plain": [
       "<Figure size 640x480 with 1 Axes>"
      ]
     },
     "metadata": {},
     "output_type": "display_data"
    }
   ],
   "source": [
    "### Calculate mean rent for each group ###\n",
    "one_bed_mean_rent = df[df['Rooms'] == 1]['Rent'].mean()\n",
    "two_bed_mean_rent = df[df['Rooms'] == 2]['Rent'].mean()\n",
    "three_bed_mean_rent = df[df['Rooms'] == 3]['Rent'].mean()\n",
    "\n",
    "### Create a bar plot ###\n",
    "sns.set_style(\"whitegrid\")\n",
    "ax = sns.barplot(x=['1 Bedroom', '2 Bedrooms','3 Bedrooms'], y=[one_bed_mean_rent, two_bed_mean_rent,three_bed_mean_rent], palette=\"Set1\")\n",
    "\n",
    "# Add labels to the bars\n",
    "for p in ax.patches:\n",
    "    height = p.get_height()\n",
    "    ax.text(p.get_x() + p.get_width()/2., height+50, '€{:.0f}'.format(height), ha=\"center\", weight='bold')\n",
    "\n",
    "# Format the x and y-axis tick labels\n",
    "ax.set_xticklabels(['1 Bedroom', '2 Bedrooms','3 Bedrooms'], weight='bold')\n",
    "ax.set_yticks([0, 2000, 3000,4000])\n",
    "ax.set_yticklabels(['€0', '€2,000', '€3,000','€4,000'], weight='bold')\n",
    "\n",
    "# Format the x and y-axis labels\n",
    "ax.set_xlabel('Number of Bedrooms', weight='bold')\n",
    "ax.set_ylabel('Mean Rent (€)', weight='bold')\n",
    "\n",
    "# Set the plot title\n",
    "ax.set_title('Mean Rent by Number of Bedrooms(Munich)', weight='bold')\n",
    "\n",
    "plt.show();"
   ]
  },
  {
   "cell_type": "code",
   "execution_count": null,
   "id": "afafe1b5",
   "metadata": {},
   "outputs": [],
   "source": []
  }
 ],
 "metadata": {
  "kernelspec": {
   "display_name": "Python 3 (ipykernel)",
   "language": "python",
   "name": "python3"
  },
  "language_info": {
   "codemirror_mode": {
    "name": "ipython",
    "version": 3
   },
   "file_extension": ".py",
   "mimetype": "text/x-python",
   "name": "python",
   "nbconvert_exporter": "python",
   "pygments_lexer": "ipython3",
   "version": "3.10.6"
  }
 },
 "nbformat": 4,
 "nbformat_minor": 5
}
